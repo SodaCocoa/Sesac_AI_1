{
 "cells": [
  {
   "cell_type": "code",
   "execution_count": 46,
   "metadata": {},
   "outputs": [],
   "source": [
    "import re\n",
    "data='''\n",
    "윤경환, 성형석,\n",
    "김동현, 최재권,\n",
    "이재범, 주미현,\n",
    "윤도하, 황지의,\n",
    "이승환, 박호정,\n",
    "박주형, 백혜리,\n",
    "차혁주,한다연,\n",
    "김동민, 이예림,\n",
    "박세웅, 장유미,\n",
    "우만경, 김태호,\n",
    "권용희, 유해성,\n",
    "최지욱, 김현우'''\n",
    "\n",
    "data\n",
    "\n",
    "pattern=\"[^ㄱ-ㅎ가-힣,]+\"\n",
    "data=re.sub(pattern,'',data)\n",
    "\n",
    "data\n",
    "data=data.split(',')"
   ]
  },
  {
   "cell_type": "code",
   "execution_count": 36,
   "metadata": {},
   "outputs": [
    {
     "data": {
      "text/plain": [
       "[['a', 'b'], ['aa', 'bb']]"
      ]
     },
     "execution_count": 36,
     "metadata": {},
     "output_type": "execute_result"
    }
   ],
   "source": [
    "nameList=[]\n",
    "nameList.append([])\n",
    "nameList[-1].append('a')\n",
    "nameList[-1].append('b')\n",
    "nameList\n",
    "\n",
    "nameList.append([])\n",
    "nameList[-1].append('aa')\n",
    "nameList[-1].append('bb')\n",
    "\n",
    "nameList\n"
   ]
  },
  {
   "cell_type": "code",
   "execution_count": 47,
   "metadata": {},
   "outputs": [
    {
     "data": {
      "text/plain": [
       "(['윤경환', '성형석', '김동현'], (24,))"
      ]
     },
     "execution_count": 47,
     "metadata": {},
     "output_type": "execute_result"
    }
   ],
   "source": [
    "import numpy as np\n",
    "data[:3], np.shape(data)"
   ]
  },
  {
   "cell_type": "code",
   "execution_count": 50,
   "metadata": {},
   "outputs": [],
   "source": [
    "dataList=np.reshape(data,(-1,2))"
   ]
  },
  {
   "cell_type": "code",
   "execution_count": 55,
   "metadata": {},
   "outputs": [
    {
     "data": {
      "text/plain": [
       "array([[ 1],\n",
       "       [ 2],\n",
       "       [ 3],\n",
       "       [ 4],\n",
       "       [ 5],\n",
       "       [ 6],\n",
       "       [ 7],\n",
       "       [ 8],\n",
       "       [ 9],\n",
       "       [10],\n",
       "       [11],\n",
       "       [12]])"
      ]
     },
     "execution_count": 55,
     "metadata": {},
     "output_type": "execute_result"
    }
   ],
   "source": [
    "bun=list(range(1,len(dataList)+1)) \n",
    "bun=np.reshape(bun,(-1,1))\n",
    "bun"
   ]
  },
  {
   "cell_type": "code",
   "execution_count": 58,
   "metadata": {},
   "outputs": [
    {
     "data": {
      "text/plain": [
       "array([['1', '윤경환', '성형석'],\n",
       "       ['2', '김동현', '최재권'],\n",
       "       ['3', '이재범', '주미현'],\n",
       "       ['4', '윤도하', '황지의'],\n",
       "       ['5', '이승환', '박호정'],\n",
       "       ['6', '박주형', '백혜리'],\n",
       "       ['7', '차혁주', '한다연'],\n",
       "       ['8', '김동민', '이예림'],\n",
       "       ['9', '박세웅', '장유미'],\n",
       "       ['10', '우만경', '김태호'],\n",
       "       ['11', '권용희', '유해성'],\n",
       "       ['12', '최지욱', '김현우']], dtype='<U11')"
      ]
     },
     "execution_count": 58,
     "metadata": {},
     "output_type": "execute_result"
    }
   ],
   "source": [
    "result=np.hstack((bun,dataList))\n",
    "result   # 인공지능이나 머신러닝 시에는 array형식으로 바꾸어서 넣어야함"
   ]
  },
  {
   "cell_type": "code",
   "execution_count": 71,
   "metadata": {},
   "outputs": [
    {
     "data": {
      "text/plain": [
       "array(['5', '5', '5', '10', '10', '5', '5', '5', '3', '10', '3', '5'],\n",
       "      dtype='<U11')"
      ]
     },
     "execution_count": 71,
     "metadata": {},
     "output_type": "execute_result"
    }
   ],
   "source": [
    "시간=[5,5,5,10,10,5,5,5,3,10,3,5]\n",
    "\n",
    "a=np.hstack((result, np.reshape(시간,(-1,1))))\n",
    "a[:,3]"
   ]
  },
  {
   "cell_type": "code",
   "execution_count": 75,
   "metadata": {},
   "outputs": [
    {
     "data": {
      "text/plain": [
       "(71, 5.916666666666667)"
      ]
     },
     "execution_count": 75,
     "metadata": {},
     "output_type": "execute_result"
    }
   ],
   "source": [
    "import pandas as pd\n",
    "df=pd.DataFrame(result,columns=['번호','조원1','조원2'])\n",
    "시간=[5,5,5,10,10,5,5,5,3,10,3,5]\n",
    "type(df),type(시간)\n",
    "df[\"발표시간\"] = 시간\n",
    "df['발표시간'].sum(), df['발표시간'].mean()"
   ]
  },
  {
   "cell_type": "code",
   "execution_count": 77,
   "metadata": {},
   "outputs": [
    {
     "name": "stdout",
     "output_type": "stream",
     "text": [
      "<class 'pandas.core.frame.DataFrame'>\n",
      "RangeIndex: 12 entries, 0 to 11\n",
      "Data columns (total 4 columns):\n",
      " #   Column  Non-Null Count  Dtype \n",
      "---  ------  --------------  ----- \n",
      " 0   번호      12 non-null     object\n",
      " 1   조원1     12 non-null     object\n",
      " 2   조원2     12 non-null     object\n",
      " 3   발표시간    12 non-null     int64 \n",
      "dtypes: int64(1), object(3)\n",
      "memory usage: 516.0+ bytes\n"
     ]
    }
   ],
   "source": [
    "df. info()"
   ]
  },
  {
   "cell_type": "code",
   "execution_count": 76,
   "metadata": {},
   "outputs": [
    {
     "data": {
      "text/html": [
       "<div>\n",
       "<style scoped>\n",
       "    .dataframe tbody tr th:only-of-type {\n",
       "        vertical-align: middle;\n",
       "    }\n",
       "\n",
       "    .dataframe tbody tr th {\n",
       "        vertical-align: top;\n",
       "    }\n",
       "\n",
       "    .dataframe thead th {\n",
       "        text-align: right;\n",
       "    }\n",
       "</style>\n",
       "<table border=\"1\" class=\"dataframe\">\n",
       "  <thead>\n",
       "    <tr style=\"text-align: right;\">\n",
       "      <th></th>\n",
       "      <th>발표시간</th>\n",
       "    </tr>\n",
       "  </thead>\n",
       "  <tbody>\n",
       "    <tr>\n",
       "      <th>count</th>\n",
       "      <td>12.000000</td>\n",
       "    </tr>\n",
       "    <tr>\n",
       "      <th>mean</th>\n",
       "      <td>5.916667</td>\n",
       "    </tr>\n",
       "    <tr>\n",
       "      <th>std</th>\n",
       "      <td>2.574643</td>\n",
       "    </tr>\n",
       "    <tr>\n",
       "      <th>min</th>\n",
       "      <td>3.000000</td>\n",
       "    </tr>\n",
       "    <tr>\n",
       "      <th>25%</th>\n",
       "      <td>5.000000</td>\n",
       "    </tr>\n",
       "    <tr>\n",
       "      <th>50%</th>\n",
       "      <td>5.000000</td>\n",
       "    </tr>\n",
       "    <tr>\n",
       "      <th>75%</th>\n",
       "      <td>6.250000</td>\n",
       "    </tr>\n",
       "    <tr>\n",
       "      <th>max</th>\n",
       "      <td>10.000000</td>\n",
       "    </tr>\n",
       "  </tbody>\n",
       "</table>\n",
       "</div>"
      ],
      "text/plain": [
       "            발표시간\n",
       "count  12.000000\n",
       "mean    5.916667\n",
       "std     2.574643\n",
       "min     3.000000\n",
       "25%     5.000000\n",
       "50%     5.000000\n",
       "75%     6.250000\n",
       "max    10.000000"
      ]
     },
     "execution_count": 76,
     "metadata": {},
     "output_type": "execute_result"
    }
   ],
   "source": [
    "df.describe() #숫자필드만 기술통계"
   ]
  },
  {
   "cell_type": "code",
   "execution_count": 33,
   "metadata": {},
   "outputs": [
    {
     "data": {
      "text/plain": [
       "[['윤경환', '성형석'],\n",
       " ['김동현', '최재권'],\n",
       " ['이재범', '주미현'],\n",
       " ['윤도하', '황지의'],\n",
       " ['이승환', '박호정'],\n",
       " ['박주형', '백혜리'],\n",
       " ['차혁주', '한다연'],\n",
       " ['김동민', '이예림'],\n",
       " ['박세웅', '장유미'],\n",
       " ['우만경', '김태호'],\n",
       " ['권용희', '유해성'],\n",
       " ['최지욱', '김현우'],\n",
       " ['']]"
      ]
     },
     "execution_count": 33,
     "metadata": {},
     "output_type": "execute_result"
    }
   ],
   "source": [
    "nameList=[]\n",
    "for cnt, name in enumerate(data):\n",
    "    if cnt%2 ==0:\n",
    "        nameList.append([])\n",
    "\n",
    "    nameList[-1].append(name)\n",
    "nameList"
   ]
  },
  {
   "cell_type": "code",
   "execution_count": 13,
   "metadata": {},
   "outputs": [
    {
     "name": "stdout",
     "output_type": "stream",
     "text": [
      "\n",
      "\n"
     ]
    },
    {
     "data": {
      "text/plain": [
       "'윤경환,성형석,김동현,최재권,이재범,주미현,윤도하,황지의,이승환,박호정,박주형,백혜리,차혁주,한다연,김동민,이예림,박세웅,장유미,우만경,김태호,권용희,유해성,최지욱,김현우,'"
      ]
     },
     "execution_count": 13,
     "metadata": {},
     "output_type": "execute_result"
    }
   ],
   "source": [
    "###\\n 을 제거, '  ' 을 제거 /  제거: 찾는값, 바꿀값이'' \n",
    "### 한글과 쉼표를 제외한 나머지값 제거\n",
    "\n",
    "import re\n",
    "# data=re.sub('\\n','',data)\n",
    "# data=re.sub(' ','',data)\n",
    "# data\n",
    "\n",
    "def aa(data, reList):\n",
    "    #print(reList[0])\n",
    "    for x in reList[0]:\n",
    "        dta=re.sub(x,'',data)\n",
    "    return data\n",
    "reList=['\\n','']\n",
    "aa(data,('\\n',''))"
   ]
  },
  {
   "cell_type": "code",
   "execution_count": 14,
   "metadata": {},
   "outputs": [
    {
     "name": "stdout",
     "output_type": "stream",
     "text": [
      "여기는,한글,\n"
     ]
    }
   ],
   "source": []
  }
 ],
 "metadata": {
  "kernelspec": {
   "display_name": "OpenAI",
   "language": "python",
   "name": "python3"
  },
  "language_info": {
   "codemirror_mode": {
    "name": "ipython",
    "version": 3
   },
   "file_extension": ".py",
   "mimetype": "text/x-python",
   "name": "python",
   "nbconvert_exporter": "python",
   "pygments_lexer": "ipython3",
   "version": "3.12.0"
  }
 },
 "nbformat": 4,
 "nbformat_minor": 2
}
