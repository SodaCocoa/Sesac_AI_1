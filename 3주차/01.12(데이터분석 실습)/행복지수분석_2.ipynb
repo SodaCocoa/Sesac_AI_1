{
 "cells": [
  {
   "cell_type": "code",
   "execution_count": 1,
   "metadata": {},
   "outputs": [
    {
     "name": "stdout",
     "output_type": "stream",
     "text": [
      "Requirement already satisfied: scikit-learn in c:\\users\\bluecom011\\miniconda3\\envs\\openai\\lib\\site-packages (1.3.2)\n",
      "Requirement already satisfied: numpy<2.0,>=1.17.3 in c:\\users\\bluecom011\\miniconda3\\envs\\openai\\lib\\site-packages (from scikit-learn) (1.26.2)\n",
      "Requirement already satisfied: scipy>=1.5.0 in c:\\users\\bluecom011\\miniconda3\\envs\\openai\\lib\\site-packages (from scikit-learn) (1.11.4)\n",
      "Requirement already satisfied: joblib>=1.1.1 in c:\\users\\bluecom011\\miniconda3\\envs\\openai\\lib\\site-packages (from scikit-learn) (1.3.2)\n",
      "Requirement already satisfied: threadpoolctl>=2.0.0 in c:\\users\\bluecom011\\miniconda3\\envs\\openai\\lib\\site-packages (from scikit-learn) (3.2.0)\n"
     ]
    }
   ],
   "source": [
    "# 사이킷런은 머신러닝(일반적으로 정형데이터분석)에 특화모듈\n",
    "# 하지만 딥러닝에서도 훈련,테스트 데이터 나누기, 결과에 대한 평가등은 사이킷런 모듈을 사용함\n",
    "#사이킷런은 콘다는 scikit-learn,파이썬은 sklearn\n",
    "!pip install scikit-learn"
   ]
  },
  {
   "cell_type": "code",
   "execution_count": 2,
   "metadata": {},
   "outputs": [
    {
     "name": "stdout",
     "output_type": "stream",
     "text": [
      "교육.xlsx\n"
     ]
    }
   ],
   "source": [
    "from glob import glob\n",
    "\n",
    "dataList = r'C:\\Users\\bluecom011\\Desktop\\3주차\\01.12(데이터분석 실습)/*.xlsx'  #*./xlsx파일 다가져오기\n",
    "file=glob(dataList)[3]\n",
    "print(file.split('_')[1]) # _ 기준으로 스플릿(나눔)\n"
   ]
  },
  {
   "cell_type": "code",
   "execution_count": 5,
   "metadata": {},
   "outputs": [],
   "source": [
    "#교육 = pd.read_excel(file).iloc[:,1:4] #앞순서대로 해도 같을때\n",
    "#교육 = pd.read_excel(file)[['시도','구군','평균']] # 위치가 달라서 원하는 값만 뽑을때"
   ]
  },
  {
   "cell_type": "code",
   "execution_count": 6,
   "metadata": {},
   "outputs": [],
   "source": [
    "from glob import glob\n",
    "dataList = r'C:\\Users\\bluecom011\\Desktop\\3주차\\01.12/*.xlsx'  #*./xlsx파일 다가져오기\n",
    "for file in glob(dataList):\n",
    "    print(file.split('_')[1].split('.')[0]) # _ 기준으로 스플릿(나눔)\n"
   ]
  },
  {
   "cell_type": "code",
   "execution_count": 8,
   "metadata": {},
   "outputs": [],
   "source": [
    "from glob import glob\n",
    "import pandas as pd\n",
    "dataList = r'C:\\Users\\bluecom011\\Desktop\\3주차\\01.12(데이터분석 실습)/*.xlsx'  #*./xlsx파일 다가져오기\n",
    "cnt = 0\n",
    "\n",
    "file=glob(dataList)[cnt]; cnt+=1\n",
    "건강 = pd.read_excel(file).iloc[:,1:4]\n",
    "\n",
    "file=glob(dataList)[cnt]; cnt+=1\n",
    "경제= pd.read_excel(file).iloc[:,1:4]\n",
    "\n",
    "file=glob(dataList)[cnt]; cnt+=1\n",
    "관계및사회참여= pd.read_excel(file).iloc[:,1:4]\n",
    "\n",
    "file=glob(dataList)[cnt]; cnt+=1\n",
    "교육= pd.read_excel(file).iloc[:,1:4]\n",
    "\n",
    "file=glob(dataList)[cnt]; cnt+=1\n",
    "삶의만족도= pd.read_excel(file).iloc[:,1:4]\n",
    "\n",
    "file=glob(dataList)[cnt]; cnt+=1\n",
    "안전= pd.read_excel(file).iloc[:,1:4]\n",
    "\n",
    "file=glob(dataList)[cnt]; cnt+=1\n",
    "여가= pd.read_excel(file).iloc[:,1:4]\n",
    "\n",
    "file=glob(dataList)[cnt]; cnt+=1\n",
    "환경= pd.read_excel(file).iloc[:,1:4]"
   ]
  },
  {
   "cell_type": "code",
   "execution_count": 9,
   "metadata": {},
   "outputs": [],
   "source": [
    "#특별이 포함된 시도 자료중에 평균값이 0.8이상 또는 0.3이하 시도필드만 보여줘\n",
    "tmp= 건강[건강['시도'].str.contains('특별')]\n",
    "#(tmp['평균']>0.8 | tmp['평균']<0.3)"
   ]
  },
  {
   "cell_type": "code",
   "execution_count": 10,
   "metadata": {},
   "outputs": [
    {
     "data": {
      "text/plain": [
       "0       True\n",
       "12      True\n",
       "25     False\n",
       "26     False\n",
       "36     False\n",
       "       ...  \n",
       "224    False\n",
       "225    False\n",
       "226    False\n",
       "227     True\n",
       "228     True\n",
       "Name: 시도, Length: 73, dtype: bool"
      ]
     },
     "execution_count": 10,
     "metadata": {},
     "output_type": "execute_result"
    }
   ],
   "source": [
    "건강[(건강['시도'] == '서울특별시') & (건강['구군'] == '중구') ] # 두조건 둘다 맞아야함 서울이면서 중구인곳을 봄\n",
    "\n",
    "건강[(건강['시도'] == '서울특별시') & (건강['평균']>=0.5) ]\n",
    "\n",
    "건강[(건강['평균']>0.8) | (건강['평균']<0.3)]['시도']  # 평균이 0.8이 넘거나 0.3 이하인 곳중에 '시도' 만 보고싶음\n",
    "\n",
    "건강[(건강['평균']>0.8) | (건강['평균']<0.3)]['시도'].value_counts()[-5:] # 시도 기준으로 갯수 세기 상우; 5개보기[:5], 하위 5개 보기[-5:]\n",
    "\n",
    "건강[(건강['평균']>0.8) | (건강['평균']<0.3)]['시도'].str.contains('특별')\n"
   ]
  },
  {
   "cell_type": "code",
   "execution_count": 13,
   "metadata": {},
   "outputs": [],
   "source": [
    "### 건강자료에서 서울_ 건강.csv로 저장\n",
    "# 건강_서울특별시.csv로 저장\n",
    "# 건강_부산광역시.csv\n",
    "#건강_경기.csv 로 저장\n",
    "\n",
    "조건 ='서울특별시'\n",
    "tmp=건강[건강['시도']==조건]\n",
    "tmp\n",
    "tmp.to_csv('C:/Users/bluecom011/Desktop/3주차/01.12(데이터분석 실습)/시도별/' +조건+'.csv', index=False, encoding='cp949')"
   ]
  },
  {
   "cell_type": "code",
   "execution_count": 14,
   "metadata": {},
   "outputs": [
    {
     "name": "stdout",
     "output_type": "stream",
     "text": [
      "서울특별시 save완료\n",
      "부산광역시 save완료\n",
      "대구광역시 save완료\n",
      "인천광역시 save완료\n",
      "광주광역시 save완료\n",
      "대전광역시 save완료\n",
      "울산광역시 save완료\n",
      "세종특별자치시 save완료\n",
      "경기도 save완료\n",
      "강원도 save완료\n",
      "충청북도 save완료\n",
      "충청남도 save완료\n",
      "전라북도 save완료\n",
      "전라남도 save완료\n",
      "경상북도 save완료\n",
      "경상남도 save완료\n",
      "제주특별자치도 save완료\n"
     ]
    }
   ],
   "source": [
    "조건리스트=건강['시도'].unique()\n",
    "for 조건 in 조건리스트:\n",
    "    tmp=건강[건강['시도']==조건]\n",
    "    tmp.to_csv('C:/Users/bluecom011/Desktop/3주차/01.12(데이터분석 실습)/시도별/건강_' +조건+'.csv', index=False, encoding='cp949')\n",
    "    print(조건, 'save완료')"
   ]
  },
  {
   "cell_type": "code",
   "execution_count": 17,
   "metadata": {},
   "outputs": [
    {
     "data": {
      "text/html": [
       "<div>\n",
       "<style scoped>\n",
       "    .dataframe tbody tr th:only-of-type {\n",
       "        vertical-align: middle;\n",
       "    }\n",
       "\n",
       "    .dataframe tbody tr th {\n",
       "        vertical-align: top;\n",
       "    }\n",
       "\n",
       "    .dataframe thead th {\n",
       "        text-align: right;\n",
       "    }\n",
       "</style>\n",
       "<table border=\"1\" class=\"dataframe\">\n",
       "  <thead>\n",
       "    <tr style=\"text-align: right;\">\n",
       "      <th></th>\n",
       "      <th>시도</th>\n",
       "      <th>구군</th>\n",
       "      <th>평균</th>\n",
       "      <th>시군구</th>\n",
       "      <th>비고</th>\n",
       "    </tr>\n",
       "  </thead>\n",
       "  <tbody>\n",
       "    <tr>\n",
       "      <th>0</th>\n",
       "      <td>서울특별시</td>\n",
       "      <td>종로구</td>\n",
       "      <td>0.9220</td>\n",
       "      <td>서울특별시_종로구</td>\n",
       "      <td>상</td>\n",
       "    </tr>\n",
       "    <tr>\n",
       "      <th>1</th>\n",
       "      <td>서울특별시</td>\n",
       "      <td>중구</td>\n",
       "      <td>0.6742</td>\n",
       "      <td>서울특별시_중구</td>\n",
       "      <td>상</td>\n",
       "    </tr>\n",
       "    <tr>\n",
       "      <th>2</th>\n",
       "      <td>서울특별시</td>\n",
       "      <td>용산구</td>\n",
       "      <td>0.5898</td>\n",
       "      <td>서울특별시_용산구</td>\n",
       "      <td>상</td>\n",
       "    </tr>\n",
       "    <tr>\n",
       "      <th>3</th>\n",
       "      <td>서울특별시</td>\n",
       "      <td>성동구</td>\n",
       "      <td>0.4794</td>\n",
       "      <td>서울특별시_성동구</td>\n",
       "      <td>하</td>\n",
       "    </tr>\n",
       "    <tr>\n",
       "      <th>4</th>\n",
       "      <td>서울특별시</td>\n",
       "      <td>광진구</td>\n",
       "      <td>0.6373</td>\n",
       "      <td>서울특별시_광진구</td>\n",
       "      <td>상</td>\n",
       "    </tr>\n",
       "  </tbody>\n",
       "</table>\n",
       "</div>"
      ],
      "text/plain": [
       "      시도   구군      평균        시군구 비고\n",
       "0  서울특별시  종로구  0.9220  서울특별시_종로구  상\n",
       "1  서울특별시   중구  0.6742   서울특별시_중구  상\n",
       "2  서울특별시  용산구  0.5898  서울특별시_용산구  상\n",
       "3  서울특별시  성동구  0.4794  서울특별시_성동구  하\n",
       "4  서울특별시  광진구  0.6373  서울특별시_광진구  상"
      ]
     },
     "execution_count": 17,
     "metadata": {},
     "output_type": "execute_result"
    }
   ],
   "source": [
    "건강['시군구']=건강['시도'] + '_' + 건강['구군']\n",
    "건강.head()\n",
    "\n",
    "result=[]\n",
    "for x in 건강['평균']:\n",
    "    if x>0.5:\n",
    "        result.append('상')\n",
    "    else:\n",
    "        result.append('하')\n",
    "\n",
    "건강['비고']=result\n",
    "건강.head()"
   ]
  },
  {
   "cell_type": "code",
   "execution_count": 19,
   "metadata": {},
   "outputs": [
    {
     "data": {
      "text/html": [
       "<div>\n",
       "<style scoped>\n",
       "    .dataframe tbody tr th:only-of-type {\n",
       "        vertical-align: middle;\n",
       "    }\n",
       "\n",
       "    .dataframe tbody tr th {\n",
       "        vertical-align: top;\n",
       "    }\n",
       "\n",
       "    .dataframe thead th {\n",
       "        text-align: right;\n",
       "    }\n",
       "</style>\n",
       "<table border=\"1\" class=\"dataframe\">\n",
       "  <thead>\n",
       "    <tr style=\"text-align: right;\">\n",
       "      <th></th>\n",
       "      <th>시도</th>\n",
       "      <th>구군</th>\n",
       "      <th>평균</th>\n",
       "      <th>시군구</th>\n",
       "      <th>비고</th>\n",
       "    </tr>\n",
       "  </thead>\n",
       "  <tbody>\n",
       "    <tr>\n",
       "      <th>0</th>\n",
       "      <td>서울특별시</td>\n",
       "      <td>종로구</td>\n",
       "      <td>0.9220</td>\n",
       "      <td>서울특별시_종로구</td>\n",
       "      <td>상</td>\n",
       "    </tr>\n",
       "    <tr>\n",
       "      <th>1</th>\n",
       "      <td>서울특별시</td>\n",
       "      <td>중구</td>\n",
       "      <td>0.6742</td>\n",
       "      <td>서울특별시_중구</td>\n",
       "      <td>상</td>\n",
       "    </tr>\n",
       "    <tr>\n",
       "      <th>2</th>\n",
       "      <td>서울특별시</td>\n",
       "      <td>용산구</td>\n",
       "      <td>0.5898</td>\n",
       "      <td>서울특별시_용산구</td>\n",
       "      <td>상</td>\n",
       "    </tr>\n",
       "    <tr>\n",
       "      <th>3</th>\n",
       "      <td>서울특별시</td>\n",
       "      <td>성동구</td>\n",
       "      <td>0.4794</td>\n",
       "      <td>서울특별시_성동구</td>\n",
       "      <td>하</td>\n",
       "    </tr>\n",
       "    <tr>\n",
       "      <th>4</th>\n",
       "      <td>서울특별시</td>\n",
       "      <td>광진구</td>\n",
       "      <td>0.6373</td>\n",
       "      <td>서울특별시_광진구</td>\n",
       "      <td>상</td>\n",
       "    </tr>\n",
       "  </tbody>\n",
       "</table>\n",
       "</div>"
      ],
      "text/plain": [
       "      시도   구군      평균        시군구 비고\n",
       "0  서울특별시  종로구  0.9220  서울특별시_종로구  상\n",
       "1  서울특별시   중구  0.6742   서울특별시_중구  상\n",
       "2  서울특별시  용산구  0.5898  서울특별시_용산구  상\n",
       "3  서울특별시  성동구  0.4794  서울특별시_성동구  하\n",
       "4  서울특별시  광진구  0.6373  서울특별시_광진구  상"
      ]
     },
     "execution_count": 19,
     "metadata": {},
     "output_type": "execute_result"
    }
   ],
   "source": [
    "#람다식으로 변환\n",
    "건강['비고'] = 건강['평균'].apply(lambda x: '상' if x > 0.5 else '하')\n",
    "건강.head()"
   ]
  },
  {
   "cell_type": "code",
   "execution_count": 32,
   "metadata": {},
   "outputs": [
    {
     "name": "stderr",
     "output_type": "stream",
     "text": [
      "C:\\Users\\bluecom011\\AppData\\Local\\Temp\\ipykernel_10080\\4283854825.py:12: SettingWithCopyWarning: \n",
      "A value is trying to be set on a copy of a slice from a DataFrame\n",
      "\n",
      "See the caveats in the documentation: https://pandas.pydata.org/pandas-docs/stable/user_guide/indexing.html#returning-a-view-versus-a-copy\n",
      "  df['비고'][cnt]=aaa(x)\n",
      "C:\\Users\\bluecom011\\AppData\\Local\\Temp\\ipykernel_10080\\4283854825.py:12: FutureWarning: Setting an item of incompatible dtype is deprecated and will raise in a future error of pandas. Value '상' has dtype incompatible with int64, please explicitly cast to a compatible dtype first.\n",
      "  df['비고'][cnt]=aaa(x)\n"
     ]
    },
    {
     "data": {
      "text/html": [
       "<div>\n",
       "<style scoped>\n",
       "    .dataframe tbody tr th:only-of-type {\n",
       "        vertical-align: middle;\n",
       "    }\n",
       "\n",
       "    .dataframe tbody tr th {\n",
       "        vertical-align: top;\n",
       "    }\n",
       "\n",
       "    .dataframe thead th {\n",
       "        text-align: right;\n",
       "    }\n",
       "</style>\n",
       "<table border=\"1\" class=\"dataframe\">\n",
       "  <thead>\n",
       "    <tr style=\"text-align: right;\">\n",
       "      <th></th>\n",
       "      <th>시도</th>\n",
       "      <th>구군</th>\n",
       "      <th>평균</th>\n",
       "      <th>비고</th>\n",
       "    </tr>\n",
       "  </thead>\n",
       "  <tbody>\n",
       "    <tr>\n",
       "      <th>0</th>\n",
       "      <td>서울특별시</td>\n",
       "      <td>종로구</td>\n",
       "      <td>0.9220</td>\n",
       "      <td>상</td>\n",
       "    </tr>\n",
       "    <tr>\n",
       "      <th>1</th>\n",
       "      <td>서울특별시</td>\n",
       "      <td>중구</td>\n",
       "      <td>0.6742</td>\n",
       "      <td>상</td>\n",
       "    </tr>\n",
       "    <tr>\n",
       "      <th>2</th>\n",
       "      <td>서울특별시</td>\n",
       "      <td>용산구</td>\n",
       "      <td>0.5898</td>\n",
       "      <td>상</td>\n",
       "    </tr>\n",
       "    <tr>\n",
       "      <th>3</th>\n",
       "      <td>서울특별시</td>\n",
       "      <td>성동구</td>\n",
       "      <td>0.4794</td>\n",
       "      <td>하</td>\n",
       "    </tr>\n",
       "    <tr>\n",
       "      <th>4</th>\n",
       "      <td>서울특별시</td>\n",
       "      <td>광진구</td>\n",
       "      <td>0.6373</td>\n",
       "      <td>상</td>\n",
       "    </tr>\n",
       "    <tr>\n",
       "      <th>...</th>\n",
       "      <td>...</td>\n",
       "      <td>...</td>\n",
       "      <td>...</td>\n",
       "      <td>...</td>\n",
       "    </tr>\n",
       "    <tr>\n",
       "      <th>224</th>\n",
       "      <td>경상남도</td>\n",
       "      <td>함양군</td>\n",
       "      <td>0.2036</td>\n",
       "      <td>하</td>\n",
       "    </tr>\n",
       "    <tr>\n",
       "      <th>225</th>\n",
       "      <td>경상남도</td>\n",
       "      <td>거창군</td>\n",
       "      <td>0.2150</td>\n",
       "      <td>하</td>\n",
       "    </tr>\n",
       "    <tr>\n",
       "      <th>226</th>\n",
       "      <td>경상남도</td>\n",
       "      <td>합천군</td>\n",
       "      <td>0.2128</td>\n",
       "      <td>하</td>\n",
       "    </tr>\n",
       "    <tr>\n",
       "      <th>227</th>\n",
       "      <td>제주특별자치도</td>\n",
       "      <td>제주시</td>\n",
       "      <td>0.2537</td>\n",
       "      <td>하</td>\n",
       "    </tr>\n",
       "    <tr>\n",
       "      <th>228</th>\n",
       "      <td>제주특별자치도</td>\n",
       "      <td>서귀포시</td>\n",
       "      <td>0.2537</td>\n",
       "      <td>하</td>\n",
       "    </tr>\n",
       "  </tbody>\n",
       "</table>\n",
       "<p>229 rows × 4 columns</p>\n",
       "</div>"
      ],
      "text/plain": [
       "          시도    구군      평균 비고\n",
       "0      서울특별시   종로구  0.9220  상\n",
       "1      서울특별시    중구  0.6742  상\n",
       "2      서울특별시   용산구  0.5898  상\n",
       "3      서울특별시   성동구  0.4794  하\n",
       "4      서울특별시   광진구  0.6373  상\n",
       "..       ...   ...     ... ..\n",
       "224     경상남도   함양군  0.2036  하\n",
       "225     경상남도   거창군  0.2150  하\n",
       "226     경상남도   합천군  0.2128  하\n",
       "227  제주특별자치도   제주시  0.2537  하\n",
       "228  제주특별자치도  서귀포시  0.2537  하\n",
       "\n",
       "[229 rows x 4 columns]"
      ]
     },
     "execution_count": 32,
     "metadata": {},
     "output_type": "execute_result"
    }
   ],
   "source": [
    "df=건강.iloc[:,:-2].copy() #깊은 복사를 해야, 건강데이터가 변경되었을때 df데이터가 영향받지 않음, df=건강\n",
    "df['비고'] =0\n",
    "\n",
    "def aaa(row):\n",
    "    \n",
    "    if row >0.5:\n",
    "        return'상'\n",
    "    else :\n",
    "        return'하'\n",
    "\n",
    "for cnt,x in enumerate(df['평균']):\n",
    "    df['비고'][cnt]=aaa(x)\n",
    "\n",
    "df"
   ]
  }
 ],
 "metadata": {
  "kernelspec": {
   "display_name": "OpenAI",
   "language": "python",
   "name": "python3"
  },
  "language_info": {
   "codemirror_mode": {
    "name": "ipython",
    "version": 3
   },
   "file_extension": ".py",
   "mimetype": "text/x-python",
   "name": "python",
   "nbconvert_exporter": "python",
   "pygments_lexer": "ipython3",
   "version": "3.12.0"
  }
 },
 "nbformat": 4,
 "nbformat_minor": 2
}
