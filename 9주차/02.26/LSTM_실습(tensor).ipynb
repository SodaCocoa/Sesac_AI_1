{
 "cells": [
  {
   "cell_type": "code",
   "execution_count": 1,
   "metadata": {},
   "outputs": [
    {
     "name": "stdout",
     "output_type": "stream",
     "text": [
      "Collecting finance-datareader\n",
      "  Downloading finance_datareader-0.9.70-py3-none-any.whl.metadata (466 bytes)\n",
      "Requirement already satisfied: pandas>=0.19.2 in c:\\users\\bluecom011\\miniconda3\\envs\\tensor2\\lib\\site-packages (from finance-datareader) (2.0.3)\n",
      "Requirement already satisfied: requests>=2.3.0 in c:\\users\\bluecom011\\miniconda3\\envs\\tensor2\\lib\\site-packages (from finance-datareader) (2.31.0)\n",
      "Collecting requests-file (from finance-datareader)\n",
      "  Downloading requests_file-2.0.0-py2.py3-none-any.whl.metadata (1.7 kB)\n",
      "Requirement already satisfied: lxml in c:\\users\\bluecom011\\miniconda3\\envs\\tensor2\\lib\\site-packages (from finance-datareader) (5.1.0)\n",
      "Requirement already satisfied: tqdm in c:\\users\\bluecom011\\miniconda3\\envs\\tensor2\\lib\\site-packages (from finance-datareader) (4.66.1)\n",
      "Requirement already satisfied: python-dateutil>=2.8.2 in c:\\users\\bluecom011\\miniconda3\\envs\\tensor2\\lib\\site-packages (from pandas>=0.19.2->finance-datareader) (2.8.2)\n",
      "Requirement already satisfied: pytz>=2020.1 in c:\\users\\bluecom011\\miniconda3\\envs\\tensor2\\lib\\site-packages (from pandas>=0.19.2->finance-datareader) (2023.3.post1)\n",
      "Requirement already satisfied: tzdata>=2022.1 in c:\\users\\bluecom011\\miniconda3\\envs\\tensor2\\lib\\site-packages (from pandas>=0.19.2->finance-datareader) (2023.4)\n",
      "Requirement already satisfied: numpy>=1.20.3 in c:\\users\\bluecom011\\miniconda3\\envs\\tensor2\\lib\\site-packages (from pandas>=0.19.2->finance-datareader) (1.24.4)\n",
      "Requirement already satisfied: charset-normalizer<4,>=2 in c:\\users\\bluecom011\\miniconda3\\envs\\tensor2\\lib\\site-packages (from requests>=2.3.0->finance-datareader) (3.3.2)\n",
      "Requirement already satisfied: idna<4,>=2.5 in c:\\users\\bluecom011\\miniconda3\\envs\\tensor2\\lib\\site-packages (from requests>=2.3.0->finance-datareader) (3.6)\n",
      "Requirement already satisfied: urllib3<3,>=1.21.1 in c:\\users\\bluecom011\\miniconda3\\envs\\tensor2\\lib\\site-packages (from requests>=2.3.0->finance-datareader) (2.1.0)\n",
      "Requirement already satisfied: certifi>=2017.4.17 in c:\\users\\bluecom011\\miniconda3\\envs\\tensor2\\lib\\site-packages (from requests>=2.3.0->finance-datareader) (2023.11.17)\n",
      "Requirement already satisfied: colorama in c:\\users\\bluecom011\\miniconda3\\envs\\tensor2\\lib\\site-packages (from tqdm->finance-datareader) (0.4.6)\n",
      "Requirement already satisfied: six>=1.5 in c:\\users\\bluecom011\\miniconda3\\envs\\tensor2\\lib\\site-packages (from python-dateutil>=2.8.2->pandas>=0.19.2->finance-datareader) (1.16.0)\n",
      "Downloading finance_datareader-0.9.70-py3-none-any.whl (24 kB)\n",
      "Downloading requests_file-2.0.0-py2.py3-none-any.whl (4.2 kB)\n",
      "Installing collected packages: requests-file, finance-datareader\n",
      "Successfully installed finance-datareader-0.9.70 requests-file-2.0.0\n",
      "Note: you may need to restart the kernel to use updated packages.\n"
     ]
    },
    {
     "name": "stderr",
     "output_type": "stream",
     "text": [
      "\n",
      "[notice] A new release of pip is available: 23.3.2 -> 24.0\n",
      "[notice] To update, run: python.exe -m pip install --upgrade pip\n"
     ]
    }
   ],
   "source": [
    "pip install -U finance-datareader"
   ]
  },
  {
   "cell_type": "code",
   "execution_count": 3,
   "metadata": {},
   "outputs": [
    {
     "name": "stdout",
     "output_type": "stream",
     "text": [
      "Collecting plotly\n",
      "  Downloading plotly-5.19.0-py3-none-any.whl.metadata (7.0 kB)\n",
      "Requirement already satisfied: tenacity>=6.2.0 in c:\\users\\bluecom011\\miniconda3\\envs\\tensor2\\lib\\site-packages (from plotly) (8.2.3)\n",
      "Requirement already satisfied: packaging in c:\\users\\bluecom011\\miniconda3\\envs\\tensor2\\lib\\site-packages (from plotly) (23.2)\n",
      "Downloading plotly-5.19.0-py3-none-any.whl (15.7 MB)\n",
      "   ---------------------------------------- 0.0/15.7 MB ? eta -:--:--\n",
      "   ---------------------------------------- 0.1/15.7 MB 2.0 MB/s eta 0:00:08\n",
      "   - -------------------------------------- 0.7/15.7 MB 8.3 MB/s eta 0:00:02\n",
      "   -- ------------------------------------- 1.1/15.7 MB 9.0 MB/s eta 0:00:02\n",
      "   ---- ----------------------------------- 1.8/15.7 MB 10.7 MB/s eta 0:00:02\n",
      "   ----- ---------------------------------- 2.1/15.7 MB 11.1 MB/s eta 0:00:02\n",
      "   ----- ---------------------------------- 2.1/15.7 MB 11.1 MB/s eta 0:00:02\n",
      "   ----- ---------------------------------- 2.1/15.7 MB 11.1 MB/s eta 0:00:02\n",
      "   ----- ---------------------------------- 2.1/15.7 MB 11.1 MB/s eta 0:00:02\n",
      "   ----- ---------------------------------- 2.1/15.7 MB 11.1 MB/s eta 0:00:02\n",
      "   ----- ---------------------------------- 2.1/15.7 MB 11.1 MB/s eta 0:00:02\n",
      "   ------ --------------------------------- 2.7/15.7 MB 5.1 MB/s eta 0:00:03\n",
      "   --------- ------------------------------ 3.6/15.7 MB 6.4 MB/s eta 0:00:02\n",
      "   ---------- ----------------------------- 4.2/15.7 MB 7.0 MB/s eta 0:00:02\n",
      "   ---------- ----------------------------- 4.2/15.7 MB 7.0 MB/s eta 0:00:02\n",
      "   ---------- ----------------------------- 4.2/15.7 MB 7.0 MB/s eta 0:00:02\n",
      "   ---------- ----------------------------- 4.2/15.7 MB 7.0 MB/s eta 0:00:02\n",
      "   ---------- ----------------------------- 4.2/15.7 MB 7.0 MB/s eta 0:00:02\n",
      "   ------------- -------------------------- 5.3/15.7 MB 6.0 MB/s eta 0:00:02\n",
      "   --------------- ------------------------ 6.2/15.7 MB 6.8 MB/s eta 0:00:02\n",
      "   ------------------ --------------------- 7.1/15.7 MB 7.3 MB/s eta 0:00:02\n",
      "   --------------------- ------------------ 8.5/15.7 MB 8.3 MB/s eta 0:00:01\n",
      "   ------------------------- -------------- 9.9/15.7 MB 9.3 MB/s eta 0:00:01\n",
      "   --------------------------- ------------ 11.0/15.7 MB 9.9 MB/s eta 0:00:01\n",
      "   ------------------------------- -------- 12.5/15.7 MB 15.6 MB/s eta 0:00:01\n",
      "   ----------------------------------- ---- 13.9/15.7 MB 16.4 MB/s eta 0:00:01\n",
      "   ------------------------------------- -- 14.5/15.7 MB 24.2 MB/s eta 0:00:01\n",
      "   ---------------------------------------  15.7/15.7 MB 26.2 MB/s eta 0:00:01\n",
      "   ---------------------------------------- 15.7/15.7 MB 24.2 MB/s eta 0:00:00\n",
      "Installing collected packages: plotly\n",
      "Successfully installed plotly-5.19.0\n",
      "Note: you may need to restart the kernel to use updated packages.\n"
     ]
    },
    {
     "name": "stderr",
     "output_type": "stream",
     "text": [
      "\n",
      "[notice] A new release of pip is available: 23.3.2 -> 24.0\n",
      "[notice] To update, run: python.exe -m pip install --upgrade pip\n"
     ]
    }
   ],
   "source": [
    "pip install plotly"
   ]
  },
  {
   "cell_type": "markdown",
   "metadata": {},
   "source": [
    "## 2-1. 데이터 로드"
   ]
  },
  {
   "cell_type": "code",
   "execution_count": 4,
   "metadata": {},
   "outputs": [],
   "source": [
    "import FinanceDataReader as fdr\n",
    "import numpy as np\n",
    "import matplotlib.pyplot as plt\n"
   ]
  },
  {
   "cell_type": "code",
   "execution_count": 5,
   "metadata": {},
   "outputs": [
    {
     "data": {
      "text/html": [
       "<div>\n",
       "<style scoped>\n",
       "    .dataframe tbody tr th:only-of-type {\n",
       "        vertical-align: middle;\n",
       "    }\n",
       "\n",
       "    .dataframe tbody tr th {\n",
       "        vertical-align: top;\n",
       "    }\n",
       "\n",
       "    .dataframe thead th {\n",
       "        text-align: right;\n",
       "    }\n",
       "</style>\n",
       "<table border=\"1\" class=\"dataframe\">\n",
       "  <thead>\n",
       "    <tr style=\"text-align: right;\">\n",
       "      <th></th>\n",
       "      <th>Open</th>\n",
       "      <th>High</th>\n",
       "      <th>Low</th>\n",
       "      <th>Close</th>\n",
       "      <th>Volume</th>\n",
       "      <th>Change</th>\n",
       "    </tr>\n",
       "    <tr>\n",
       "      <th>Date</th>\n",
       "      <th></th>\n",
       "      <th></th>\n",
       "      <th></th>\n",
       "      <th></th>\n",
       "      <th></th>\n",
       "      <th></th>\n",
       "    </tr>\n",
       "  </thead>\n",
       "  <tbody>\n",
       "    <tr>\n",
       "      <th>2018-05-04</th>\n",
       "      <td>53000</td>\n",
       "      <td>53900</td>\n",
       "      <td>51800</td>\n",
       "      <td>51900</td>\n",
       "      <td>39565391</td>\n",
       "      <td>-0.020755</td>\n",
       "    </tr>\n",
       "    <tr>\n",
       "      <th>2018-05-08</th>\n",
       "      <td>52600</td>\n",
       "      <td>53200</td>\n",
       "      <td>51900</td>\n",
       "      <td>52600</td>\n",
       "      <td>23104720</td>\n",
       "      <td>0.013487</td>\n",
       "    </tr>\n",
       "    <tr>\n",
       "      <th>2018-05-09</th>\n",
       "      <td>52600</td>\n",
       "      <td>52800</td>\n",
       "      <td>50900</td>\n",
       "      <td>50900</td>\n",
       "      <td>16128305</td>\n",
       "      <td>-0.032319</td>\n",
       "    </tr>\n",
       "    <tr>\n",
       "      <th>2018-05-10</th>\n",
       "      <td>51700</td>\n",
       "      <td>51700</td>\n",
       "      <td>50600</td>\n",
       "      <td>51600</td>\n",
       "      <td>13905263</td>\n",
       "      <td>0.013752</td>\n",
       "    </tr>\n",
       "    <tr>\n",
       "      <th>2018-05-11</th>\n",
       "      <td>52000</td>\n",
       "      <td>52200</td>\n",
       "      <td>51200</td>\n",
       "      <td>51300</td>\n",
       "      <td>10314997</td>\n",
       "      <td>-0.005814</td>\n",
       "    </tr>\n",
       "  </tbody>\n",
       "</table>\n",
       "</div>"
      ],
      "text/plain": [
       "             Open   High    Low  Close    Volume    Change\n",
       "Date                                                      \n",
       "2018-05-04  53000  53900  51800  51900  39565391 -0.020755\n",
       "2018-05-08  52600  53200  51900  52600  23104720  0.013487\n",
       "2018-05-09  52600  52800  50900  50900  16128305 -0.032319\n",
       "2018-05-10  51700  51700  50600  51600  13905263  0.013752\n",
       "2018-05-11  52000  52200  51200  51300  10314997 -0.005814"
      ]
     },
     "execution_count": 5,
     "metadata": {},
     "output_type": "execute_result"
    }
   ],
   "source": [
    "df = fdr.DataReader('005930', '2018-05-04', '2020-01-22')\n",
    "df.head()\n"
   ]
  },
  {
   "cell_type": "code",
   "execution_count": 6,
   "metadata": {},
   "outputs": [
    {
     "name": "stdout",
     "output_type": "stream",
     "text": [
      "(421, 6)\n"
     ]
    }
   ],
   "source": [
    "print(df.shape)\n"
   ]
  },
  {
   "cell_type": "markdown",
   "metadata": {},
   "source": [
    "## 2-2. 데이터 전처리 - MinMaxScaler"
   ]
  },
  {
   "cell_type": "markdown",
   "metadata": {},
   "source": [
    "MinMaxScaler는 데이터의 값의 범위를 줄여주는 기법으로 머신 러닝과 데이터 분석에서 자주 사용되는 방법입니다. 이를 사용하면 값의 범위가 0~1 사이로 변환됩니다.\n",
    "\n",
    "수식은 다음과 같습니다.\n",
    "\n",
    "(X - X의 최소값) / (X의 최대값 - X의 최소값)\n",
    "숫자 단위가 클수록 계산에 소요되는 시간이 늘어납니다. 시간 소요를 줄이기 위해서 삼성전자 데이터에 MinMaxScaler를 적용해봅시다. 0으로 나누기 에러가 발생하지 않도록 매우 작은 값(1e-7)을 더해서 나눕니다."
   ]
  },
  {
   "cell_type": "code",
   "execution_count": 7,
   "metadata": {},
   "outputs": [],
   "source": [
    "def MinMaxScaler(data):\n",
    "    \"\"\"최솟값과 최댓값을 이용하여 0 ~ 1 값으로 변환\"\"\"\n",
    "    numerator = data - np.min(data, 0)\n",
    "    denominator = np.max(data, 0) - np.min(data, 0)\n",
    "    # 0으로 나누기 에러가 발생하지 않도록 매우 작은 값(1e-7)을 더해서 나눔\n",
    "    return numerator / (denominator + 1e-7)\n"
   ]
  },
  {
   "cell_type": "code",
   "execution_count": 8,
   "metadata": {},
   "outputs": [
    {
     "data": {
      "text/html": [
       "<div>\n",
       "<style scoped>\n",
       "    .dataframe tbody tr th:only-of-type {\n",
       "        vertical-align: middle;\n",
       "    }\n",
       "\n",
       "    .dataframe tbody tr th {\n",
       "        vertical-align: top;\n",
       "    }\n",
       "\n",
       "    .dataframe thead th {\n",
       "        text-align: right;\n",
       "    }\n",
       "</style>\n",
       "<table border=\"1\" class=\"dataframe\">\n",
       "  <thead>\n",
       "    <tr style=\"text-align: right;\">\n",
       "      <th></th>\n",
       "      <th>Open</th>\n",
       "      <th>High</th>\n",
       "      <th>Low</th>\n",
       "      <th>Volume</th>\n",
       "    </tr>\n",
       "    <tr>\n",
       "      <th>Date</th>\n",
       "      <th></th>\n",
       "      <th></th>\n",
       "      <th></th>\n",
       "      <th></th>\n",
       "    </tr>\n",
       "  </thead>\n",
       "  <tbody>\n",
       "    <tr>\n",
       "      <th>2018-05-04</th>\n",
       "      <td>0.633401</td>\n",
       "      <td>0.646825</td>\n",
       "      <td>0.601610</td>\n",
       "      <td>0.595060</td>\n",
       "    </tr>\n",
       "    <tr>\n",
       "      <th>2018-05-08</th>\n",
       "      <td>0.617108</td>\n",
       "      <td>0.619048</td>\n",
       "      <td>0.605634</td>\n",
       "      <td>0.316465</td>\n",
       "    </tr>\n",
       "    <tr>\n",
       "      <th>2018-05-09</th>\n",
       "      <td>0.617108</td>\n",
       "      <td>0.603175</td>\n",
       "      <td>0.565392</td>\n",
       "      <td>0.198390</td>\n",
       "    </tr>\n",
       "    <tr>\n",
       "      <th>2018-05-10</th>\n",
       "      <td>0.580448</td>\n",
       "      <td>0.559524</td>\n",
       "      <td>0.553320</td>\n",
       "      <td>0.160765</td>\n",
       "    </tr>\n",
       "    <tr>\n",
       "      <th>2018-05-11</th>\n",
       "      <td>0.592668</td>\n",
       "      <td>0.579365</td>\n",
       "      <td>0.577465</td>\n",
       "      <td>0.100000</td>\n",
       "    </tr>\n",
       "    <tr>\n",
       "      <th>...</th>\n",
       "      <td>...</td>\n",
       "      <td>...</td>\n",
       "      <td>...</td>\n",
       "      <td>...</td>\n",
       "    </tr>\n",
       "    <tr>\n",
       "      <th>2020-01-16</th>\n",
       "      <td>0.881874</td>\n",
       "      <td>0.916667</td>\n",
       "      <td>0.891348</td>\n",
       "      <td>0.168830</td>\n",
       "    </tr>\n",
       "    <tr>\n",
       "      <th>2020-01-17</th>\n",
       "      <td>0.995927</td>\n",
       "      <td>0.968254</td>\n",
       "      <td>0.971831</td>\n",
       "      <td>0.196653</td>\n",
       "    </tr>\n",
       "    <tr>\n",
       "      <th>2020-01-20</th>\n",
       "      <td>1.000000</td>\n",
       "      <td>1.000000</td>\n",
       "      <td>1.000000</td>\n",
       "      <td>0.137469</td>\n",
       "    </tr>\n",
       "    <tr>\n",
       "      <th>2020-01-21</th>\n",
       "      <td>1.000000</td>\n",
       "      <td>0.984127</td>\n",
       "      <td>0.979879</td>\n",
       "      <td>0.114009</td>\n",
       "    </tr>\n",
       "    <tr>\n",
       "      <th>2020-01-22</th>\n",
       "      <td>0.938900</td>\n",
       "      <td>0.992063</td>\n",
       "      <td>0.947686</td>\n",
       "      <td>0.185040</td>\n",
       "    </tr>\n",
       "  </tbody>\n",
       "</table>\n",
       "<p>421 rows × 4 columns</p>\n",
       "</div>"
      ],
      "text/plain": [
       "                Open      High       Low    Volume\n",
       "Date                                              \n",
       "2018-05-04  0.633401  0.646825  0.601610  0.595060\n",
       "2018-05-08  0.617108  0.619048  0.605634  0.316465\n",
       "2018-05-09  0.617108  0.603175  0.565392  0.198390\n",
       "2018-05-10  0.580448  0.559524  0.553320  0.160765\n",
       "2018-05-11  0.592668  0.579365  0.577465  0.100000\n",
       "...              ...       ...       ...       ...\n",
       "2020-01-16  0.881874  0.916667  0.891348  0.168830\n",
       "2020-01-17  0.995927  0.968254  0.971831  0.196653\n",
       "2020-01-20  1.000000  1.000000  1.000000  0.137469\n",
       "2020-01-21  1.000000  0.984127  0.979879  0.114009\n",
       "2020-01-22  0.938900  0.992063  0.947686  0.185040\n",
       "\n",
       "[421 rows x 4 columns]"
      ]
     },
     "execution_count": 8,
     "metadata": {},
     "output_type": "execute_result"
    }
   ],
   "source": [
    "dfx = df[['Open','High','Low','Volume', 'Close']]\n",
    "dfx = MinMaxScaler(dfx)\n",
    "dfy = dfx[['Close']]\n",
    "dfx = dfx[['Open','High','Low','Volume']]\n",
    "dfx\n"
   ]
  },
  {
   "cell_type": "code",
   "execution_count": 9,
   "metadata": {},
   "outputs": [
    {
     "data": {
      "text/html": [
       "<div>\n",
       "<style scoped>\n",
       "    .dataframe tbody tr th:only-of-type {\n",
       "        vertical-align: middle;\n",
       "    }\n",
       "\n",
       "    .dataframe tbody tr th {\n",
       "        vertical-align: top;\n",
       "    }\n",
       "\n",
       "    .dataframe thead th {\n",
       "        text-align: right;\n",
       "    }\n",
       "</style>\n",
       "<table border=\"1\" class=\"dataframe\">\n",
       "  <thead>\n",
       "    <tr style=\"text-align: right;\">\n",
       "      <th></th>\n",
       "      <th>Close</th>\n",
       "    </tr>\n",
       "    <tr>\n",
       "      <th>Date</th>\n",
       "      <th></th>\n",
       "    </tr>\n",
       "  </thead>\n",
       "  <tbody>\n",
       "    <tr>\n",
       "      <th>2018-05-04</th>\n",
       "      <td>0.579158</td>\n",
       "    </tr>\n",
       "    <tr>\n",
       "      <th>2018-05-08</th>\n",
       "      <td>0.607214</td>\n",
       "    </tr>\n",
       "    <tr>\n",
       "      <th>2018-05-09</th>\n",
       "      <td>0.539078</td>\n",
       "    </tr>\n",
       "    <tr>\n",
       "      <th>2018-05-10</th>\n",
       "      <td>0.567134</td>\n",
       "    </tr>\n",
       "    <tr>\n",
       "      <th>2018-05-11</th>\n",
       "      <td>0.555110</td>\n",
       "    </tr>\n",
       "  </tbody>\n",
       "</table>\n",
       "</div>"
      ],
      "text/plain": [
       "               Close\n",
       "Date                \n",
       "2018-05-04  0.579158\n",
       "2018-05-08  0.607214\n",
       "2018-05-09  0.539078\n",
       "2018-05-10  0.567134\n",
       "2018-05-11  0.555110"
      ]
     },
     "execution_count": 9,
     "metadata": {},
     "output_type": "execute_result"
    }
   ],
   "source": [
    "dfy.head()\n"
   ]
  },
  {
   "cell_type": "code",
   "execution_count": 10,
   "metadata": {},
   "outputs": [],
   "source": [
    "# 두 데이터를 리스트 형태로 저장\n",
    "X = dfx.values.tolist()\n",
    "y = dfy.values.tolist()\n"
   ]
  },
  {
   "cell_type": "code",
   "execution_count": 11,
   "metadata": {},
   "outputs": [
    {
     "data": {
      "text/plain": [
       "[[0.6334012219933466,\n",
       "  0.64682539682283,\n",
       "  0.6016096579452651,\n",
       "  0.5950598479352758],\n",
       " [0.6171079429710097,\n",
       "  0.6190476190451625,\n",
       "  0.6056338028144642,\n",
       "  0.3164647972944813],\n",
       " [0.6171079429710097,\n",
       "  0.6031746031722096,\n",
       "  0.5653923541224732,\n",
       "  0.19838973885875907],\n",
       " [0.5804480651707518,\n",
       "  0.5595238095215892,\n",
       "  0.5533199195148759,\n",
       "  0.16076499691679247],\n",
       " [0.5926680244375044,\n",
       "  0.5793650793627803,\n",
       "  0.5774647887300706,\n",
       "  0.10000013878410015]]"
      ]
     },
     "execution_count": 11,
     "metadata": {},
     "output_type": "execute_result"
    }
   ],
   "source": [
    "X[:5]\n"
   ]
  },
  {
   "cell_type": "code",
   "execution_count": 12,
   "metadata": {},
   "outputs": [
    {
     "data": {
      "text/plain": [
       "[[0.5791583166309452],\n",
       " [0.6072144288552817],\n",
       " [0.5390781563104646],\n",
       " [0.5671342685348011],\n",
       " [0.5551102204386569]]"
      ]
     },
     "execution_count": 12,
     "metadata": {},
     "output_type": "execute_result"
    }
   ],
   "source": [
    "y[:5]"
   ]
  },
  {
   "cell_type": "markdown",
   "metadata": {},
   "source": [
    "## 2-3 데이터 전처리 - 10일 동안의 OHLVC 데이터로 다음 날의 종가를 예측"
   ]
  },
  {
   "cell_type": "code",
   "execution_count": 13,
   "metadata": {},
   "outputs": [
    {
     "name": "stdout",
     "output_type": "stream",
     "text": [
      "[[0.7637474541720417, 0.7857142857111677, 0.7665995975824281, 0.323174686971615], [0.8533604887948947, 0.8333333333300265, 0.8269617706204146, 0.33335345138624783], [0.8696537678172315, 0.8769841269806469, 0.8631790744432065, 0.19622106804249292], [0.9022403258619053, 0.8888888888853615, 0.8953722333967993, 0.117672127572782], [0.9348268839065791, 0.9285714285677438, 0.927565392350392, 0.21155713424914332], [0.898167006106321, 0.8730158730124087, 0.8873239436584011, 0.1674615836301646], [0.8818737270839841, 0.9166666666630291, 0.8913480885276002, 0.16882989330989187], [0.9959266802403425, 0.968253968250126, 0.9718309859115821, 0.19665250042066781], [0.9999999999959267, 0.9999999999960317, 0.9999999999959758, 0.13746944253371812], [0.9999999999959267, 0.9841269841230789, 0.9798792756499803, 0.11400880277083453]] -> [0.9959919839639438]\n"
     ]
    }
   ],
   "source": [
    "window_size = 10\n",
    "\n",
    "data_X = []\n",
    "data_y = []\n",
    "for i in range(len(y) - window_size):\n",
    "    _X = X[i : i + window_size] # 다음 날 종가(i+windows_size)는 포함되지 않음\n",
    "    _y = y[i + window_size]     # 다음 날 종가\n",
    "    data_X.append(_X)\n",
    "    data_y.append(_y)\n",
    "print(_X, \"->\", _y)\n"
   ]
  },
  {
   "cell_type": "code",
   "execution_count": 14,
   "metadata": {},
   "outputs": [
    {
     "data": {
      "text/plain": [
       "[[0.6334012219933466,\n",
       "  0.64682539682283,\n",
       "  0.6016096579452651,\n",
       "  0.5950598479352758],\n",
       " [0.6171079429710097,\n",
       "  0.6190476190451625,\n",
       "  0.6056338028144642,\n",
       "  0.3164647972944813],\n",
       " [0.6171079429710097,\n",
       "  0.6031746031722096,\n",
       "  0.5653923541224732,\n",
       "  0.19838973885875907],\n",
       " [0.5804480651707518,\n",
       "  0.5595238095215892,\n",
       "  0.5533199195148759,\n",
       "  0.16076499691679247],\n",
       " [0.5926680244375044,\n",
       "  0.5793650793627803,\n",
       "  0.5774647887300706,\n",
       "  0.10000013878410015],\n",
       " [0.5519348268816622,\n",
       "  0.5357142857121598,\n",
       "  0.5251509054304823,\n",
       "  0.17775773908379244],\n",
       " [0.5193482688369884,\n",
       "  0.5079365079344923,\n",
       "  0.4929577464768895,\n",
       "  0.24207018961868487],\n",
       " [0.47861507128114616,\n",
       "  0.49999999999801586,\n",
       "  0.49496981891148906,\n",
       "  0.19484190950809502],\n",
       " [0.5234215885925726,\n",
       "  0.5119047619027305,\n",
       "  0.5050301810844868,\n",
       "  0.100853881024588],\n",
       " [0.5071283095702357,\n",
       "  0.4880952380933012,\n",
       "  0.5030181086498873,\n",
       "  0.03892790771899896]]"
      ]
     },
     "execution_count": 14,
     "metadata": {},
     "output_type": "execute_result"
    }
   ],
   "source": [
    "# 10일간의 OHLVC 데이터\n",
    "data_X[0]\n"
   ]
  },
  {
   "cell_type": "code",
   "execution_count": 15,
   "metadata": {},
   "outputs": [
    {
     "data": {
      "text/plain": [
       "[0.503006012022032]"
      ]
     },
     "execution_count": 15,
     "metadata": {},
     "output_type": "execute_result"
    }
   ],
   "source": [
    "# data_X[0]을 넣었을 때의 정답인 data_y[0]\n",
    "data_y[0]\n"
   ]
  },
  {
   "cell_type": "markdown",
   "metadata": {},
   "source": [
    "## 2-4. 훈련 데이터와 테스트 데이터를 분리"
   ]
  },
  {
   "cell_type": "code",
   "execution_count": 16,
   "metadata": {},
   "outputs": [
    {
     "name": "stdout",
     "output_type": "stream",
     "text": [
      "전체 데이터의 크기 : 411 411\n"
     ]
    }
   ],
   "source": [
    "print('전체 데이터의 크기 :', len(data_X), len(data_y))\n"
   ]
  },
  {
   "cell_type": "code",
   "execution_count": 17,
   "metadata": {},
   "outputs": [
    {
     "name": "stdout",
     "output_type": "stream",
     "text": [
      "훈련 데이터의 크기 : (287, 10, 4) (287, 1)\n",
      "테스트 데이터의 크기 : (124, 10, 4) (124, 1)\n"
     ]
    }
   ],
   "source": [
    "#학습에 사용할 훈련 데이터와 테스트 데이터를 분리해봅시다. 비율은 7:3으로 하고자 합니다.\n",
    "train_size = int(len(data_y) * 0.7)\n",
    "train_X = np.array(data_X[0 : train_size])\n",
    "train_y = np.array(data_y[0 : train_size])\n",
    "\n",
    "test_size = len(data_y) - train_size\n",
    "test_X = np.array(data_X[train_size : len(data_X)])\n",
    "test_y = np.array(data_y[train_size : len(data_y)])\n",
    "\n",
    "print('훈련 데이터의 크기 :', train_X.shape, train_y.shape)\n",
    "print('테스트 데이터의 크기 :', test_X.shape, test_y.shape)\n"
   ]
  },
  {
   "cell_type": "code",
   "execution_count": 18,
   "metadata": {},
   "outputs": [],
   "source": [
    "from tensorflow.keras import Sequential\n",
    "from tensorflow.keras.layers import Dense, LSTM, Dropout\n"
   ]
  },
  {
   "cell_type": "markdown",
   "metadata": {},
   "source": [
    "Tip #1) LSTM에다가 LSTM을 한 번 더 사용하려면 앞의 LSTM에는 return_seqeucens=True를 해주셔야 합니다.\n",
    "\n",
    "Tip #2) units의 값은 사용자가 임의로 정해주는 LSTM의 용량으로 정답은 없습니다.\n",
    "\n",
    "Tip #3) Dropout은 학습을 더 잘하게 하기 위한 일종의 선택적인 장치로 이 안의 값은 0과 1사이의 값을 넣어주면 되며 이 값 또한 정답은 없습니다."
   ]
  },
  {
   "cell_type": "code",
   "execution_count": 19,
   "metadata": {},
   "outputs": [
    {
     "name": "stdout",
     "output_type": "stream",
     "text": [
      "Model: \"sequential\"\n",
      "_________________________________________________________________\n",
      " Layer (type)                Output Shape              Param #   \n",
      "=================================================================\n",
      " lstm (LSTM)                 (None, 10, 20)            2000      \n",
      "                                                                 \n",
      " dropout (Dropout)           (None, 10, 20)            0         \n",
      "                                                                 \n",
      " lstm_1 (LSTM)               (None, 20)                3280      \n",
      "                                                                 \n",
      " dropout_1 (Dropout)         (None, 20)                0         \n",
      "                                                                 \n",
      " dense (Dense)               (None, 1)                 21        \n",
      "                                                                 \n",
      "=================================================================\n",
      "Total params: 5301 (20.71 KB)\n",
      "Trainable params: 5301 (20.71 KB)\n",
      "Non-trainable params: 0 (0.00 Byte)\n",
      "_________________________________________________________________\n"
     ]
    }
   ],
   "source": [
    "model = Sequential()\n",
    "model.add(LSTM(units=20, activation='relu', return_sequences=True, input_shape=(10, 4)))\n",
    "model.add(Dropout(0.1))\n",
    "model.add(LSTM(units=20, activation='relu'))\n",
    "model.add(Dropout(0.1))\n",
    "model.add(Dense(units=1))\n",
    "model.summary()\n"
   ]
  },
  {
   "cell_type": "code",
   "execution_count": 24,
   "metadata": {},
   "outputs": [
    {
     "name": "stdout",
     "output_type": "stream",
     "text": [
      "Epoch 1/70\n",
      "10/10 [==============================] - 2s 5ms/step - loss: 0.0020\n",
      "Epoch 2/70\n",
      "10/10 [==============================] - 0s 4ms/step - loss: 0.0022\n",
      "Epoch 3/70\n",
      "10/10 [==============================] - 0s 4ms/step - loss: 0.0020\n",
      "Epoch 4/70\n",
      "10/10 [==============================] - 0s 4ms/step - loss: 0.0023\n",
      "Epoch 5/70\n",
      "10/10 [==============================] - 0s 4ms/step - loss: 0.0023\n",
      "Epoch 6/70\n",
      "10/10 [==============================] - 0s 4ms/step - loss: 0.0021\n",
      "Epoch 7/70\n",
      "10/10 [==============================] - 0s 4ms/step - loss: 0.0022\n",
      "Epoch 8/70\n",
      "10/10 [==============================] - 0s 4ms/step - loss: 0.0020\n",
      "Epoch 9/70\n",
      "10/10 [==============================] - 0s 4ms/step - loss: 0.0020\n",
      "Epoch 10/70\n",
      "10/10 [==============================] - 0s 4ms/step - loss: 0.0021\n",
      "Epoch 11/70\n",
      "10/10 [==============================] - 0s 4ms/step - loss: 0.0024\n",
      "Epoch 12/70\n",
      "10/10 [==============================] - 0s 4ms/step - loss: 0.0022\n",
      "Epoch 13/70\n",
      "10/10 [==============================] - 0s 4ms/step - loss: 0.0021\n",
      "Epoch 14/70\n",
      "10/10 [==============================] - 0s 4ms/step - loss: 0.0019\n",
      "Epoch 15/70\n",
      "10/10 [==============================] - 0s 4ms/step - loss: 0.0022\n",
      "Epoch 16/70\n",
      "10/10 [==============================] - 0s 4ms/step - loss: 0.0021\n",
      "Epoch 17/70\n",
      "10/10 [==============================] - 0s 4ms/step - loss: 0.0020\n",
      "Epoch 18/70\n",
      "10/10 [==============================] - 0s 4ms/step - loss: 0.0020\n",
      "Epoch 19/70\n",
      "10/10 [==============================] - 0s 4ms/step - loss: 0.0022\n",
      "Epoch 20/70\n",
      "10/10 [==============================] - 0s 5ms/step - loss: 0.0021\n",
      "Epoch 21/70\n",
      "10/10 [==============================] - 0s 4ms/step - loss: 0.0022\n",
      "Epoch 22/70\n",
      "10/10 [==============================] - 0s 4ms/step - loss: 0.0022\n",
      "Epoch 23/70\n",
      "10/10 [==============================] - 0s 4ms/step - loss: 0.0017\n",
      "Epoch 24/70\n",
      "10/10 [==============================] - 0s 4ms/step - loss: 0.0019\n",
      "Epoch 25/70\n",
      "10/10 [==============================] - 0s 4ms/step - loss: 0.0019\n",
      "Epoch 26/70\n",
      "10/10 [==============================] - 0s 4ms/step - loss: 0.0018\n",
      "Epoch 27/70\n",
      "10/10 [==============================] - 0s 4ms/step - loss: 0.0019\n",
      "Epoch 28/70\n",
      "10/10 [==============================] - 0s 4ms/step - loss: 0.0019\n",
      "Epoch 29/70\n",
      "10/10 [==============================] - 0s 4ms/step - loss: 0.0018\n",
      "Epoch 30/70\n",
      "10/10 [==============================] - 0s 4ms/step - loss: 0.0021\n",
      "Epoch 31/70\n",
      "10/10 [==============================] - 0s 5ms/step - loss: 0.0018\n",
      "Epoch 32/70\n",
      "10/10 [==============================] - 0s 5ms/step - loss: 0.0018\n",
      "Epoch 33/70\n",
      "10/10 [==============================] - 0s 4ms/step - loss: 0.0018\n",
      "Epoch 34/70\n",
      "10/10 [==============================] - 0s 4ms/step - loss: 0.0019\n",
      "Epoch 35/70\n",
      "10/10 [==============================] - 0s 4ms/step - loss: 0.0017\n",
      "Epoch 36/70\n",
      "10/10 [==============================] - 0s 4ms/step - loss: 0.0020\n",
      "Epoch 37/70\n",
      "10/10 [==============================] - 0s 4ms/step - loss: 0.0019\n",
      "Epoch 38/70\n",
      "10/10 [==============================] - 0s 5ms/step - loss: 0.0018\n",
      "Epoch 39/70\n",
      "10/10 [==============================] - 0s 4ms/step - loss: 0.0018\n",
      "Epoch 40/70\n",
      "10/10 [==============================] - 0s 4ms/step - loss: 0.0016\n",
      "Epoch 41/70\n",
      "10/10 [==============================] - 0s 4ms/step - loss: 0.0018\n",
      "Epoch 42/70\n",
      "10/10 [==============================] - 0s 4ms/step - loss: 0.0020\n",
      "Epoch 43/70\n",
      "10/10 [==============================] - 0s 5ms/step - loss: 0.0020\n",
      "Epoch 44/70\n",
      "10/10 [==============================] - 0s 6ms/step - loss: 0.0019\n",
      "Epoch 45/70\n",
      "10/10 [==============================] - 0s 4ms/step - loss: 0.0017\n",
      "Epoch 46/70\n",
      "10/10 [==============================] - 0s 4ms/step - loss: 0.0017\n",
      "Epoch 47/70\n",
      "10/10 [==============================] - 0s 4ms/step - loss: 0.0017\n",
      "Epoch 48/70\n",
      "10/10 [==============================] - 0s 4ms/step - loss: 0.0018\n",
      "Epoch 49/70\n",
      "10/10 [==============================] - 0s 4ms/step - loss: 0.0018\n",
      "Epoch 50/70\n",
      "10/10 [==============================] - 0s 4ms/step - loss: 0.0019\n",
      "Epoch 51/70\n",
      "10/10 [==============================] - 0s 3ms/step - loss: 0.0017\n",
      "Epoch 52/70\n",
      "10/10 [==============================] - 0s 4ms/step - loss: 0.0018\n",
      "Epoch 53/70\n",
      "10/10 [==============================] - 0s 4ms/step - loss: 0.0018\n",
      "Epoch 54/70\n",
      "10/10 [==============================] - 0s 4ms/step - loss: 0.0018\n",
      "Epoch 55/70\n",
      "10/10 [==============================] - 0s 4ms/step - loss: 0.0017\n",
      "Epoch 56/70\n",
      "10/10 [==============================] - 0s 4ms/step - loss: 0.0018\n",
      "Epoch 57/70\n",
      "10/10 [==============================] - 0s 3ms/step - loss: 0.0017\n",
      "Epoch 58/70\n",
      "10/10 [==============================] - 0s 3ms/step - loss: 0.0018\n",
      "Epoch 59/70\n",
      "10/10 [==============================] - 0s 3ms/step - loss: 0.0017\n",
      "Epoch 60/70\n",
      "10/10 [==============================] - 0s 4ms/step - loss: 0.0017\n",
      "Epoch 61/70\n",
      "10/10 [==============================] - 0s 3ms/step - loss: 0.0016\n",
      "Epoch 62/70\n",
      "10/10 [==============================] - 0s 4ms/step - loss: 0.0018\n",
      "Epoch 63/70\n",
      "10/10 [==============================] - 0s 4ms/step - loss: 0.0016\n",
      "Epoch 64/70\n",
      "10/10 [==============================] - 0s 4ms/step - loss: 0.0016\n",
      "Epoch 65/70\n",
      "10/10 [==============================] - 0s 4ms/step - loss: 0.0018\n",
      "Epoch 66/70\n",
      "10/10 [==============================] - 0s 4ms/step - loss: 0.0015\n",
      "Epoch 67/70\n",
      "10/10 [==============================] - 0s 4ms/step - loss: 0.0018\n",
      "Epoch 68/70\n",
      "10/10 [==============================] - 0s 4ms/step - loss: 0.0017\n",
      "Epoch 69/70\n",
      "10/10 [==============================] - 0s 4ms/step - loss: 0.0017\n",
      "Epoch 70/70\n",
      "10/10 [==============================] - 0s 4ms/step - loss: 0.0016\n",
      "4/4 [==============================] - 0s 2ms/step\n"
     ]
    }
   ],
   "source": [
    "model.compile(optimizer='adam', loss='mean_squared_error')\n",
    "model.fit(train_X, train_y, epochs=70, batch_size=30)\n",
    "pred_y = model.predict(test_X)\n"
   ]
  },
  {
   "cell_type": "code",
   "execution_count": 25,
   "metadata": {},
   "outputs": [
    {
     "name": "stdout",
     "output_type": "stream",
     "text": [
      "4/4 [==============================] - 0s 2ms/step\n"
     ]
    },
    {
     "data": {
      "image/png": "[encoded data removed]",
      "text/plain": [
       "<Figure size 640x480 with 1 Axes>"
      ]
     },
     "metadata": {},
     "output_type": "display_data"
    },
    {
     "name": "stdout",
     "output_type": "stream",
     "text": [
      "내일 SEC 주가 : [77143.555] KRW\n"
     ]
    }
   ],
   "source": [
    "pred_y = model.predict(test_X)\n",
    "\n",
    "plt.figure()\n",
    "plt.plot(test_y, color='red', label='real SEC stock price')\n",
    "plt.plot(pred_y, color='blue', label='predicted SEC stock price')\n",
    "plt.title('SEC stock price prediction')\n",
    "plt.xlabel('time')\n",
    "plt.ylabel('stock price')\n",
    "plt.legend()\n",
    "plt.show()\n",
    "\n",
    "print(\"내일 SEC 주가 :\", df.Close[-1] * pred_y[-1] / dfy.Close[-1], 'KRW')\n"
   ]
  },
  {
   "cell_type": "code",
   "execution_count": null,
   "metadata": {},
   "outputs": [],
   "source": []
  }
 ],
 "metadata": {
  "kernelspec": {
   "display_name": "tensor2",
   "language": "python",
   "name": "python3"
  },
  "language_info": {
   "codemirror_mode": {
    "name": "ipython",
    "version": 3
   },
   "file_extension": ".py",
   "mimetype": "text/x-python",
   "name": "python",
   "nbconvert_exporter": "python",
   "pygments_lexer": "ipython3",
   "version": "3.8.18"
  }
 },
 "nbformat": 4,
 "nbformat_minor": 2
}
