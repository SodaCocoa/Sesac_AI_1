{
 "cells": [
  {
   "cell_type": "code",
   "execution_count": 1,
   "metadata": {},
   "outputs": [
    {
     "data": {
      "text/plain": [
       "((1599, 11), (1599,))"
      ]
     },
     "execution_count": 1,
     "metadata": {},
     "output_type": "execute_result"
    }
   ],
   "source": [
    "import pickle\n",
    "\n",
    "# xTrain.pkl 파일 로드\n",
    "with open(r'C:\\Users\\bluecom011\\Desktop\\module_2\\wine_quality\\xTrain.pkl', 'rb') as file:\n",
    "    x = pickle.load(file)\n",
    "\n",
    "# yTrain.pkl 파일 로드\n",
    "with open(r'C:\\Users\\bluecom011\\Desktop\\module_2\\wine_quality\\yTrain.pkl', 'rb') as file:\n",
    "    y = pickle.load(file)\n",
    "\n",
    "# 데이터 형태 확인\n",
    "x.shape, y.shape"
   ]
  },
  {
   "cell_type": "code",
   "execution_count": 5,
   "metadata": {},
   "outputs": [],
   "source": [
    "x_scale=(x *2)- 1"
   ]
  },
  {
   "cell_type": "code",
   "execution_count": 6,
   "metadata": {},
   "outputs": [
    {
     "data": {
      "text/plain": [
       "array([[-0.50442478, -0.20547945, -1.        , ...,  0.21259843,\n",
       "        -0.7245509 , -0.69230769],\n",
       "       [-0.43362832,  0.04109589, -1.        , ..., -0.27559055,\n",
       "        -0.58083832, -0.56923077],\n",
       "       [-0.43362832, -0.12328767, -0.92      , ..., -0.18110236,\n",
       "        -0.61676647, -0.56923077],\n",
       "       ...,\n",
       "       [-0.69911504, -0.46575342, -0.74      , ...,  0.07086614,\n",
       "        -0.49700599, -0.2       ],\n",
       "       [-0.7699115 , -0.28082192, -0.76      , ...,  0.30708661,\n",
       "        -0.54491018, -0.44615385],\n",
       "       [-0.75221239, -0.73972603, -0.06      , ...,  0.02362205,\n",
       "        -0.60479042, -0.2       ]])"
      ]
     },
     "execution_count": 6,
     "metadata": {},
     "output_type": "execute_result"
    }
   ],
   "source": [
    "x_scale"
   ]
  },
  {
   "cell_type": "code",
   "execution_count": 8,
   "metadata": {},
   "outputs": [],
   "source": [
    "# Use to_pickle function to save X and y as pickle files\n",
    "xTrainName = r\"C:\\Users\\bluecom011\\Desktop\\module_2\\train/xTrain1.pkl\"  # Adjusted path for this environment\n",
    "\n",
    "# numpy 배열을 pickle 파일로 저장\n",
    "with open(xTrainName, 'wb') as file:\n",
    "    pickle.dump(x_scale, file)"
   ]
  }
 ],
 "metadata": {
  "kernelspec": {
   "display_name": "torch",
   "language": "python",
   "name": "python3"
  },
  "language_info": {
   "codemirror_mode": {
    "name": "ipython",
    "version": 3
   },
   "file_extension": ".py",
   "mimetype": "text/x-python",
   "name": "python",
   "nbconvert_exporter": "python",
   "pygments_lexer": "ipython3",
   "version": "3.11.7"
  }
 },
 "nbformat": 4,
 "nbformat_minor": 2
}
