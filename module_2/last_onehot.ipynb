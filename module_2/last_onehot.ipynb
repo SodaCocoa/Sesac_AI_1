{
 "cells": [
  {
   "cell_type": "code",
   "execution_count": 1,
   "metadata": {},
   "outputs": [],
   "source": [
    "import numpy as np\n",
    "import os\n",
    "import math\n",
    "import pickle\n",
    "import torch\n",
    "pathFolder = \"../module_2/wine_quality/\"\n",
    "os.makedirs(pathFolder,exist_ok=True)\n",
    "xTrainName = \"xTrain1.pkl\"\n",
    "yTrainName = \"yTrain_onehot.pkl\"\n",
    "\n",
    "with open(pathFolder+xTrainName,'rb') as f1:\n",
    "    X = pickle.load(f1)\n",
    "\n",
    "with open(pathFolder+yTrainName,'rb') as f2:\n",
    "    y = pickle.load(f2)"
   ]
  },
  {
   "cell_type": "code",
   "execution_count": 2,
   "metadata": {},
   "outputs": [
    {
     "data": {
      "text/plain": [
       "array([[-0.50442478, -0.20547945, -1.        , ...,  0.21259843,\n",
       "        -0.7245509 , -0.69230769],\n",
       "       [-0.43362832,  0.04109589, -1.        , ..., -0.27559055,\n",
       "        -0.58083832, -0.56923077],\n",
       "       [-0.43362832, -0.12328767, -0.92      , ..., -0.18110236,\n",
       "        -0.61676647, -0.56923077],\n",
       "       ...,\n",
       "       [-0.69911504, -0.46575342, -0.74      , ...,  0.07086614,\n",
       "        -0.49700599, -0.2       ],\n",
       "       [-0.7699115 , -0.28082192, -0.76      , ...,  0.30708661,\n",
       "        -0.54491018, -0.44615385],\n",
       "       [-0.75221239, -0.73972603, -0.06      , ...,  0.02362205,\n",
       "        -0.60479042, -0.2       ]])"
      ]
     },
     "execution_count": 2,
     "metadata": {},
     "output_type": "execute_result"
    }
   ],
   "source": [
    "X"
   ]
  },
  {
   "cell_type": "code",
   "execution_count": 12,
   "metadata": {},
   "outputs": [
    {
     "data": {
      "text/html": [
       "<div>\n",
       "<style scoped>\n",
       "    .dataframe tbody tr th:only-of-type {\n",
       "        vertical-align: middle;\n",
       "    }\n",
       "\n",
       "    .dataframe tbody tr th {\n",
       "        vertical-align: top;\n",
       "    }\n",
       "\n",
       "    .dataframe thead th {\n",
       "        text-align: right;\n",
       "    }\n",
       "</style>\n",
       "<table border=\"1\" class=\"dataframe\">\n",
       "  <thead>\n",
       "    <tr style=\"text-align: right;\">\n",
       "      <th></th>\n",
       "      <th>0</th>\n",
       "      <th>1</th>\n",
       "    </tr>\n",
       "  </thead>\n",
       "  <tbody>\n",
       "    <tr>\n",
       "      <th>0</th>\n",
       "      <td>True</td>\n",
       "      <td>False</td>\n",
       "    </tr>\n",
       "    <tr>\n",
       "      <th>1</th>\n",
       "      <td>True</td>\n",
       "      <td>False</td>\n",
       "    </tr>\n",
       "    <tr>\n",
       "      <th>2</th>\n",
       "      <td>True</td>\n",
       "      <td>False</td>\n",
       "    </tr>\n",
       "    <tr>\n",
       "      <th>3</th>\n",
       "      <td>False</td>\n",
       "      <td>True</td>\n",
       "    </tr>\n",
       "    <tr>\n",
       "      <th>4</th>\n",
       "      <td>True</td>\n",
       "      <td>False</td>\n",
       "    </tr>\n",
       "    <tr>\n",
       "      <th>...</th>\n",
       "      <td>...</td>\n",
       "      <td>...</td>\n",
       "    </tr>\n",
       "    <tr>\n",
       "      <th>1594</th>\n",
       "      <td>True</td>\n",
       "      <td>False</td>\n",
       "    </tr>\n",
       "    <tr>\n",
       "      <th>1595</th>\n",
       "      <td>False</td>\n",
       "      <td>True</td>\n",
       "    </tr>\n",
       "    <tr>\n",
       "      <th>1596</th>\n",
       "      <td>False</td>\n",
       "      <td>True</td>\n",
       "    </tr>\n",
       "    <tr>\n",
       "      <th>1597</th>\n",
       "      <td>True</td>\n",
       "      <td>False</td>\n",
       "    </tr>\n",
       "    <tr>\n",
       "      <th>1598</th>\n",
       "      <td>False</td>\n",
       "      <td>True</td>\n",
       "    </tr>\n",
       "  </tbody>\n",
       "</table>\n",
       "<p>1599 rows × 2 columns</p>\n",
       "</div>"
      ],
      "text/plain": [
       "          0      1\n",
       "0      True  False\n",
       "1      True  False\n",
       "2      True  False\n",
       "3     False   True\n",
       "4      True  False\n",
       "...     ...    ...\n",
       "1594   True  False\n",
       "1595  False   True\n",
       "1596  False   True\n",
       "1597   True  False\n",
       "1598  False   True\n",
       "\n",
       "[1599 rows x 2 columns]"
      ]
     },
     "execution_count": 12,
     "metadata": {},
     "output_type": "execute_result"
    }
   ],
   "source": [
    "y"
   ]
  },
  {
   "cell_type": "code",
   "execution_count": 14,
   "metadata": {},
   "outputs": [
    {
     "data": {
      "text/html": [
       "<div>\n",
       "<style scoped>\n",
       "    .dataframe tbody tr th:only-of-type {\n",
       "        vertical-align: middle;\n",
       "    }\n",
       "\n",
       "    .dataframe tbody tr th {\n",
       "        vertical-align: top;\n",
       "    }\n",
       "\n",
       "    .dataframe thead th {\n",
       "        text-align: right;\n",
       "    }\n",
       "</style>\n",
       "<table border=\"1\" class=\"dataframe\">\n",
       "  <thead>\n",
       "    <tr style=\"text-align: right;\">\n",
       "      <th></th>\n",
       "      <th>0</th>\n",
       "      <th>1</th>\n",
       "    </tr>\n",
       "  </thead>\n",
       "  <tbody>\n",
       "    <tr>\n",
       "      <th>0</th>\n",
       "      <td>1</td>\n",
       "      <td>0</td>\n",
       "    </tr>\n",
       "    <tr>\n",
       "      <th>1</th>\n",
       "      <td>1</td>\n",
       "      <td>0</td>\n",
       "    </tr>\n",
       "    <tr>\n",
       "      <th>2</th>\n",
       "      <td>1</td>\n",
       "      <td>0</td>\n",
       "    </tr>\n",
       "    <tr>\n",
       "      <th>3</th>\n",
       "      <td>0</td>\n",
       "      <td>1</td>\n",
       "    </tr>\n",
       "    <tr>\n",
       "      <th>4</th>\n",
       "      <td>1</td>\n",
       "      <td>0</td>\n",
       "    </tr>\n",
       "    <tr>\n",
       "      <th>...</th>\n",
       "      <td>...</td>\n",
       "      <td>...</td>\n",
       "    </tr>\n",
       "    <tr>\n",
       "      <th>1594</th>\n",
       "      <td>1</td>\n",
       "      <td>0</td>\n",
       "    </tr>\n",
       "    <tr>\n",
       "      <th>1595</th>\n",
       "      <td>0</td>\n",
       "      <td>1</td>\n",
       "    </tr>\n",
       "    <tr>\n",
       "      <th>1596</th>\n",
       "      <td>0</td>\n",
       "      <td>1</td>\n",
       "    </tr>\n",
       "    <tr>\n",
       "      <th>1597</th>\n",
       "      <td>1</td>\n",
       "      <td>0</td>\n",
       "    </tr>\n",
       "    <tr>\n",
       "      <th>1598</th>\n",
       "      <td>0</td>\n",
       "      <td>1</td>\n",
       "    </tr>\n",
       "  </tbody>\n",
       "</table>\n",
       "<p>1599 rows × 2 columns</p>\n",
       "</div>"
      ],
      "text/plain": [
       "      0  1\n",
       "0     1  0\n",
       "1     1  0\n",
       "2     1  0\n",
       "3     0  1\n",
       "4     1  0\n",
       "...  .. ..\n",
       "1594  1  0\n",
       "1595  0  1\n",
       "1596  0  1\n",
       "1597  1  0\n",
       "1598  0  1\n",
       "\n",
       "[1599 rows x 2 columns]"
      ]
     },
     "execution_count": 14,
     "metadata": {},
     "output_type": "execute_result"
    }
   ],
   "source": [
    "# Convert True/False to 1/0\n",
    "y_train_onehot_converted = y.astype(int)\n",
    "y_train_onehot_converted"
   ]
  },
  {
   "cell_type": "code",
   "execution_count": 16,
   "metadata": {},
   "outputs": [
    {
     "data": {
      "text/plain": [
       "'./data/yTrain_onehot.pkl'"
      ]
     },
     "execution_count": 16,
     "metadata": {},
     "output_type": "execute_result"
    }
   ],
   "source": [
    "# Convert True/False to 1/0\n",
    "y_train_onehot_converted = y.astype(int)\n",
    "\n",
    "# Save the converted DataFrame back to a file\n",
    "converted_file_path = \"./data/yTrain_onehot.pkl\"\n",
    "y_train_onehot_converted.to_pickle(converted_file_path)\n",
    "\n",
    "converted_file_path\n"
   ]
  },
  {
   "cell_type": "code",
   "execution_count": 17,
   "metadata": {},
   "outputs": [
    {
     "data": {
      "text/plain": [
       "pandas.core.frame.DataFrame"
      ]
     },
     "execution_count": 17,
     "metadata": {},
     "output_type": "execute_result"
    }
   ],
   "source": [
    "type(y_train_onehot_converted)"
   ]
  },
  {
   "cell_type": "code",
   "execution_count": 23,
   "metadata": {},
   "outputs": [],
   "source": [
    "y_onehot1 = y_train_onehot_converted.to_numpy()"
   ]
  },
  {
   "cell_type": "code",
   "execution_count": 24,
   "metadata": {},
   "outputs": [
    {
     "data": {
      "text/plain": [
       "numpy.ndarray"
      ]
     },
     "execution_count": 24,
     "metadata": {},
     "output_type": "execute_result"
    }
   ],
   "source": [
    "type(y_onehot1)"
   ]
  },
  {
   "cell_type": "code",
   "execution_count": 26,
   "metadata": {},
   "outputs": [],
   "source": [
    "import pickle\n",
    "\n",
    "# 파일 저장 경로\n",
    "file_path = r\".\\data\\yTrain_onehot.pkl\"\n",
    "\n",
    "# 배열을 pickle 파일 형식으로 저장\n",
    "with open(file_path, 'wb') as f:\n",
    "    pickle.dump(y_onehot1, f)\n"
   ]
  },
  {
   "cell_type": "code",
   "execution_count": 5,
   "metadata": {},
   "outputs": [
    {
     "data": {
      "text/plain": [
       "(   column_0  column_1  column_2  column_3  column_4  column_5  column_6  \\\n",
       " 0 -0.504425 -0.205479     -1.00 -0.863014 -0.786311 -0.718310 -0.802120   \n",
       " 1 -0.433628  0.041096     -1.00 -0.767123 -0.712855 -0.323944 -0.568905   \n",
       " 2 -0.433628 -0.123288     -0.92 -0.808219 -0.732888 -0.605634 -0.660777   \n",
       " 3  0.168142 -0.780822      0.12 -0.863014 -0.789649 -0.549296 -0.618375   \n",
       " 4 -0.504425 -0.205479     -1.00 -0.863014 -0.786311 -0.718310 -0.802120   \n",
       " \n",
       "    column_7  column_8  column_9  column_10  \n",
       " 0  0.135095  0.212598 -0.724551  -0.692308  \n",
       " 1 -0.011747 -0.275591 -0.580838  -0.569231  \n",
       " 2  0.017621 -0.181102 -0.616766  -0.569231  \n",
       " 3  0.164464 -0.338583 -0.700599  -0.569231  \n",
       " 4  0.135095  0.212598 -0.724551  -0.692308  ,\n",
       " 0    0\n",
       " 1    0\n",
       " 2    0\n",
       " 3    1\n",
       " 4    0\n",
       " dtype: int32)"
      ]
     },
     "execution_count": 5,
     "metadata": {},
     "output_type": "execute_result"
    }
   ],
   "source": [
    "import pandas as pd\n",
    "# Convert xTrain to a DataFrame with generic column names\n",
    "columns = [f\"column_{i}\" for i in range(X.shape[1])]\n",
    "xTrain_df = pd.DataFrame(X, columns=columns)\n",
    "\n",
    "# Since yTrain is a target array, it doesn't need column names for one-hot encoding\n",
    "yTrain_series = pd.Series(y)\n",
    "\n",
    "# Display the first few rows of the DataFrame to proceed with identifying the data types\n",
    "xTrain_df.head(), yTrain_series.head()\n"
   ]
  },
  {
   "cell_type": "code",
   "execution_count": 6,
   "metadata": {},
   "outputs": [
    {
     "data": {
      "text/plain": [
       "array([[0.4],\n",
       "       [0.4],\n",
       "       [0.4],\n",
       "       ...,\n",
       "       [0.6],\n",
       "       [0.4],\n",
       "       [0.6]])"
      ]
     },
     "execution_count": 6,
     "metadata": {},
     "output_type": "execute_result"
    }
   ],
   "source": [
    "y"
   ]
  },
  {
   "cell_type": "code",
   "execution_count": 5,
   "metadata": {},
   "outputs": [
    {
     "data": {
      "text/plain": [
       "numpy.ndarray"
      ]
     },
     "execution_count": 5,
     "metadata": {},
     "output_type": "execute_result"
    }
   ],
   "source": [
    "type(y)"
   ]
  },
  {
   "cell_type": "code",
   "execution_count": 6,
   "metadata": {},
   "outputs": [
    {
     "data": {
      "text/plain": [
       "([],\n",
       " column_0      96\n",
       " column_1     143\n",
       " column_2      80\n",
       " column_3      91\n",
       " column_4     153\n",
       " column_5      60\n",
       " column_6     144\n",
       " column_7     436\n",
       " column_8      89\n",
       " column_9      96\n",
       " column_10     65\n",
       " dtype: int64)"
      ]
     },
     "execution_count": 6,
     "metadata": {},
     "output_type": "execute_result"
    }
   ],
   "source": [
    "# Identify columns with 10 or fewer unique values\n",
    "unique_counts = xTrain_df.nunique()\n",
    "categorical_columns = unique_counts[unique_counts <= 10].index.tolist()\n",
    "\n",
    "# Since the dataset is already in a numerical format, check if there are any columns identified as categorical\n",
    "categorical_columns, unique_counts\n"
   ]
  },
  {
   "cell_type": "code",
   "execution_count": 8,
   "metadata": {},
   "outputs": [
    {
     "data": {
      "text/plain": [
       "('C:\\\\Users\\\\bluecom011\\\\Desktop\\\\Sesac_AI\\\\module_2\\\\wine_quality/yTrain_onehot.pkl',\n",
       "        0      1\n",
       " 0   True  False\n",
       " 1   True  False\n",
       " 2   True  False\n",
       " 3  False   True\n",
       " 4   True  False)"
      ]
     },
     "execution_count": 8,
     "metadata": {},
     "output_type": "execute_result"
    }
   ],
   "source": [
    "# Apply one-hot encoding to yTrain\n",
    "yTrain_onehot = pd.get_dummies(yTrain_series)\n",
    "\n",
    "# Save the one-hot encoded yTrain to a pickle file\n",
    "yTrain_onehot_path = r\"C:\\Users\\bluecom011\\Desktop\\Sesac_AI\\module_2\\wine_quality/yTrain_onehot.pkl\"\n",
    "yTrain_onehot.to_pickle(yTrain_onehot_path)\n",
    "\n",
    "yTrain_onehot_path, yTrain_onehot.head()\n"
   ]
  },
  {
   "cell_type": "code",
   "execution_count": null,
   "metadata": {},
   "outputs": [],
   "source": []
  }
 ],
 "metadata": {
  "kernelspec": {
   "display_name": "torch",
   "language": "python",
   "name": "python3"
  },
  "language_info": {
   "codemirror_mode": {
    "name": "ipython",
    "version": 3
   },
   "file_extension": ".py",
   "mimetype": "text/x-python",
   "name": "python",
   "nbconvert_exporter": "python",
   "pygments_lexer": "ipython3",
   "version": "3.11.7"
  }
 },
 "nbformat": 4,
 "nbformat_minor": 2
}
