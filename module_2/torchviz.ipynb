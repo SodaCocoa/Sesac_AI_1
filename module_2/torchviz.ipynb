{
 "cells": [
  {
   "cell_type": "code",
   "execution_count": 43,
   "metadata": {},
   "outputs": [],
   "source": [
    "#hyukjoo_NN.py\n",
    "import numpy as np\n",
    "import os\n",
    "import pickle\n",
    "import torch\n",
    "from torch import nn\n",
    "from torch.utils.data import Dataset, DataLoader\n",
    "import torch.optim as optim\n",
    "from sklearn.model_selection import train_test_split\n",
    "from tqdm import tqdm\n",
    "\n",
    "class CustomDataset(Dataset):\n",
    "    def __init__(self, data, labels):\n",
    "        \"\"\"데이터셋 초기화 함수.\"\"\"\n",
    "        self.data = data\n",
    "        self.labels = labels\n",
    "\n",
    "    def __len__(self):\n",
    "        \"\"\"데이터셋의 길이(데이터의 총 개수)를 반환.\"\"\"\n",
    "        return len(self.data)\n",
    "\n",
    "    def __getitem__(self, idx):\n",
    "        \"\"\"주어진 인덱스 idx에 해당하는 데이터를 반환.\"\"\"\n",
    "        data = self.data[idx]\n",
    "        data = torch.tensor(data, dtype=torch.float32).unsqueeze(0)\n",
    "        labels = torch.tensor(self.labels[idx], dtype=torch.float32)\n",
    "        return data, labels\n",
    "\n",
    "class FCNet(nn.Module):\n",
    "    def __init__(self, input_features):\n",
    "        \"\"\"모델 초기화 함수.\"\"\"\n",
    "        super(FCNet, self).__init__()\n",
    "        self.fc1 = nn.Linear(input_features, 128)  # 첫 번째 풀리 커넥티드(완전 연결) 레이어\n",
    "        self.fc2 = nn.Linear(128, 64)  # 두 번째 풀리 커넥티드 레이어\n",
    "        self.fc3 = nn.Linear(64, 2)  # 세 번째 풀리 커넥티드 레이어, 이진 분류를 가정\n",
    "\n",
    "    def forward(self, x):\n",
    "        \"\"\"모델의 순방향 패스를 정의.\"\"\"\n",
    "        x = x.view(x.size(0), -1)  # 입력을 펼침\n",
    "        x = torch.relu(self.fc1(x))  # 첫 번째 레이어 후 ReLU 활성화 함수 적용\n",
    "        x = torch.relu(self.fc2(x))  # 두 번째 레이어 후 ReLU 활성화 함수 적용\n",
    "        x = self.fc3(x)  # 세 번째 레이어의 출력\n",
    "        return x"
   ]
  },
  {
   "cell_type": "code",
   "execution_count": 29,
   "metadata": {},
   "outputs": [],
   "source": [
    "import numpy as np\n",
    "import torch\n",
    "import torch.nn as nn\n",
    "\n",
    "import pandas as pd\n",
    "from sklearn.model_selection import train_test_split\n",
    "import os\n",
    "import pickle\n",
    "\n",
    "import torch.nn.functional as F\n",
    "class ConvNetClassifier(nn.Module):\n",
    "    def __init__(self, num_classes):\n",
    "        super(ConvNetClassifier, self).__init__()\n",
    "        self.conv1 = nn.Conv2d(3, 32, kernel_size=3, padding=1)\n",
    "        self.conv2 = nn.Conv2d(32, 64, kernel_size=3, padding=1)\n",
    "        self.fc1 = nn.Linear(\n",
    "            64 * 8 * 8, 512\n",
    "        )  # 이미지 크기가 32x32이므로 최종 feature map 크기는 8x8입니다.\n",
    "        self.fc2 = nn.Linear(512, num_classes)\n",
    "\n",
    "    def forward(self, x):\n",
    "        x = F.relu(self.conv1(x))\n",
    "        x = F.max_pool2d(x, kernel_size=2, stride=2)\n",
    "        x = F.relu(self.conv2(x))\n",
    "        x = F.max_pool2d(x, kernel_size=2, stride=2)\n",
    "        x = x.view(x.size(0), -1)  # Flatten the feature maps\n",
    "        x = F.relu(self.fc1(x))\n",
    "        x = self.fc2(x)\n",
    "        return x"
   ]
  },
  {
   "cell_type": "code",
   "execution_count": 42,
   "metadata": {},
   "outputs": [
    {
     "data": {
      "text/plain": [
       "'model_visualization_sewoong.png'"
      ]
     },
     "execution_count": 42,
     "metadata": {},
     "output_type": "execute_result"
    }
   ],
   "source": [
    "# hyukjoo\n",
    "import torch\n",
    "import torch.nn as nn\n",
    "import torch.nn.functional as F\n",
    "from torchviz import make_dot\n",
    "\n",
    "num_classes = 10\n",
    "model = ConvNetClassifier(num_classes=num_classes)\n",
    "\n",
    "input_images = torch.randn(16, 3, 32, 32)  # Batch size of 16\n",
    "output = model(input_images)\n",
    "\n",
    "vis_graph = make_dot(model(input_images), params=dict(model.named_parameters()))\n",
    "vis_graph.render('model_visualization_sewoong', format='png', directory='./')  # This saves the visualization as a PNG image"
   ]
  },
  {
   "cell_type": "code",
   "execution_count": 44,
   "metadata": {},
   "outputs": [
    {
     "data": {
      "text/plain": [
       "'model_visualization_cha.png'"
      ]
     },
     "execution_count": 44,
     "metadata": {},
     "output_type": "execute_result"
    }
   ],
   "source": [
    "# hyukjoo\n",
    "import torch\n",
    "import torch.nn as nn\n",
    "import torch.nn.functional as F\n",
    "from torchviz import make_dot\n",
    "\n",
    "model = FCNet(input_features=1)\n",
    "dummy_input = torch.randn(128)  # Adjust the dimensions according to your model's requirements\n",
    "\n",
    "vis_graph = make_dot(model(dummy_input), params=dict(model.named_parameters()))\n",
    "vis_graph.render('model_visualization_cha', format='png', directory='./')  # This saves the visualization as a PNG image"
   ]
  },
  {
   "cell_type": "code",
   "execution_count": 1,
   "metadata": {},
   "outputs": [
    {
     "data": {
      "text/plain": [
       "'model_visualization.png'"
      ]
     },
     "execution_count": 1,
     "metadata": {},
     "output_type": "execute_result"
    }
   ],
   "source": [
    "import torch\n",
    "import torch.nn as nn\n",
    "import torch.nn.functional as F\n",
    "from torchviz import make_dot\n",
    "\n",
    "class betterWineCNN(nn.Module):\n",
    "    def __init__(self):\n",
    "        super(betterWineCNN, self).__init__()\n",
    "        self.conv1 = nn.Conv1d(in_channels=11, out_channels=64, kernel_size=1)\n",
    "        self.bn1 = nn.BatchNorm1d(num_features=64)\n",
    "        self.conv2 = nn.Conv1d(in_channels=64, out_channels=128, kernel_size=1)\n",
    "        self.bn2 = nn.BatchNorm1d(num_features=128)\n",
    "        self.pool = nn.MaxPool1d(kernel_size=1)\n",
    "        self.fc1 = nn.Linear(128, 64)\n",
    "        self.dropout1 = nn.Dropout(0.5)\n",
    "        self.fc2 = nn.Linear(64, 32)\n",
    "        self.dropout2 = nn.Dropout(0.5)\n",
    "        self.fc3 = nn.Linear(32, 2)\n",
    "\n",
    "    def forward(self, x):\n",
    "        x = F.relu(self.bn1(self.conv1(x)))\n",
    "        x = self.pool(x)\n",
    "        x = F.relu(self.bn2(self.conv2(x)))\n",
    "        x = self.pool(x)\n",
    "        x = torch.flatten(x, 1)\n",
    "        x = self.dropout1(F.relu(self.fc1(x)))\n",
    "        x = self.dropout2(F.relu(self.fc2(x)))\n",
    "        x = self.fc3(x)\n",
    "        return x\n",
    "\n",
    "model = betterWineCNN()\n",
    "dummy_input = torch.randn(2, 11, 1)  # Adjust the dimensions according to your model's requirements\n",
    "\n",
    "vis_graph = make_dot(model(dummy_input), params=dict(model.named_parameters()))\n",
    "vis_graph.render('model_visualization', format='png', directory='./')  # This saves the visualization as a PNG image\n"
   ]
  },
  {
   "cell_type": "code",
   "execution_count": 2,
   "metadata": {},
   "outputs": [],
   "source": [
    "import torch\n",
    "from torchviz import make_dot\n",
    "\n",
    "# betterWineCNN 모델 클래스 정의\n",
    "class betterWineCNN(torch.nn.Module):\n",
    "    def __init__(self):\n",
    "        super(betterWineCNN, self).__init__()\n",
    "        self.conv1 = torch.nn.Conv1d(in_channels=11, out_channels=64, kernel_size=1)\n",
    "        self.bn1 = torch.nn.BatchNorm1d(num_features=64)\n",
    "        self.conv2 = torch.nn.Conv1d(in_channels=64, out_channels=128, kernel_size=1)\n",
    "        self.bn2 = torch.nn.BatchNorm1d(num_features=128)\n",
    "        self.pool = torch.nn.MaxPool1d(kernel_size=1)\n",
    "        self.fc1 = torch.nn.Linear(128, 64)\n",
    "        self.dropout1 = torch.nn.Dropout(0.5)\n",
    "        self.fc2 = torch.nn.Linear(64, 32)\n",
    "        self.dropout2 = torch.nn.Dropout(0.5)\n",
    "        self.fc3 = torch.nn.Linear(32, 2)\n",
    "\n",
    "    def forward(self, x):\n",
    "        x = torch.nn.functional.relu(self.bn1(self.conv1(x)))\n",
    "        x = self.pool(x)\n",
    "        x = torch.nn.functional.relu(self.bn2(self.conv2(x)))\n",
    "        x = self.pool(x)\n",
    "        x = torch.flatten(x, 1)\n",
    "        x = self.dropout1(torch.nn.functional.relu(self.fc1(x)))\n",
    "        x = self.dropout2(torch.nn.functional.relu(self.fc2(x)))\n",
    "        x = self.fc3(x)\n",
    "        return x\n",
    "\n",
    "# 모델 인스턴스 생성\n",
    "model = betterWineCNN()\n",
    "\n",
    "# # 더미 입력 데이터 생성\n",
    "# dummy_input = torch.rand(10, 11, 1)  # 예: 배치 크기 10, 채널 수 11, 길이 1\n",
    "\n",
    "# # 시각화\n",
    "# vis_graph = make_dot(model(dummy_input), params=dict(model.named_parameters()))\n",
    "# vis_graph.render('model_visualization', format='png')  # PNG 이미지로 저장\n"
   ]
  }
 ],
 "metadata": {
  "kernelspec": {
   "display_name": "torch",
   "language": "python",
   "name": "python3"
  },
  "language_info": {
   "codemirror_mode": {
    "name": "ipython",
    "version": 3
   },
   "file_extension": ".py",
   "mimetype": "text/x-python",
   "name": "python",
   "nbconvert_exporter": "python",
   "pygments_lexer": "ipython3",
   "version": "3.11.7"
  }
 },
 "nbformat": 4,
 "nbformat_minor": 2
}
