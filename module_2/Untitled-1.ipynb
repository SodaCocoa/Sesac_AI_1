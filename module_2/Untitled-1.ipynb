{
 "cells": [
  {
   "cell_type": "code",
   "execution_count": 26,
   "metadata": {},
   "outputs": [
    {
     "data": {
      "text/plain": [
       "((1599, 11), (1599,))"
      ]
     },
     "execution_count": 26,
     "metadata": {},
     "output_type": "execute_result"
    }
   ],
   "source": [
    "import pickle\n",
    "\n",
    "# xTrain.pkl 파일 로드\n",
    "with open(r'C:\\Users\\bluecom011\\Desktop\\module_2\\wine_quality\\xTrain.pkl', 'rb') as file:\n",
    "    x = pickle.load(file)\n",
    "\n",
    "# yTrain.pkl 파일 로드\n",
    "with open(r'C:\\Users\\bluecom011\\Desktop\\module_2\\wine_quality\\yTrain.pkl', 'rb') as file:\n",
    "    y = pickle.load(file)\n",
    "\n",
    "# 데이터 형태 확인\n",
    "x.shape, y.shape\n"
   ]
  },
  {
   "cell_type": "code",
   "execution_count": 27,
   "metadata": {},
   "outputs": [
    {
     "data": {
      "text/plain": [
       "((1279, 11), (320, 11), (1279,), (320,))"
      ]
     },
     "execution_count": 27,
     "metadata": {},
     "output_type": "execute_result"
    }
   ],
   "source": [
    "from sklearn.model_selection import train_test_split\n",
    "\n",
    "# 훈련 세트와 테스트 세트로 분할\n",
    "x_train, x_test, y_train, y_test = train_test_split(x, y, test_size=0.2, random_state=42)\n",
    "\n",
    "x_train.shape, x_test.shape, y_train.shape, y_test.shape"
   ]
  },
  {
   "cell_type": "code",
   "execution_count": 32,
   "metadata": {},
   "outputs": [],
   "source": [
    "import torch\n",
    "import numpy as np\n",
    "from torch.utils.data import TensorDataset, DataLoader\n",
    "\n",
    "# 데이터를 PyTorch 텐서로 변환\n",
    "x_train_tensor = torch.tensor(np.tile(x_train, (1, 3))[:, :30], dtype=torch.float32)\n",
    "x_test_tensor = torch.tensor(np.tile(x_test, (1, 3))[:, :30], dtype=torch.float32)\n",
    "y_train_tensor = torch.tensor(y_train, dtype=torch.long)\n",
    "y_test_tensor = torch.tensor(y_test, dtype=torch.long)\n",
    "\n",
    "# 타일 확장을 통해 형성된 텐서 데이터를 TensorDataset에 포장\n",
    "train_dataset = TensorDataset(x_train_tensor, y_train_tensor)\n",
    "test_dataset = TensorDataset(x_test_tensor, y_test_tensor)\n",
    "\n",
    "# DataLoader 설정\n",
    "train_loader = DataLoader(dataset=train_dataset, batch_size=64, shuffle=True)\n",
    "test_loader = DataLoader(dataset=test_dataset, batch_size=64, shuffle=False)\n",
    "\n",
    "# 이후 데이터 로더를 사용하여 모델 학습 및 평가를 진행할 수 있음\n"
   ]
  },
  {
   "cell_type": "code",
   "execution_count": 29,
   "metadata": {},
   "outputs": [],
   "source": [
    "import torch\n",
    "import torchvision.transforms as transforms\n",
    "from torchvision.models import resnet18\n",
    "from torch.utils.data import DataLoader, TensorDataset\n",
    "\n",
    "# x가 원본 데이터라고 가정, X_img_like는 이미 3x10 형태로 변환된 상태\n",
    "X_img_like = X_expanded.reshape(-1, 3, 10)  # 예시 코드에서 사용된 변환\n",
    "\n",
    "# 데이터를 32x32 형태로 변환하기 위한 임시 방안: Zero-padding을 사용\n",
    "# 이를 위해 먼저 30x30 형태로 타일 확장 후, 각각의 샘플 주위에 zero-padding을 적용\n",
    "X_padded = np.pad(X_img_like.repeat(10, axis=1), ((0,0), (1,1), (0,22)), 'constant', constant_values=0)\n",
    "\n",
    "# PyTorch 텐서로 변환 (이미 3채널 데이터라고 가정)\n",
    "X_tensor = torch.tensor(X_padded, dtype=torch.float32).unsqueeze(1) # 채널 차원 추가\n",
    "\n",
    "# 채널 차원을 RGB로 복제하기\n",
    "X_tensor_rgb = X_tensor.repeat(1, 3, 1, 1)\n",
    "\n",
    "# 데이터셋과 데이터로더 준비\n",
    "dataset = TensorDataset(X_tensor_rgb)\n",
    "dataloader = DataLoader(dataset, batch_size=32)\n",
    "\n",
    "# ResNet18 모델 로드 및 평가 모드 설정\n",
    "model = resnet18(pretrained=True)\n",
    "model.eval()\n",
    "\n",
    "# 모델을 통해 데이터 전달\n",
    "for inputs in dataloader:\n",
    "    outputs = model(inputs[0])  # 수정: 채널 수 조정이 이미 되어 있으므로 추가 조정 필요 없음\n",
    "    # 출력 처리 ...\n"
   ]
  },
  {
   "cell_type": "code",
   "execution_count": 34,
   "metadata": {},
   "outputs": [
    {
     "name": "stdout",
     "output_type": "stream",
     "text": [
      "(1599, 30, 10)\n"
     ]
    }
   ],
   "source": [
    "# 올바른 타일 반복을 위한 수정\n",
    "X_img_expanded_correct = np.tile(X_img_like, (10, 1, 1))\n",
    "\n",
    "# 최종적으로 얻고자 하는 형태로 재구성\n",
    "X_final_correct = X_img_expanded_correct.reshape(-1, 30, 10)\n",
    "\n",
    "# 결과 확인\n",
    "print(X_final_correct.shape)  # 출력 예: (1599, 30, 10), 각 샘플이 30행 10열 형태의 '이미지'로 변환됨\n"
   ]
  },
  {
   "cell_type": "code",
   "execution_count": 11,
   "metadata": {},
   "outputs": [
    {
     "name": "stdout",
     "output_type": "stream",
     "text": [
      "(1599, 3, 10)\n"
     ]
    }
   ],
   "source": [
    "import numpy as np\n",
    "\n",
    "# x가 원본 데이터라고 가정합니다 (예: x_train)\n",
    "# 각 샘플을 1행 30열로 확장\n",
    "X_expanded = np.tile(x, (1, 3))[:, :30]  # 11개 특성을 3배 확장한 후 30열로 자름\n",
    "\n",
    "# 확장된 데이터를 2차원 형태로 변환 (예: 3x10 형태로 재구성)\n",
    "# 이를 위해 각 샘플을 3행 10열의 2차원 배열로 재구성\n",
    "X_img_like = X_expanded.reshape(-1, 3, 10)  # 여기서 -1은 자동으로 계산된 샘플 수를 의미\n",
    "\n",
    "# 결과 확인\n",
    "print(X_img_like.shape)  # 출력 예: (1599, 3, 10), 각 샘플이 3x10 형태의 '이미지'로 변환됨\n"
   ]
  },
  {
   "cell_type": "code",
   "execution_count": 23,
   "metadata": {},
   "outputs": [
    {
     "name": "stderr",
     "output_type": "stream",
     "text": [
      "c:\\Users\\bluecom011\\miniconda3\\envs\\torch\\Lib\\site-packages\\torchvision\\models\\_utils.py:208: UserWarning: The parameter 'pretrained' is deprecated since 0.13 and may be removed in the future, please use 'weights' instead.\n",
      "  warnings.warn(\n",
      "c:\\Users\\bluecom011\\miniconda3\\envs\\torch\\Lib\\site-packages\\torchvision\\models\\_utils.py:223: UserWarning: Arguments other than a weight enum or `None` for 'weights' are deprecated since 0.13 and may be removed in the future. The current behavior is equivalent to passing `weights=ResNet18_Weights.IMAGENET1K_V1`. You can also use `weights=ResNet18_Weights.DEFAULT` to get the most up-to-date weights.\n",
      "  warnings.warn(msg)\n"
     ]
    },
    {
     "ename": "AttributeError",
     "evalue": "'ellipsis' object has no attribute 'size'",
     "output_type": "error",
     "traceback": [
      "\u001b[1;31m---------------------------------------------------------------------------\u001b[0m",
      "\u001b[1;31mAttributeError\u001b[0m                            Traceback (most recent call last)",
      "Cell \u001b[1;32mIn[23], line 26\u001b[0m\n\u001b[0;32m     23\u001b[0m transformed_images_rgb \u001b[38;5;241m=\u001b[39m \u001b[38;5;241m.\u001b[39m\u001b[38;5;241m.\u001b[39m\u001b[38;5;241m.\u001b[39m  \u001b[38;5;66;03m# 이전 단계에서 데이터를 준비하는 코드\u001b[39;00m\n\u001b[0;32m     24\u001b[0m y_train_tensor \u001b[38;5;241m=\u001b[39m \u001b[38;5;241m.\u001b[39m\u001b[38;5;241m.\u001b[39m\u001b[38;5;241m.\u001b[39m  \u001b[38;5;66;03m# 타겟 레이블을 텐서로 변환한 코드\u001b[39;00m\n\u001b[1;32m---> 26\u001b[0m dataset \u001b[38;5;241m=\u001b[39m TensorDataset(transformed_images_rgb, y_train_tensor)\n\u001b[0;32m     27\u001b[0m train_size \u001b[38;5;241m=\u001b[39m \u001b[38;5;28mint\u001b[39m(\u001b[38;5;241m0.8\u001b[39m \u001b[38;5;241m*\u001b[39m \u001b[38;5;28mlen\u001b[39m(dataset))\n\u001b[0;32m     28\u001b[0m val_size \u001b[38;5;241m=\u001b[39m \u001b[38;5;28mlen\u001b[39m(dataset) \u001b[38;5;241m-\u001b[39m train_size\n",
      "File \u001b[1;32mc:\\Users\\bluecom011\\miniconda3\\envs\\torch\\Lib\\site-packages\\torch\\utils\\data\\dataset.py:202\u001b[0m, in \u001b[0;36mTensorDataset.__init__\u001b[1;34m(self, *tensors)\u001b[0m\n\u001b[0;32m    201\u001b[0m \u001b[38;5;28;01mdef\u001b[39;00m \u001b[38;5;21m__init__\u001b[39m(\u001b[38;5;28mself\u001b[39m, \u001b[38;5;241m*\u001b[39mtensors: Tensor) \u001b[38;5;241m-\u001b[39m\u001b[38;5;241m>\u001b[39m \u001b[38;5;28;01mNone\u001b[39;00m:\n\u001b[1;32m--> 202\u001b[0m     \u001b[38;5;28;01massert\u001b[39;00m \u001b[38;5;28mall\u001b[39m(tensors[\u001b[38;5;241m0\u001b[39m]\u001b[38;5;241m.\u001b[39msize(\u001b[38;5;241m0\u001b[39m) \u001b[38;5;241m==\u001b[39m tensor\u001b[38;5;241m.\u001b[39msize(\u001b[38;5;241m0\u001b[39m) \u001b[38;5;28;01mfor\u001b[39;00m tensor \u001b[38;5;129;01min\u001b[39;00m tensors), \u001b[38;5;124m\"\u001b[39m\u001b[38;5;124mSize mismatch between tensors\u001b[39m\u001b[38;5;124m\"\u001b[39m\n\u001b[0;32m    203\u001b[0m     \u001b[38;5;28mself\u001b[39m\u001b[38;5;241m.\u001b[39mtensors \u001b[38;5;241m=\u001b[39m tensors\n",
      "File \u001b[1;32mc:\\Users\\bluecom011\\miniconda3\\envs\\torch\\Lib\\site-packages\\torch\\utils\\data\\dataset.py:202\u001b[0m, in \u001b[0;36m<genexpr>\u001b[1;34m(.0)\u001b[0m\n\u001b[0;32m    201\u001b[0m \u001b[38;5;28;01mdef\u001b[39;00m \u001b[38;5;21m__init__\u001b[39m(\u001b[38;5;28mself\u001b[39m, \u001b[38;5;241m*\u001b[39mtensors: Tensor) \u001b[38;5;241m-\u001b[39m\u001b[38;5;241m>\u001b[39m \u001b[38;5;28;01mNone\u001b[39;00m:\n\u001b[1;32m--> 202\u001b[0m     \u001b[38;5;28;01massert\u001b[39;00m \u001b[38;5;28mall\u001b[39m(tensors[\u001b[38;5;241m0\u001b[39m]\u001b[38;5;241m.\u001b[39msize(\u001b[38;5;241m0\u001b[39m) \u001b[38;5;241m==\u001b[39m tensor\u001b[38;5;241m.\u001b[39msize(\u001b[38;5;241m0\u001b[39m) \u001b[38;5;28;01mfor\u001b[39;00m tensor \u001b[38;5;129;01min\u001b[39;00m tensors), \u001b[38;5;124m\"\u001b[39m\u001b[38;5;124mSize mismatch between tensors\u001b[39m\u001b[38;5;124m\"\u001b[39m\n\u001b[0;32m    203\u001b[0m     \u001b[38;5;28mself\u001b[39m\u001b[38;5;241m.\u001b[39mtensors \u001b[38;5;241m=\u001b[39m tensors\n",
      "\u001b[1;31mAttributeError\u001b[0m: 'ellipsis' object has no attribute 'size'"
     ]
    }
   ],
   "source": [
    "import torch\n",
    "import torch.nn as nn\n",
    "import torch.optim as optim\n",
    "from torchvision.models import resnet18\n",
    "from torch.utils.data import DataLoader, random_split, TensorDataset\n",
    "from sklearn.model_selection import train_test_split\n",
    "\n",
    "# 사전 훈련된 ResNet18 모델 로드\n",
    "base_model = resnet18(pretrained=True)\n",
    "\n",
    "# 마지막 층 교체 (이진 분류)\n",
    "num_features = base_model.fc.in_features\n",
    "base_model.fc = nn.Sequential(\n",
    "    nn.Linear(num_features, 1),\n",
    "    nn.Sigmoid()\n",
    ")\n",
    "\n",
    "# 옵티마이저 및 손실 함수 설정\n",
    "optimizer = optim.Adam(base_model.parameters(), lr=0.001)\n",
    "criterion = nn.BCELoss()\n",
    "\n",
    "# 데이터 로더 설정\n",
    "transformed_images_rgb = ...  # 이전 단계에서 데이터를 준비하는 코드\n",
    "y_train_tensor = torch.tensor(y_train, dtype=torch.long)\n",
    "\n",
    "dataset = TensorDataset(transformed_images_rgb, y_train_tensor)\n",
    "train_size = int(0.8 * len(dataset))\n",
    "val_size = len(dataset) - train_size\n",
    "train_dataset, val_dataset = random_split(dataset, [train_size, val_size])\n",
    "\n",
    "train_loader = DataLoader(train_dataset, batch_size=32, shuffle=True)\n",
    "val_loader = DataLoader(val_dataset, batch_size=32)\n",
    "\n",
    "# 모델 학습 함수 정의\n",
    "def train_model(model, criterion, optimizer, train_loader, val_loader, num_epochs=10):\n",
    "    for epoch in range(num_epochs):\n",
    "        model.train()\n",
    "        running_loss = 0.0\n",
    "        for inputs, labels in train_loader:\n",
    "            optimizer.zero_grad()\n",
    "            outputs = model(inputs)\n",
    "            loss = criterion(outputs, labels.unsqueeze(1).float())\n",
    "            loss.backward()\n",
    "            optimizer.step()\n",
    "            running_loss += loss.item()\n",
    "        \n",
    "        model.eval()\n",
    "        val_loss = 0.0\n",
    "        with torch.no_grad():\n",
    "            for inputs, labels in val_loader:\n",
    "                outputs = model(inputs)\n",
    "                loss = criterion(outputs, labels.unsqueeze(1).float())\n",
    "                val_loss += loss.item()\n",
    "\n",
    "        print(f'Epoch {epoch+1}/{num_epochs}, Train Loss: {running_loss/len(train_loader)}, Val Loss: {val_loss/len(val_loader)}')\n",
    "\n",
    "# 모델 학습\n",
    "train_model(base_model, criterion, optimizer, train_loader, val_loader)\n"
   ]
  }
 ],
 "metadata": {
  "kernelspec": {
   "display_name": "torch",
   "language": "python",
   "name": "python3"
  },
  "language_info": {
   "codemirror_mode": {
    "name": "ipython",
    "version": 3
   },
   "file_extension": ".py",
   "mimetype": "text/x-python",
   "name": "python",
   "nbconvert_exporter": "python",
   "pygments_lexer": "ipython3",
   "version": "3.11.7"
  }
 },
 "nbformat": 4,
 "nbformat_minor": 2
}
