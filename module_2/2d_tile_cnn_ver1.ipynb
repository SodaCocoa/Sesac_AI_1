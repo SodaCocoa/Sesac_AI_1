{
 "cells": [
  {
   "cell_type": "code",
   "execution_count": 11,
   "metadata": {},
   "outputs": [
    {
     "data": {
      "text/plain": [
       "array([[0.24778761, 0.39726027],\n",
       "       [0.        , 0.06849315],\n",
       "       [0.10684474, 0.14084507],\n",
       "       [0.09893993, 0.56754772],\n",
       "       [0.60629921, 0.13772455],\n",
       "       [0.15384615, 0.24778761],\n",
       "       [0.39726027, 0.        ],\n",
       "       [0.06849315, 0.10684474],\n",
       "       [0.14084507, 0.09893993],\n",
       "       [0.56754772, 0.60629921],\n",
       "       [0.13772455, 0.15384615]])"
      ]
     },
     "execution_count": 11,
     "metadata": {},
     "output_type": "execute_result"
    }
   ],
   "source": [
    "# numpy의 tile 함수를 사용하여 비정형 데이터 분석 방식으로 2차원 데이터 생성\n",
    "import numpy as np\n",
    "import pandas as pd\n",
    "reference_df = pd.read_csv(r\"C:\\Users\\bluecom011\\Desktop\\module_2\\data\\transformed_winequality-red.csv\")\n",
    "\n",
    "# 원본 데이터에서 'quality' 열을 제외한 데이터 추출\n",
    "X_original = reference_df.drop(columns=['quality']).values\n",
    "\n",
    "# tile 함수를 사용하여 2차원 데이터 생성\n",
    "X_tiled_2d = np.tile(X_original, (1, 2)).reshape(X_original.shape[0], X_original.shape[1], 2)\n",
    "\n",
    "# 결과 확인 (첫 샘플의 변환된 2차원 데이터)\n",
    "X_tiled_2d[0]\n"
   ]
  },
  {
   "cell_type": "code",
   "execution_count": 9,
   "metadata": {},
   "outputs": [
    {
     "data": {
      "text/plain": [
       "array([0, 0, 0, ..., 1, 0, 1])"
      ]
     },
     "execution_count": 9,
     "metadata": {},
     "output_type": "execute_result"
    }
   ],
   "source": [
    "import pickle\n",
    "pathFolder = \"./train/\"\n",
    "yTrainName = \"wineyTrain1.pkl\"\n",
    "with open(pathFolder+yTrainName,'rb') as f2:\n",
    "    y = pickle.load(f2)\n",
    "y_np=y.to_numpy()\n",
    "y_np"
   ]
  },
  {
   "cell_type": "code",
   "execution_count": 1,
   "metadata": {},
   "outputs": [
    {
     "ename": "ModuleNotFoundError",
     "evalue": "No module named 'tensorflow'",
     "output_type": "error",
     "traceback": [
      "\u001b[1;31m---------------------------------------------------------------------------\u001b[0m",
      "\u001b[1;31mModuleNotFoundError\u001b[0m                       Traceback (most recent call last)",
      "Cell \u001b[1;32mIn[1], line 1\u001b[0m\n\u001b[1;32m----> 1\u001b[0m \u001b[38;5;28;01mfrom\u001b[39;00m \u001b[38;5;21;01mtensorflow\u001b[39;00m\u001b[38;5;21;01m.\u001b[39;00m\u001b[38;5;21;01mkeras\u001b[39;00m\u001b[38;5;21;01m.\u001b[39;00m\u001b[38;5;21;01mmodels\u001b[39;00m \u001b[38;5;28;01mimport\u001b[39;00m Sequential\n\u001b[0;32m      2\u001b[0m \u001b[38;5;28;01mfrom\u001b[39;00m \u001b[38;5;21;01mtensorflow\u001b[39;00m\u001b[38;5;21;01m.\u001b[39;00m\u001b[38;5;21;01mkeras\u001b[39;00m\u001b[38;5;21;01m.\u001b[39;00m\u001b[38;5;21;01mlayers\u001b[39;00m \u001b[38;5;28;01mimport\u001b[39;00m Conv2D, MaxPooling2D, Flatten, Dense\n\u001b[0;32m      3\u001b[0m \u001b[38;5;28;01mimport\u001b[39;00m \u001b[38;5;21;01mnumpy\u001b[39;00m \u001b[38;5;28;01mas\u001b[39;00m \u001b[38;5;21;01mnp\u001b[39;00m\n",
      "\u001b[1;31mModuleNotFoundError\u001b[0m: No module named 'tensorflow'"
     ]
    }
   ],
   "source": [
    "from tensorflow.keras.models import Sequential\n",
    "from tensorflow.keras.layers import Conv2D, MaxPooling2D, Flatten, Dense\n",
    "import numpy as np\n",
    "import matplotlib.pyplot as plt\n",
    "from tensorflow.keras.callbacks import ModelCheckpoint\n",
    "# 예제 데이터 준비\n",
    "X = X_tiled_2d\n",
    "y = y_np\n",
    "\n",
    "# 데이터 차원 변환\n",
    "X_reshaped = X.reshape((1599, 1, 2, 1))  # CNN에 적합한 형태로 변환\n",
    "\n",
    "# 모델 구성\n",
    "model = Sequential([\n",
    "    Conv2D(32, kernel_size=(1, 2), activation='relu', padding='same', input_shape=(1, 2, 1)),\n",
    "    MaxPooling2D(pool_size=(1, 2)),\n",
    "    Flatten(),\n",
    "    Dense(128, activation='relu'),\n",
    "    Dense(64, activation='relu'),\n",
    "    Dense(1, activation='sigmoid')\n",
    "])\n",
    "\n",
    "# 모델 컴파일\n",
    "model.compile(optimizer='adam', loss='binary_crossentropy', metrics=['accuracy'])\n",
    "# ModelCheckpoint 설정\n",
    "checkpoint_path = \"best_model.h5\"  # 모델을 저장할 파일 경로\n",
    "checkpoint = ModelCheckpoint(filepath=checkpoint_path, \n",
    "                             save_best_only=True, \n",
    "                             monitor='val_accuracy', \n",
    "                             mode='max',\n",
    "                             verbose=1)\n",
    "# 모델 학습\n",
    "history = model.fit(X_reshaped, y, epochs=1000, batch_size=16, validation_split=0.2)"
   ]
  },
  {
   "cell_type": "code",
   "execution_count": null,
   "metadata": {},
   "outputs": [],
   "source": []
  }
 ],
 "metadata": {
  "kernelspec": {
   "display_name": "torch",
   "language": "python",
   "name": "python3"
  },
  "language_info": {
   "codemirror_mode": {
    "name": "ipython",
    "version": 3
   },
   "file_extension": ".py",
   "mimetype": "text/x-python",
   "name": "python",
   "nbconvert_exporter": "python",
   "pygments_lexer": "ipython3",
   "version": "3.11.7"
  }
 },
 "nbformat": 4,
 "nbformat_minor": 2
}
