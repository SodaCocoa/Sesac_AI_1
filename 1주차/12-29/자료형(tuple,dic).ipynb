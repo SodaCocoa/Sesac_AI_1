{
 "cells": [
  {
   "cell_type": "code",
   "execution_count": 14,
   "metadata": {},
   "outputs": [
    {
     "data": {
      "text/plain": [
       "(150, 100)"
      ]
     },
     "execution_count": 14,
     "metadata": {},
     "output_type": "execute_result"
    }
   ],
   "source": [
    "from PIL import Image\n",
    "file=r\"C:\\Users\\bluecom011\\Desktop\\1주차\\12-27\\img\\flower01.jpg\"\n",
    "img=Image.open(file)\n",
    "type(img.size) #튜플형이라 변형이 안됨\n",
    "img=img.resize((150,100)) #resize를 이용하여 변경가능\n",
    "img.size"
   ]
  },
  {
   "cell_type": "code",
   "execution_count": 3,
   "metadata": {},
   "outputs": [
    {
     "data": {
      "text/plain": [
       "[100, 20]"
      ]
     },
     "execution_count": 3,
     "metadata": {},
     "output_type": "execute_result"
    }
   ],
   "source": [
    "a=[1,20]\n",
    "a[0];a[0]=100 #;은 한줄에 두개이상 쓸 수 있음\n",
    "a"
   ]
  },
  {
   "cell_type": "code",
   "execution_count": 1,
   "metadata": {},
   "outputs": [
    {
     "name": "stdout",
     "output_type": "stream",
     "text": [
      "1\n"
     ]
    },
    {
     "data": {
      "text/plain": [
       "[100, 2]"
      ]
     },
     "execution_count": 1,
     "metadata": {},
     "output_type": "execute_result"
    }
   ],
   "source": [
    "a=(1,2)\n",
    "a=list(a)#형변환을 통해 변경가능\n",
    "print(a[0]) ; a[0]=100\n",
    "a"
   ]
  },
  {
   "cell_type": "code",
   "execution_count": 21,
   "metadata": {},
   "outputs": [
    {
     "name": "stdout",
     "output_type": "stream",
     "text": [
      "자료형은 <class 'tuple'> 입니다\n",
      "리스트로 변경했음\n"
     ]
    }
   ],
   "source": [
    "a=(1,2)\n",
    "print('자료형은',type(a), '입니다')\n",
    "userchoice=int(input('변경은 1, 아니면 0'))\n",
    "\n",
    "if type(a)==tuple:\n",
    "\n",
    "    if userchoice==1:\n",
    "        a=list(a)\n",
    "        print('리스트로 변경했음')\n",
    "    else:\n",
    "        print('변경없음')\n",
    "\n",
    "elif type(a)=='list':\n",
    "    print('타입변경없음')\n",
    "#tuple은 인덱스 변경이 안된다"
   ]
  },
  {
   "cell_type": "markdown",
   "metadata": {},
   "source": [
    "#GPT도움"
   ]
  },
  {
   "cell_type": "code",
   "execution_count": 22,
   "metadata": {},
   "outputs": [
    {
     "name": "stdout",
     "output_type": "stream",
     "text": [
      "원래 데이터 타입: <class 'tuple'>\n",
      "변경된 데이터 타입: <class 'list'>\n",
      "변경된 데이터: [1, 2]\n",
      "변경 후 데이터: [100, 2]\n"
     ]
    }
   ],
   "source": [
    "#타입출력\n",
    "#if문으로 타입이 tuple이라면 list구조로 type을 변경하고자함\n",
    "#a[0]=100으로 데이터 변경\n",
    "# 초기 튜플 생성\n",
    "a = (1, 2)\n",
    "\n",
    "# 타입 출력\n",
    "print(\"원래 데이터 타입:\", type(a))\n",
    "\n",
    "# 만약 타입이 튜플이라면 리스트 구조로 타입 변경\n",
    "if type(a) == tuple:\n",
    "    a = list(a)\n",
    "    print(\"변경된 데이터 타입:\", type(a))\n",
    "    print(\"변경된 데이터:\", a)\n",
    "\n",
    "# 데이터 변경\n",
    "a[0] = 100\n",
    "\n",
    "# 변경된 데이터 출력\n",
    "print(\"변경 후 데이터:\", a)"
   ]
  },
  {
   "cell_type": "markdown",
   "metadata": {},
   "source": [
    "내가한거"
   ]
  },
  {
   "cell_type": "code",
   "execution_count": 23,
   "metadata": {},
   "outputs": [
    {
     "name": "stdout",
     "output_type": "stream",
     "text": [
      "리스트로 변경됨\n",
      "변경후 데이터 [100, 2]\n"
     ]
    }
   ],
   "source": [
    "a=(1,2)\n",
    "\n",
    "if type(a)==tuple:\n",
    "    a=list(a)\n",
    "    print('리스트로 변경됨')\n",
    "\n",
    "a[0]=100\n",
    "\n",
    "print(\"변경후 데이터\", a)"
   ]
  },
  {
   "cell_type": "code",
   "execution_count": 26,
   "metadata": {},
   "outputs": [
    {
     "name": "stdout",
     "output_type": "stream",
     "text": [
      "<class 'tuple'> 입니다\n"
     ]
    },
    {
     "data": {
      "text/plain": [
       "[100, 2]"
      ]
     },
     "execution_count": 26,
     "metadata": {},
     "output_type": "execute_result"
    }
   ],
   "source": [
    "def prnType(x):\n",
    "    print(type(x), '입니다')\n",
    "    dataType=type(x)\n",
    "    return dataType\n",
    "\n",
    "def typeList(x):\n",
    "    return list(x) #여기서 리스트로 변환\n",
    "\n",
    "\n",
    "a=(1,2)\n",
    "y=prnType(a)\n",
    "\n",
    "if y==tuple:\n",
    "    a=typeList(a)\n",
    "a[0]=100\n",
    "a"
   ]
  },
  {
   "cell_type": "markdown",
   "metadata": {},
   "source": [
    "클래스화 시킴"
   ]
  },
  {
   "cell_type": "code",
   "execution_count": 36,
   "metadata": {},
   "outputs": [
    {
     "name": "stdout",
     "output_type": "stream",
     "text": [
      "<class 'tuple'> 입니다\n",
      "[100, 2]\n"
     ]
    }
   ],
   "source": [
    "class UserType:\n",
    "    @staticmethod\n",
    "    def prnType(x):\n",
    "        print(type(x), '입니다')\n",
    "        return type(x)\n",
    "\n",
    "    @staticmethod\n",
    "    def typeList(x):\n",
    "        return list(x)\n",
    "\n",
    "a = (1, 2)\n",
    "xxx = UserType()\n",
    "\n",
    "# Print the original type\n",
    "y = xxx.prnType(a)\n",
    "\n",
    "# Check if the type is tuple and convert to list if necessary\n",
    "if y == tuple:\n",
    "    a = xxx.typeList(a)\n",
    "\n",
    "# Modify the data\n",
    "a[0] = 100\n",
    "\n",
    "# Print the final data\n",
    "print(a)\n"
   ]
  },
  {
   "cell_type": "code",
   "execution_count": null,
   "metadata": {},
   "outputs": [],
   "source": [
    "############딕셔너리\n",
    "#{key:value, key:value,key:value }"
   ]
  },
  {
   "cell_type": "code",
   "execution_count": 58,
   "metadata": {},
   "outputs": [
    {
     "data": {
      "text/plain": [
       "['애완동물', '댕댕이라고도 함', '반려견']"
      ]
     },
     "execution_count": 58,
     "metadata": {},
     "output_type": "execute_result"
    }
   ],
   "source": [
    "def indexFind(word,find):\n",
    "    for cnt1,i in enumerate(word):\n",
    "        if i==find:\n",
    "         break\n",
    "    return cnt1\n",
    "word=['눈','b','강아지']\n",
    "y=[['사람의 눈','기상에서의눈'],\n",
    "    ['날다'],\n",
    "    ['애완동물','댕댕이라고도 함','반려견']]\n",
    "\n",
    "find='강아지'\n",
    "cnt2=indexFind(word,find)\n",
    "y[cnt2]\n"
   ]
  },
  {
   "cell_type": "markdown",
   "metadata": {},
   "source": [
    "딕셔너리"
   ]
  },
  {
   "cell_type": "code",
   "execution_count": 56,
   "metadata": {},
   "outputs": [
    {
     "data": {
      "text/plain": [
       "dict_keys(['눈', 'b', '강아지'])"
      ]
     },
     "execution_count": 56,
     "metadata": {},
     "output_type": "execute_result"
    }
   ],
   "source": [
    "#word=['눈','b','강아지']\n",
    "#y=[['사람의 눈','기상에서의눈'],\n",
    "    #['날다'],\n",
    "    #['애완동물','댕댕이라고도 함','반려견']]\n",
    "#Json 확장자는 딕셔너리 구조이다\n",
    "data={'눈':['사람의 눈','기상에서의눈'],\n",
    " 'b':['날다'],\n",
    " '강아지':['애완동물','댕댕이라고도 함','반려견']}\n",
    "\n",
    "type(data)\n",
    "data['강아지']\n",
    "data.keys()"
   ]
  },
  {
   "cell_type": "code",
   "execution_count": 65,
   "metadata": {},
   "outputs": [
    {
     "data": {
      "text/plain": [
       "dict_values([['사람의 눈', '기상에서의눈'], ['날다', '비상하다', ',,,'], ['애완동물', '댕댕이라고도 함', '반려견']])"
      ]
     },
     "execution_count": 65,
     "metadata": {},
     "output_type": "execute_result"
    }
   ],
   "source": [
    "data.values()"
   ]
  },
  {
   "cell_type": "code",
   "execution_count": 64,
   "metadata": {},
   "outputs": [
    {
     "data": {
      "text/plain": [
       "{'눈': ['사람의 눈', '기상에서의눈'],\n",
       " 'b': ['날다', '비상하다', ',,,'],\n",
       " '강아지': ['애완동물', '댕댕이라고도 함', '반려견']}"
      ]
     },
     "execution_count": 64,
     "metadata": {},
     "output_type": "execute_result"
    }
   ],
   "source": [
    "data['b']=['날다','비상하다',',,,']\n",
    "data"
   ]
  },
  {
   "cell_type": "code",
   "execution_count": 57,
   "metadata": {},
   "outputs": [
    {
     "data": {
      "text/plain": [
       "'눈'"
      ]
     },
     "execution_count": 57,
     "metadata": {},
     "output_type": "execute_result"
    }
   ],
   "source": [
    "list(data.keys())[0] #형변환시에 인덱스 가능"
   ]
  },
  {
   "cell_type": "code",
   "execution_count": 68,
   "metadata": {},
   "outputs": [
    {
     "name": "stdout",
     "output_type": "stream",
     "text": [
      "['사람의눈', '기상에서의 눈']\n"
     ]
    }
   ],
   "source": [
    "def indexFind(word,find):\n",
    "    chk=0\n",
    "    for cnt,i in enumerate(word):\n",
    "        if i==find:\n",
    "            chk=1; break\n",
    "    if chk==0:\n",
    "        print('찾는 단어 없음')\n",
    "        return 999\n",
    "    return cnt\n",
    "word=['눈', 'b','강아지']\n",
    "y=[['사람의눈','기상에서의 눈'],\n",
    "   ['날다'],\n",
    "   ['애완동물','댕댕이라고도 함','반려견']]\n",
    "\n",
    "find='눈'\n",
    "cnt=indexFind(word,find)\n",
    "if cnt!=999:\n",
    "    print(y[cnt])"
   ]
  },
  {
   "cell_type": "code",
   "execution_count": null,
   "metadata": {},
   "outputs": [],
   "source": []
  }
 ],
 "metadata": {
  "kernelspec": {
   "display_name": "OpenAI",
   "language": "python",
   "name": "python3"
  },
  "language_info": {
   "codemirror_mode": {
    "name": "ipython",
    "version": 3
   },
   "file_extension": ".py",
   "mimetype": "text/x-python",
   "name": "python",
   "nbconvert_exporter": "python",
   "pygments_lexer": "ipython3",
   "version": "3.12.0"
  }
 },
 "nbformat": 4,
 "nbformat_minor": 2
}
