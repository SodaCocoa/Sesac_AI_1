{
 "cells": [
  {
   "cell_type": "code",
   "execution_count": 1,
   "metadata": {},
   "outputs": [
    {
     "name": "stdout",
     "output_type": "stream",
     "text": [
      "{'김밥': 3000, '참치김밥': 3500, '라면': 3000, '치즈라면': 4000}\n"
     ]
    }
   ],
   "source": [
    "menu = {'김밥':2500, '참치김밥':3500, '라면':3000, '치즈라면': 4000}\n",
    "menu['김밥'] += 500\n",
    "print(menu)"
   ]
  },
  {
   "cell_type": "code",
   "execution_count": 2,
   "metadata": {},
   "outputs": [
    {
     "name": "stdout",
     "output_type": "stream",
     "text": [
      "{'김밥': 3000, '참치김밥': 2700, '라면': 3000, '치즈라면': 4000}\n"
     ]
    }
   ],
   "source": [
    "menu['참치김밥']-=800\n",
    "print(menu)\n",
    "#참치김밥의 가격이 변경"
   ]
  },
  {
   "cell_type": "code",
   "execution_count": 3,
   "metadata": {},
   "outputs": [
    {
     "name": "stdout",
     "output_type": "stream",
     "text": [
      "{}\n",
      "{'강아지': 'dog', '고양이': 'cat'}\n"
     ]
    }
   ],
   "source": [
    "eng={}\n",
    "print(eng)\n",
    "eng['강아지']='dog'\n",
    "eng['고양이']='cat'\n",
    "print(eng)"
   ]
  },
  {
   "cell_type": "code",
   "execution_count": 4,
   "metadata": {},
   "outputs": [
    {
     "name": "stdout",
     "output_type": "stream",
     "text": [
      "{'김밥': 2500, '참치김밥': 3500, '라면': 3000, '치즈라면': 4000, '쫄면': 4000}\n"
     ]
    }
   ],
   "source": [
    "#메뉴를 입력받아 추가하기\n",
    "menu = {'김밥':2500, '참치김밥':3500, '라면':3000, '치즈라면': 4000}\n",
    "name = input('추가할 메뉴는?')\n",
    "price= int(input('메뉴의 가격은?'))\n",
    "menu[name] =price\n",
    "print(menu)"
   ]
  },
  {
   "cell_type": "code",
   "execution_count": 5,
   "metadata": {},
   "outputs": [
    {
     "data": {
      "text/plain": [
       "{'김밥': 2500, '참치김밥': 3500, '라면': 3000, '쫄면': 4000}"
      ]
     },
     "execution_count": 5,
     "metadata": {},
     "output_type": "execute_result"
    }
   ],
   "source": [
    "#키-값 삭제\n",
    "del menu['치즈라면']\n",
    "menu"
   ]
  },
  {
   "cell_type": "code",
   "execution_count": 10,
   "metadata": {},
   "outputs": [
    {
     "name": "stdout",
     "output_type": "stream",
     "text": [
      "[('휴지', 4800), ('우유', 2600), ('아이스크림', 1700), ('과자', 1500), ('고기', 10500)]\n",
      "[('과자', 1500), ('아이스크림', 1700), ('우유', 2600), ('휴지', 4800), ('고기', 10500)]\n"
     ]
    }
   ],
   "source": [
    "import operator\n",
    "\n",
    "mart={'과자': 1500,'아이스크림': 1700,'휴지': 4800,'고기':10500, '우유': 2600}\n",
    "print(sorted(mart.items(),reverse=True)) # 리스트로 정렬 내림차순\n",
    "print(sorted(mart.items(), key=operator.itemgetter(1))) # 0이면 키를 기준으로 1이면 값을 기준으로 정렬"
   ]
  },
  {
   "cell_type": "code",
   "execution_count": 15,
   "metadata": {},
   "outputs": [
    {
     "name": "stdout",
     "output_type": "stream",
     "text": [
      "{'고기': 10500, '아이스크림': 1700, '우유': 2600, '휴지': 4800}\n"
     ]
    }
   ],
   "source": [
    "mart={'과자': 1500,'아이스크림': 1700,'휴지': 4800,'고기':10500, '우유': 2600}\n",
    "mart = dict(sorted(mart.items())) #리스트로 정렬후\n",
    "del mart['과자'] #삭제된한걸 딕셔너리로 다시 정의\n",
    "print(mart)"
   ]
  },
  {
   "cell_type": "markdown",
   "metadata": {},
   "source": [
    "제어구조로 딕셔너리 다루기"
   ]
  },
  {
   "cell_type": "code",
   "execution_count": 17,
   "metadata": {},
   "outputs": [
    {
     "name": "stdout",
     "output_type": "stream",
     "text": [
      "43 점입니다.\n"
     ]
    }
   ],
   "source": [
    "midterm = {'도윤':43,'하윤':82,'시우':76,'지유':61,'주원':94}\n",
    "student = input('어떤 학생의 점수가 궁금한가요?')\n",
    "if student in midterm.keys():\n",
    "    print(midterm[student],'점입니다.')\n",
    "else:\n",
    "    print('해당 학생이 없습니다.')"
   ]
  },
  {
   "cell_type": "code",
   "execution_count": 18,
   "metadata": {},
   "outputs": [
    {
     "name": "stdout",
     "output_type": "stream",
     "text": [
      "('도윤', 43)('하윤', 82)('시우', 76)('지유', 61)('주원', 94)"
     ]
    }
   ],
   "source": [
    "for i in midterm.items():#키-값을 쌍으로 출력\n",
    "    print(i,end='')"
   ]
  },
  {
   "cell_type": "code",
   "execution_count": 19,
   "metadata": {},
   "outputs": [
    {
     "name": "stdout",
     "output_type": "stream",
     "text": [
      "도윤 43 하윤 82 시우 76 지유 61 주원 94 "
     ]
    }
   ],
   "source": [
    "for k, v in midterm.items():\n",
    "    print(k,v,end=' ')"
   ]
  },
  {
   "cell_type": "code",
   "execution_count": 20,
   "metadata": {},
   "outputs": [
    {
     "name": "stdout",
     "output_type": "stream",
     "text": [
      "점수가 70점 이상인 학생의 이름과 점수를 모두 출력합니다\n",
      "하윤 82 시우 76 주원 94 "
     ]
    }
   ],
   "source": [
    "print('점수가 70점 이상인 학생의 이름과 점수를 모두 출력합니다')\n",
    "for k,v in midterm.items():\n",
    "    if v>=70:\n",
    "        print(k,v,end=' ')"
   ]
  },
  {
   "cell_type": "code",
   "execution_count": null,
   "metadata": {},
   "outputs": [],
   "source": []
  },
  {
   "cell_type": "code",
   "execution_count": null,
   "metadata": {},
   "outputs": [],
   "source": []
  }
 ],
 "metadata": {
  "kernelspec": {
   "display_name": "OpenAI",
   "language": "python",
   "name": "python3"
  },
  "language_info": {
   "codemirror_mode": {
    "name": "ipython",
    "version": 3
   },
   "file_extension": ".py",
   "mimetype": "text/x-python",
   "name": "python",
   "nbconvert_exporter": "python",
   "pygments_lexer": "ipython3",
   "version": "3.12.0"
  }
 },
 "nbformat": 4,
 "nbformat_minor": 2
}
