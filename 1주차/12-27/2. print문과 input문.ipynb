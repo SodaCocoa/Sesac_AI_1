{
 "cells": [
  {
   "cell_type": "code",
   "execution_count": null,
   "metadata": {},
   "outputs": [],
   "source": []
  },
  {
   "cell_type": "markdown",
   "metadata": {},
   "source": [
    "## [1] print함수"
   ]
  },
  {
   "cell_type": "markdown",
   "metadata": {},
   "source": [
    "### [1-1] 파이썬 print (p52~p62)\n",
    "- print함수에 대한 옵션을 확인합니다.\n",
    "- help(print)로 print 함수에 대한 옵션을 확인합니다. 또는 vs코드에서는 print 에서 F12키로 함수를 확인합니다.\n"
   ]
  },
  {
   "cell_type": "code",
   "execution_count": null,
   "metadata": {},
   "outputs": [],
   "source": []
  },
  {
   "cell_type": "markdown",
   "metadata": {},
   "source": [
    "### [1-2] 파이썬 print format문 (교재 p84)\n",
    "- 아래사이트에서 format문을 실습하여 봅니다.\n",
    "    - https://planharry.tistory.com/11\n",
    "- ChatGPT에서 다음과 같이 검색하여 print문을 학습하여 봅니다.\n",
    "    - 파이썬 format문 샘플\n",
    "    - print %"
   ]
  },
  {
   "cell_type": "code",
   "execution_count": 3,
   "metadata": {},
   "outputs": [
    {
     "name": "stdout",
     "output_type": "stream",
     "text": [
      "3*4.0\n",
      "3*4=12\n"
     ]
    }
   ],
   "source": [
    "a=3\n",
    "b=4.0\n",
    "print('{}*{}' .format(a,b,a*b))\n",
    "print('%d*%d=%d'%(a,b,a*b))"
   ]
  },
  {
   "cell_type": "code",
   "execution_count": null,
   "metadata": {},
   "outputs": [],
   "source": []
  },
  {
   "cell_type": "code",
   "execution_count": 53,
   "metadata": {},
   "outputs": [
    {
     "name": "stdout",
     "output_type": "stream",
     "text": [
      "[2, 3]\n",
      "[5, 3]\n"
     ]
    },
    {
     "data": {
      "text/plain": [
       "(tuple, (5, 3, 5, 3, 5, 3), False)"
      ]
     },
     "execution_count": 53,
     "metadata": {},
     "output_type": "execute_result"
    }
   ],
   "source": [
    "#print함수를 일반변수로 변경\n",
    "#print기능이 사용x\n",
    "a=[2,3]\n",
    "type(a),a*3, \n",
    "print(a)\n",
    "a[0]=5\n",
    "print(a)\n",
    "\n",
    "a=tuple(a)\n",
    "type(a),a*3, a[0]=="
   ]
  },
  {
   "cell_type": "code",
   "execution_count": 57,
   "metadata": {},
   "outputs": [
    {
     "data": {
      "text/plain": [
       "([5, 3], [100, 2])"
      ]
     },
     "execution_count": 57,
     "metadata": {},
     "output_type": "execute_result"
    }
   ],
   "source": [
    "a=[1,3]\n",
    "b=(1,2)\n",
    "a[0]=5\n",
    "b=list(b)\n",
    "type(a) , type(b)\n",
    "b[0]=100\n",
    "\n",
    "a,b"
   ]
  },
  {
   "cell_type": "code",
   "execution_count": 37,
   "metadata": {},
   "outputs": [
    {
     "name": "stdout",
     "output_type": "stream",
     "text": [
      "--------------------------------------------------\n",
      "\n",
      "입력한 값 1의 type은 <class 'str'> 입니다.\n",
      "--------------------------------------------------\n",
      "<class 'int'>\n"
     ]
    },
    {
     "data": {
      "text/plain": [
       "4"
      ]
     },
     "execution_count": 37,
     "metadata": {},
     "output_type": "execute_result"
    }
   ],
   "source": [
    "def printType(x): #매개변수\n",
    "    print('-'*50)\n",
    "    print('\\n입력한 값 {}의 type은 {} 입니다.' .format(x, type(x)))\n",
    "    print('-'*50)\n",
    "\n",
    "val=input('값입력')\n",
    "printType(val)\n",
    "\n",
    "#형변환 \n",
    "val=int(val)\n",
    "print(type(val))\n",
    "val+3"
   ]
  },
  {
   "cell_type": "markdown",
   "metadata": {},
   "source": [
    "## [2] input"
   ]
  },
  {
   "cell_type": "markdown",
   "metadata": {},
   "source": [
    "### [2-1] 파이썬 input (p63~p76)\n",
    "- 교재의 input명령어를 확인하여 봅니다.\n",
    "- input함수에서 프로그래머의 오류가 아닌 사용자의 에러 처리를 위한 예외처리를 지정하는 것이 좋습니다.\n",
    "    - 예외 처리: 사용자 입력 과정에서 예외가 발생할 수 있습니다. 예를 들어, 사용자가 예상치 못한 종류의 입력을 하는 경우, 프로그램은 예외를 발생시키고 중단될 수 있습니다. \n",
    "    - try-except 블록을 사용하여 이러한 예외를 처리하는 것이 좋습니다.\n",
    "        - try:\n",
    "            - 실행할 코드\n",
    "        - except:\n",
    "            - 예외가 발생했을 때 처리하는 코드"
   ]
  },
  {
   "cell_type": "code",
   "execution_count": 75,
   "metadata": {},
   "outputs": [
    {
     "name": "stdout",
     "output_type": "stream",
     "text": [
      "숫자값 1-9를 확인하세요\n"
     ]
    }
   ],
   "source": [
    "try:\n",
    "    x=input('a')\n",
    "    print(x+6)\n",
    "\n",
    "except:\n",
    "    print('숫자값 1-9를 확인하세요')"
   ]
  },
  {
   "cell_type": "code",
   "execution_count": 17,
   "metadata": {},
   "outputs": [
    {
     "name": "stdout",
     "output_type": "stream",
     "text": [
      "숫자값 1-9를 확인하세요\n"
     ]
    }
   ],
   "source": [
    "\n",
    "try:\n",
    "    x=int(input('1-9까지의 수입력'))\n",
    "    print(x*5)\n",
    "except:\n",
    "    print('숫자값 1-9를 확인하세요')"
   ]
  },
  {
   "cell_type": "markdown",
   "metadata": {},
   "source": [
    "### [2-2] 파이썬 input 외부자료 활용하기\n",
    "- userinfo.csv에 id명 a,b,c 와 password 1,2,3 이 입력되어 있을때 매칭되어야 다음명령어로 넘어갈수 있게하기\n",
    "    - chatGPT검색 '파이썬 csv 자료 읽기'\n"
   ]
  },
  {
   "cell_type": "code",
   "execution_count": 78,
   "metadata": {},
   "outputs": [
    {
     "name": "stdout",
     "output_type": "stream",
     "text": [
      "['id', 'pass']\n",
      "--------------------------------------------------\n",
      "['a', '1']\n",
      "--------------------------------------------------\n",
      "['b', '2']\n",
      "--------------------------------------------------\n",
      "['c', '3']\n",
      "--------------------------------------------------\n"
     ]
    }
   ],
   "source": [
    "import csv\n",
    "with open('userinfo.csv', newline='') as csvfile:\n",
    "    csvreader = csv.reader(csvfile, delimiter='\\t')\n",
    "    for row in csvreader:\n",
    "        print(row)\n",
    "        print('-'*50)"
   ]
  },
  {
   "cell_type": "code",
   "execution_count": 34,
   "metadata": {},
   "outputs": [
    {
     "name": "stdout",
     "output_type": "stream",
     "text": [
      "id:b, pass:2 로 로그인하였습니다\n"
     ]
    }
   ],
   "source": [
    "id,passWord='b',2\n",
    "chk=0\n",
    "\n",
    "with open('userinfo.csv', newline='') as csvfile:\n",
    "    csvreader = csv.reader(csvfile, delimiter='\\t')\n",
    "    for row in csvreader:\n",
    "        \n",
    "        if id==row[0] and passWord==int(row[1]):\n",
    "            print('id:%s, pass:%d 로 로그인하였습니다'%(id,passWord))\n",
    "            chk=1\n",
    "            break\n",
    "if chk!=1:\n",
    "    print('id:%s, pass:%d 로 로그인 실패하였습니다'%(id,passWord))\n",
    "        \n"
   ]
  },
  {
   "cell_type": "markdown",
   "metadata": {},
   "source": [
    "## [3] 파이썬 변수 이해 (교재 78~115)\n",
    "- 파이썬 변수 작성 규칙\n",
    "    - 키워드*를 사용하면 안 됩니다.\n",
    "    - 특수 문자는 언더 바(_ )만 허용됩니다.\n",
    "    - 숫자로 시작하면 안 됩니다.\n",
    "    - 공백을 포함할 수 없습니다.\n",
    "    - https://hongong.hanbit.co.kr/%ED%8C%8C%EC%9D%B4%EC%8D%AC-%EB%B3%80%EC%88%98%EB%AA%85-%EA%B7%9C%EC%B9%99%EA%B3%BC-%EC%8B%9D%EB%B3%84%EC%9E%90-%EA%B5%AC%EB%B6%84-%EB%B0%A9%EB%B2%95/"
   ]
  },
  {
   "cell_type": "code",
   "execution_count": null,
   "metadata": {},
   "outputs": [],
   "source": []
  }
 ],
 "metadata": {
  "kernelspec": {
   "display_name": "Python 3",
   "language": "python",
   "name": "python3"
  },
  "language_info": {
   "codemirror_mode": {
    "name": "ipython",
    "version": 3
   },
   "file_extension": ".py",
   "mimetype": "text/x-python",
   "name": "python",
   "nbconvert_exporter": "python",
   "pygments_lexer": "ipython3",
   "version": "3.9.5"
  }
 },
 "nbformat": 4,
 "nbformat_minor": 2
}
