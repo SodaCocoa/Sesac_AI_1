{
  "nbformat": 4,
  "nbformat_minor": 0,
  "metadata": {
    "colab": {
      "provenance": [],
      "gpuType": "T4"
    },
    "kernelspec": {
      "name": "python3",
      "display_name": "Python 3"
    },
    "language_info": {
      "name": "python"
    },
    "accelerator": "GPU"
  },
  "cells": [
    {
      "cell_type": "code",
      "execution_count": null,
      "metadata": {
        "id": "Zq3PxvrXIhoG"
      },
      "outputs": [],
      "source": [
        "# https://www.tensorflow.org/tutorials/quickstart/beginner?hl=ko"
      ]
    },
    {
      "cell_type": "code",
      "source": [
        "import tensorflow as tf\n",
        "mnist = tf.keras.datasets.mnist"
      ],
      "metadata": {
        "id": "myOSYtUEInQB"
      },
      "execution_count": null,
      "outputs": []
    },
    {
      "cell_type": "code",
      "source": [
        "type(mnist)"
      ],
      "metadata": {
        "colab": {
          "base_uri": "https://localhost:8080/"
        },
        "id": "ypG5JKN4ItFK",
        "outputId": "fe24423c-d147-4525-cf25-6fc9f8bc273e"
      },
      "execution_count": null,
      "outputs": [
        {
          "output_type": "execute_result",
          "data": {
            "text/plain": [
              "module"
            ]
          },
          "metadata": {},
          "execution_count": 3
        }
      ]
    },
    {
      "cell_type": "code",
      "source": [
        "#### np.savez로 저장가능함."
      ],
      "metadata": {
        "id": "AwQGoqKrJOgK"
      },
      "execution_count": null,
      "outputs": []
    },
    {
      "cell_type": "code",
      "source": [
        "mnist = tf.keras.datasets.mnist\n",
        "(x_train, y_train), (x_test, y_test) = mnist.load_data()\n",
        "x_train, x_test = x_train / 255.0, x_test / 255.0"
      ],
      "metadata": {
        "id": "S7NlR4yqI0bS",
        "colab": {
          "base_uri": "https://localhost:8080/"
        },
        "outputId": "2dc5fe9f-05de-42d0-b44c-3d864f59abba"
      },
      "execution_count": null,
      "outputs": [
        {
          "output_type": "stream",
          "name": "stdout",
          "text": [
            "Downloading data from https://storage.googleapis.com/tensorflow/tf-keras-datasets/mnist.npz\n",
            "11490434/11490434 [==============================] - 0s 0us/step\n"
          ]
        }
      ]
    },
    {
      "cell_type": "code",
      "source": [
        "# 추가코드\n",
        "import matplotlib.pyplot as plt\n",
        "import numpy as np\n",
        "img=np.hstack(x_train[:10])\n",
        "plt.imshow(img, cmap='gray')\n",
        "print(y_train[:10])\n"
      ],
      "metadata": {
        "colab": {
          "base_uri": "https://localhost:8080/",
          "height": 132
        },
        "id": "OAvC6ChQL1Yv",
        "outputId": "0702e608-82d5-461c-deef-637ed149c3fc"
      },
      "execution_count": null,
      "outputs": [
        {
          "output_type": "stream",
          "name": "stdout",
          "text": [
            "[5 0 4 1 9 2 1 3 1 4]\n"
          ]
        },
        {
          "output_type": "display_data",
          "data": {
            "text/plain": [
              "<Figure size 640x480 with 1 Axes>"
            ],
            "image/png": "[encoded data removed]"
          },
          "metadata": {}
        }
      ]
    },
    {
      "cell_type": "code",
      "source": [
        "# 추가코드\n",
        "len(y_train), len(y_test), np.unique(y_train, return_counts=True)\n"
      ],
      "metadata": {
        "colab": {
          "base_uri": "https://localhost:8080/"
        },
        "id": "AkbI_686P3wH",
        "outputId": "522b2a62-9c67-4296-897b-76ecd138d111"
      },
      "execution_count": null,
      "outputs": [
        {
          "output_type": "execute_result",
          "data": {
            "text/plain": [
              "(60000,\n",
              " 10000,\n",
              " (array([0, 1, 2, 3, 4, 5, 6, 7, 8, 9], dtype=uint8),\n",
              "  array([5923, 6742, 5958, 6131, 5842, 5421, 5918, 6265, 5851, 5949])))"
            ]
          },
          "metadata": {},
          "execution_count": 5
        }
      ]
    },
    {
      "cell_type": "code",
      "source": [
        "# 추가코드  28행, 28열의 흑백이미지 60000장\n",
        "np.shape(x_train), np.shape(x_test)"
      ],
      "metadata": {
        "colab": {
          "base_uri": "https://localhost:8080/"
        },
        "id": "hanhyXOsQwKG",
        "outputId": "48a1f5b1-cfee-4f85-e247-e9cae81983d9"
      },
      "execution_count": null,
      "outputs": [
        {
          "output_type": "execute_result",
          "data": {
            "text/plain": [
              "((60000, 28, 28), (10000, 28, 28))"
            ]
          },
          "metadata": {},
          "execution_count": 6
        }
      ]
    },
    {
      "cell_type": "code",
      "source": [
        "##################\n",
        "## x,y 데이터 훈련,테스트 로 나누어진 데이터를 array로 받음\n",
        "## 사진데이터를 로드, 사이즈를 통일, 어레이로 하고, 레이블변환 x\n",
        "## 지도학습, 사진을 넣으면 0,1,2,3,4,5,6,7,8,9 의 10개중 어떤 카테고리인가를 맞추는\n",
        "##  다항분류 문제 ,  이 다항문제는 무조건 원핫인코딩되어 있거나\n",
        "## 아니면 모델에서 원핫인코딩 시켜야 함\n",
        "## 이 자료에서는 원핫인코딩은   0은 [1,0,0,0,0,0,0,0,0,0]\n",
        "##                              9는 [0,0,0,0,0,0,0,0,0,1]"
      ],
      "metadata": {
        "id": "D8mzR-lNRH1B"
      },
      "execution_count": null,
      "outputs": []
    },
    {
      "cell_type": "code",
      "source": [
        "######################\n",
        "## 샘플\n",
        "model = tf.keras.models.Sequential([\n",
        "        tf.keras.layers.Flatten(input_shape=(3,3)),\n",
        "        tf.keras.layers.Dense(5, activation='relu'),   # w(100)+b(1) 기본 101개\n",
        "        tf.keras.layers.Dense(2, activation='softmax')  # softmax는 다항분류 계산식(활성화함수)\n",
        "])\n",
        "model.weights\n",
        "\n"
      ],
      "metadata": {
        "colab": {
          "base_uri": "https://localhost:8080/"
        },
        "id": "ldfz_7CwWuKv",
        "outputId": "c2b2c8a2-3e46-49e7-c5f6-631773389f37"
      },
      "execution_count": null,
      "outputs": [
        {
          "output_type": "execute_result",
          "data": {
            "text/plain": [
              "[<tf.Variable 'dense/kernel:0' shape=(9, 5) dtype=float32, numpy=\n",
              " array([[-0.08922935, -0.48112512, -0.02169162, -0.28490964, -0.49866337],\n",
              "        [-0.4340247 ,  0.19585681,  0.564446  ,  0.00149292, -0.22729132],\n",
              "        [ 0.13019997, -0.4193889 ,  0.20239925,  0.39267004,  0.12171537],\n",
              "        [-0.21200344,  0.41372848,  0.34201628, -0.21719816, -0.2837145 ],\n",
              "        [ 0.530686  ,  0.231614  ,  0.36204326, -0.4425711 ,  0.38007832],\n",
              "        [ 0.46368825,  0.6238247 , -0.58671725,  0.25842726, -0.07268327],\n",
              "        [-0.49253577,  0.22499508, -0.559165  , -0.08097464, -0.06019133],\n",
              "        [-0.5424855 ,  0.20695668, -0.30492383,  0.47374105, -0.43835628],\n",
              "        [ 0.18335283,  0.2617821 ,  0.17148417,  0.09465867,  0.35407364]],\n",
              "       dtype=float32)>,\n",
              " <tf.Variable 'dense/bias:0' shape=(5,) dtype=float32, numpy=array([0., 0., 0., 0., 0.], dtype=float32)>,\n",
              " <tf.Variable 'dense_1/kernel:0' shape=(5, 2) dtype=float32, numpy=\n",
              " array([[-0.07431918,  0.4547037 ],\n",
              "        [ 0.6575208 ,  0.22410882],\n",
              "        [-0.70386475, -0.85297036],\n",
              "        [ 0.38511896,  0.0817678 ],\n",
              "        [ 0.8171812 , -0.17673051]], dtype=float32)>,\n",
              " <tf.Variable 'dense_1/bias:0' shape=(2,) dtype=float32, numpy=array([0., 0.], dtype=float32)>]"
            ]
          },
          "metadata": {},
          "execution_count": 7
        }
      ]
    },
    {
      "cell_type": "code",
      "source": [
        "model = tf.keras.models.Sequential([\n",
        "  tf.keras.layers.Flatten(input_shape=(28, 28)),\n",
        "  tf.keras.layers.Dense(100, activation='relu'),   # w(100)+b(1) 기본 101개\n",
        "  tf.keras.layers.Dropout(0.2),  # 과적합없애기 w값을 20%정도 0으로 변경\n",
        "  tf.keras.layers.Dense(10, activation='softmax')  # softmax는 다항분류 계산식(활성화함수)\n",
        " ])\n",
        "\n",
        "# softmax는 categorical_crossentropy 인데\n",
        "# y입력값이 원핫인코딩 안되어 있으면 sparse_categorical_crossentropy 라고 지정하면\n",
        "# 알아서 원핫인코딩함\n",
        "model.compile(optimizer='adam',\n",
        "              loss='sparse_categorical_crossentropy', #\n",
        "              metrics=['acc'])"
      ],
      "metadata": {
        "id": "tk8cZ56RJVVh"
      },
      "execution_count": null,
      "outputs": []
    },
    {
      "cell_type": "code",
      "source": [
        "model.summary()"
      ],
      "metadata": {
        "colab": {
          "base_uri": "https://localhost:8080/"
        },
        "id": "KfdeyRcgcbr8",
        "outputId": "26217ce6-7d95-4dd8-9116-bc6694235595"
      },
      "execution_count": null,
      "outputs": [
        {
          "output_type": "stream",
          "name": "stdout",
          "text": [
            "Model: \"sequential_4\"\n",
            "_________________________________________________________________\n",
            " Layer (type)                Output Shape              Param #   \n",
            "=================================================================\n",
            " flatten_4 (Flatten)         (None, 784)               0         \n",
            "                                                                 \n",
            " dense_8 (Dense)             (None, 100)               78500     \n",
            "                                                                 \n",
            " dropout_3 (Dropout)         (None, 100)               0         \n",
            "                                                                 \n",
            " dense_9 (Dense)             (None, 3)                 303       \n",
            "                                                                 \n",
            "=================================================================\n",
            "Total params: 78803 (307.82 KB)\n",
            "Trainable params: 78803 (307.82 KB)\n",
            "Non-trainable params: 0 (0.00 Byte)\n",
            "_________________________________________________________________\n"
          ]
        }
      ]
    },
    {
      "cell_type": "code",
      "source": [
        "#model.summary()"
      ],
      "metadata": {
        "id": "nWkNrVSsTfPo"
      },
      "execution_count": null,
      "outputs": []
    },
    {
      "cell_type": "code",
      "source": [
        "hist=model.fit(x_train, y_train, epochs=5,\n",
        "          validation_data=(x_train,y_train),batch_size=100)"
      ],
      "metadata": {
        "colab": {
          "base_uri": "https://localhost:8080/"
        },
        "id": "RuFjy4sRLqL_",
        "outputId": "228f0ea4-8708-400a-bade-aff16d8067dc"
      },
      "execution_count": null,
      "outputs": [
        {
          "output_type": "stream",
          "name": "stdout",
          "text": [
            "Epoch 1/5\n",
            "600/600 [==============================] - 5s 7ms/step - loss: 0.4027 - acc: 0.8850 - val_loss: 0.1935 - val_acc: 0.9455\n",
            "Epoch 2/5\n",
            "600/600 [==============================] - 3s 5ms/step - loss: 0.1985 - acc: 0.9423 - val_loss: 0.1339 - val_acc: 0.9610\n",
            "Epoch 3/5\n",
            "600/600 [==============================] - 3s 5ms/step - loss: 0.1522 - acc: 0.9557 - val_loss: 0.1028 - val_acc: 0.9701\n",
            "Epoch 4/5\n",
            "600/600 [==============================] - 3s 5ms/step - loss: 0.1246 - acc: 0.9634 - val_loss: 0.0810 - val_acc: 0.9765\n",
            "Epoch 5/5\n",
            "600/600 [==============================] - 3s 4ms/step - loss: 0.1067 - acc: 0.9676 - val_loss: 0.0699 - val_acc: 0.9807\n"
          ]
        }
      ]
    },
    {
      "cell_type": "code",
      "source": [
        "hist.history.keys()"
      ],
      "metadata": {
        "colab": {
          "base_uri": "https://localhost:8080/"
        },
        "id": "bpTybG27aNV9",
        "outputId": "7c186737-1adb-45a0-cd5e-0ab5b0a639ee"
      },
      "execution_count": null,
      "outputs": [
        {
          "output_type": "execute_result",
          "data": {
            "text/plain": [
              "dict_keys(['loss', 'acc', 'val_loss', 'val_acc'])"
            ]
          },
          "metadata": {},
          "execution_count": 50
        }
      ]
    },
    {
      "cell_type": "code",
      "source": [],
      "metadata": {
        "id": "fBxljYPxeskz"
      },
      "execution_count": null,
      "outputs": []
    },
    {
      "cell_type": "code",
      "source": [
        "# 손실 그래프 그리기\n",
        "plt.plot(hist.history['loss'], label='train_loss')\n",
        "plt.plot(hist.history['val_loss'], label='val_loss')\n",
        "plt.title('Training and Validation Loss')\n",
        "plt.xlabel('Epochs')\n",
        "plt.ylabel('Loss')\n",
        "plt.legend()\n",
        "\n",
        "# 정확도 그래프 그리기\n",
        "plt.plot(hist.history['acc'], label='train_accuracy')\n",
        "plt.plot(hist.history['val_acc'], label='val_accuracy')\n",
        "plt.title('Training and Validation Accuracy')\n",
        "plt.xlabel('Epochs')\n",
        "plt.ylabel('Accuracy')\n",
        "plt.legend()\n",
        "plt.show()"
      ],
      "metadata": {
        "colab": {
          "base_uri": "https://localhost:8080/",
          "height": 472
        },
        "id": "ZroyDqgabZnk",
        "outputId": "5dd1de31-2f1d-41ec-ff2d-8139791abdfd"
      },
      "execution_count": null,
      "outputs": [
        {
          "output_type": "display_data",
          "data": {
            "text/plain": [
              "<Figure size 640x480 with 1 Axes>"
            ],
            "image/png": "[encoded data removed]"
          },
          "metadata": {}
        }
      ]
    },
    {
      "cell_type": "code",
      "source": [
        "##########################33\n",
        "### 테스트 데이터로 모델을 확인\n",
        "########################\n",
        "## 기본으로 plt.으로 확인\n",
        "## 분류평가지표로 확인해야하지만 일단응 생략하고"
      ],
      "metadata": {
        "id": "b82PiEjkm_qn"
      },
      "execution_count": null,
      "outputs": []
    },
    {
      "cell_type": "code",
      "source": [
        "testData=x_test[:30]\n",
        "print(np.shape(testData))  # 30,28,28   훈련데이터의 shape과 같음\n",
        "\n",
        "predictions=model(testData)\n",
        "result=tf.nn.softmax(predictions)\n",
        "\n",
        "plt.imshow(np.hstack(x_test[:30]))\n",
        "\n",
        "print('예측값')\n",
        "np.argmax(result, axis=1)"
      ],
      "metadata": {
        "colab": {
          "base_uri": "https://localhost:8080/",
          "height": 136
        },
        "id": "Wf5eWeYBnDbP",
        "outputId": "76aec8ac-3bfd-4ddc-c291-3a22a72dc3f7"
      },
      "execution_count": null,
      "outputs": [
        {
          "output_type": "stream",
          "name": "stdout",
          "text": [
            "(30, 28, 28)\n"
          ]
        },
        {
          "output_type": "execute_result",
          "data": {
            "text/plain": [
              "array([7, 2, 1, 0, 4, 1, 4, 9, 5, 9, 0, 6, 9, 0, 1, 5, 9, 7, 3, 4, 9, 6,\n",
              "       6, 5, 4, 0, 7, 4, 0, 1])"
            ]
          },
          "metadata": {},
          "execution_count": 80
        },
        {
          "output_type": "display_data",
          "data": {
            "text/plain": [
              "<Figure size 640x480 with 1 Axes>"
            ],
            "image/png": "[encoded data removed]"
          },
          "metadata": {}
        }
      ]
    },
    {
      "cell_type": "code",
      "source": [
        "## 코렙에서 드라이브 마운트 안하면 임시폴더에 만들어지기 때문에\n",
        "## 일정한 시간이 지나면 이 모델 사라짐\n",
        "## 필요하면 다운로드 받아야함\n",
        "model.save('최종mnist.h5')\n"
      ],
      "metadata": {
        "id": "ypAo3OgCayl0"
      },
      "execution_count": null,
      "outputs": []
    },
    {
      "cell_type": "code",
      "source": [
        "#########################################3\n",
        "#### 새파일이라고 생각하고 작업합니다.\n",
        "######################################\n",
        "### 손글씨 0~9까지의 카테고리를 분류하는 비전 모델\n",
        "### 학습시에 28*28의 검정색 배경, 흑백을 학습함.\n",
        "### 원핫인코딩하지 않고 y값을 학습해서 모델에서 원핫인코딩함"
      ],
      "metadata": {
        "id": "Nf9M6ZSUetj6"
      },
      "execution_count": null,
      "outputs": []
    },
    {
      "cell_type": "code",
      "source": [
        "######### 모델 불러오기\n",
        "import tensorflow as tf\n",
        "model=tf.keras.models.load_model('최종mnist.h5')"
      ],
      "metadata": {
        "id": "xebHu9Rpe-jL"
      },
      "execution_count": null,
      "outputs": []
    },
    {
      "cell_type": "code",
      "source": [
        "### 이미지 준비\n",
        "from PIL import Image\n",
        "img=Image.open('num4.jpg').resize((28,28)).convert('L')\n",
        "img=np.array(img);img=255-img; img=img/ 255.0\n",
        "\n",
        "plt.figure(figsize=(2,2))\n",
        "print(np.shape(img))  # x_train의 shpae은 6000,28,28\n",
        "plt.imshow(img,cmap='gray')\n",
        "plt.show()\n",
        "newimg=np.reshape(img,(1,28,28))  # 학습할때의 shpae이 6000,28,28  의 3차원 이기때문에"
      ],
      "metadata": {
        "colab": {
          "base_uri": "https://localhost:8080/",
          "height": 235
        },
        "id": "v3ZB9ttNhWMq",
        "outputId": "917affe3-8149-49b1-ba30-72f071606a31"
      },
      "execution_count": null,
      "outputs": [
        {
          "output_type": "stream",
          "name": "stdout",
          "text": [
            "(28, 28)\n"
          ]
        },
        {
          "output_type": "display_data",
          "data": {
            "text/plain": [
              "<Figure size 200x200 with 1 Axes>"
            ],
            "image/png": "[encoded data removed]"
          },
          "metadata": {}
        }
      ]
    },
    {
      "cell_type": "code",
      "source": [
        "######## 오류임\n",
        "model.predict(newimg)   # y값이 원핫인코딩이 되어서 들어간 자료는 이 작업으로 해서 가장 큰 값 위치"
      ],
      "metadata": {
        "colab": {
          "base_uri": "https://localhost:8080/"
        },
        "id": "mo9tmsaXjiPK",
        "outputId": "6440c92a-0b9c-4153-8289-90648360f69d"
      },
      "execution_count": null,
      "outputs": [
        {
          "output_type": "stream",
          "name": "stdout",
          "text": [
            "1/1 [==============================] - 0s 18ms/step\n"
          ]
        },
        {
          "output_type": "execute_result",
          "data": {
            "text/plain": [
              "array([[3.1580287e-04, 1.7704683e-03, 1.8418987e-01, 1.9418588e-02,\n",
              "        7.6202911e-01, 1.3205570e-03, 1.4479697e-02, 1.3171749e-02,\n",
              "        1.1146325e-03, 2.1895219e-03]], dtype=float32)"
            ]
          },
          "metadata": {},
          "execution_count": 63
        }
      ]
    },
    {
      "cell_type": "code",
      "source": [
        "## y값을 원핫인코딩하지 않고 모델작업에서 loss에서\n",
        "# loss='sparse_categorical_crossentropy' 하면 tf.nn.sofrmax해야 해야함\n",
        "\n",
        "predictions=model(newimg)\n",
        "result=tf.nn.softmax(predictions)\n",
        "num=np.argmax(result)  #가장큰 위치값 구하기, 숫자값이 최종결과라 여기서 끝이지만,\n",
        "num"
      ],
      "metadata": {
        "colab": {
          "base_uri": "https://localhost:8080/"
        },
        "id": "FJMa_Dd7ktOK",
        "outputId": "65cf6fe4-cd0b-4d7d-c410-cd6f9193dae5"
      },
      "execution_count": null,
      "outputs": [
        {
          "output_type": "execute_result",
          "data": {
            "text/plain": [
              "4"
            ]
          },
          "metadata": {},
          "execution_count": 88
        }
      ]
    },
    {
      "cell_type": "code",
      "source": [
        "### 만약 레이블이 따로 있다면\n",
        "class_num=['숫자0','숫자1','숫자2','숫자3','숫자4','숫자5','숫자6','숫자7','숫자8','숫자9']\n",
        "class_num[num]"
      ],
      "metadata": {
        "colab": {
          "base_uri": "https://localhost:8080/",
          "height": 35
        },
        "id": "nmbuSKZPl0fI",
        "outputId": "180759e0-25bb-42e6-b941-9cbe34ae9a49"
      },
      "execution_count": null,
      "outputs": [
        {
          "output_type": "execute_result",
          "data": {
            "text/plain": [
              "'숫자4'"
            ],
            "application/vnd.google.colaboratory.intrinsic+json": {
              "type": "string"
            }
          },
          "metadata": {},
          "execution_count": 65
        }
      ]
    }
  ]
}