{
 "cells": [
  {
   "cell_type": "code",
   "execution_count": 8,
   "metadata": {},
   "outputs": [
    {
     "name": "stderr",
     "output_type": "stream",
     "text": [
      "c:\\Users\\bluecom011\\miniconda3\\envs\\OpenAI\\Lib\\site-packages\\IPython\\core\\pylabtools.py:152: UserWarning: Glyph 49436 (\\N{HANGUL SYLLABLE SEO}) missing from current font.\n",
      "  fig.canvas.print_figure(bytes_io, **kw)\n",
      "c:\\Users\\bluecom011\\miniconda3\\envs\\OpenAI\\Lib\\site-packages\\IPython\\core\\pylabtools.py:152: UserWarning: Glyph 50872 (\\N{HANGUL SYLLABLE UL}) missing from current font.\n",
      "  fig.canvas.print_figure(bytes_io, **kw)\n",
      "c:\\Users\\bluecom011\\miniconda3\\envs\\OpenAI\\Lib\\site-packages\\IPython\\core\\pylabtools.py:152: UserWarning: Glyph 49884 (\\N{HANGUL SYLLABLE SI}) missing from current font.\n",
      "  fig.canvas.print_figure(bytes_io, **kw)\n",
      "c:\\Users\\bluecom011\\miniconda3\\envs\\OpenAI\\Lib\\site-packages\\IPython\\core\\pylabtools.py:152: UserWarning: Glyph 51088 (\\N{HANGUL SYLLABLE JA}) missing from current font.\n",
      "  fig.canvas.print_figure(bytes_io, **kw)\n",
      "c:\\Users\\bluecom011\\miniconda3\\envs\\OpenAI\\Lib\\site-packages\\IPython\\core\\pylabtools.py:152: UserWarning: Glyph 52824 (\\N{HANGUL SYLLABLE CI}) missing from current font.\n",
      "  fig.canvas.print_figure(bytes_io, **kw)\n",
      "c:\\Users\\bluecom011\\miniconda3\\envs\\OpenAI\\Lib\\site-packages\\IPython\\core\\pylabtools.py:152: UserWarning: Glyph 44396 (\\N{HANGUL SYLLABLE GU}) missing from current font.\n",
      "  fig.canvas.print_figure(bytes_io, **kw)\n",
      "c:\\Users\\bluecom011\\miniconda3\\envs\\OpenAI\\Lib\\site-packages\\IPython\\core\\pylabtools.py:152: UserWarning: Glyph 48324 (\\N{HANGUL SYLLABLE BYEOL}) missing from current font.\n",
      "  fig.canvas.print_figure(bytes_io, **kw)\n",
      "c:\\Users\\bluecom011\\miniconda3\\envs\\OpenAI\\Lib\\site-packages\\IPython\\core\\pylabtools.py:152: UserWarning: Glyph 51109 (\\N{HANGUL SYLLABLE JANG}) missing from current font.\n",
      "  fig.canvas.print_figure(bytes_io, **kw)\n",
      "c:\\Users\\bluecom011\\miniconda3\\envs\\OpenAI\\Lib\\site-packages\\IPython\\core\\pylabtools.py:152: UserWarning: Glyph 50528 (\\N{HANGUL SYLLABLE AE}) missing from current font.\n",
      "  fig.canvas.print_figure(bytes_io, **kw)\n",
      "c:\\Users\\bluecom011\\miniconda3\\envs\\OpenAI\\Lib\\site-packages\\IPython\\core\\pylabtools.py:152: UserWarning: Glyph 51064 (\\N{HANGUL SYLLABLE IN}) missing from current font.\n",
      "  fig.canvas.print_figure(bytes_io, **kw)\n",
      "c:\\Users\\bluecom011\\miniconda3\\envs\\OpenAI\\Lib\\site-packages\\IPython\\core\\pylabtools.py:152: UserWarning: Glyph 51452 (\\N{HANGUL SYLLABLE JU}) missing from current font.\n",
      "  fig.canvas.print_figure(bytes_io, **kw)\n",
      "c:\\Users\\bluecom011\\miniconda3\\envs\\OpenAI\\Lib\\site-packages\\IPython\\core\\pylabtools.py:152: UserWarning: Glyph 52264 (\\N{HANGUL SYLLABLE CA}) missing from current font.\n",
      "  fig.canvas.print_figure(bytes_io, **kw)\n",
      "c:\\Users\\bluecom011\\miniconda3\\envs\\OpenAI\\Lib\\site-packages\\IPython\\core\\pylabtools.py:152: UserWarning: Glyph 50948 (\\N{HANGUL SYLLABLE WI}) missing from current font.\n",
      "  fig.canvas.print_figure(bytes_io, **kw)\n",
      "c:\\Users\\bluecom011\\miniconda3\\envs\\OpenAI\\Lib\\site-packages\\IPython\\core\\pylabtools.py:152: UserWarning: Glyph 48152 (\\N{HANGUL SYLLABLE BAN}) missing from current font.\n",
      "  fig.canvas.print_figure(bytes_io, **kw)\n",
      "c:\\Users\\bluecom011\\miniconda3\\envs\\OpenAI\\Lib\\site-packages\\IPython\\core\\pylabtools.py:152: UserWarning: Glyph 44148 (\\N{HANGUL SYLLABLE GEON}) missing from current font.\n",
      "  fig.canvas.print_figure(bytes_io, **kw)\n",
      "c:\\Users\\bluecom011\\miniconda3\\envs\\OpenAI\\Lib\\site-packages\\IPython\\core\\pylabtools.py:152: UserWarning: Glyph 49688 (\\N{HANGUL SYLLABLE SU}) missing from current font.\n",
      "  fig.canvas.print_figure(bytes_io, **kw)\n",
      "c:\\Users\\bluecom011\\miniconda3\\envs\\OpenAI\\Lib\\site-packages\\IPython\\core\\pylabtools.py:152: UserWarning: Glyph 44053 (\\N{HANGUL SYLLABLE GANG}) missing from current font.\n",
      "  fig.canvas.print_figure(bytes_io, **kw)\n",
      "c:\\Users\\bluecom011\\miniconda3\\envs\\OpenAI\\Lib\\site-packages\\IPython\\core\\pylabtools.py:152: UserWarning: Glyph 46041 (\\N{HANGUL SYLLABLE DONG}) missing from current font.\n",
      "  fig.canvas.print_figure(bytes_io, **kw)\n",
      "c:\\Users\\bluecom011\\miniconda3\\envs\\OpenAI\\Lib\\site-packages\\IPython\\core\\pylabtools.py:152: UserWarning: Glyph 49569 (\\N{HANGUL SYLLABLE SONG}) missing from current font.\n",
      "  fig.canvas.print_figure(bytes_io, **kw)\n",
      "c:\\Users\\bluecom011\\miniconda3\\envs\\OpenAI\\Lib\\site-packages\\IPython\\core\\pylabtools.py:152: UserWarning: Glyph 54028 (\\N{HANGUL SYLLABLE PA}) missing from current font.\n",
      "  fig.canvas.print_figure(bytes_io, **kw)\n",
      "c:\\Users\\bluecom011\\miniconda3\\envs\\OpenAI\\Lib\\site-packages\\IPython\\core\\pylabtools.py:152: UserWarning: Glyph 45224 (\\N{HANGUL SYLLABLE NAM}) missing from current font.\n",
      "  fig.canvas.print_figure(bytes_io, **kw)\n",
      "c:\\Users\\bluecom011\\miniconda3\\envs\\OpenAI\\Lib\\site-packages\\IPython\\core\\pylabtools.py:152: UserWarning: Glyph 52488 (\\N{HANGUL SYLLABLE CO}) missing from current font.\n",
      "  fig.canvas.print_figure(bytes_io, **kw)\n",
      "c:\\Users\\bluecom011\\miniconda3\\envs\\OpenAI\\Lib\\site-packages\\IPython\\core\\pylabtools.py:152: UserWarning: Glyph 44288 (\\N{HANGUL SYLLABLE GWAN}) missing from current font.\n",
      "  fig.canvas.print_figure(bytes_io, **kw)\n",
      "c:\\Users\\bluecom011\\miniconda3\\envs\\OpenAI\\Lib\\site-packages\\IPython\\core\\pylabtools.py:152: UserWarning: Glyph 50501 (\\N{HANGUL SYLLABLE AG}) missing from current font.\n",
      "  fig.canvas.print_figure(bytes_io, **kw)\n",
      "c:\\Users\\bluecom011\\miniconda3\\envs\\OpenAI\\Lib\\site-packages\\IPython\\core\\pylabtools.py:152: UserWarning: Glyph 51089 (\\N{HANGUL SYLLABLE JAG}) missing from current font.\n",
      "  fig.canvas.print_figure(bytes_io, **kw)\n",
      "c:\\Users\\bluecom011\\miniconda3\\envs\\OpenAI\\Lib\\site-packages\\IPython\\core\\pylabtools.py:152: UserWarning: Glyph 50689 (\\N{HANGUL SYLLABLE YEONG}) missing from current font.\n",
      "  fig.canvas.print_figure(bytes_io, **kw)\n",
      "c:\\Users\\bluecom011\\miniconda3\\envs\\OpenAI\\Lib\\site-packages\\IPython\\core\\pylabtools.py:152: UserWarning: Glyph 46321 (\\N{HANGUL SYLLABLE DEUNG}) missing from current font.\n",
      "  fig.canvas.print_figure(bytes_io, **kw)\n",
      "c:\\Users\\bluecom011\\miniconda3\\envs\\OpenAI\\Lib\\site-packages\\IPython\\core\\pylabtools.py:152: UserWarning: Glyph 54252 (\\N{HANGUL SYLLABLE PO}) missing from current font.\n",
      "  fig.canvas.print_figure(bytes_io, **kw)\n",
      "c:\\Users\\bluecom011\\miniconda3\\envs\\OpenAI\\Lib\\site-packages\\IPython\\core\\pylabtools.py:152: UserWarning: Glyph 44552 (\\N{HANGUL SYLLABLE GEUM}) missing from current font.\n",
      "  fig.canvas.print_figure(bytes_io, **kw)\n",
      "c:\\Users\\bluecom011\\miniconda3\\envs\\OpenAI\\Lib\\site-packages\\IPython\\core\\pylabtools.py:152: UserWarning: Glyph 52380 (\\N{HANGUL SYLLABLE CEON}) missing from current font.\n",
      "  fig.canvas.print_figure(bytes_io, **kw)\n",
      "c:\\Users\\bluecom011\\miniconda3\\envs\\OpenAI\\Lib\\site-packages\\IPython\\core\\pylabtools.py:152: UserWarning: Glyph 47196 (\\N{HANGUL SYLLABLE RO}) missing from current font.\n",
      "  fig.canvas.print_figure(bytes_io, **kw)\n",
      "c:\\Users\\bluecom011\\miniconda3\\envs\\OpenAI\\Lib\\site-packages\\IPython\\core\\pylabtools.py:152: UserWarning: Glyph 50577 (\\N{HANGUL SYLLABLE YANG}) missing from current font.\n",
      "  fig.canvas.print_figure(bytes_io, **kw)\n",
      "c:\\Users\\bluecom011\\miniconda3\\envs\\OpenAI\\Lib\\site-packages\\IPython\\core\\pylabtools.py:152: UserWarning: Glyph 47560 (\\N{HANGUL SYLLABLE MA}) missing from current font.\n",
      "  fig.canvas.print_figure(bytes_io, **kw)\n",
      "c:\\Users\\bluecom011\\miniconda3\\envs\\OpenAI\\Lib\\site-packages\\IPython\\core\\pylabtools.py:152: UserWarning: Glyph 45824 (\\N{HANGUL SYLLABLE DAE}) missing from current font.\n",
      "  fig.canvas.print_figure(bytes_io, **kw)\n",
      "c:\\Users\\bluecom011\\miniconda3\\envs\\OpenAI\\Lib\\site-packages\\IPython\\core\\pylabtools.py:152: UserWarning: Glyph 47928 (\\N{HANGUL SYLLABLE MUN}) missing from current font.\n",
      "  fig.canvas.print_figure(bytes_io, **kw)\n",
      "c:\\Users\\bluecom011\\miniconda3\\envs\\OpenAI\\Lib\\site-packages\\IPython\\core\\pylabtools.py:152: UserWarning: Glyph 51008 (\\N{HANGUL SYLLABLE EUN}) missing from current font.\n",
      "  fig.canvas.print_figure(bytes_io, **kw)\n",
      "c:\\Users\\bluecom011\\miniconda3\\envs\\OpenAI\\Lib\\site-packages\\IPython\\core\\pylabtools.py:152: UserWarning: Glyph 54217 (\\N{HANGUL SYLLABLE PYEONG}) missing from current font.\n",
      "  fig.canvas.print_figure(bytes_io, **kw)\n",
      "c:\\Users\\bluecom011\\miniconda3\\envs\\OpenAI\\Lib\\site-packages\\IPython\\core\\pylabtools.py:152: UserWarning: Glyph 45432 (\\N{HANGUL SYLLABLE NO}) missing from current font.\n",
      "  fig.canvas.print_figure(bytes_io, **kw)\n",
      "c:\\Users\\bluecom011\\miniconda3\\envs\\OpenAI\\Lib\\site-packages\\IPython\\core\\pylabtools.py:152: UserWarning: Glyph 50896 (\\N{HANGUL SYLLABLE WEON}) missing from current font.\n",
      "  fig.canvas.print_figure(bytes_io, **kw)\n",
      "c:\\Users\\bluecom011\\miniconda3\\envs\\OpenAI\\Lib\\site-packages\\IPython\\core\\pylabtools.py:152: UserWarning: Glyph 46020 (\\N{HANGUL SYLLABLE DO}) missing from current font.\n",
      "  fig.canvas.print_figure(bytes_io, **kw)\n",
      "c:\\Users\\bluecom011\\miniconda3\\envs\\OpenAI\\Lib\\site-packages\\IPython\\core\\pylabtools.py:152: UserWarning: Glyph 48393 (\\N{HANGUL SYLLABLE BONG}) missing from current font.\n",
      "  fig.canvas.print_figure(bytes_io, **kw)\n",
      "c:\\Users\\bluecom011\\miniconda3\\envs\\OpenAI\\Lib\\site-packages\\IPython\\core\\pylabtools.py:152: UserWarning: Glyph 48513 (\\N{HANGUL SYLLABLE BUG}) missing from current font.\n",
      "  fig.canvas.print_figure(bytes_io, **kw)\n",
      "c:\\Users\\bluecom011\\miniconda3\\envs\\OpenAI\\Lib\\site-packages\\IPython\\core\\pylabtools.py:152: UserWarning: Glyph 49457 (\\N{HANGUL SYLLABLE SEONG}) missing from current font.\n",
      "  fig.canvas.print_figure(bytes_io, **kw)\n",
      "c:\\Users\\bluecom011\\miniconda3\\envs\\OpenAI\\Lib\\site-packages\\IPython\\core\\pylabtools.py:152: UserWarning: Glyph 51473 (\\N{HANGUL SYLLABLE JUNG}) missing from current font.\n",
      "  fig.canvas.print_figure(bytes_io, **kw)\n",
      "c:\\Users\\bluecom011\\miniconda3\\envs\\OpenAI\\Lib\\site-packages\\IPython\\core\\pylabtools.py:152: UserWarning: Glyph 46993 (\\N{HANGUL SYLLABLE RANG}) missing from current font.\n",
      "  fig.canvas.print_figure(bytes_io, **kw)\n",
      "c:\\Users\\bluecom011\\miniconda3\\envs\\OpenAI\\Lib\\site-packages\\IPython\\core\\pylabtools.py:152: UserWarning: Glyph 44305 (\\N{HANGUL SYLLABLE GWANG}) missing from current font.\n",
      "  fig.canvas.print_figure(bytes_io, **kw)\n",
      "c:\\Users\\bluecom011\\miniconda3\\envs\\OpenAI\\Lib\\site-packages\\IPython\\core\\pylabtools.py:152: UserWarning: Glyph 51652 (\\N{HANGUL SYLLABLE JIN}) missing from current font.\n",
      "  fig.canvas.print_figure(bytes_io, **kw)\n",
      "c:\\Users\\bluecom011\\miniconda3\\envs\\OpenAI\\Lib\\site-packages\\IPython\\core\\pylabtools.py:152: UserWarning: Glyph 50857 (\\N{HANGUL SYLLABLE YONG}) missing from current font.\n",
      "  fig.canvas.print_figure(bytes_io, **kw)\n",
      "c:\\Users\\bluecom011\\miniconda3\\envs\\OpenAI\\Lib\\site-packages\\IPython\\core\\pylabtools.py:152: UserWarning: Glyph 49328 (\\N{HANGUL SYLLABLE SAN}) missing from current font.\n",
      "  fig.canvas.print_figure(bytes_io, **kw)\n",
      "c:\\Users\\bluecom011\\miniconda3\\envs\\OpenAI\\Lib\\site-packages\\IPython\\core\\pylabtools.py:152: UserWarning: Glyph 51333 (\\N{HANGUL SYLLABLE JONG}) missing from current font.\n",
      "  fig.canvas.print_figure(bytes_io, **kw)\n"
     ]
    },
    {
     "data": {
      "image/png": "[encoded data removed]",
      "text/plain": [
       "<Figure size 1200x1200 with 2 Axes>"
      ]
     },
     "metadata": {},
     "output_type": "display_data"
    }
   ],
   "source": [
    "import pandas as pd\n",
    "import geopandas as gpd\n",
    "import matplotlib.pyplot as plt\n",
    "import requests\n",
    "\n",
    "# 파일 경로\n",
    "\n",
    "\n",
    "# 서울 행정구역 json raw파일(githubcontent)\n",
    "geojson_url = 'https://raw.githubusercontent.com/southkorea/seoul-maps/master/kostat/2013/json/seoul_municipalities_geo_simple.json'\n",
    "file_path = r'C:\\Users\\bluecom011\\Desktop\\공모전\\단속데이터\\서울특별시_장애인 주차구역 과태료 부과 현황_20230209 (2).CSV'\n",
    "# 데이터 로드\n",
    "data = pd.read_csv(file_path, encoding='cp949')\n",
    "\n",
    "# 자치구별 취업자 수 집계\n",
    "borough_counts = data['서울특별시(자치구)'].value_counts()\n",
    "borough_counts_df = borough_counts.reset_index()\n",
    "borough_counts_df.columns = ['서울특별시(자치구)', '건수']\n",
    "\n",
    "# 서울시 자치구 지리적 경계 데이터 로드\n",
    "seoul_map = gpd.read_file(geojson_url)\n",
    "\n",
    "# 데이터 병합\n",
    "merged_data = seoul_map.set_index('name').join(borough_counts_df.set_index('서울특별시(자치구)'))\n",
    "merged_data['건수'] = merged_data['건수'].fillna(0)\n",
    "\n",
    "# 시각화\n",
    "fig, ax = plt.subplots(1, 1, figsize=(12, 12))\n",
    "merged_data.plot(column='건수', ax=ax, legend=True, cmap='OrRd', edgecolor='black')\n",
    "ax.set_title('서울시 자치구별 장애인 주차위반 건수', fontsize=15)\n",
    "\n",
    "# 자치구 이름 추가\n",
    "for idx, row in merged_data.iterrows():\n",
    "    plt.annotate(text=idx, xy=(row['geometry'].centroid.x, row['geometry'].centroid.y),\n",
    "                 horizontalalignment='center', fontsize=8)\n",
    "\n",
    "ax.axis('off')\n",
    "plt.show()\n"
   ]
  },
  {
   "cell_type": "code",
   "execution_count": 53,
   "metadata": {},
   "outputs": [
    {
     "ename": "TypeError",
     "evalue": "unsupported operand type(s) for -: 'str' and 'str'",
     "output_type": "error",
     "traceback": [
      "\u001b[1;31m---------------------------------------------------------------------------\u001b[0m",
      "\u001b[1;31mTypeError\u001b[0m                                 Traceback (most recent call last)",
      "Cell \u001b[1;32mIn[53], line 13\u001b[0m\n\u001b[0;32m     10\u001b[0m \u001b[38;5;66;03m# 데이터 로드\u001b[39;00m\n\u001b[0;32m     11\u001b[0m data_pay \u001b[38;5;241m=\u001b[39m pd\u001b[38;5;241m.\u001b[39mread_csv(file_path, encoding\u001b[38;5;241m=\u001b[39m\u001b[38;5;124m'\u001b[39m\u001b[38;5;124mcp949\u001b[39m\u001b[38;5;124m'\u001b[39m)\n\u001b[1;32m---> 13\u001b[0m bins \u001b[38;5;241m=\u001b[39m \u001b[38;5;28mlist\u001b[39m(\u001b[43mdata_pay\u001b[49m\u001b[38;5;241;43m.\u001b[39;49m\u001b[43mquantile\u001b[49m\u001b[43m(\u001b[49m\u001b[43m[\u001b[49m\u001b[38;5;241;43m0\u001b[39;49m\u001b[43m,\u001b[49m\u001b[43m \u001b[49m\u001b[38;5;241;43m0.25\u001b[39;49m\u001b[43m,\u001b[49m\u001b[43m \u001b[49m\u001b[38;5;241;43m0.5\u001b[39;49m\u001b[43m,\u001b[49m\u001b[43m \u001b[49m\u001b[38;5;241;43m0.75\u001b[39;49m\u001b[43m,\u001b[49m\u001b[43m \u001b[49m\u001b[38;5;241;43m1\u001b[39;49m\u001b[43m]\u001b[49m\u001b[43m)\u001b[49m)\n\u001b[0;32m     14\u001b[0m \u001b[38;5;66;03m# 서울의 중심 좌표로 맵 생성\u001b[39;00m\n\u001b[0;32m     15\u001b[0m m \u001b[38;5;241m=\u001b[39m folium\u001b[38;5;241m.\u001b[39mMap(location\u001b[38;5;241m=\u001b[39m[\u001b[38;5;241m37.5665\u001b[39m, \u001b[38;5;241m126.9780\u001b[39m], zoom_start\u001b[38;5;241m=\u001b[39m\u001b[38;5;241m12\u001b[39m)\n",
      "File \u001b[1;32mc:\\Users\\bluecom011\\miniconda3\\envs\\OpenAI\\Lib\\site-packages\\pandas\\core\\frame.py:12164\u001b[0m, in \u001b[0;36mDataFrame.quantile\u001b[1;34m(self, q, axis, numeric_only, interpolation, method)\u001b[0m\n\u001b[0;32m  12160\u001b[0m     \u001b[38;5;28;01mraise\u001b[39;00m \u001b[38;5;167;01mValueError\u001b[39;00m(\n\u001b[0;32m  12161\u001b[0m         \u001b[38;5;124mf\u001b[39m\u001b[38;5;124m\"\u001b[39m\u001b[38;5;124mInvalid method: \u001b[39m\u001b[38;5;132;01m{\u001b[39;00mmethod\u001b[38;5;132;01m}\u001b[39;00m\u001b[38;5;124m. Method must be in \u001b[39m\u001b[38;5;132;01m{\u001b[39;00mvalid_method\u001b[38;5;132;01m}\u001b[39;00m\u001b[38;5;124m.\u001b[39m\u001b[38;5;124m\"\u001b[39m\n\u001b[0;32m  12162\u001b[0m     )\n\u001b[0;32m  12163\u001b[0m \u001b[38;5;28;01mif\u001b[39;00m method \u001b[38;5;241m==\u001b[39m \u001b[38;5;124m\"\u001b[39m\u001b[38;5;124msingle\u001b[39m\u001b[38;5;124m\"\u001b[39m:\n\u001b[1;32m> 12164\u001b[0m     res \u001b[38;5;241m=\u001b[39m \u001b[43mdata\u001b[49m\u001b[38;5;241;43m.\u001b[39;49m\u001b[43m_mgr\u001b[49m\u001b[38;5;241;43m.\u001b[39;49m\u001b[43mquantile\u001b[49m\u001b[43m(\u001b[49m\u001b[43mqs\u001b[49m\u001b[38;5;241;43m=\u001b[39;49m\u001b[43mq\u001b[49m\u001b[43m,\u001b[49m\u001b[43m \u001b[49m\u001b[43minterpolation\u001b[49m\u001b[38;5;241;43m=\u001b[39;49m\u001b[43minterpolation\u001b[49m\u001b[43m)\u001b[49m\n\u001b[0;32m  12165\u001b[0m \u001b[38;5;28;01melif\u001b[39;00m method \u001b[38;5;241m==\u001b[39m \u001b[38;5;124m\"\u001b[39m\u001b[38;5;124mtable\u001b[39m\u001b[38;5;124m\"\u001b[39m:\n\u001b[0;32m  12166\u001b[0m     valid_interpolation \u001b[38;5;241m=\u001b[39m {\u001b[38;5;124m\"\u001b[39m\u001b[38;5;124mnearest\u001b[39m\u001b[38;5;124m\"\u001b[39m, \u001b[38;5;124m\"\u001b[39m\u001b[38;5;124mlower\u001b[39m\u001b[38;5;124m\"\u001b[39m, \u001b[38;5;124m\"\u001b[39m\u001b[38;5;124mhigher\u001b[39m\u001b[38;5;124m\"\u001b[39m}\n",
      "File \u001b[1;32mc:\\Users\\bluecom011\\miniconda3\\envs\\OpenAI\\Lib\\site-packages\\pandas\\core\\internals\\managers.py:1550\u001b[0m, in \u001b[0;36mBlockManager.quantile\u001b[1;34m(self, qs, interpolation)\u001b[0m\n\u001b[0;32m   1546\u001b[0m new_axes \u001b[38;5;241m=\u001b[39m \u001b[38;5;28mlist\u001b[39m(\u001b[38;5;28mself\u001b[39m\u001b[38;5;241m.\u001b[39maxes)\n\u001b[0;32m   1547\u001b[0m new_axes[\u001b[38;5;241m1\u001b[39m] \u001b[38;5;241m=\u001b[39m Index(qs, dtype\u001b[38;5;241m=\u001b[39mnp\u001b[38;5;241m.\u001b[39mfloat64)\n\u001b[0;32m   1549\u001b[0m blocks \u001b[38;5;241m=\u001b[39m [\n\u001b[1;32m-> 1550\u001b[0m     \u001b[43mblk\u001b[49m\u001b[38;5;241;43m.\u001b[39;49m\u001b[43mquantile\u001b[49m\u001b[43m(\u001b[49m\u001b[43mqs\u001b[49m\u001b[38;5;241;43m=\u001b[39;49m\u001b[43mqs\u001b[49m\u001b[43m,\u001b[49m\u001b[43m \u001b[49m\u001b[43minterpolation\u001b[49m\u001b[38;5;241;43m=\u001b[39;49m\u001b[43minterpolation\u001b[49m\u001b[43m)\u001b[49m \u001b[38;5;28;01mfor\u001b[39;00m blk \u001b[38;5;129;01min\u001b[39;00m \u001b[38;5;28mself\u001b[39m\u001b[38;5;241m.\u001b[39mblocks\n\u001b[0;32m   1551\u001b[0m ]\n\u001b[0;32m   1553\u001b[0m \u001b[38;5;28;01mreturn\u001b[39;00m \u001b[38;5;28mtype\u001b[39m(\u001b[38;5;28mself\u001b[39m)(blocks, new_axes)\n",
      "File \u001b[1;32mc:\\Users\\bluecom011\\miniconda3\\envs\\OpenAI\\Lib\\site-packages\\pandas\\core\\internals\\blocks.py:1884\u001b[0m, in \u001b[0;36mBlock.quantile\u001b[1;34m(self, qs, interpolation)\u001b[0m\n\u001b[0;32m   1881\u001b[0m \u001b[38;5;28;01massert\u001b[39;00m \u001b[38;5;28mself\u001b[39m\u001b[38;5;241m.\u001b[39mndim \u001b[38;5;241m==\u001b[39m \u001b[38;5;241m2\u001b[39m\n\u001b[0;32m   1882\u001b[0m \u001b[38;5;28;01massert\u001b[39;00m is_list_like(qs)  \u001b[38;5;66;03m# caller is responsible for this\u001b[39;00m\n\u001b[1;32m-> 1884\u001b[0m result \u001b[38;5;241m=\u001b[39m \u001b[43mquantile_compat\u001b[49m\u001b[43m(\u001b[49m\u001b[38;5;28;43mself\u001b[39;49m\u001b[38;5;241;43m.\u001b[39;49m\u001b[43mvalues\u001b[49m\u001b[43m,\u001b[49m\u001b[43m \u001b[49m\u001b[43mnp\u001b[49m\u001b[38;5;241;43m.\u001b[39;49m\u001b[43masarray\u001b[49m\u001b[43m(\u001b[49m\u001b[43mqs\u001b[49m\u001b[38;5;241;43m.\u001b[39;49m\u001b[43m_values\u001b[49m\u001b[43m)\u001b[49m\u001b[43m,\u001b[49m\u001b[43m \u001b[49m\u001b[43minterpolation\u001b[49m\u001b[43m)\u001b[49m\n\u001b[0;32m   1885\u001b[0m \u001b[38;5;66;03m# ensure_block_shape needed for cases where we start with EA and result\u001b[39;00m\n\u001b[0;32m   1886\u001b[0m \u001b[38;5;66;03m#  is ndarray, e.g. IntegerArray, SparseArray\u001b[39;00m\n\u001b[0;32m   1887\u001b[0m result \u001b[38;5;241m=\u001b[39m ensure_block_shape(result, ndim\u001b[38;5;241m=\u001b[39m\u001b[38;5;241m2\u001b[39m)\n",
      "File \u001b[1;32mc:\\Users\\bluecom011\\miniconda3\\envs\\OpenAI\\Lib\\site-packages\\pandas\\core\\array_algos\\quantile.py:39\u001b[0m, in \u001b[0;36mquantile_compat\u001b[1;34m(values, qs, interpolation)\u001b[0m\n\u001b[0;32m     37\u001b[0m     fill_value \u001b[38;5;241m=\u001b[39m na_value_for_dtype(values\u001b[38;5;241m.\u001b[39mdtype, compat\u001b[38;5;241m=\u001b[39m\u001b[38;5;28;01mFalse\u001b[39;00m)\n\u001b[0;32m     38\u001b[0m     mask \u001b[38;5;241m=\u001b[39m isna(values)\n\u001b[1;32m---> 39\u001b[0m     \u001b[38;5;28;01mreturn\u001b[39;00m \u001b[43mquantile_with_mask\u001b[49m\u001b[43m(\u001b[49m\u001b[43mvalues\u001b[49m\u001b[43m,\u001b[49m\u001b[43m \u001b[49m\u001b[43mmask\u001b[49m\u001b[43m,\u001b[49m\u001b[43m \u001b[49m\u001b[43mfill_value\u001b[49m\u001b[43m,\u001b[49m\u001b[43m \u001b[49m\u001b[43mqs\u001b[49m\u001b[43m,\u001b[49m\u001b[43m \u001b[49m\u001b[43minterpolation\u001b[49m\u001b[43m)\u001b[49m\n\u001b[0;32m     40\u001b[0m \u001b[38;5;28;01melse\u001b[39;00m:\n\u001b[0;32m     41\u001b[0m     \u001b[38;5;28;01mreturn\u001b[39;00m values\u001b[38;5;241m.\u001b[39m_quantile(qs, interpolation)\n",
      "File \u001b[1;32mc:\\Users\\bluecom011\\miniconda3\\envs\\OpenAI\\Lib\\site-packages\\pandas\\core\\array_algos\\quantile.py:97\u001b[0m, in \u001b[0;36mquantile_with_mask\u001b[1;34m(values, mask, fill_value, qs, interpolation)\u001b[0m\n\u001b[0;32m     95\u001b[0m     result \u001b[38;5;241m=\u001b[39m np\u001b[38;5;241m.\u001b[39mrepeat(flat, \u001b[38;5;28mlen\u001b[39m(values))\u001b[38;5;241m.\u001b[39mreshape(\u001b[38;5;28mlen\u001b[39m(values), \u001b[38;5;28mlen\u001b[39m(qs))\n\u001b[0;32m     96\u001b[0m \u001b[38;5;28;01melse\u001b[39;00m:\n\u001b[1;32m---> 97\u001b[0m     result \u001b[38;5;241m=\u001b[39m \u001b[43m_nanpercentile\u001b[49m\u001b[43m(\u001b[49m\n\u001b[0;32m     98\u001b[0m \u001b[43m        \u001b[49m\u001b[43mvalues\u001b[49m\u001b[43m,\u001b[49m\n\u001b[0;32m     99\u001b[0m \u001b[43m        \u001b[49m\u001b[43mqs\u001b[49m\u001b[43m \u001b[49m\u001b[38;5;241;43m*\u001b[39;49m\u001b[43m \u001b[49m\u001b[38;5;241;43m100.0\u001b[39;49m\u001b[43m,\u001b[49m\n\u001b[0;32m    100\u001b[0m \u001b[43m        \u001b[49m\u001b[43mna_value\u001b[49m\u001b[38;5;241;43m=\u001b[39;49m\u001b[43mfill_value\u001b[49m\u001b[43m,\u001b[49m\n\u001b[0;32m    101\u001b[0m \u001b[43m        \u001b[49m\u001b[43mmask\u001b[49m\u001b[38;5;241;43m=\u001b[39;49m\u001b[43mmask\u001b[49m\u001b[43m,\u001b[49m\n\u001b[0;32m    102\u001b[0m \u001b[43m        \u001b[49m\u001b[43minterpolation\u001b[49m\u001b[38;5;241;43m=\u001b[39;49m\u001b[43minterpolation\u001b[49m\u001b[43m,\u001b[49m\n\u001b[0;32m    103\u001b[0m \u001b[43m    \u001b[49m\u001b[43m)\u001b[49m\n\u001b[0;32m    105\u001b[0m     result \u001b[38;5;241m=\u001b[39m np\u001b[38;5;241m.\u001b[39marray(result, copy\u001b[38;5;241m=\u001b[39m\u001b[38;5;28;01mFalse\u001b[39;00m)\n\u001b[0;32m    106\u001b[0m     result \u001b[38;5;241m=\u001b[39m result\u001b[38;5;241m.\u001b[39mT\n",
      "File \u001b[1;32mc:\\Users\\bluecom011\\miniconda3\\envs\\OpenAI\\Lib\\site-packages\\pandas\\core\\array_algos\\quantile.py:218\u001b[0m, in \u001b[0;36m_nanpercentile\u001b[1;34m(values, qs, na_value, mask, interpolation)\u001b[0m\n\u001b[0;32m    216\u001b[0m     \u001b[38;5;28;01mreturn\u001b[39;00m result\n\u001b[0;32m    217\u001b[0m \u001b[38;5;28;01melse\u001b[39;00m:\n\u001b[1;32m--> 218\u001b[0m     \u001b[38;5;28;01mreturn\u001b[39;00m \u001b[43mnp\u001b[49m\u001b[38;5;241;43m.\u001b[39;49m\u001b[43mpercentile\u001b[49m\u001b[43m(\u001b[49m\n\u001b[0;32m    219\u001b[0m \u001b[43m        \u001b[49m\u001b[43mvalues\u001b[49m\u001b[43m,\u001b[49m\n\u001b[0;32m    220\u001b[0m \u001b[43m        \u001b[49m\u001b[43mqs\u001b[49m\u001b[43m,\u001b[49m\n\u001b[0;32m    221\u001b[0m \u001b[43m        \u001b[49m\u001b[43maxis\u001b[49m\u001b[38;5;241;43m=\u001b[39;49m\u001b[38;5;241;43m1\u001b[39;49m\u001b[43m,\u001b[49m\n\u001b[0;32m    222\u001b[0m \u001b[43m        \u001b[49m\u001b[38;5;66;43;03m# error: No overload variant of \"percentile\" matches argument types\u001b[39;49;00m\n\u001b[0;32m    223\u001b[0m \u001b[43m        \u001b[49m\u001b[38;5;66;43;03m# \"ndarray[Any, Any]\", \"ndarray[Any, dtype[floating[_64Bit]]]\",\u001b[39;49;00m\n\u001b[0;32m    224\u001b[0m \u001b[43m        \u001b[49m\u001b[38;5;66;43;03m# \"int\", \"Dict[str, str]\"  [call-overload]\u001b[39;49;00m\n\u001b[0;32m    225\u001b[0m \u001b[43m        \u001b[49m\u001b[43mmethod\u001b[49m\u001b[38;5;241;43m=\u001b[39;49m\u001b[43minterpolation\u001b[49m\u001b[43m,\u001b[49m\u001b[43m  \u001b[49m\u001b[38;5;66;43;03m# type: ignore[call-overload]\u001b[39;49;00m\n\u001b[0;32m    226\u001b[0m \u001b[43m    \u001b[49m\u001b[43m)\u001b[49m\n",
      "File \u001b[1;32mc:\\Users\\bluecom011\\miniconda3\\envs\\OpenAI\\Lib\\site-packages\\numpy\\lib\\function_base.py:4283\u001b[0m, in \u001b[0;36mpercentile\u001b[1;34m(a, q, axis, out, overwrite_input, method, keepdims, interpolation)\u001b[0m\n\u001b[0;32m   4281\u001b[0m \u001b[38;5;28;01mif\u001b[39;00m \u001b[38;5;129;01mnot\u001b[39;00m _quantile_is_valid(q):\n\u001b[0;32m   4282\u001b[0m     \u001b[38;5;28;01mraise\u001b[39;00m \u001b[38;5;167;01mValueError\u001b[39;00m(\u001b[38;5;124m\"\u001b[39m\u001b[38;5;124mPercentiles must be in the range [0, 100]\u001b[39m\u001b[38;5;124m\"\u001b[39m)\n\u001b[1;32m-> 4283\u001b[0m \u001b[38;5;28;01mreturn\u001b[39;00m \u001b[43m_quantile_unchecked\u001b[49m\u001b[43m(\u001b[49m\n\u001b[0;32m   4284\u001b[0m \u001b[43m    \u001b[49m\u001b[43ma\u001b[49m\u001b[43m,\u001b[49m\u001b[43m \u001b[49m\u001b[43mq\u001b[49m\u001b[43m,\u001b[49m\u001b[43m \u001b[49m\u001b[43maxis\u001b[49m\u001b[43m,\u001b[49m\u001b[43m \u001b[49m\u001b[43mout\u001b[49m\u001b[43m,\u001b[49m\u001b[43m \u001b[49m\u001b[43moverwrite_input\u001b[49m\u001b[43m,\u001b[49m\u001b[43m \u001b[49m\u001b[43mmethod\u001b[49m\u001b[43m,\u001b[49m\u001b[43m \u001b[49m\u001b[43mkeepdims\u001b[49m\u001b[43m)\u001b[49m\n",
      "File \u001b[1;32mc:\\Users\\bluecom011\\miniconda3\\envs\\OpenAI\\Lib\\site-packages\\numpy\\lib\\function_base.py:4555\u001b[0m, in \u001b[0;36m_quantile_unchecked\u001b[1;34m(a, q, axis, out, overwrite_input, method, keepdims)\u001b[0m\n\u001b[0;32m   4547\u001b[0m \u001b[38;5;28;01mdef\u001b[39;00m \u001b[38;5;21m_quantile_unchecked\u001b[39m(a,\n\u001b[0;32m   4548\u001b[0m                         q,\n\u001b[0;32m   4549\u001b[0m                         axis\u001b[38;5;241m=\u001b[39m\u001b[38;5;28;01mNone\u001b[39;00m,\n\u001b[1;32m   (...)\u001b[0m\n\u001b[0;32m   4552\u001b[0m                         method\u001b[38;5;241m=\u001b[39m\u001b[38;5;124m\"\u001b[39m\u001b[38;5;124mlinear\u001b[39m\u001b[38;5;124m\"\u001b[39m,\n\u001b[0;32m   4553\u001b[0m                         keepdims\u001b[38;5;241m=\u001b[39m\u001b[38;5;28;01mFalse\u001b[39;00m):\n\u001b[0;32m   4554\u001b[0m \u001b[38;5;250m    \u001b[39m\u001b[38;5;124;03m\"\"\"Assumes that q is in [0, 1], and is an ndarray\"\"\"\u001b[39;00m\n\u001b[1;32m-> 4555\u001b[0m     \u001b[38;5;28;01mreturn\u001b[39;00m \u001b[43m_ureduce\u001b[49m\u001b[43m(\u001b[49m\u001b[43ma\u001b[49m\u001b[43m,\u001b[49m\n\u001b[0;32m   4556\u001b[0m \u001b[43m                    \u001b[49m\u001b[43mfunc\u001b[49m\u001b[38;5;241;43m=\u001b[39;49m\u001b[43m_quantile_ureduce_func\u001b[49m\u001b[43m,\u001b[49m\n\u001b[0;32m   4557\u001b[0m \u001b[43m                    \u001b[49m\u001b[43mq\u001b[49m\u001b[38;5;241;43m=\u001b[39;49m\u001b[43mq\u001b[49m\u001b[43m,\u001b[49m\n\u001b[0;32m   4558\u001b[0m \u001b[43m                    \u001b[49m\u001b[43mkeepdims\u001b[49m\u001b[38;5;241;43m=\u001b[39;49m\u001b[43mkeepdims\u001b[49m\u001b[43m,\u001b[49m\n\u001b[0;32m   4559\u001b[0m \u001b[43m                    \u001b[49m\u001b[43maxis\u001b[49m\u001b[38;5;241;43m=\u001b[39;49m\u001b[43maxis\u001b[49m\u001b[43m,\u001b[49m\n\u001b[0;32m   4560\u001b[0m \u001b[43m                    \u001b[49m\u001b[43mout\u001b[49m\u001b[38;5;241;43m=\u001b[39;49m\u001b[43mout\u001b[49m\u001b[43m,\u001b[49m\n\u001b[0;32m   4561\u001b[0m \u001b[43m                    \u001b[49m\u001b[43moverwrite_input\u001b[49m\u001b[38;5;241;43m=\u001b[39;49m\u001b[43moverwrite_input\u001b[49m\u001b[43m,\u001b[49m\n\u001b[0;32m   4562\u001b[0m \u001b[43m                    \u001b[49m\u001b[43mmethod\u001b[49m\u001b[38;5;241;43m=\u001b[39;49m\u001b[43mmethod\u001b[49m\u001b[43m)\u001b[49m\n",
      "File \u001b[1;32mc:\\Users\\bluecom011\\miniconda3\\envs\\OpenAI\\Lib\\site-packages\\numpy\\lib\\function_base.py:3823\u001b[0m, in \u001b[0;36m_ureduce\u001b[1;34m(a, func, keepdims, **kwargs)\u001b[0m\n\u001b[0;32m   3820\u001b[0m             index_out \u001b[38;5;241m=\u001b[39m (\u001b[38;5;241m0\u001b[39m, ) \u001b[38;5;241m*\u001b[39m nd\n\u001b[0;32m   3821\u001b[0m             kwargs[\u001b[38;5;124m'\u001b[39m\u001b[38;5;124mout\u001b[39m\u001b[38;5;124m'\u001b[39m] \u001b[38;5;241m=\u001b[39m out[(\u001b[38;5;28mEllipsis\u001b[39m, ) \u001b[38;5;241m+\u001b[39m index_out]\n\u001b[1;32m-> 3823\u001b[0m r \u001b[38;5;241m=\u001b[39m \u001b[43mfunc\u001b[49m\u001b[43m(\u001b[49m\u001b[43ma\u001b[49m\u001b[43m,\u001b[49m\u001b[43m \u001b[49m\u001b[38;5;241;43m*\u001b[39;49m\u001b[38;5;241;43m*\u001b[39;49m\u001b[43mkwargs\u001b[49m\u001b[43m)\u001b[49m\n\u001b[0;32m   3825\u001b[0m \u001b[38;5;28;01mif\u001b[39;00m out \u001b[38;5;129;01mis\u001b[39;00m \u001b[38;5;129;01mnot\u001b[39;00m \u001b[38;5;28;01mNone\u001b[39;00m:\n\u001b[0;32m   3826\u001b[0m     \u001b[38;5;28;01mreturn\u001b[39;00m out\n",
      "File \u001b[1;32mc:\\Users\\bluecom011\\miniconda3\\envs\\OpenAI\\Lib\\site-packages\\numpy\\lib\\function_base.py:4721\u001b[0m, in \u001b[0;36m_quantile_ureduce_func\u001b[1;34m(a, q, axis, out, overwrite_input, method)\u001b[0m\n\u001b[0;32m   4719\u001b[0m     \u001b[38;5;28;01melse\u001b[39;00m:\n\u001b[0;32m   4720\u001b[0m         arr \u001b[38;5;241m=\u001b[39m a\u001b[38;5;241m.\u001b[39mcopy()\n\u001b[1;32m-> 4721\u001b[0m result \u001b[38;5;241m=\u001b[39m \u001b[43m_quantile\u001b[49m\u001b[43m(\u001b[49m\u001b[43marr\u001b[49m\u001b[43m,\u001b[49m\n\u001b[0;32m   4722\u001b[0m \u001b[43m                   \u001b[49m\u001b[43mquantiles\u001b[49m\u001b[38;5;241;43m=\u001b[39;49m\u001b[43mq\u001b[49m\u001b[43m,\u001b[49m\n\u001b[0;32m   4723\u001b[0m \u001b[43m                   \u001b[49m\u001b[43maxis\u001b[49m\u001b[38;5;241;43m=\u001b[39;49m\u001b[43maxis\u001b[49m\u001b[43m,\u001b[49m\n\u001b[0;32m   4724\u001b[0m \u001b[43m                   \u001b[49m\u001b[43mmethod\u001b[49m\u001b[38;5;241;43m=\u001b[39;49m\u001b[43mmethod\u001b[49m\u001b[43m,\u001b[49m\n\u001b[0;32m   4725\u001b[0m \u001b[43m                   \u001b[49m\u001b[43mout\u001b[49m\u001b[38;5;241;43m=\u001b[39;49m\u001b[43mout\u001b[49m\u001b[43m)\u001b[49m\n\u001b[0;32m   4726\u001b[0m \u001b[38;5;28;01mreturn\u001b[39;00m result\n",
      "File \u001b[1;32mc:\\Users\\bluecom011\\miniconda3\\envs\\OpenAI\\Lib\\site-packages\\numpy\\lib\\function_base.py:4840\u001b[0m, in \u001b[0;36m_quantile\u001b[1;34m(arr, quantiles, axis, method, out)\u001b[0m\n\u001b[0;32m   4838\u001b[0m     result_shape \u001b[38;5;241m=\u001b[39m virtual_indexes\u001b[38;5;241m.\u001b[39mshape \u001b[38;5;241m+\u001b[39m (\u001b[38;5;241m1\u001b[39m,) \u001b[38;5;241m*\u001b[39m (arr\u001b[38;5;241m.\u001b[39mndim \u001b[38;5;241m-\u001b[39m \u001b[38;5;241m1\u001b[39m)\n\u001b[0;32m   4839\u001b[0m     gamma \u001b[38;5;241m=\u001b[39m gamma\u001b[38;5;241m.\u001b[39mreshape(result_shape)\n\u001b[1;32m-> 4840\u001b[0m     result \u001b[38;5;241m=\u001b[39m \u001b[43m_lerp\u001b[49m\u001b[43m(\u001b[49m\u001b[43mprevious\u001b[49m\u001b[43m,\u001b[49m\n\u001b[0;32m   4841\u001b[0m \u001b[43m                   \u001b[49m\u001b[38;5;28;43mnext\u001b[39;49m\u001b[43m,\u001b[49m\n\u001b[0;32m   4842\u001b[0m \u001b[43m                   \u001b[49m\u001b[43mgamma\u001b[49m\u001b[43m,\u001b[49m\n\u001b[0;32m   4843\u001b[0m \u001b[43m                   \u001b[49m\u001b[43mout\u001b[49m\u001b[38;5;241;43m=\u001b[39;49m\u001b[43mout\u001b[49m\u001b[43m)\u001b[49m\n\u001b[0;32m   4844\u001b[0m \u001b[38;5;28;01mif\u001b[39;00m np\u001b[38;5;241m.\u001b[39many(slices_having_nans):\n\u001b[0;32m   4845\u001b[0m     \u001b[38;5;28;01mif\u001b[39;00m result\u001b[38;5;241m.\u001b[39mndim \u001b[38;5;241m==\u001b[39m \u001b[38;5;241m0\u001b[39m \u001b[38;5;129;01mand\u001b[39;00m out \u001b[38;5;129;01mis\u001b[39;00m \u001b[38;5;28;01mNone\u001b[39;00m:\n\u001b[0;32m   4846\u001b[0m         \u001b[38;5;66;03m# can't write to a scalar, but indexing will be correct\u001b[39;00m\n",
      "File \u001b[1;32mc:\\Users\\bluecom011\\miniconda3\\envs\\OpenAI\\Lib\\site-packages\\numpy\\lib\\function_base.py:4655\u001b[0m, in \u001b[0;36m_lerp\u001b[1;34m(a, b, t, out)\u001b[0m\n\u001b[0;32m   4641\u001b[0m \u001b[38;5;28;01mdef\u001b[39;00m \u001b[38;5;21m_lerp\u001b[39m(a, b, t, out\u001b[38;5;241m=\u001b[39m\u001b[38;5;28;01mNone\u001b[39;00m):\n\u001b[0;32m   4642\u001b[0m \u001b[38;5;250m    \u001b[39m\u001b[38;5;124;03m\"\"\"\u001b[39;00m\n\u001b[0;32m   4643\u001b[0m \u001b[38;5;124;03m    Compute the linear interpolation weighted by gamma on each point of\u001b[39;00m\n\u001b[0;32m   4644\u001b[0m \u001b[38;5;124;03m    two same shape array.\u001b[39;00m\n\u001b[1;32m   (...)\u001b[0m\n\u001b[0;32m   4653\u001b[0m \u001b[38;5;124;03m        Output array.\u001b[39;00m\n\u001b[0;32m   4654\u001b[0m \u001b[38;5;124;03m    \"\"\"\u001b[39;00m\n\u001b[1;32m-> 4655\u001b[0m     diff_b_a \u001b[38;5;241m=\u001b[39m \u001b[43msubtract\u001b[49m\u001b[43m(\u001b[49m\u001b[43mb\u001b[49m\u001b[43m,\u001b[49m\u001b[43m \u001b[49m\u001b[43ma\u001b[49m\u001b[43m)\u001b[49m\n\u001b[0;32m   4656\u001b[0m     \u001b[38;5;66;03m# asanyarray is a stop-gap until gh-13105\u001b[39;00m\n\u001b[0;32m   4657\u001b[0m     lerp_interpolation \u001b[38;5;241m=\u001b[39m asanyarray(add(a, diff_b_a \u001b[38;5;241m*\u001b[39m t, out\u001b[38;5;241m=\u001b[39mout))\n",
      "\u001b[1;31mTypeError\u001b[0m: unsupported operand type(s) for -: 'str' and 'str'"
     ]
    }
   ],
   "source": [
    "import json\n",
    "import folium\n",
    "import pandas as pd\n",
    "import geopandas as gpd\n",
    "import matplotlib.pyplot as plt\n",
    "import requests\n",
    "\n",
    "# 미국 주별 실업률 데이터 불러오기\n",
    "file_path = r'C:\\Users\\bluecom011\\Desktop\\공모전\\단속데이터\\서울특별시_장애인 주차구역 과태료 부과 현황_20230209 (2).CSV'\n",
    "# 데이터 로드\n",
    "data_pay = pd.read_csv(file_path, encoding='cp949')\n",
    "\n",
    "bins = list(data_pay.quantile([0, 0.25, 0.5, 0.75, 1]))\n",
    "# 서울의 중심 좌표로 맵 생성\n",
    "m = folium.Map(location=[37.5665, 126.9780], zoom_start=12)\n",
    "import json\n",
    "import folium\n",
    "import pandas as pd\n",
    "import geopandas as gpd\n",
    "import matplotlib.pyplot as plt\n",
    "import requests\n",
    "\n",
    "# 미국 주별 실업률 데이터 불러오기\n",
    "file_path = r'C:\\Users\\bluecom011\\Desktop\\공모전\\단속데이터\\서울특별시_장애인 주차구역 과태료 부과 현황_20230209 (2).CSV'\n",
    "# 데이터 로드\n",
    "data_pay = pd.read_csv(file_path, encoding='cp949')\n",
    "\n",
    "# Set the bin values for color scale\n",
    "bins = list(data_pay.quantile([0, 0.25, 0.5, 0.75, 1]))\n",
    "\n",
    "# 서울의 중심 좌표로 맵 생성\n",
    "m = folium.Map(location=[37.5665, 126.9780], zoom_start=12)\n",
    "\n",
    "folium.Choropleth(\n",
    "    geo_data='https://raw.githubusercontent.com/southkorea/seoul-maps/master/kostat/2013/json/seoul_municipalities_geo_simple.json',\n",
    "    data=data_pay,\n",
    "    columns=['서울특별시(자치구)', '건수'],\n",
    "    fill_color='YlGn',\n",
    "    fill_opacity=0.5,\n",
    "    bins=bins,  # Specify the bin values for color scale\n",
    "    legend_name='Unemployment rate (%)'\n",
    ").add_to(m)\n",
    "\n",
    "m\n",
    "\n",
    "folium.Choropleth(\n",
    "    geo_data='https://raw.githubusercontent.com/southkorea/seoul-maps/master/kostat/2013/json/seoul_municipalities_geo_simple.json', # 경계선 좌표값이 담긴 데이터\n",
    "    data=data_pay, # Series or DataFrame 넣으면 된다\n",
    "    columns=['건수','서울특별시(자치구)'], # DataFrame의 어떤 columns을 넣을지\n",
    "    # key_on='feature.name', # id 값을 가져오겠다; feature.id : feature 붙여줘야 함 (folium의 정해진 형식)\n",
    "    fill_color='YlGn',\n",
    "    fill_opacity=0.5, # 색 투명도\n",
    "    bins= 8,\n",
    "    legend_name='Unemployment rate (%)' # 범례\n",
    ").add_to(m)\n",
    "m"
   ]
  },
  {
   "cell_type": "code",
   "execution_count": 43,
   "metadata": {},
   "outputs": [
    {
     "data": {
      "text/html": [
       "<div>\n",
       "<style scoped>\n",
       "    .dataframe tbody tr th:only-of-type {\n",
       "        vertical-align: middle;\n",
       "    }\n",
       "\n",
       "    .dataframe tbody tr th {\n",
       "        vertical-align: top;\n",
       "    }\n",
       "\n",
       "    .dataframe thead th {\n",
       "        text-align: right;\n",
       "    }\n",
       "</style>\n",
       "<table border=\"1\" class=\"dataframe\">\n",
       "  <thead>\n",
       "    <tr style=\"text-align: right;\">\n",
       "      <th></th>\n",
       "      <th>서울특별시(자치구)</th>\n",
       "      <th>건수</th>\n",
       "      <th>부과액</th>\n",
       "    </tr>\n",
       "  </thead>\n",
       "  <tbody>\n",
       "    <tr>\n",
       "      <th>0</th>\n",
       "      <td>종로구</td>\n",
       "      <td>892</td>\n",
       "      <td>75000260</td>\n",
       "    </tr>\n",
       "    <tr>\n",
       "      <th>1</th>\n",
       "      <td>중구</td>\n",
       "      <td>2154</td>\n",
       "      <td>185440000</td>\n",
       "    </tr>\n",
       "    <tr>\n",
       "      <th>2</th>\n",
       "      <td>용산구</td>\n",
       "      <td>1438</td>\n",
       "      <td>138260000</td>\n",
       "    </tr>\n",
       "    <tr>\n",
       "      <th>3</th>\n",
       "      <td>성동구</td>\n",
       "      <td>2264</td>\n",
       "      <td>195190000</td>\n",
       "    </tr>\n",
       "    <tr>\n",
       "      <th>4</th>\n",
       "      <td>광진구</td>\n",
       "      <td>1594</td>\n",
       "      <td>133660000</td>\n",
       "    </tr>\n",
       "  </tbody>\n",
       "</table>\n",
       "</div>"
      ],
      "text/plain": [
       "  서울특별시(자치구)    건수      부과액  \n",
       "0       종로구    892   75000260\n",
       "1        중구   2154  185440000\n",
       "2       용산구   1438  138260000\n",
       "3       성동구   2264  195190000\n",
       "4       광진구   1594  133660000"
      ]
     },
     "execution_count": 43,
     "metadata": {},
     "output_type": "execute_result"
    }
   ],
   "source": [
    "# 미국 주별 실업률 데이터 불러오기\n",
    "file_path = r'C:\\Users\\bluecom011\\Desktop\\공모전\\단속데이터\\서울특별시_장애인 주차구역 과태료 부과 현황_20230209 (2).CSV'\n",
    "# 데이터 로드\n",
    "data_pay = pd.read_csv(file_path, encoding='cp949')\n",
    "data_pay.head(5)"
   ]
  },
  {
   "cell_type": "code",
   "execution_count": 72,
   "metadata": {},
   "outputs": [
    {
     "data": {
      "text/html": [
       "<div style=\"width:100%;\"><div style=\"position:relative;width:100%;height:0;padding-bottom:60%;\"><span style=\"color:#565656\">Make this Notebook Trusted to load map: File -> Trust Notebook</span><iframe srcdoc=\"&lt;!DOCTYPE html&gt;\n",
       "&lt;html&gt;\n",
       "&lt;head&gt;\n",
       "    \n",
       "    &lt;meta http-equiv=&quot;content-type&quot; content=&quot;text/html; charset=UTF-8&quot; /&gt;\n",
       "    \n",
       "        &lt;script&gt;\n",
       "            L_NO_TOUCH = false;\n",
       "            L_DISABLE_3D = false;\n",
       "        &lt;/script&gt;\n",
       "    \n",
       "    &lt;style&gt;html, body {width: 100%;height: 100%;margin: 0;padding: 0;}&lt;/style&gt;\n",
       "    &lt;style&gt;#map {position:absolute;top:0;bottom:0;right:0;left:0;}&lt;/style&gt;\n",
       "    &lt;script src=&quot;https://cdn.jsdelivr.net/npm/leaflet@1.9.3/dist/leaflet.js&quot;&gt;&lt;/script&gt;\n",
       "    &lt;script src=&quot;https://code.jquery.com/jquery-3.7.1.min.js&quot;&gt;&lt;/script&gt;\n",
       "    &lt;script src=&quot;https://cdn.jsdelivr.net/npm/bootstrap@5.2.2/dist/js/bootstrap.bundle.min.js&quot;&gt;&lt;/script&gt;\n",
       "    &lt;script src=&quot;https://cdnjs.cloudflare.com/ajax/libs/Leaflet.awesome-markers/2.0.2/leaflet.awesome-markers.js&quot;&gt;&lt;/script&gt;\n",
       "    &lt;link rel=&quot;stylesheet&quot; href=&quot;https://cdn.jsdelivr.net/npm/leaflet@1.9.3/dist/leaflet.css&quot;/&gt;\n",
       "    &lt;link rel=&quot;stylesheet&quot; href=&quot;https://cdn.jsdelivr.net/npm/bootstrap@5.2.2/dist/css/bootstrap.min.css&quot;/&gt;\n",
       "    &lt;link rel=&quot;stylesheet&quot; href=&quot;https://netdna.bootstrapcdn.com/bootstrap/3.0.0/css/bootstrap.min.css&quot;/&gt;\n",
       "    &lt;link rel=&quot;stylesheet&quot; href=&quot;https://cdn.jsdelivr.net/npm/@fortawesome/fontawesome-free@6.2.0/css/all.min.css&quot;/&gt;\n",
       "    &lt;link rel=&quot;stylesheet&quot; href=&quot;https://cdnjs.cloudflare.com/ajax/libs/Leaflet.awesome-markers/2.0.2/leaflet.awesome-markers.css&quot;/&gt;\n",
       "    &lt;link rel=&quot;stylesheet&quot; href=&quot;https://cdn.jsdelivr.net/gh/python-visualization/folium/folium/templates/leaflet.awesome.rotate.min.css&quot;/&gt;\n",
       "    \n",
       "            &lt;meta name=&quot;viewport&quot; content=&quot;width=device-width,\n",
       "                initial-scale=1.0, maximum-scale=1.0, user-scalable=no&quot; /&gt;\n",
       "            &lt;style&gt;\n",
       "                #map_22980b20a219f7afa24f08399e38d9af {\n",
       "                    position: relative;\n",
       "                    width: 100.0%;\n",
       "                    height: 100.0%;\n",
       "                    left: 0.0%;\n",
       "                    top: 0.0%;\n",
       "                }\n",
       "                .leaflet-container { font-size: 1rem; }\n",
       "            &lt;/style&gt;\n",
       "        \n",
       "    &lt;script src=&quot;https://cdnjs.cloudflare.com/ajax/libs/d3/3.5.5/d3.min.js&quot;&gt;&lt;/script&gt;\n",
       "&lt;/head&gt;\n",
       "&lt;body&gt;\n",
       "    \n",
       "    \n",
       "            &lt;div class=&quot;folium-map&quot; id=&quot;map_22980b20a219f7afa24f08399e38d9af&quot; &gt;&lt;/div&gt;\n",
       "        \n",
       "&lt;/body&gt;\n",
       "&lt;script&gt;\n",
       "    \n",
       "    \n",
       "            var map_22980b20a219f7afa24f08399e38d9af = L.map(\n",
       "                &quot;map_22980b20a219f7afa24f08399e38d9af&quot;,\n",
       "                {\n",
       "                    center: [37.5665, 126.978],\n",
       "                    crs: L.CRS.EPSG3857,\n",
       "                    zoom: 11,\n",
       "                    zoomControl: true,\n",
       "                    preferCanvas: false,\n",
       "                }\n",
       "            );\n",
       "\n",
       "            \n",
       "\n",
       "        \n",
       "    \n",
       "            var tile_layer_6c6ed43869b47e30b5f8892d4ddfd430 = L.tileLayer(\n",
       "                &quot;https://tile.openstreetmap.org/{z}/{x}/{y}.png&quot;,\n",
       "                {&quot;attribution&quot;: &quot;\\u0026copy; \\u003ca href=\\&quot;https://www.openstreetmap.org/copyright\\&quot;\\u003eOpenStreetMap\\u003c/a\\u003e contributors&quot;, &quot;detectRetina&quot;: false, &quot;maxNativeZoom&quot;: 19, &quot;maxZoom&quot;: 19, &quot;minZoom&quot;: 0, &quot;noWrap&quot;: false, &quot;opacity&quot;: 1, &quot;subdomains&quot;: &quot;abc&quot;, &quot;tms&quot;: false}\n",
       "            );\n",
       "        \n",
       "    \n",
       "            tile_layer_6c6ed43869b47e30b5f8892d4ddfd430.addTo(map_22980b20a219f7afa24f08399e38d9af);\n",
       "        \n",
       "    \n",
       "            var choropleth_d624ca7396e61eed7843f3df1594d8f5 = L.featureGroup(\n",
       "                {}\n",
       "            );\n",
       "        \n",
       "    \n",
       "        function geo_json_99360d353a24fada584837ac887452aa_styler(feature) {\n",
       "            switch(feature.properties.code) {\n",
       "                case &quot;11240&quot;: case &quot;11230&quot;: case &quot;11220&quot;: case &quot;11190&quot;: case &quot;11160&quot;: case &quot;11140&quot;: case &quot;11060&quot;: \n",
       "                    return {&quot;color&quot;: &quot;black&quot;, &quot;fillColor&quot;: &quot;#2c7fb8&quot;, &quot;fillOpacity&quot;: 0.5, &quot;opacity&quot;: 0.2, &quot;weight&quot;: 1};\n",
       "                case &quot;11210&quot;: case &quot;11200&quot;: case &quot;11150&quot;: case &quot;11130&quot;: case &quot;11120&quot;: case &quot;11100&quot;: case &quot;11090&quot;: case &quot;11080&quot;: case &quot;11070&quot;: case &quot;11050&quot;: case &quot;11030&quot;: case &quot;11010&quot;: \n",
       "                    return {&quot;color&quot;: &quot;black&quot;, &quot;fillColor&quot;: &quot;#edf8b1&quot;, &quot;fillOpacity&quot;: 0.5, &quot;opacity&quot;: 0.2, &quot;weight&quot;: 1};\n",
       "                default:\n",
       "                    return {&quot;color&quot;: &quot;black&quot;, &quot;fillColor&quot;: &quot;#7fcdbb&quot;, &quot;fillOpacity&quot;: 0.5, &quot;opacity&quot;: 0.2, &quot;weight&quot;: 1};\n",
       "            }\n",
       "        }\n",
       "\n",
       "        function geo_json_99360d353a24fada584837ac887452aa_onEachFeature(feature, layer) {\n",
       "            layer.on({\n",
       "            });\n",
       "        };\n",
       "        var geo_json_99360d353a24fada584837ac887452aa = L.geoJson(null, {\n",
       "                onEachFeature: geo_json_99360d353a24fada584837ac887452aa_onEachFeature,\n",
       "            \n",
       "                style: geo_json_99360d353a24fada584837ac887452aa_styler,\n",
       "        });\n",
       "\n",
       "        function geo_json_99360d353a24fada584837ac887452aa_add (data) {\n",
       "            geo_json_99360d353a24fada584837ac887452aa\n",
       "                .addData(data);\n",
       "        }\n",
       "            geo_json_99360d353a24fada584837ac887452aa_add({&quot;features&quot;: [{&quot;geometry&quot;: {&quot;coordinates&quot;: [[[127.11519584981606, 37.557533180704915], [127.11879551821994, 37.557222485451305], [127.12146867175024, 37.55986003393365], [127.12435254630417, 37.56144246249796], [127.13593925898998, 37.56564793048277], [127.14930548011061, 37.56892250303897], [127.15511020940411, 37.57093642128295], [127.16683184366129, 37.57672487388627], [127.17038810813094, 37.576465605301046], [127.17607118428914, 37.57678573961056], [127.17905504160184, 37.57791388161732], [127.17747787800164, 37.57448983055031], [127.1781775408844, 37.571481967974336], [127.17995281860672, 37.569309661290504], [127.18122821955262, 37.56636089217979], [127.18169407550688, 37.56286338914073], [127.18408792330152, 37.55814280369575], [127.18350810324185, 37.550053002101485], [127.1852644795464, 37.54888592026534], [127.18480906237207, 37.545296888806796], [127.18543378919821, 37.54260756512178], [127.18364810569703, 37.54241347907019], [127.18116465939269, 37.54384126582126], [127.17770860504257, 37.542414255164374], [127.1744373170213, 37.54277723796397], [127.16830424484573, 37.54145405702079], [127.16530984307447, 37.54221851258693], [127.15566835118616, 37.53119520531309], [127.15538075046105, 37.52652930087977], [127.15154315998161, 37.522828709496416], [127.14981542759394, 37.51926843453025], [127.14791518058246, 37.51918714979303], [127.14684644251928, 37.51661384818575], [127.14672806823502, 37.51415680680291], [127.14532023498624, 37.51464060108829], [127.12123165719615, 37.52528270089], [127.12251496040881, 37.52751810228347], [127.12532464331997, 37.53572787912298], [127.12061313033807, 37.538129867839416], [127.1116764203608, 37.540669955324965], [127.11418412219375, 37.54474592090681], [127.11600200349189, 37.55053147511706], [127.11600943681239, 37.55580061507081], [127.11519584981606, 37.557533180704915]]], &quot;type&quot;: &quot;Polygon&quot;}, &quot;properties&quot;: {&quot;base_year&quot;: &quot;2013&quot;, &quot;code&quot;: &quot;11250&quot;, &quot;name&quot;: &quot;\\uac15\\ub3d9\\uad6c&quot;, &quot;name_eng&quot;: &quot;Gangdong-gu&quot;}, &quot;type&quot;: &quot;Feature&quot;}, {&quot;geometry&quot;: {&quot;coordinates&quot;: [[[127.0690698130372, 37.522279423505026], [127.07496309841329, 37.52091052765938], [127.07968915919895, 37.52077294752823], [127.08639455667742, 37.52161824624356], [127.0943611414465, 37.523984206117525], [127.10087519791962, 37.524841220167055], [127.10484130265957, 37.53120327509912], [127.1116764203608, 37.540669955324965], [127.12061313033807, 37.538129867839416], [127.12532464331997, 37.53572787912298], [127.12251496040881, 37.52751810228347], [127.12123165719615, 37.52528270089], [127.14532023498624, 37.51464060108829], [127.14672806823502, 37.51415680680291], [127.14670263739373, 37.512786602955565], [127.14462782318448, 37.511529542030715], [127.14323992504048, 37.50951977457089], [127.1420864475393, 37.50578973782813], [127.14324986168657, 37.502649431479774], [127.1473517108062, 37.50069754405746], [127.14980119646964, 37.50046502392898], [127.15223804785649, 37.50170492532197], [127.15401160147654, 37.500347919909956], [127.16086308579277, 37.49886565522751], [127.1634944215765, 37.497445406097484], [127.16199885180917, 37.49402577547199], [127.16216448592424, 37.491639601211624], [127.16040295326431, 37.4877818619403], [127.15892216655034, 37.486126922469445], [127.15393282790794, 37.48483891408459], [127.15147990997852, 37.47745324805034], [127.1515017465549, 37.475633269417585], [127.14857580353349, 37.47381386382568], [127.14415938171436, 37.473692508393505], [127.14112111404233, 37.470600239054825], [127.13631568648837, 37.47214721764681], [127.13281577200672, 37.47257463763244], [127.13307493070646, 37.468907694139894], [127.13750907701846, 37.46647058226059], [127.13478085797742, 37.46509524639883], [127.1308437061496, 37.46509985661207], [127.12728991002369, 37.46673043118672], [127.12729757787379, 37.46421548908766], [127.12440571080893, 37.46240445587048], [127.12441393026374, 37.46442715236855], [127.12265007208167, 37.46756987490939], [127.11380709617507, 37.479633334849325], [127.1143875173445, 37.48073157362458], [127.11117085201238, 37.485708381512445], [127.1077937689776, 37.48860875954992], [127.10433125798602, 37.490728250649646], [127.0988509639092, 37.49302529254068], [127.08050206733888, 37.49783151325589], [127.0764808967127, 37.498612695580306], [127.0719146000724, 37.50224013587669], [127.06926628842805, 37.51717796437217], [127.06860425556381, 37.51812758676938], [127.0690698130372, 37.522279423505026]]], &quot;type&quot;: &quot;Polygon&quot;}, &quot;properties&quot;: {&quot;base_year&quot;: &quot;2013&quot;, &quot;code&quot;: &quot;11240&quot;, &quot;name&quot;: &quot;\\uc1a1\\ud30c\\uad6c&quot;, &quot;name_eng&quot;: &quot;Songpa-gu&quot;}, &quot;type&quot;: &quot;Feature&quot;}, {&quot;geometry&quot;: {&quot;coordinates&quot;: [[[127.05867359288398, 37.52629974922568], [127.0690698130372, 37.522279423505026], [127.06860425556381, 37.51812758676938], [127.06926628842805, 37.51717796437217], [127.0719146000724, 37.50224013587669], [127.0764808967127, 37.498612695580306], [127.08050206733888, 37.49783151325589], [127.0988509639092, 37.49302529254068], [127.10433125798602, 37.490728250649646], [127.1077937689776, 37.48860875954992], [127.11117085201238, 37.485708381512445], [127.1143875173445, 37.48073157362458], [127.11380709617507, 37.479633334849325], [127.12265007208167, 37.46756987490939], [127.12441393026374, 37.46442715236855], [127.12440571080893, 37.46240445587048], [127.11957248720776, 37.45936217377656], [127.11885903757606, 37.45578434878651], [127.11535741803938, 37.45722556454321], [127.11413179478714, 37.45875072431525], [127.10841788934951, 37.45972888008147], [127.10561257180657, 37.456815702518746], [127.10032466845217, 37.45598440195682], [127.09842759318751, 37.45862253857461], [127.09712653145507, 37.460848194480654], [127.09039613625872, 37.465520545397716], [127.0866005634691, 37.47006403057779], [127.08640440578156, 37.472697935184655], [127.0802737559454, 37.471973057552624], [127.07602132306535, 37.47005021331707], [127.07476117209941, 37.47199174520626], [127.07231320371885, 37.47234914588019], [127.07135137525977, 37.47107802023145], [127.06463901956462, 37.47003474490574], [127.06371868919344, 37.4661503234869], [127.0588551029968, 37.465611780743174], [127.0559170481904, 37.4659228914077], [127.04713549385288, 37.474479419244865], [127.04345123620755, 37.48276415595109], [127.03621915098798, 37.48175802427603], [127.03372275812187, 37.48674434662411], [127.02265609299096, 37.509970106251416], [127.02038705349842, 37.51771683027875], [127.01917707838057, 37.520085205855196], [127.01397119667513, 37.52503988289669], [127.02302831890559, 37.53231899582663], [127.0269608080842, 37.53484752757724], [127.0319617044248, 37.536064291470424], [127.04806779588436, 37.52970198575087], [127.04903802830752, 37.53140496708317], [127.05116490008963, 37.52975116557232], [127.05867359288398, 37.52629974922568]]], &quot;type&quot;: &quot;Polygon&quot;}, &quot;properties&quot;: {&quot;base_year&quot;: &quot;2013&quot;, &quot;code&quot;: &quot;11230&quot;, &quot;name&quot;: &quot;\\uac15\\ub0a8\\uad6c&quot;, &quot;name_eng&quot;: &quot;Gangnam-gu&quot;}, &quot;type&quot;: &quot;Feature&quot;}, {&quot;geometry&quot;: {&quot;coordinates&quot;: [[[127.01397119667513, 37.52503988289669], [127.01917707838057, 37.520085205855196], [127.02038705349842, 37.51771683027875], [127.02265609299096, 37.509970106251416], [127.03372275812187, 37.48674434662411], [127.03621915098798, 37.48175802427603], [127.04345123620755, 37.48276415595109], [127.04713549385288, 37.474479419244865], [127.0559170481904, 37.4659228914077], [127.0588551029968, 37.465611780743174], [127.06371868919344, 37.4661503234869], [127.06463901956462, 37.47003474490574], [127.07135137525977, 37.47107802023145], [127.07231320371885, 37.47234914588019], [127.07476117209941, 37.47199174520626], [127.07602132306535, 37.47005021331707], [127.0802737559454, 37.471973057552624], [127.08640440578156, 37.472697935184655], [127.0866005634691, 37.47006403057779], [127.09039613625872, 37.465520545397716], [127.09712653145507, 37.460848194480654], [127.09842759318751, 37.45862253857461], [127.09673714758375, 37.45597209899094], [127.09722129576434, 37.45374822681991], [127.09575982122928, 37.45332980525459], [127.09472136159357, 37.450897902539175], [127.09293250684935, 37.450020696864506], [127.09047890749349, 37.44637473407341], [127.09046928565951, 37.44296826114185], [127.0862358725955, 37.44118543250345], [127.08441983692467, 37.4383879031398], [127.07686576585408, 37.43960712011444], [127.07375875606847, 37.43898415920535], [127.07407631675713, 37.43719357187124], [127.07666569012467, 37.43600054505559], [127.07603719210388, 37.43429107517633], [127.07361291761038, 37.43318474533595], [127.07271473569163, 37.42939553659177], [127.0733788318578, 37.42814484786288], [127.06885354151605, 37.42731815367302], [127.06778107605433, 37.426197424057314], [127.06317558623768, 37.4272916178182], [127.05998777565219, 37.4273224867045], [127.05424556064274, 37.42574929824175], [127.05197080928994, 37.42749842502397], [127.04960937636815, 37.42801020057224], [127.04849622718511, 37.430672016902065], [127.04191594772718, 37.43568906449929], [127.0379686253535, 37.43634417139204], [127.03751805596916, 37.438362795245276], [127.04031700689708, 37.44191429311459], [127.03959875976469, 37.443582700519194], [127.0398984887873, 37.44656106007936], [127.03825522385397, 37.448766467898395], [127.03916301678915, 37.45180237055558], [127.03881782597922, 37.45382039851715], [127.03695436044305, 37.45537592726508], [127.03573307034355, 37.4586703897792], [127.03683946894893, 37.46103886642786], [127.03337331972266, 37.462966775127626], [127.02820831539744, 37.455700834295826], [127.02263694708293, 37.45335816711404], [127.01827371395349, 37.4525593623189], [127.01316256500736, 37.45257906566242], [127.01110931353561, 37.45456166745922], [127.00836380369604, 37.45936868039916], [127.00738548779366, 37.459815333664274], [127.00552362663117, 37.46445102893571], [127.00008523087483, 37.46455774995882], [126.99837609897334, 37.46390918086617], [126.99932142462428, 37.46113351815481], [126.99893310307874, 37.459376062410314], [126.9953054179472, 37.45860121328987], [126.99072073195462, 37.455326143310025], [126.98956736277059, 37.457600756400446], [126.99026416700147, 37.46271603227842], [126.98896316546526, 37.465041871263544], [126.98662755598336, 37.466937278295305], [126.9846374349825, 37.46996301876212], [126.98367668291802, 37.473856492692086], [126.98500224966135, 37.49356837311327], [126.9871787157338, 37.49719505997539], [126.9832495184969, 37.49948552591205], [126.98241580381733, 37.50120029501884], [126.98223807916081, 37.509314966770326], [126.98458580602838, 37.51070333105394], [126.98948242685965, 37.5108780134613], [126.99148001917875, 37.50990503427709], [127.00011962020382, 37.513901653034374], [127.00583392114271, 37.516905128452926], [127.00818058911564, 37.51877313923874], [127.01022186960886, 37.522020085671926], [127.01397119667513, 37.52503988289669]]], &quot;type&quot;: &quot;Polygon&quot;}, &quot;properties&quot;: {&quot;base_year&quot;: &quot;2013&quot;, &quot;code&quot;: &quot;11220&quot;, &quot;name&quot;: &quot;\\uc11c\\ucd08\\uad6c&quot;, &quot;name_eng&quot;: &quot;Seocho-gu&quot;}, &quot;type&quot;: &quot;Feature&quot;}, {&quot;geometry&quot;: {&quot;coordinates&quot;: [[[126.98367668291802, 37.473856492692086], [126.9846374349825, 37.46996301876212], [126.98662755598336, 37.466937278295305], [126.98896316546526, 37.465041871263544], [126.99026416700147, 37.46271603227842], [126.98956736277059, 37.457600756400446], [126.99072073195462, 37.455326143310025], [126.98484249930785, 37.45391909788938], [126.9829408096241, 37.450206782833206], [126.97835022660695, 37.447659155806164], [126.97608193440507, 37.44478918862847], [126.9731300196836, 37.444722870088114], [126.96650852936277, 37.44276983031553], [126.96618702895445, 37.439376482995094], [126.96520439085143, 37.438249784006246], [126.9614877541633, 37.437956805629675], [126.96054904645496, 37.43673997185797], [126.95527369898224, 37.43673711968809], [126.9473688393239, 37.4347689647565], [126.94440352544498, 37.43476162120059], [126.9415292183489, 37.43315139671158], [126.94037501670272, 37.43462213966344], [126.9405640311191, 37.437501011208845], [126.9376981355065, 37.44041709605302], [126.93312955918624, 37.44290014710262], [126.93309127096236, 37.44533734785938], [126.93084408056525, 37.447382928333994], [126.92527839995981, 37.45161884570837], [126.9245243450059, 37.45392293573877], [126.91887928082078, 37.45495082787016], [126.9167728146601, 37.45490566423789], [126.91641538472182, 37.45870245071989], [126.91495285904284, 37.461166184511065], [126.91584245173756, 37.462474576247985], [126.91374656127704, 37.46375990852858], [126.91032166997253, 37.469818629944285], [126.91280966667205, 37.47083063715413], [126.91405961426707, 37.47416764846582], [126.9115784808617, 37.4753960485947], [126.91181700249076, 37.47814319736339], [126.90276666415615, 37.47652007992712], [126.90156094129895, 37.47753842789901], [126.90531975801812, 37.48218087575429], [126.90805655355825, 37.48218338568103], [126.91533979779165, 37.484392208242134], [126.91916807529428, 37.48660606817164], [126.92639563063156, 37.48715979752876], [126.92869559665061, 37.49132126714011], [126.92981699800066, 37.49218420958284], [126.93346386636452, 37.49043826776755], [126.93669800083833, 37.49026778789087], [126.93844070234584, 37.4893532861132], [126.94373156012337, 37.48938843727846], [126.94922661389508, 37.49125437495649], [126.95396955055433, 37.48955250290043], [126.9559655046206, 37.48820165625994], [126.95881175306481, 37.48874989165474], [126.96329694970828, 37.4905835370787], [126.96291787066104, 37.48803272157808], [126.96443983219191, 37.48442261322104], [126.9634428120456, 37.48067931902171], [126.9725891850662, 37.472561363278125], [126.97901795539295, 37.47376525108475], [126.98367668291802, 37.473856492692086]]], &quot;type&quot;: &quot;Polygon&quot;}, &quot;properties&quot;: {&quot;base_year&quot;: &quot;2013&quot;, &quot;code&quot;: &quot;11210&quot;, &quot;name&quot;: &quot;\\uad00\\uc545\\uad6c&quot;, &quot;name_eng&quot;: &quot;Gwanak-gu&quot;}, &quot;type&quot;: &quot;Feature&quot;}, {&quot;geometry&quot;: {&quot;coordinates&quot;: [[[126.98223807916081, 37.509314966770326], [126.98241580381733, 37.50120029501884], [126.9832495184969, 37.49948552591205], [126.9871787157338, 37.49719505997539], [126.98500224966135, 37.49356837311327], [126.98367668291802, 37.473856492692086], [126.97901795539295, 37.47376525108475], [126.9725891850662, 37.472561363278125], [126.9634428120456, 37.48067931902171], [126.96443983219191, 37.48442261322104], [126.96291787066104, 37.48803272157808], [126.96329694970828, 37.4905835370787], [126.95881175306481, 37.48874989165474], [126.9559655046206, 37.48820165625994], [126.95396955055433, 37.48955250290043], [126.94922661389508, 37.49125437495649], [126.94373156012337, 37.48938843727846], [126.93844070234584, 37.4893532861132], [126.93669800083833, 37.49026778789087], [126.93346386636452, 37.49043826776755], [126.92981699800066, 37.49218420958284], [126.92869559665061, 37.49132126714011], [126.92639563063156, 37.48715979752876], [126.91916807529428, 37.48660606817164], [126.91533979779165, 37.484392208242134], [126.90805655355825, 37.48218338568103], [126.90531975801812, 37.48218087575429], [126.91461888105147, 37.493581242537296], [126.92177893174825, 37.494889877415176], [126.9232469824303, 37.49928149943772], [126.92749463764046, 37.50985955934051], [126.92919938332032, 37.51019685838638], [126.92810628828279, 37.51329595732015], [126.93453120783802, 37.5128512712934], [126.94407346439685, 37.51463101265907], [126.95249990298159, 37.51722500741813], [126.95551848909955, 37.514736123015844], [126.95950268374823, 37.51249532165974], [126.96670111119346, 37.50997579058433], [126.98223807916081, 37.509314966770326]]], &quot;type&quot;: &quot;Polygon&quot;}, &quot;properties&quot;: {&quot;base_year&quot;: &quot;2013&quot;, &quot;code&quot;: &quot;11200&quot;, &quot;name&quot;: &quot;\\ub3d9\\uc791\\uad6c&quot;, &quot;name_eng&quot;: &quot;Dongjak-gu&quot;}, &quot;type&quot;: &quot;Feature&quot;}, {&quot;geometry&quot;: {&quot;coordinates&quot;: [[[126.89184663862764, 37.547373974997114], [126.90281125423546, 37.54133630026083], [126.90829204147958, 37.539206065016785], [126.93132557924062, 37.53415416375281], [126.93680342222562, 37.53344577095931], [126.94566733083212, 37.526617542453366], [126.9488066464266, 37.52424913252661], [126.95003825019774, 37.520781022055274], [126.95249990298159, 37.51722500741813], [126.94407346439685, 37.51463101265907], [126.93453120783802, 37.5128512712934], [126.92810628828279, 37.51329595732015], [126.92919938332032, 37.51019685838638], [126.92749463764046, 37.50985955934051], [126.9232469824303, 37.49928149943772], [126.92177893174825, 37.494889877415176], [126.91461888105147, 37.493581242537296], [126.90531975801812, 37.48218087575429], [126.90260188508027, 37.48282626920736], [126.89861362258316, 37.48625405368759], [126.89581061458084, 37.49391346191318], [126.89549571721683, 37.50033127915717], [126.89594776782485, 37.504675281309176], [126.89253696873205, 37.50875582175844], [126.88156402353862, 37.513970034765684], [126.88191372979959, 37.51939416754389], [126.88260109180834, 37.52242565920786], [126.88382776477316, 37.52352483439659], [126.88904768965743, 37.525856504359034], [126.89057378109133, 37.52792091672938], [126.89213569003026, 37.52757969298779], [126.89361739665432, 37.53033899535983], [126.89339176028666, 37.533030814524004], [126.88938421776182, 37.54060159145325], [126.88825757860099, 37.54079733630232], [126.88736718003831, 37.54350482420959], [126.89184663862764, 37.547373974997114]]], &quot;type&quot;: &quot;Polygon&quot;}, &quot;properties&quot;: {&quot;base_year&quot;: &quot;2013&quot;, &quot;code&quot;: &quot;11190&quot;, &quot;name&quot;: &quot;\\uc601\\ub4f1\\ud3ec\\uad6c&quot;, &quot;name_eng&quot;: &quot;Yeongdeungpo-gu&quot;}, &quot;type&quot;: &quot;Feature&quot;}, {&quot;geometry&quot;: {&quot;coordinates&quot;: [[[126.90156094129895, 37.47753842789901], [126.90276666415615, 37.47652007992712], [126.91181700249076, 37.47814319736339], [126.9115784808617, 37.4753960485947], [126.91405961426707, 37.47416764846582], [126.91280966667205, 37.47083063715413], [126.91032166997253, 37.469818629944285], [126.91374656127704, 37.46375990852858], [126.91584245173756, 37.462474576247985], [126.91495285904284, 37.461166184511065], [126.91641538472182, 37.45870245071989], [126.9167728146601, 37.45490566423789], [126.91887928082078, 37.45495082787016], [126.9245243450059, 37.45392293573877], [126.92527839995981, 37.45161884570837], [126.93084408056525, 37.447382928333994], [126.9255681646224, 37.44377627841776], [126.92318732232543, 37.44131494528283], [126.92199241717724, 37.43848070111403], [126.92004664118903, 37.43708741729147], [126.91641802826501, 37.43722730676683], [126.91344497343947, 37.43474365720405], [126.91082677485002, 37.43100963341445], [126.90487628022693, 37.43129996372531], [126.90480610062333, 37.433123813599884], [126.90147608259903, 37.4353323892334], [126.90081465102077, 37.436498759868456], [126.90105333433885, 37.44031094924801], [126.90031753853916, 37.441844173154756], [126.89768314223053, 37.442906858137974], [126.89812451590424, 37.44551117837958], [126.89616541233094, 37.44983024861048], [126.8947204038491, 37.4491097366517], [126.89157226377172, 37.449944282396714], [126.89113632562855, 37.45236898205529], [126.88831381741582, 37.45357939777933], [126.88826482749008, 37.45663270152334], [126.89074130059865, 37.45966561796733], [126.88198617469523, 37.469975509557976], [126.87874781843654, 37.47475533620029], [126.87553760781829, 37.48186220368496], [126.87683271502428, 37.482576591607305], [126.88079109105627, 37.48378287831426], [126.8827497570056, 37.48316340563878], [126.88803217321346, 37.47975290808737], [126.89116882970154, 37.47681803032367], [126.89689977603885, 37.47570593888643], [126.90104536043339, 37.47614746588584], [126.90156094129895, 37.47753842789901]]], &quot;type&quot;: &quot;Polygon&quot;}, &quot;properties&quot;: {&quot;base_year&quot;: &quot;2013&quot;, &quot;code&quot;: &quot;11180&quot;, &quot;name&quot;: &quot;\\uae08\\ucc9c\\uad6c&quot;, &quot;name_eng&quot;: &quot;Geumcheon-gu&quot;}, &quot;type&quot;: &quot;Feature&quot;}, {&quot;geometry&quot;: {&quot;coordinates&quot;: [[[126.82688081517314, 37.50548972232896], [126.8312211095328, 37.50541191299514], [126.8341914436862, 37.50238060850881], [126.8385046623421, 37.49965438083505], [126.84270526111828, 37.501190052842375], [126.8421330711049, 37.50273297478404], [126.84689618668257, 37.50287086505149], [126.84730715497963, 37.50522159123912], [126.85079659934003, 37.50601938589165], [126.8521985385098, 37.507310601432195], [126.8549910115563, 37.507774255244875], [126.85767018319959, 37.50643578404816], [126.8602448049945, 37.50714262450898], [126.86219488732715, 37.50388438562706], [126.86454914535695, 37.50388350542007], [126.86525729660478, 37.502448483868896], [126.86795186545288, 37.502755995885714], [126.87109220473953, 37.50203922322315], [126.87432642792102, 37.50260287829134], [126.87556919864359, 37.505720626918], [126.88054908630636, 37.51148026214697], [126.88156402353862, 37.513970034765684], [126.89253696873205, 37.50875582175844], [126.89594776782485, 37.504675281309176], [126.89549571721683, 37.50033127915717], [126.89581061458084, 37.49391346191318], [126.89861362258316, 37.48625405368759], [126.90260188508027, 37.48282626920736], [126.90531975801812, 37.48218087575429], [126.90156094129895, 37.47753842789901], [126.90104536043339, 37.47614746588584], [126.89689977603885, 37.47570593888643], [126.89116882970154, 37.47681803032367], [126.88803217321346, 37.47975290808737], [126.8827497570056, 37.48316340563878], [126.88079109105627, 37.48378287831426], [126.87683271502428, 37.482576591607305], [126.87926901338844, 37.4851363312754], [126.87807822721697, 37.486247661404484], [126.87500855887376, 37.485529408954044], [126.87499999632084, 37.48723558386031], [126.86985088086946, 37.490972856926746], [126.86690708512153, 37.48850048185492], [126.86334463261252, 37.48702105213313], [126.85979281993241, 37.48309390333688], [126.8571926758503, 37.482400254369296], [126.85582775745682, 37.48008159809108], [126.85397991619827, 37.47882533996402], [126.84914329670241, 37.4792573077648], [126.84804505350411, 37.478160467930344], [126.84762676054953, 37.47146723936323], [126.84154264465728, 37.4728980419], [126.83754691879544, 37.472514053936045], [126.83388005989259, 37.4747683882548], [126.83136668931549, 37.47344154955525], [126.82660025197819, 37.47364544953152], [126.82419365698964, 37.472951080902234], [126.82179895415682, 37.47518076838956], [126.82206789884786, 37.47889514031285], [126.82139445214092, 37.48136482338644], [126.82208805042494, 37.48299688518288], [126.82558489219227, 37.48497306755705], [126.82482114643597, 37.48717399070965], [126.81993148808915, 37.48877864988337], [126.81649745505314, 37.490455810141476], [126.81480709048222, 37.493362284349615], [126.81518179823208, 37.495233793642186], [126.81771493003457, 37.494748098657496], [126.8208295567048, 37.49594689979241], [126.82204657426578, 37.49851634597747], [126.82367963750009, 37.49925830108059], [126.82504736331406, 37.50302612640443], [126.82469248121312, 37.50496239513798], [126.82688081517314, 37.50548972232896]]], &quot;type&quot;: &quot;Polygon&quot;}, &quot;properties&quot;: {&quot;base_year&quot;: &quot;2013&quot;, &quot;code&quot;: &quot;11170&quot;, &quot;name&quot;: &quot;\\uad6c\\ub85c\\uad6c&quot;, &quot;name_eng&quot;: &quot;Guro-gu&quot;}, &quot;type&quot;: &quot;Feature&quot;}, {&quot;geometry&quot;: {&quot;coordinates&quot;: [[[126.85984199399667, 37.571847855292745], [126.85950389772532, 37.5682771531189], [126.8604929702619, 37.566825621733905], [126.86837407967381, 37.56309561411933], [126.87997924964915, 37.55510740490174], [126.89184663862764, 37.547373974997114], [126.88736718003831, 37.54350482420959], [126.88825757860099, 37.54079733630232], [126.8872486543506, 37.54079100234749], [126.88280520161935, 37.545072121233225], [126.8761093656006, 37.54412882794802], [126.8727924099192, 37.544853699294116], [126.86637464321238, 37.54859191094823], [126.86426635332332, 37.54172958759955], [126.86582129720519, 37.53817151116851], [126.8655037497872, 37.53382926555605], [126.86610073476395, 37.52699964144669], [126.85098397861944, 37.525098716169985], [126.84257291943153, 37.52373707805596], [126.836555914069, 37.53367208325903], [126.83716591765655, 37.534935320492906], [126.83522688458329, 37.539042988809484], [126.8325348945036, 37.538953250433295], [126.83191667070415, 37.54146500511403], [126.83017074557299, 37.542611079015344], [126.82889818288362, 37.53909381305992], [126.8242331426722, 37.53788078753248], [126.81674221631081, 37.5378396500627], [126.81246052552456, 37.538810793377344], [126.81143604908785, 37.54033621168525], [126.80542840499083, 37.54008921830378], [126.80185404828612, 37.537645443377826], [126.80090914554204, 37.53503009075454], [126.79688612254975, 37.53302974862096], [126.79582133969424, 37.536641561833754], [126.79693641290046, 37.53865858611534], [126.79388711477147, 37.53902211451394], [126.7938616681597, 37.54104361952839], [126.79075533377627, 37.54165251407983], [126.78880225462409, 37.54353706379955], [126.78198339188025, 37.543449601019624], [126.77756215424237, 37.54611355396897], [126.77324417717703, 37.5459123450554], [126.76977011413412, 37.55052082471595], [126.76700465024426, 37.552821566629916], [126.77074629769308, 37.55296836994276], [126.77145103135192, 37.55434307460708], [126.77879087345151, 37.55919525318415], [126.77889121370164, 37.5613614424496], [126.77671213061004, 37.5645429268672], [126.77986476402239, 37.564245932540665], [126.78252024622797, 37.565367145342954], [126.78471963959866, 37.56745669198498], [126.78398460461828, 37.56905814599349], [126.78496836516075, 37.57090748246567], [126.79172648531066, 37.57472630536462], [126.79539987549317, 37.57451148875729], [126.79523455851671, 37.57760277954844], [126.7958606942207, 37.58019957877273], [126.79799133400897, 37.58036436587069], [126.80091228188235, 37.5854309825683], [126.80289369340177, 37.58621464221784], [126.80131704756816, 37.58839794302751], [126.80149834313248, 37.59012749570681], [126.7996634054858, 37.59296530943065], [126.79910601240701, 37.59569886491464], [126.80046544382346, 37.59827267924192], [126.80198459129242, 37.598541940075755], [126.80268446118524, 37.601312560472834], [126.80393696882469, 37.601857300987895], [126.80759006979085, 37.60089755124775], [126.81814502537962, 37.591566052513244], [126.82251438477105, 37.5880430810082], [126.82891304761237, 37.5855611764797], [126.85302823436479, 37.57282468882299], [126.85984199399667, 37.571847855292745]]], &quot;type&quot;: &quot;Polygon&quot;}, &quot;properties&quot;: {&quot;base_year&quot;: &quot;2013&quot;, &quot;code&quot;: &quot;11160&quot;, &quot;name&quot;: &quot;\\uac15\\uc11c\\uad6c&quot;, &quot;name_eng&quot;: &quot;Gangseo-gu&quot;}, &quot;type&quot;: &quot;Feature&quot;}, {&quot;geometry&quot;: {&quot;coordinates&quot;: [[[126.8242331426722, 37.53788078753248], [126.82889818288362, 37.53909381305992], [126.83017074557299, 37.542611079015344], [126.83191667070415, 37.54146500511403], [126.8325348945036, 37.538953250433295], [126.83522688458329, 37.539042988809484], [126.83716591765655, 37.534935320492906], [126.836555914069, 37.53367208325903], [126.84257291943153, 37.52373707805596], [126.85098397861944, 37.525098716169985], [126.86610073476395, 37.52699964144669], [126.8655037497872, 37.53382926555605], [126.86582129720519, 37.53817151116851], [126.86426635332332, 37.54172958759955], [126.86637464321238, 37.54859191094823], [126.8727924099192, 37.544853699294116], [126.8761093656006, 37.54412882794802], [126.88280520161935, 37.545072121233225], [126.8872486543506, 37.54079100234749], [126.88825757860099, 37.54079733630232], [126.88938421776182, 37.54060159145325], [126.89339176028666, 37.533030814524004], [126.89361739665432, 37.53033899535983], [126.89213569003026, 37.52757969298779], [126.89057378109133, 37.52792091672938], [126.88904768965743, 37.525856504359034], [126.88382776477316, 37.52352483439659], [126.88260109180834, 37.52242565920786], [126.88191372979959, 37.51939416754389], [126.88156402353862, 37.513970034765684], [126.88054908630636, 37.51148026214697], [126.87556919864359, 37.505720626918], [126.87432642792102, 37.50260287829134], [126.87109220473953, 37.50203922322315], [126.86795186545288, 37.502755995885714], [126.86525729660478, 37.502448483868896], [126.86454914535695, 37.50388350542007], [126.86219488732715, 37.50388438562706], [126.8602448049945, 37.50714262450898], [126.85767018319959, 37.50643578404816], [126.8549910115563, 37.507774255244875], [126.8521985385098, 37.507310601432195], [126.85079659934003, 37.50601938589165], [126.84730715497963, 37.50522159123912], [126.84689618668257, 37.50287086505149], [126.8421330711049, 37.50273297478404], [126.84270526111828, 37.501190052842375], [126.8385046623421, 37.49965438083505], [126.8341914436862, 37.50238060850881], [126.8312211095328, 37.50541191299514], [126.82688081517314, 37.50548972232896], [126.82609821744505, 37.507816771867255], [126.82665326173496, 37.510416148524136], [126.82529622550616, 37.513385210403136], [126.82763384465879, 37.516923263281946], [126.8273575421771, 37.52002629298419], [126.83054711509516, 37.52390261457357], [126.82938708105253, 37.5268052663749], [126.8276955169658, 37.52706155314193], [126.82389942108053, 37.53199443525418], [126.8242331426722, 37.53788078753248]]], &quot;type&quot;: &quot;Polygon&quot;}, &quot;properties&quot;: {&quot;base_year&quot;: &quot;2013&quot;, &quot;code&quot;: &quot;11150&quot;, &quot;name&quot;: &quot;\\uc591\\ucc9c\\uad6c&quot;, &quot;name_eng&quot;: &quot;Yangcheon-gu&quot;}, &quot;type&quot;: &quot;Feature&quot;}, {&quot;geometry&quot;: {&quot;coordinates&quot;: [[[126.90522065831053, 37.57409700522574], [126.90370105002282, 37.57266722738834], [126.90687243065778, 37.57059762097416], [126.92189004506, 37.56391798973296], [126.92778174854314, 37.562495624023775], [126.93034243306369, 37.56054720372433], [126.92881397392811, 37.558202848902], [126.92872097190046, 37.556034533941734], [126.93898161798973, 37.552310003728124], [126.94314477022111, 37.5536460848349], [126.95916768398142, 37.55468176051932], [126.96080686210321, 37.55386236039188], [126.96358226710812, 37.55605635475154], [126.96519694864509, 37.55362533505407], [126.96380145704283, 37.55254525759954], [126.96448570553055, 37.548705692021635], [126.96604189284825, 37.546894141748815], [126.96401856825223, 37.54584596959762], [126.96231305253527, 37.543511558047456], [126.9605977865388, 37.542661954880806], [126.95926437828754, 37.53897908363236], [126.95340780191557, 37.533494726370755], [126.94717864071288, 37.53213495568077], [126.94566733083212, 37.526617542453366], [126.93680342222562, 37.53344577095931], [126.93132557924062, 37.53415416375281], [126.90829204147958, 37.539206065016785], [126.90281125423546, 37.54133630026083], [126.89184663862764, 37.547373974997114], [126.87997924964915, 37.55510740490174], [126.86837407967381, 37.56309561411933], [126.8604929702619, 37.566825621733905], [126.85950389772532, 37.5682771531189], [126.85984199399667, 37.571847855292745], [126.85993476176495, 37.5728262143511], [126.8638132887273, 37.57306147014704], [126.86560520354786, 37.57385540098251], [126.86766286078968, 37.57269227137124], [126.87008117117851, 37.574598289168996], [126.87282267062741, 37.574956427500126], [126.8779661566318, 37.57680133323819], [126.87918874599603, 37.5796889248137], [126.87876320682938, 37.581327335058546], [126.88107183862735, 37.583788024645344], [126.88237824849728, 37.586847436468204], [126.88433284773288, 37.588143322880526], [126.89150044994719, 37.58202374305761], [126.89532313269488, 37.579420322822145], [126.89738573904876, 37.578668647687564], [126.90023584510952, 37.575506080437606], [126.90373193212757, 37.573123712282076], [126.90522065831053, 37.57409700522574]]], &quot;type&quot;: &quot;Polygon&quot;}, &quot;properties&quot;: {&quot;base_year&quot;: &quot;2013&quot;, &quot;code&quot;: &quot;11140&quot;, &quot;name&quot;: &quot;\\ub9c8\\ud3ec\\uad6c&quot;, &quot;name_eng&quot;: &quot;Mapo-gu&quot;}, &quot;type&quot;: &quot;Feature&quot;}, {&quot;geometry&quot;: {&quot;coordinates&quot;: [[[126.9524752030572, 37.60508692737045], [126.95480868778256, 37.60381765067903], [126.95564117002459, 37.601827148276776], [126.95484771718951, 37.59761368186209], [126.95619178283661, 37.59575826218021], [126.95924434840931, 37.59545024466215], [126.95842779914786, 37.592356673207824], [126.960424902266, 37.58868913291801], [126.96048802632431, 37.587202077053746], [126.95879970726017, 37.58189826471162], [126.96177754536156, 37.57970124256911], [126.95789326971087, 37.57793453336025], [126.95565425846463, 37.576080790881456], [126.96873633279075, 37.56313604690827], [126.97169209525231, 37.55921654641677], [126.96900073076728, 37.55850929094393], [126.96570855677983, 37.556512377492325], [126.96358226710812, 37.55605635475154], [126.96080686210321, 37.55386236039188], [126.95916768398142, 37.55468176051932], [126.94314477022111, 37.5536460848349], [126.93898161798973, 37.552310003728124], [126.92872097190046, 37.556034533941734], [126.92881397392811, 37.558202848902], [126.93034243306369, 37.56054720372433], [126.92778174854314, 37.562495624023775], [126.92189004506, 37.56391798973296], [126.90687243065778, 37.57059762097416], [126.90370105002282, 37.57266722738834], [126.90522065831053, 37.57409700522574], [126.91464724464083, 37.583228529985455], [126.91827498278953, 37.58276881451649], [126.91792000144513, 37.58034997804668], [126.92444169370404, 37.581233899739914], [126.92596484570709, 37.58441659356971], [126.9281697003186, 37.584376616028365], [126.9302171100533, 37.58559126746845], [126.92996402426377, 37.58767009299767], [126.93104958440722, 37.58996937993664], [126.93575441237547, 37.593605788596975], [126.94277481511082, 37.59587806191211], [126.94359054641505, 37.60034871312552], [126.94451473597087, 37.60203195380752], [126.94701525068315, 37.602028095480975], [126.94919787550161, 37.60506379949065], [126.9524752030572, 37.60508692737045]]], &quot;type&quot;: &quot;Polygon&quot;}, &quot;properties&quot;: {&quot;base_year&quot;: &quot;2013&quot;, &quot;code&quot;: &quot;11130&quot;, &quot;name&quot;: &quot;\\uc11c\\ub300\\ubb38\\uad6c&quot;, &quot;name_eng&quot;: &quot;Seodaemun-gu&quot;}, &quot;type&quot;: &quot;Feature&quot;}, {&quot;geometry&quot;: {&quot;coordinates&quot;: [[[126.9738864128702, 37.62949634786888], [126.97135221665513, 37.62743418897386], [126.96164158910712, 37.62569322976388], [126.95885198650147, 37.6225761621008], [126.95427017006129, 37.622033431339425], [126.95393421039743, 37.61877981567335], [126.9528332649861, 37.6161065117682], [126.95145384404022, 37.61493028446385], [126.95249458941419, 37.61333750249896], [126.95308190738618, 37.60926681659027], [126.95187994741721, 37.60600915874973], [126.9524752030572, 37.60508692737045], [126.94919787550161, 37.60506379949065], [126.94701525068315, 37.602028095480975], [126.94451473597087, 37.60203195380752], [126.94359054641505, 37.60034871312552], [126.94277481511082, 37.59587806191211], [126.93575441237547, 37.593605788596975], [126.93104958440722, 37.58996937993664], [126.92996402426377, 37.58767009299767], [126.9302171100533, 37.58559126746845], [126.9281697003186, 37.584376616028365], [126.92596484570709, 37.58441659356971], [126.92444169370404, 37.581233899739914], [126.91792000144513, 37.58034997804668], [126.91827498278953, 37.58276881451649], [126.91464724464083, 37.583228529985455], [126.90522065831053, 37.57409700522574], [126.90373193212757, 37.573123712282076], [126.90023584510952, 37.575506080437606], [126.89738573904876, 37.578668647687564], [126.89532313269488, 37.579420322822145], [126.89150044994719, 37.58202374305761], [126.88433284773288, 37.588143322880526], [126.88715278104091, 37.59100341655796], [126.88936046370014, 37.59099007316069], [126.88753401663872, 37.58829545592628], [126.88935419108029, 37.58580092310326], [126.89349057571656, 37.585662344444785], [126.89532781702978, 37.58637054299599], [126.89905466698256, 37.58582731337662], [126.9019347597747, 37.58707359614439], [126.9010825805882, 37.58986595756633], [126.90396681003595, 37.59227403419942], [126.90321089756087, 37.594542731935476], [126.90358350094938, 37.59657528019595], [126.90235425214276, 37.60036302950128], [126.90417801431465, 37.60102912046836], [126.90396561274416, 37.60721180273151], [126.90303066177668, 37.609977911401344], [126.90548675623195, 37.61601216482774], [126.90721633741286, 37.6164590533837], [126.90935539569412, 37.61912234588074], [126.90852982623917, 37.62123670148755], [126.91081768678396, 37.62338674837964], [126.91117179533428, 37.62562846875194], [126.90862530043799, 37.62973539928895], [126.91295124779275, 37.633086577991136], [126.91232131977827, 37.635879167956396], [126.91380622398978, 37.63822817856539], [126.91455481429648, 37.64150050996935], [126.9097405206299, 37.643548736416925], [126.9104285840059, 37.64469477594629], [126.91598194662826, 37.64192000919822], [126.92335892549015, 37.642768849393626], [126.92751618877016, 37.644656244616336], [126.93099150738166, 37.64717805899008], [126.93658892420821, 37.64777520545395], [126.93914008753828, 37.64914400014214], [126.94248904852749, 37.65384179343651], [126.94571884127255, 37.655369042036206], [126.94940373004215, 37.656145979585894], [126.94982400027399, 37.65461320918016], [126.95334970767568, 37.65216408903825], [126.956473797387, 37.652480737339445], [126.9588647426878, 37.6498628918019], [126.95972824076269, 37.64638504253487], [126.96223689995006, 37.64553441285544], [126.96424221141602, 37.64071627640099], [126.96652025322855, 37.640285044901944], [126.97092373342322, 37.63589354812246], [126.97086605626453, 37.633738820281394], [126.9738864128702, 37.62949634786888]]], &quot;type&quot;: &quot;Polygon&quot;}, &quot;properties&quot;: {&quot;base_year&quot;: &quot;2013&quot;, &quot;code&quot;: &quot;11120&quot;, &quot;name&quot;: &quot;\\uc740\\ud3c9\\uad6c&quot;, &quot;name_eng&quot;: &quot;Eunpyeong-gu&quot;}, &quot;type&quot;: &quot;Feature&quot;}, {&quot;geometry&quot;: {&quot;coordinates&quot;: [[[127.10782277688129, 37.61804244241069], [127.10361952102048, 37.61701182935077], [127.10191523948123, 37.61531698025357], [127.09825969127313, 37.61431077622918], [127.09125855705382, 37.61703046232404], [127.08796048322492, 37.617471883010936], [127.08325130652017, 37.61626773063051], [127.07351243825278, 37.61283660342313], [127.07011594002495, 37.6127769191002], [127.06726783142085, 37.61136014256744], [127.06412260483201, 37.6115839902766], [127.05631594723272, 37.61738373018764], [127.05209373568619, 37.62164065487782], [127.04999984182327, 37.62412061598568], [127.04358800895609, 37.62848931298715], [127.046042857549, 37.630647660209426], [127.0471214260595, 37.63407841321815], [127.05227148282157, 37.642016305290156], [127.05704472959141, 37.63797342537787], [127.05800075220091, 37.64318263878276], [127.05640030258566, 37.648142414223344], [127.05620364700786, 37.65295201497795], [127.05366382763933, 37.65780685245659], [127.05343284205686, 37.660866393548005], [127.05093085431419, 37.666308257661356], [127.05124324520023, 37.6703356616521], [127.05259811896667, 37.67463041579101], [127.05402878877452, 37.682018621183914], [127.05288479710485, 37.68423857084347], [127.05673771202906, 37.68650223136443], [127.05893512852644, 37.68678532745334], [127.06366923747898, 37.68598834805241], [127.06722106517597, 37.68706409219909], [127.07150256171397, 37.69158365999211], [127.07502582169255, 37.691675325399515], [127.07945174893383, 37.693602239076704], [127.0838752703195, 37.69359534202034], [127.08640047239444, 37.69122798275615], [127.08834747450551, 37.68753106067129], [127.09706391309695, 37.686383719372294], [127.09839746601683, 37.682954904948026], [127.09481040538887, 37.678799295731295], [127.0939394572467, 37.676403111386776], [127.09572273018789, 37.673837879820674], [127.09657954289648, 37.670746511824845], [127.09767362583241, 37.67002252402865], [127.0980220884148, 37.66742967749355], [127.09621282296045, 37.66347990019021], [127.09845931549125, 37.659077182069595], [127.0978618070161, 37.656734861475485], [127.08845241642267, 37.65271564775536], [127.09496093471334, 37.65209266377008], [127.09618835483448, 37.65001330395237], [127.09440766298717, 37.64713490473045], [127.09686381732382, 37.642772590812655], [127.10024317327698, 37.642337895238754], [127.10266382494892, 37.64291284604662], [127.11014084969742, 37.641850613893396], [127.11406637789241, 37.63742154695932], [127.1144974746579, 37.632439003890255], [127.11309628774731, 37.627803407908374], [127.10737639048635, 37.62412346388371], [127.10736111050278, 37.62243873312504], [127.10561964188106, 37.620112931875134], [127.10782277688129, 37.61804244241069]]], &quot;type&quot;: &quot;Polygon&quot;}, &quot;properties&quot;: {&quot;base_year&quot;: &quot;2013&quot;, &quot;code&quot;: &quot;11110&quot;, &quot;name&quot;: &quot;\\ub178\\uc6d0\\uad6c&quot;, &quot;name_eng&quot;: &quot;Nowon-gu&quot;}, &quot;type&quot;: &quot;Feature&quot;}, {&quot;geometry&quot;: {&quot;coordinates&quot;: [[[127.05288479710485, 37.68423857084347], [127.05402878877452, 37.682018621183914], [127.05259811896667, 37.67463041579101], [127.05124324520023, 37.6703356616521], [127.05093085431419, 37.666308257661356], [127.05343284205686, 37.660866393548005], [127.05366382763933, 37.65780685245659], [127.05620364700786, 37.65295201497795], [127.05640030258566, 37.648142414223344], [127.05800075220091, 37.64318263878276], [127.05704472959141, 37.63797342537787], [127.05227148282157, 37.642016305290156], [127.0471214260595, 37.63407841321815], [127.046042857549, 37.630647660209426], [127.04358800895609, 37.62848931298715], [127.04058571489718, 37.6311245692538], [127.03905574421407, 37.63395360172076], [127.03660759925259, 37.63506293914692], [127.03477664182829, 37.63884292238491], [127.02950136469548, 37.64228467033725], [127.0265542519312, 37.644688649276304], [127.02233660280599, 37.64628067142158], [127.01772305897457, 37.64631597694605], [127.01534913067235, 37.64765266597785], [127.01465935892466, 37.64943687496812], [127.01599412132472, 37.65623256113309], [127.01726703299362, 37.65880555518138], [127.01776269066357, 37.66391319760785], [127.02062116141389, 37.667173575971205], [127.01873683359163, 37.66988242479123], [127.0159718440919, 37.67258796420281], [127.01401600772708, 37.67653037200686], [127.01073060671976, 37.67694372299732], [127.01039666042071, 37.681894589603594], [127.01103947380624, 37.684405447624954], [127.01017954927539, 37.686333239654594], [127.0109997247323, 37.691942369792514], [127.01405303313638, 37.69546278140397], [127.01645586375106, 37.69548055092485], [127.01802453368332, 37.698275937456124], [127.02143522814708, 37.698589417759045], [127.02419558273166, 37.69682256792619], [127.02700292435075, 37.69665589205863], [127.03018866626446, 37.69776745888886], [127.03132724235057, 37.69621818994332], [127.03183574218306, 37.69340418484943], [127.03328657751797, 37.69010729962784], [127.0345286215439, 37.688986544260594], [127.0379422140845, 37.68943836856245], [127.04383030416193, 37.692565730249534], [127.04510703173885, 37.690951514278055], [127.04772506731972, 37.68962174626068], [127.05108189294938, 37.69116379209157], [127.05288479710485, 37.68423857084347]]], &quot;type&quot;: &quot;Polygon&quot;}, &quot;properties&quot;: {&quot;base_year&quot;: &quot;2013&quot;, &quot;code&quot;: &quot;11100&quot;, &quot;name&quot;: &quot;\\ub3c4\\ubd09\\uad6c&quot;, &quot;name_eng&quot;: &quot;Dobong-gu&quot;}, &quot;type&quot;: &quot;Feature&quot;}, {&quot;geometry&quot;: {&quot;coordinates&quot;: [[[127.01039666042071, 37.681894589603594], [127.01073060671976, 37.67694372299732], [127.01401600772708, 37.67653037200686], [127.0159718440919, 37.67258796420281], [127.01873683359163, 37.66988242479123], [127.02062116141389, 37.667173575971205], [127.01776269066357, 37.66391319760785], [127.01726703299362, 37.65880555518138], [127.01599412132472, 37.65623256113309], [127.01465935892466, 37.64943687496812], [127.01534913067235, 37.64765266597785], [127.01772305897457, 37.64631597694605], [127.02233660280599, 37.64628067142158], [127.0265542519312, 37.644688649276304], [127.02950136469548, 37.64228467033725], [127.03477664182829, 37.63884292238491], [127.03660759925259, 37.63506293914692], [127.03905574421407, 37.63395360172076], [127.04058571489718, 37.6311245692538], [127.04358800895609, 37.62848931298715], [127.04999984182327, 37.62412061598568], [127.05209373568619, 37.62164065487782], [127.04887981022048, 37.61973841113549], [127.0460676006384, 37.615885647801704], [127.0419720518426, 37.612838591864076], [127.03892400992301, 37.609715611023816], [127.03251659844592, 37.60634705009134], [127.03229982090541, 37.609536104167034], [127.02851994524015, 37.60987827182396], [127.02433990415497, 37.60847763545628], [127.02136282940177, 37.610961475137174], [127.01685658093551, 37.61280115359516], [127.0128154749523, 37.613652243470256], [127.01060611893628, 37.615741236385354], [127.00960949401902, 37.61822603840364], [127.00997935126598, 37.62111906051553], [127.00210238658002, 37.622984514557714], [126.99867431516041, 37.626297613391166], [126.99614706382866, 37.62719717129899], [126.99529660787617, 37.62923863577322], [126.9933714170822, 37.62922019292486], [126.9877052521691, 37.63265610340949], [126.98672705513869, 37.63377641288196], [126.98826481934299, 37.637416984207924], [126.98537069512379, 37.64080296617396], [126.987065858581, 37.64320008084445], [126.98580395043626, 37.64699767714015], [126.9832621473545, 37.64947328029498], [126.9817452676551, 37.65209769387776], [126.98205504313285, 37.653797128044495], [126.98709809733522, 37.65651691642121], [126.99031779354014, 37.661013121145366], [126.99494735642686, 37.66223870806347], [126.99581225370686, 37.6651171428027], [126.99622950422442, 37.669428820661516], [126.99506026831365, 37.674827885285765], [126.99384134064161, 37.67665247641944], [126.9959894573757, 37.67754299691771], [127.00000021675876, 37.68100582640454], [127.00566931208934, 37.68228507374621], [127.01039666042071, 37.681894589603594]]], &quot;type&quot;: &quot;Polygon&quot;}, &quot;properties&quot;: {&quot;base_year&quot;: &quot;2013&quot;, &quot;code&quot;: &quot;11090&quot;, &quot;name&quot;: &quot;\\uac15\\ubd81\\uad6c&quot;, &quot;name_eng&quot;: &quot;Gangbuk-gu&quot;}, &quot;type&quot;: &quot;Feature&quot;}, {&quot;geometry&quot;: {&quot;coordinates&quot;: [[[126.977175406416, 37.62859715400388], [126.9794090069433, 37.63071544568365], [126.98360012419735, 37.631915771386076], [126.98672705513869, 37.63377641288196], [126.9877052521691, 37.63265610340949], [126.9933714170822, 37.62922019292486], [126.99529660787617, 37.62923863577322], [126.99614706382866, 37.62719717129899], [126.99867431516041, 37.626297613391166], [127.00210238658002, 37.622984514557714], [127.00997935126598, 37.62111906051553], [127.00960949401902, 37.61822603840364], [127.01060611893628, 37.615741236385354], [127.0128154749523, 37.613652243470256], [127.01685658093551, 37.61280115359516], [127.02136282940177, 37.610961475137174], [127.02433990415497, 37.60847763545628], [127.02851994524015, 37.60987827182396], [127.03229982090541, 37.609536104167034], [127.03251659844592, 37.60634705009134], [127.03892400992301, 37.609715611023816], [127.0419720518426, 37.612838591864076], [127.0460676006384, 37.615885647801704], [127.04887981022048, 37.61973841113549], [127.05209373568619, 37.62164065487782], [127.05631594723272, 37.61738373018764], [127.06412260483201, 37.6115839902766], [127.06726783142085, 37.61136014256744], [127.07011594002495, 37.6127769191002], [127.07351243825278, 37.61283660342313], [127.07382707099227, 37.60401928986419], [127.07257736686556, 37.60654335765868], [127.07069716820665, 37.60653037341939], [127.07084342033339, 37.60407877132597], [127.06753185518703, 37.602724214598744], [127.06424828533608, 37.60234356864383], [127.0612685122857, 37.59823077263369], [127.059485363799, 37.598743571420485], [127.05413734593897, 37.5971595374718], [127.05238061017225, 37.598312271275574], [127.04975439355248, 37.59349421284317], [127.0461318196879, 37.593514180513594], [127.042705222094, 37.59239437593391], [127.04116895171082, 37.58847599306138], [127.0384945038446, 37.587129138658426], [127.03121630347839, 37.57957997701485], [127.02527254528003, 37.57524616245249], [127.02395698453867, 37.576068086896726], [127.02039107536422, 37.575771872553595], [127.01849412471284, 37.57904760334465], [127.01678966486051, 37.57943162455397], [127.01094467951529, 37.57765758282494], [127.00914513999258, 37.57928387879304], [127.00896672237498, 37.582512606964876], [127.00803641804285, 37.5841154647404], [127.00453322588274, 37.58626325611708], [127.00304474231643, 37.58959898679736], [126.99774058571116, 37.58944568945197], [126.99647930158565, 37.58845217708608], [126.99348293358314, 37.588565457216156], [126.98858114244759, 37.58971272682123], [126.98596926877026, 37.59105697466976], [126.98411250331745, 37.59305007059415], [126.98366752610544, 37.596350797276386], [126.98700989661556, 37.59664611897289], [126.98984276495587, 37.59842301677683], [126.9880021251863, 37.60434406739665], [126.98906118629816, 37.60778324866486], [126.98879865992384, 37.6118927319756], [126.9849070918475, 37.61390303132951], [126.98297129719916, 37.61996223346171], [126.98130955822086, 37.621781567952816], [126.98162508963613, 37.626412913357804], [126.97877284074367, 37.62605559220399], [126.977175406416, 37.62859715400388]]], &quot;type&quot;: &quot;Polygon&quot;}, &quot;properties&quot;: {&quot;base_year&quot;: &quot;2013&quot;, &quot;code&quot;: &quot;11080&quot;, &quot;name&quot;: &quot;\\uc131\\ubd81\\uad6c&quot;, &quot;name_eng&quot;: &quot;Seongbuk-gu&quot;}, &quot;type&quot;: &quot;Feature&quot;}, {&quot;geometry&quot;: {&quot;coordinates&quot;: [[[127.07351243825278, 37.61283660342313], [127.08325130652017, 37.61626773063051], [127.08796048322492, 37.617471883010936], [127.09125855705382, 37.61703046232404], [127.09825969127313, 37.61431077622918], [127.10191523948123, 37.61531698025357], [127.10361952102048, 37.61701182935077], [127.10782277688129, 37.61804244241069], [127.11345331993296, 37.617863842655304], [127.11916337651404, 37.615000227833356], [127.1187755615964, 37.61339189160851], [127.11970006573152, 37.60891483985411], [127.11876125411283, 37.606109446640644], [127.12043057261968, 37.60482121408794], [127.1201246020114, 37.60178457598188], [127.11594480655864, 37.59717030173888], [127.1161657841268, 37.5962121213837], [127.12048134936907, 37.59221917979044], [127.11993709114493, 37.5912110652886], [127.11547153661459, 37.590528329194775], [127.11264015185725, 37.58640964166709], [127.11144053497418, 37.58186897928644], [127.10355419751173, 37.58101570870827], [127.10488038804347, 37.57896712496416], [127.10478332632734, 37.575507303239235], [127.10316405057817, 37.57293156986855], [127.10304174249214, 37.57076342290955], [127.1015990771266, 37.56973288819573], [127.09327554832984, 37.566762290300666], [127.08553261581505, 37.56856310839328], [127.08068541280403, 37.56906425519017], [127.08029626481297, 37.57521980955321], [127.07912345005859, 37.57855657914261], [127.07327401376529, 37.585954498442064], [127.07152840437725, 37.593413161750675], [127.07216156147413, 37.59537631888819], [127.07457336676376, 37.5983180561341], [127.07481016030349, 37.60000012932336], [127.07382707099227, 37.60401928986419], [127.07351243825278, 37.61283660342313]]], &quot;type&quot;: &quot;Polygon&quot;}, &quot;properties&quot;: {&quot;base_year&quot;: &quot;2013&quot;, &quot;code&quot;: &quot;11070&quot;, &quot;name&quot;: &quot;\\uc911\\ub791\\uad6c&quot;, &quot;name_eng&quot;: &quot;Jungnang-gu&quot;}, &quot;type&quot;: &quot;Feature&quot;}, {&quot;geometry&quot;: {&quot;coordinates&quot;: [[[127.02527254528003, 37.57524616245249], [127.03121630347839, 37.57957997701485], [127.0384945038446, 37.587129138658426], [127.04116895171082, 37.58847599306138], [127.042705222094, 37.59239437593391], [127.0461318196879, 37.593514180513594], [127.04975439355248, 37.59349421284317], [127.05238061017225, 37.598312271275574], [127.05413734593897, 37.5971595374718], [127.059485363799, 37.598743571420485], [127.0612685122857, 37.59823077263369], [127.06424828533608, 37.60234356864383], [127.06753185518703, 37.602724214598744], [127.07084342033339, 37.60407877132597], [127.07069716820665, 37.60653037341939], [127.07257736686556, 37.60654335765868], [127.07382707099227, 37.60401928986419], [127.07481016030349, 37.60000012932336], [127.07457336676376, 37.5983180561341], [127.07216156147413, 37.59537631888819], [127.07152840437725, 37.593413161750675], [127.07327401376529, 37.585954498442064], [127.07912345005859, 37.57855657914261], [127.08029626481297, 37.57521980955321], [127.08068541280403, 37.56906425519017], [127.07421053024362, 37.55724769712085], [127.07287485628252, 37.55777591771644], [127.06151678590773, 37.55942885203987], [127.06031059899311, 37.55992251180729], [127.05005601081567, 37.567577612590846], [127.0442866611438, 37.57022476304866], [127.04003329296518, 37.57010227772625], [127.03483042272745, 37.567549767306716], [127.03182413083377, 37.56712900013391], [127.02547266349976, 37.568943552237734], [127.02527254528003, 37.57524616245249]]], &quot;type&quot;: &quot;Polygon&quot;}, &quot;properties&quot;: {&quot;base_year&quot;: &quot;2013&quot;, &quot;code&quot;: &quot;11060&quot;, &quot;name&quot;: &quot;\\ub3d9\\ub300\\ubb38\\uad6c&quot;, &quot;name_eng&quot;: &quot;Dongdaemun-gu&quot;}, &quot;type&quot;: &quot;Feature&quot;}, {&quot;geometry&quot;: {&quot;coordinates&quot;: [[[127.08068541280403, 37.56906425519017], [127.08553261581505, 37.56856310839328], [127.09327554832984, 37.566762290300666], [127.1015990771266, 37.56973288819573], [127.10304174249214, 37.57076342290955], [127.10627148043552, 37.568124945986824], [127.10545359063936, 37.56685230388649], [127.10407152037101, 37.55958871940823], [127.10325742736646, 37.5572251707506], [127.11270952006532, 37.55702358575743], [127.11519584981606, 37.557533180704915], [127.11600943681239, 37.55580061507081], [127.11600200349189, 37.55053147511706], [127.11418412219375, 37.54474592090681], [127.1116764203608, 37.540669955324965], [127.10484130265957, 37.53120327509912], [127.10087519791962, 37.524841220167055], [127.0943611414465, 37.523984206117525], [127.08639455667742, 37.52161824624356], [127.07968915919895, 37.52077294752823], [127.07496309841329, 37.52091052765938], [127.0690698130372, 37.522279423505026], [127.05867359288398, 37.52629974922568], [127.06896218881212, 37.544361436565524], [127.07580697427795, 37.556641581290656], [127.07421053024362, 37.55724769712085], [127.08068541280403, 37.56906425519017]]], &quot;type&quot;: &quot;Polygon&quot;}, &quot;properties&quot;: {&quot;base_year&quot;: &quot;2013&quot;, &quot;code&quot;: &quot;11050&quot;, &quot;name&quot;: &quot;\\uad11\\uc9c4\\uad6c&quot;, &quot;name_eng&quot;: &quot;Gwangjin-gu&quot;}, &quot;type&quot;: &quot;Feature&quot;}, {&quot;geometry&quot;: {&quot;coordinates&quot;: [[[127.02547266349976, 37.568943552237734], [127.03182413083377, 37.56712900013391], [127.03483042272745, 37.567549767306716], [127.04003329296518, 37.57010227772625], [127.0442866611438, 37.57022476304866], [127.05005601081567, 37.567577612590846], [127.06031059899311, 37.55992251180729], [127.06151678590773, 37.55942885203987], [127.07287485628252, 37.55777591771644], [127.07421053024362, 37.55724769712085], [127.07580697427795, 37.556641581290656], [127.06896218881212, 37.544361436565524], [127.05867359288398, 37.52629974922568], [127.05116490008963, 37.52975116557232], [127.04903802830752, 37.53140496708317], [127.04806779588436, 37.52970198575087], [127.0319617044248, 37.536064291470424], [127.0269608080842, 37.53484752757724], [127.02302831890559, 37.53231899582663], [127.01689265453608, 37.536101393926174], [127.01157414590769, 37.53677688273679], [127.01043978345277, 37.53905983303592], [127.01070894177482, 37.54118048964762], [127.01172101406588, 37.545252245650516], [127.01376082027429, 37.54571276061997], [127.01889368846282, 37.55057696424215], [127.01951516360089, 37.55318470254581], [127.02174792168286, 37.55473509405241], [127.02496143707425, 37.555070476260596], [127.0257913546443, 37.558352834264504], [127.02836991434461, 37.56019645010606], [127.02881029425372, 37.56219283885279], [127.02571971403893, 37.56237200595601], [127.02547266349976, 37.568943552237734]]], &quot;type&quot;: &quot;Polygon&quot;}, &quot;properties&quot;: {&quot;base_year&quot;: &quot;2013&quot;, &quot;code&quot;: &quot;11040&quot;, &quot;name&quot;: &quot;\\uc131\\ub3d9\\uad6c&quot;, &quot;name_eng&quot;: &quot;Seongdong-gu&quot;}, &quot;type&quot;: &quot;Feature&quot;}, {&quot;geometry&quot;: {&quot;coordinates&quot;: [[[127.01070894177482, 37.54118048964762], [127.01043978345277, 37.53905983303592], [127.01157414590769, 37.53677688273679], [127.01689265453608, 37.536101393926174], [127.02302831890559, 37.53231899582663], [127.01397119667513, 37.52503988289669], [127.01022186960886, 37.522020085671926], [127.00818058911564, 37.51877313923874], [127.00583392114271, 37.516905128452926], [127.00011962020382, 37.513901653034374], [126.99148001917875, 37.50990503427709], [126.98948242685965, 37.5108780134613], [126.98458580602838, 37.51070333105394], [126.98223807916081, 37.509314966770326], [126.96670111119346, 37.50997579058433], [126.95950268374823, 37.51249532165974], [126.95551848909955, 37.514736123015844], [126.95249990298159, 37.51722500741813], [126.95003825019774, 37.520781022055274], [126.9488066464266, 37.52424913252661], [126.94566733083212, 37.526617542453366], [126.94717864071288, 37.53213495568077], [126.95340780191557, 37.533494726370755], [126.95926437828754, 37.53897908363236], [126.9605977865388, 37.542661954880806], [126.96231305253527, 37.543511558047456], [126.96401856825223, 37.54584596959762], [126.96604189284825, 37.546894141748815], [126.96448570553055, 37.548705692021635], [126.96782902931233, 37.55132047039716], [126.97427174983227, 37.55109017579016], [126.97859017732588, 37.550336476582174], [126.97925452152829, 37.552184137181925], [126.98262900956787, 37.5506055959842], [126.98584427779701, 37.55023778139842], [126.98752996903328, 37.55094818807139], [126.9899124474417, 37.54869376545355], [126.99238536723166, 37.54862980831976], [126.99742220893982, 37.544438365587226], [127.00062378484931, 37.54713274618077], [127.00478682371764, 37.54680216333233], [127.00632779182564, 37.54757707053058], [127.00694507580798, 37.5433832956489], [127.00936066823724, 37.54101133407434], [127.01070894177482, 37.54118048964762]]], &quot;type&quot;: &quot;Polygon&quot;}, &quot;properties&quot;: {&quot;base_year&quot;: &quot;2013&quot;, &quot;code&quot;: &quot;11030&quot;, &quot;name&quot;: &quot;\\uc6a9\\uc0b0\\uad6c&quot;, &quot;name_eng&quot;: &quot;Yongsan-gu&quot;}, &quot;type&quot;: &quot;Feature&quot;}, {&quot;geometry&quot;: {&quot;coordinates&quot;: [[[127.02547266349976, 37.568943552237734], [127.02571971403893, 37.56237200595601], [127.02881029425372, 37.56219283885279], [127.02836991434461, 37.56019645010606], [127.0257913546443, 37.558352834264504], [127.02496143707425, 37.555070476260596], [127.02174792168286, 37.55473509405241], [127.01951516360089, 37.55318470254581], [127.01889368846282, 37.55057696424215], [127.01376082027429, 37.54571276061997], [127.01172101406588, 37.545252245650516], [127.01070894177482, 37.54118048964762], [127.00936066823724, 37.54101133407434], [127.00694507580798, 37.5433832956489], [127.00632779182564, 37.54757707053058], [127.00478682371764, 37.54680216333233], [127.00062378484931, 37.54713274618077], [126.99742220893982, 37.544438365587226], [126.99238536723166, 37.54862980831976], [126.9899124474417, 37.54869376545355], [126.98752996903328, 37.55094818807139], [126.98584427779701, 37.55023778139842], [126.98262900956787, 37.5506055959842], [126.97925452152829, 37.552184137181925], [126.97859017732588, 37.550336476582174], [126.97427174983227, 37.55109017579016], [126.96782902931233, 37.55132047039716], [126.96448570553055, 37.548705692021635], [126.96380145704283, 37.55254525759954], [126.96519694864509, 37.55362533505407], [126.96358226710812, 37.55605635475154], [126.96570855677983, 37.556512377492325], [126.96900073076728, 37.55850929094393], [126.97169209525231, 37.55921654641677], [126.96873633279075, 37.56313604690827], [126.97114791678374, 37.56539818101368], [126.97500684322326, 37.566406971064836], [126.97990305661519, 37.5664536437083], [126.9910070921652, 37.565312022428806], [126.99879870609924, 37.56591346564579], [127.00372480409301, 37.56679519621814], [127.01786686709805, 37.56701276414023], [127.02250839667563, 37.56892943928301], [127.02547266349976, 37.568943552237734]]], &quot;type&quot;: &quot;Polygon&quot;}, &quot;properties&quot;: {&quot;base_year&quot;: &quot;2013&quot;, &quot;code&quot;: &quot;11020&quot;, &quot;name&quot;: &quot;\\uc911\\uad6c&quot;, &quot;name_eng&quot;: &quot;Jung-gu&quot;}, &quot;type&quot;: &quot;Feature&quot;}, {&quot;geometry&quot;: {&quot;coordinates&quot;: [[[126.9738864128702, 37.62949634786888], [126.977175406416, 37.62859715400388], [126.97877284074367, 37.62605559220399], [126.98162508963613, 37.626412913357804], [126.98130955822086, 37.621781567952816], [126.98297129719916, 37.61996223346171], [126.9849070918475, 37.61390303132951], [126.98879865992384, 37.6118927319756], [126.98906118629816, 37.60778324866486], [126.9880021251863, 37.60434406739665], [126.98984276495587, 37.59842301677683], [126.98700989661556, 37.59664611897289], [126.98366752610544, 37.596350797276386], [126.98411250331745, 37.59305007059415], [126.98596926877026, 37.59105697466976], [126.98858114244759, 37.58971272682123], [126.99348293358314, 37.588565457216156], [126.99647930158565, 37.58845217708608], [126.99774058571116, 37.58944568945197], [127.00304474231643, 37.58959898679736], [127.00453322588274, 37.58626325611708], [127.00803641804285, 37.5841154647404], [127.00896672237498, 37.582512606964876], [127.00914513999258, 37.57928387879304], [127.01094467951529, 37.57765758282494], [127.01678966486051, 37.57943162455397], [127.01849412471284, 37.57904760334465], [127.02039107536422, 37.575771872553595], [127.02395698453867, 37.576068086896726], [127.02527254528003, 37.57524616245249], [127.02547266349976, 37.568943552237734], [127.02250839667563, 37.56892943928301], [127.01786686709805, 37.56701276414023], [127.00372480409301, 37.56679519621814], [126.99879870609924, 37.56591346564579], [126.9910070921652, 37.565312022428806], [126.97990305661519, 37.5664536437083], [126.97500684322326, 37.566406971064836], [126.97114791678374, 37.56539818101368], [126.96873633279075, 37.56313604690827], [126.95565425846463, 37.576080790881456], [126.95789326971087, 37.57793453336025], [126.96177754536156, 37.57970124256911], [126.95879970726017, 37.58189826471162], [126.96048802632431, 37.587202077053746], [126.960424902266, 37.58868913291801], [126.95842779914786, 37.592356673207824], [126.95924434840931, 37.59545024466215], [126.95619178283661, 37.59575826218021], [126.95484771718951, 37.59761368186209], [126.95564117002459, 37.601827148276776], [126.95480868778256, 37.60381765067903], [126.9524752030572, 37.60508692737045], [126.95187994741721, 37.60600915874973], [126.95308190738618, 37.60926681659027], [126.95249458941419, 37.61333750249896], [126.95145384404022, 37.61493028446385], [126.9528332649861, 37.6161065117682], [126.95393421039743, 37.61877981567335], [126.95427017006129, 37.622033431339425], [126.95885198650147, 37.6225761621008], [126.96164158910712, 37.62569322976388], [126.97135221665513, 37.62743418897386], [126.9738864128702, 37.62949634786888]]], &quot;type&quot;: &quot;Polygon&quot;}, &quot;properties&quot;: {&quot;base_year&quot;: &quot;2013&quot;, &quot;code&quot;: &quot;11010&quot;, &quot;name&quot;: &quot;\\uc885\\ub85c\\uad6c&quot;, &quot;name_eng&quot;: &quot;Jongno-gu&quot;}, &quot;type&quot;: &quot;Feature&quot;}], &quot;type&quot;: &quot;FeatureCollection&quot;});\n",
       "\n",
       "        \n",
       "    \n",
       "            geo_json_99360d353a24fada584837ac887452aa.addTo(choropleth_d624ca7396e61eed7843f3df1594d8f5);\n",
       "        \n",
       "    \n",
       "    var color_map_b489ac11bda815b2659bff8242241ec3 = {};\n",
       "\n",
       "    \n",
       "    color_map_b489ac11bda815b2659bff8242241ec3.color = d3.scale.threshold()\n",
       "              .domain([892.0, 902.5070140280561, 913.0140280561122, 923.5210420841684, 934.0280561122245, 944.5350701402806, 955.0420841683367, 965.5490981963928, 976.056112224449, 986.5631262525051, 997.0701402805611, 1007.5771543086172, 1018.0841683366733, 1028.5911823647295, 1039.0981963927857, 1049.6052104208416, 1060.112224448898, 1070.6192384769538, 1081.1262525050101, 1091.633266533066, 1102.1402805611222, 1112.6472945891783, 1123.1543086172344, 1133.6613226452905, 1144.1683366733466, 1154.6753507014027, 1165.1823647294589, 1175.689378757515, 1186.196392785571, 1196.7034068136272, 1207.2104208416833, 1217.7174348697395, 1228.2244488977956, 1238.7314629258517, 1249.2384769539078, 1259.745490981964, 1270.25250501002, 1280.7595190380762, 1291.2665330661323, 1301.7735470941884, 1312.2805611222445, 1322.7875751503007, 1333.2945891783568, 1343.801603206413, 1354.308617234469, 1364.8156312625251, 1375.322645290581, 1385.8296593186374, 1396.3366733466933, 1406.8436873747496, 1417.3507014028055, 1427.8577154308618, 1438.3647294589177, 1448.871743486974, 1459.37875751503, 1469.8857715430863, 1480.3927855711422, 1490.8997995991986, 1501.4068136272545, 1511.9138276553106, 1522.4208416833667, 1532.9278557114228, 1543.434869739479, 1553.941883767535, 1564.4488977955912, 1574.9559118236473, 1585.4629258517034, 1595.9699398797595, 1606.4769539078156, 1616.9839679358718, 1627.4909819639279, 1637.997995991984, 1648.5050100200401, 1659.0120240480962, 1669.5190380761524, 1680.0260521042082, 1690.5330661322646, 1701.0400801603205, 1711.5470941883768, 1722.0541082164327, 1732.561122244489, 1743.068136272545, 1753.5751503006013, 1764.0821643286572, 1774.5891783567135, 1785.0961923847694, 1795.6032064128258, 1806.1102204408817, 1816.617234468938, 1827.124248496994, 1837.6312625250503, 1848.1382765531062, 1858.6452905811623, 1869.1523046092184, 1879.6593186372745, 1890.1663326653306, 1900.6733466933867, 1911.1803607214429, 1921.687374749499, 1932.194388777555, 1942.7014028056112, 1953.2084168336673, 1963.7154308617235, 1974.2224448897796, 1984.7294589178357, 1995.2364729458918, 2005.743486973948, 2016.250501002004, 2026.7575150300602, 2037.2645290581163, 2047.7715430861724, 2058.2785571142285, 2068.7855711422844, 2079.2925851703408, 2089.799599198397, 2100.306613226453, 2110.813627254509, 2121.320641282565, 2131.827655310621, 2142.3346693386775, 2152.8416833667334, 2163.3486973947893, 2173.8557114228456, 2184.362725450902, 2194.869739478958, 2205.3767535070137, 2215.88376753507, 2226.3907815631264, 2236.8977955911823, 2247.404809619238, 2257.9118236472946, 2268.418837675351, 2278.925851703407, 2289.4328657314627, 2299.939879759519, 2310.4468937875754, 2320.9539078156313, 2331.460921843687, 2341.9679358717435, 2352.4749498998, 2362.9819639278558, 2373.4889779559117, 2383.995991983968, 2394.5030060120243, 2405.0100200400802, 2415.517034068136, 2426.0240480961925, 2436.531062124249, 2447.0380761523047, 2457.5450901803606, 2468.0521042084165, 2478.559118236473, 2489.066132264529, 2499.573146292585, 2510.080160320641, 2520.5871743486973, 2531.0941883767537, 2541.6012024048096, 2552.1082164328654, 2562.615230460922, 2573.122244488978, 2583.629258517034, 2594.13627254509, 2604.6432865731463, 2615.1503006012026, 2625.6573146292585, 2636.1643286573144, 2646.6713426853707, 2657.178356713427, 2667.685370741483, 2678.192384769539, 2688.699398797595, 2699.2064128256516, 2709.7134268537075, 2720.2204408817634, 2730.7274549098197, 2741.234468937876, 2751.741482965932, 2762.248496993988, 2772.755511022044, 2783.2625250501005, 2793.7695390781564, 2804.2765531062123, 2814.783567134268, 2825.2905811623245, 2835.797595190381, 2846.304609218437, 2856.8116232464927, 2867.318637274549, 2877.8256513026054, 2888.3326653306613, 2898.839679358717, 2909.3466933867735, 2919.85370741483, 2930.3607214428857, 2940.867735470942, 2951.374749498998, 2961.8817635270543, 2972.38877755511, 2982.8957915831666, 2993.4028056112224, 3003.9098196392783, 3014.4168336673347, 3024.9238476953906, 3035.430861723447, 3045.937875751503, 3056.444889779559, 3066.951903807615, 3077.4589178356714, 3087.9659318637273, 3098.4729458917836, 3108.9799599198395, 3119.486973947896, 3129.9939879759518, 3140.501002004008, 3151.008016032064, 3161.5150300601204, 3172.0220440881762, 3182.5290581162326, 3193.0360721442885, 3203.543086172345, 3214.0501002004007, 3224.557114228457, 3235.064128256513, 3245.5711422845693, 3256.078156312625, 3266.5851703406815, 3277.0921843687374, 3287.599198396794, 3298.1062124248497, 3308.613226452906, 3319.120240480962, 3329.6272545090183, 3340.134268537074, 3350.64128256513, 3361.1482965931864, 3371.6553106212423, 3382.1623246492986, 3392.6693386773545, 3403.176352705411, 3413.6833667334668, 3424.190380761523, 3434.697394789579, 3445.2044088176353, 3455.7114228456912, 3466.2184368737476, 3476.7254509018035, 3487.23246492986, 3497.7394789579157, 3508.246492985972, 3518.753507014028, 3529.2605210420843, 3539.76753507014, 3550.2745490981965, 3560.7815631262524, 3571.2885771543088, 3581.7955911823647, 3592.302605210421, 3602.809619238477, 3613.3166332665332, 3623.823647294589, 3634.3306613226455, 3644.8376753507014, 3655.3446893787577, 3665.8517034068136, 3676.35871743487, 3686.865731462926, 3697.3727454909817, 3707.879759519038, 3718.386773547094, 3728.8937875751503, 3739.400801603206, 3749.9078156312626, 3760.4148296593185, 3770.921843687375, 3781.4288577154307, 3791.935871743487, 3802.442885771543, 3812.9498997995993, 3823.456913827655, 3833.9639278557115, 3844.4709418837674, 3854.9779559118238, 3865.4849699398796, 3875.991983967936, 3886.498997995992, 3897.0060120240482, 3907.513026052104, 3918.0200400801605, 3928.5270541082164, 3939.0340681362727, 3949.5410821643286, 3960.048096192385, 3970.555110220441, 3981.062124248497, 3991.569138276553, 4002.0761523046094, 4012.5831663326653, 4023.0901803607217, 4033.5971943887776, 4044.1042084168334, 4054.61122244489, 4065.1182364729457, 4075.625250501002, 4086.132264529058, 4096.639278557114, 4107.14629258517, 4117.653306613227, 4128.160320641282, 4138.667334669339, 4149.174348697395, 4159.6813627254505, 4170.188376753507, 4180.695390781563, 4191.202404809619, 4201.709418837676, 4212.216432865731, 4222.723446893788, 4233.230460921844, 4243.7374749498995, 4254.244488977956, 4264.751503006012, 4275.258517034068, 4285.765531062125, 4296.27254509018, 4306.779559118237, 4317.2865731462925, 4327.793587174348, 4338.300601202405, 4348.807615230461, 4359.314629258517, 4369.821643286574, 4380.328657314629, 4390.835671342686, 4401.3426853707415, 4411.849699398797, 4422.356713426854, 4432.863727454909, 4443.370741482966, 4453.877755511022, 4464.384769539078, 4474.891783567135, 4485.39879759519, 4495.905811623246, 4506.412825651303, 4516.919839679358, 4527.426853707415, 4537.933867735471, 4548.440881763527, 4558.9478957915835, 4569.454909819639, 4579.961923847695, 4590.468937875752, 4600.975951903807, 4611.482965931864, 4621.98997995992, 4632.496993987976, 4643.0040080160325, 4653.511022044088, 4664.018036072144, 4674.525050100201, 4685.032064128256, 4695.539078156313, 4706.046092184369, 4716.553106212425, 4727.060120240481, 4737.567134268536, 4748.074148296593, 4758.581162324649, 4769.088176352705, 4779.595190380762, 4790.102204408818, 4800.609218436874, 4811.11623246493, 4821.623246492985, 4832.130260521042, 4842.637274549098, 4853.144288577154, 4863.651302605211, 4874.158316633267, 4884.6653306613225, 4895.172344689379, 4905.679358717434, 4916.186372745491, 4926.693386773547, 4937.200400801603, 4947.70741482966, 4958.214428857716, 4968.7214428857715, 4979.228456913828, 4989.735470941884, 5000.24248496994, 5010.749498997996, 5021.256513026052, 5031.763527054109, 5042.2705410821645, 5052.77755511022, 5063.284569138276, 5073.791583166333, 5084.298597194389, 5094.805611222445, 5105.312625250501, 5115.819639278557, 5126.3266533066135, 5136.833667334669, 5147.340681362725, 5157.847695390781, 5168.354709418838, 5178.861723446894, 5189.36873747495, 5199.875751503006, 5210.382765531062, 5220.889779559118, 5231.396793587174, 5241.90380761523, 5252.410821643287, 5262.917835671343, 5273.424849699399, 5283.931863727455, 5294.438877755511, 5304.945891783567, 5315.452905811623, 5325.959919839679, 5336.466933867736, 5346.973947895792, 5357.480961923848, 5367.9879759519035, 5378.49498997996, 5389.002004008016, 5399.509018036072, 5410.016032064128, 5420.523046092185, 5431.030060120241, 5441.537074148297, 5452.0440881763525, 5462.551102204408, 5473.058116232465, 5483.565130260521, 5494.072144288577, 5504.579158316633, 5515.08617234469, 5525.593186372746, 5536.100200400801, 5546.607214428857, 5557.114228456914, 5567.62124248497, 5578.128256513026, 5588.635270541082, 5599.142284569139, 5609.6492985971945, 5620.15631262525, 5630.663326653306, 5641.170340681363, 5651.677354709419, 5662.184368737475, 5672.691382765531, 5683.198396793588, 5693.705410821643, 5704.212424849699, 5714.719438877755, 5725.226452905812, 5735.733466933868, 5746.240480961924, 5756.74749498998, 5767.2545090180365, 5777.761523046092, 5788.268537074148, 5798.775551102204, 5809.28256513026, 5819.789579158317, 5830.296593186373, 5840.803607214429, 5851.310621242485, 5861.817635270541, 5872.324649298597, 5882.831663326653, 5893.338677354709, 5903.845691382766, 5914.352705410822, 5924.859719438878, 5935.3667334669335, 5945.87374749499, 5956.380761523046, 5966.887775551102, 5977.394789579158, 5987.901803607215, 5998.408817635271, 6008.915831663327, 6019.4228456913825, 6029.929859719439, 6040.436873747495, 6050.943887775551, 6061.450901803607, 6071.957915831664, 6082.46492985972, 6092.9719438877755, 6103.478957915831, 6113.985971943888, 6124.492985971944, 6135.0])\n",
       "              .range([&#x27;#edf8b1ff&#x27;, &#x27;#edf8b1ff&#x27;, &#x27;#edf8b1ff&#x27;, &#x27;#edf8b1ff&#x27;, &#x27;#edf8b1ff&#x27;, &#x27;#edf8b1ff&#x27;, &#x27;#edf8b1ff&#x27;, &#x27;#edf8b1ff&#x27;, &#x27;#edf8b1ff&#x27;, &#x27;#edf8b1ff&#x27;, &#x27;#edf8b1ff&#x27;, &#x27;#edf8b1ff&#x27;, &#x27;#edf8b1ff&#x27;, &#x27;#edf8b1ff&#x27;, &#x27;#edf8b1ff&#x27;, &#x27;#edf8b1ff&#x27;, &#x27;#edf8b1ff&#x27;, &#x27;#edf8b1ff&#x27;, &#x27;#edf8b1ff&#x27;, &#x27;#edf8b1ff&#x27;, &#x27;#edf8b1ff&#x27;, &#x27;#edf8b1ff&#x27;, &#x27;#edf8b1ff&#x27;, &#x27;#edf8b1ff&#x27;, &#x27;#edf8b1ff&#x27;, &#x27;#edf8b1ff&#x27;, &#x27;#edf8b1ff&#x27;, &#x27;#edf8b1ff&#x27;, &#x27;#edf8b1ff&#x27;, &#x27;#edf8b1ff&#x27;, &#x27;#edf8b1ff&#x27;, &#x27;#edf8b1ff&#x27;, &#x27;#edf8b1ff&#x27;, &#x27;#edf8b1ff&#x27;, &#x27;#edf8b1ff&#x27;, &#x27;#edf8b1ff&#x27;, &#x27;#edf8b1ff&#x27;, &#x27;#edf8b1ff&#x27;, &#x27;#edf8b1ff&#x27;, &#x27;#edf8b1ff&#x27;, &#x27;#edf8b1ff&#x27;, &#x27;#edf8b1ff&#x27;, &#x27;#edf8b1ff&#x27;, &#x27;#edf8b1ff&#x27;, &#x27;#edf8b1ff&#x27;, &#x27;#edf8b1ff&#x27;, &#x27;#edf8b1ff&#x27;, &#x27;#edf8b1ff&#x27;, &#x27;#edf8b1ff&#x27;, &#x27;#edf8b1ff&#x27;, &#x27;#edf8b1ff&#x27;, &#x27;#edf8b1ff&#x27;, &#x27;#edf8b1ff&#x27;, &#x27;#edf8b1ff&#x27;, &#x27;#edf8b1ff&#x27;, &#x27;#edf8b1ff&#x27;, &#x27;#edf8b1ff&#x27;, &#x27;#edf8b1ff&#x27;, &#x27;#edf8b1ff&#x27;, &#x27;#edf8b1ff&#x27;, &#x27;#edf8b1ff&#x27;, &#x27;#edf8b1ff&#x27;, &#x27;#edf8b1ff&#x27;, &#x27;#edf8b1ff&#x27;, &#x27;#edf8b1ff&#x27;, &#x27;#edf8b1ff&#x27;, &#x27;#edf8b1ff&#x27;, &#x27;#edf8b1ff&#x27;, &#x27;#edf8b1ff&#x27;, &#x27;#edf8b1ff&#x27;, &#x27;#edf8b1ff&#x27;, &#x27;#edf8b1ff&#x27;, &#x27;#edf8b1ff&#x27;, &#x27;#edf8b1ff&#x27;, &#x27;#edf8b1ff&#x27;, &#x27;#edf8b1ff&#x27;, &#x27;#edf8b1ff&#x27;, &#x27;#edf8b1ff&#x27;, &#x27;#edf8b1ff&#x27;, &#x27;#edf8b1ff&#x27;, &#x27;#edf8b1ff&#x27;, &#x27;#edf8b1ff&#x27;, &#x27;#edf8b1ff&#x27;, &#x27;#edf8b1ff&#x27;, &#x27;#edf8b1ff&#x27;, &#x27;#edf8b1ff&#x27;, &#x27;#edf8b1ff&#x27;, &#x27;#edf8b1ff&#x27;, &#x27;#edf8b1ff&#x27;, &#x27;#edf8b1ff&#x27;, &#x27;#edf8b1ff&#x27;, &#x27;#edf8b1ff&#x27;, &#x27;#edf8b1ff&#x27;, &#x27;#edf8b1ff&#x27;, &#x27;#edf8b1ff&#x27;, &#x27;#edf8b1ff&#x27;, &#x27;#edf8b1ff&#x27;, &#x27;#edf8b1ff&#x27;, &#x27;#edf8b1ff&#x27;, &#x27;#edf8b1ff&#x27;, &#x27;#edf8b1ff&#x27;, &#x27;#edf8b1ff&#x27;, &#x27;#edf8b1ff&#x27;, &#x27;#edf8b1ff&#x27;, &#x27;#edf8b1ff&#x27;, &#x27;#edf8b1ff&#x27;, &#x27;#edf8b1ff&#x27;, &#x27;#edf8b1ff&#x27;, &#x27;#edf8b1ff&#x27;, &#x27;#edf8b1ff&#x27;, &#x27;#edf8b1ff&#x27;, &#x27;#edf8b1ff&#x27;, &#x27;#edf8b1ff&#x27;, &#x27;#edf8b1ff&#x27;, &#x27;#edf8b1ff&#x27;, &#x27;#edf8b1ff&#x27;, &#x27;#edf8b1ff&#x27;, &#x27;#edf8b1ff&#x27;, &#x27;#edf8b1ff&#x27;, &#x27;#edf8b1ff&#x27;, &#x27;#edf8b1ff&#x27;, &#x27;#7fcdbbff&#x27;, &#x27;#7fcdbbff&#x27;, &#x27;#7fcdbbff&#x27;, &#x27;#7fcdbbff&#x27;, &#x27;#7fcdbbff&#x27;, &#x27;#7fcdbbff&#x27;, &#x27;#7fcdbbff&#x27;, &#x27;#7fcdbbff&#x27;, &#x27;#7fcdbbff&#x27;, &#x27;#7fcdbbff&#x27;, &#x27;#7fcdbbff&#x27;, &#x27;#7fcdbbff&#x27;, &#x27;#7fcdbbff&#x27;, &#x27;#7fcdbbff&#x27;, &#x27;#7fcdbbff&#x27;, &#x27;#7fcdbbff&#x27;, &#x27;#7fcdbbff&#x27;, &#x27;#7fcdbbff&#x27;, &#x27;#7fcdbbff&#x27;, &#x27;#7fcdbbff&#x27;, &#x27;#7fcdbbff&#x27;, &#x27;#7fcdbbff&#x27;, &#x27;#7fcdbbff&#x27;, &#x27;#7fcdbbff&#x27;, &#x27;#7fcdbbff&#x27;, &#x27;#7fcdbbff&#x27;, &#x27;#7fcdbbff&#x27;, &#x27;#7fcdbbff&#x27;, &#x27;#7fcdbbff&#x27;, &#x27;#7fcdbbff&#x27;, &#x27;#7fcdbbff&#x27;, &#x27;#7fcdbbff&#x27;, &#x27;#7fcdbbff&#x27;, &#x27;#7fcdbbff&#x27;, &#x27;#7fcdbbff&#x27;, &#x27;#7fcdbbff&#x27;, &#x27;#7fcdbbff&#x27;, &#x27;#7fcdbbff&#x27;, &#x27;#7fcdbbff&#x27;, &#x27;#7fcdbbff&#x27;, &#x27;#7fcdbbff&#x27;, &#x27;#7fcdbbff&#x27;, &#x27;#7fcdbbff&#x27;, &#x27;#7fcdbbff&#x27;, &#x27;#7fcdbbff&#x27;, &#x27;#7fcdbbff&#x27;, &#x27;#7fcdbbff&#x27;, &#x27;#7fcdbbff&#x27;, &#x27;#7fcdbbff&#x27;, &#x27;#7fcdbbff&#x27;, &#x27;#7fcdbbff&#x27;, &#x27;#7fcdbbff&#x27;, &#x27;#7fcdbbff&#x27;, &#x27;#7fcdbbff&#x27;, &#x27;#7fcdbbff&#x27;, &#x27;#7fcdbbff&#x27;, &#x27;#7fcdbbff&#x27;, &#x27;#7fcdbbff&#x27;, &#x27;#7fcdbbff&#x27;, &#x27;#7fcdbbff&#x27;, &#x27;#7fcdbbff&#x27;, &#x27;#7fcdbbff&#x27;, &#x27;#7fcdbbff&#x27;, &#x27;#7fcdbbff&#x27;, &#x27;#7fcdbbff&#x27;, &#x27;#7fcdbbff&#x27;, &#x27;#7fcdbbff&#x27;, &#x27;#7fcdbbff&#x27;, &#x27;#7fcdbbff&#x27;, &#x27;#7fcdbbff&#x27;, &#x27;#7fcdbbff&#x27;, &#x27;#7fcdbbff&#x27;, &#x27;#7fcdbbff&#x27;, &#x27;#7fcdbbff&#x27;, &#x27;#7fcdbbff&#x27;, &#x27;#7fcdbbff&#x27;, &#x27;#7fcdbbff&#x27;, &#x27;#7fcdbbff&#x27;, &#x27;#7fcdbbff&#x27;, &#x27;#7fcdbbff&#x27;, &#x27;#7fcdbbff&#x27;, &#x27;#7fcdbbff&#x27;, &#x27;#7fcdbbff&#x27;, &#x27;#7fcdbbff&#x27;, &#x27;#7fcdbbff&#x27;, &#x27;#7fcdbbff&#x27;, &#x27;#7fcdbbff&#x27;, &#x27;#7fcdbbff&#x27;, &#x27;#7fcdbbff&#x27;, &#x27;#2c7fb8ff&#x27;, &#x27;#2c7fb8ff&#x27;, &#x27;#2c7fb8ff&#x27;, &#x27;#2c7fb8ff&#x27;, &#x27;#2c7fb8ff&#x27;, &#x27;#2c7fb8ff&#x27;, &#x27;#2c7fb8ff&#x27;, &#x27;#2c7fb8ff&#x27;, &#x27;#2c7fb8ff&#x27;, &#x27;#2c7fb8ff&#x27;, &#x27;#2c7fb8ff&#x27;, &#x27;#2c7fb8ff&#x27;, &#x27;#2c7fb8ff&#x27;, &#x27;#2c7fb8ff&#x27;, &#x27;#2c7fb8ff&#x27;, &#x27;#2c7fb8ff&#x27;, &#x27;#2c7fb8ff&#x27;, &#x27;#2c7fb8ff&#x27;, &#x27;#2c7fb8ff&#x27;, &#x27;#2c7fb8ff&#x27;, &#x27;#2c7fb8ff&#x27;, &#x27;#2c7fb8ff&#x27;, &#x27;#2c7fb8ff&#x27;, &#x27;#2c7fb8ff&#x27;, &#x27;#2c7fb8ff&#x27;, &#x27;#2c7fb8ff&#x27;, &#x27;#2c7fb8ff&#x27;, &#x27;#2c7fb8ff&#x27;, &#x27;#2c7fb8ff&#x27;, &#x27;#2c7fb8ff&#x27;, &#x27;#2c7fb8ff&#x27;, &#x27;#2c7fb8ff&#x27;, &#x27;#2c7fb8ff&#x27;, &#x27;#2c7fb8ff&#x27;, &#x27;#2c7fb8ff&#x27;, &#x27;#2c7fb8ff&#x27;, &#x27;#2c7fb8ff&#x27;, &#x27;#2c7fb8ff&#x27;, &#x27;#2c7fb8ff&#x27;, &#x27;#2c7fb8ff&#x27;, &#x27;#2c7fb8ff&#x27;, &#x27;#2c7fb8ff&#x27;, &#x27;#2c7fb8ff&#x27;, &#x27;#2c7fb8ff&#x27;, &#x27;#2c7fb8ff&#x27;, &#x27;#2c7fb8ff&#x27;, &#x27;#2c7fb8ff&#x27;, &#x27;#2c7fb8ff&#x27;, &#x27;#2c7fb8ff&#x27;, &#x27;#2c7fb8ff&#x27;, &#x27;#2c7fb8ff&#x27;, &#x27;#2c7fb8ff&#x27;, &#x27;#2c7fb8ff&#x27;, &#x27;#2c7fb8ff&#x27;, &#x27;#2c7fb8ff&#x27;, &#x27;#2c7fb8ff&#x27;, &#x27;#2c7fb8ff&#x27;, &#x27;#2c7fb8ff&#x27;, &#x27;#2c7fb8ff&#x27;, &#x27;#2c7fb8ff&#x27;, &#x27;#2c7fb8ff&#x27;, &#x27;#2c7fb8ff&#x27;, &#x27;#2c7fb8ff&#x27;, &#x27;#2c7fb8ff&#x27;, &#x27;#2c7fb8ff&#x27;, &#x27;#2c7fb8ff&#x27;, &#x27;#2c7fb8ff&#x27;, &#x27;#2c7fb8ff&#x27;, &#x27;#2c7fb8ff&#x27;, &#x27;#2c7fb8ff&#x27;, &#x27;#2c7fb8ff&#x27;, &#x27;#2c7fb8ff&#x27;, &#x27;#2c7fb8ff&#x27;, &#x27;#2c7fb8ff&#x27;, &#x27;#2c7fb8ff&#x27;, &#x27;#2c7fb8ff&#x27;, &#x27;#2c7fb8ff&#x27;, &#x27;#2c7fb8ff&#x27;, &#x27;#2c7fb8ff&#x27;, &#x27;#2c7fb8ff&#x27;, &#x27;#2c7fb8ff&#x27;, &#x27;#2c7fb8ff&#x27;, &#x27;#2c7fb8ff&#x27;, &#x27;#2c7fb8ff&#x27;, &#x27;#2c7fb8ff&#x27;, &#x27;#2c7fb8ff&#x27;, &#x27;#2c7fb8ff&#x27;, &#x27;#2c7fb8ff&#x27;, &#x27;#2c7fb8ff&#x27;, &#x27;#2c7fb8ff&#x27;, &#x27;#2c7fb8ff&#x27;, &#x27;#2c7fb8ff&#x27;, &#x27;#2c7fb8ff&#x27;, &#x27;#2c7fb8ff&#x27;, &#x27;#2c7fb8ff&#x27;, &#x27;#2c7fb8ff&#x27;, &#x27;#2c7fb8ff&#x27;, &#x27;#2c7fb8ff&#x27;, &#x27;#2c7fb8ff&#x27;, &#x27;#2c7fb8ff&#x27;, &#x27;#2c7fb8ff&#x27;, &#x27;#2c7fb8ff&#x27;, &#x27;#2c7fb8ff&#x27;, &#x27;#2c7fb8ff&#x27;, &#x27;#2c7fb8ff&#x27;, &#x27;#2c7fb8ff&#x27;, &#x27;#2c7fb8ff&#x27;, &#x27;#2c7fb8ff&#x27;, &#x27;#2c7fb8ff&#x27;, &#x27;#2c7fb8ff&#x27;, &#x27;#2c7fb8ff&#x27;, &#x27;#2c7fb8ff&#x27;, &#x27;#2c7fb8ff&#x27;, &#x27;#2c7fb8ff&#x27;, &#x27;#2c7fb8ff&#x27;, &#x27;#2c7fb8ff&#x27;, &#x27;#2c7fb8ff&#x27;, &#x27;#2c7fb8ff&#x27;, &#x27;#2c7fb8ff&#x27;, &#x27;#2c7fb8ff&#x27;, &#x27;#2c7fb8ff&#x27;, &#x27;#2c7fb8ff&#x27;, &#x27;#2c7fb8ff&#x27;, &#x27;#2c7fb8ff&#x27;, &#x27;#2c7fb8ff&#x27;, &#x27;#2c7fb8ff&#x27;, &#x27;#2c7fb8ff&#x27;, &#x27;#2c7fb8ff&#x27;, &#x27;#2c7fb8ff&#x27;, &#x27;#2c7fb8ff&#x27;, &#x27;#2c7fb8ff&#x27;, &#x27;#2c7fb8ff&#x27;, &#x27;#2c7fb8ff&#x27;, &#x27;#2c7fb8ff&#x27;, &#x27;#2c7fb8ff&#x27;, &#x27;#2c7fb8ff&#x27;, &#x27;#2c7fb8ff&#x27;, &#x27;#2c7fb8ff&#x27;, &#x27;#2c7fb8ff&#x27;, &#x27;#2c7fb8ff&#x27;, &#x27;#2c7fb8ff&#x27;, &#x27;#2c7fb8ff&#x27;, &#x27;#2c7fb8ff&#x27;, &#x27;#2c7fb8ff&#x27;, &#x27;#2c7fb8ff&#x27;, &#x27;#2c7fb8ff&#x27;, &#x27;#2c7fb8ff&#x27;, &#x27;#2c7fb8ff&#x27;, &#x27;#2c7fb8ff&#x27;, &#x27;#2c7fb8ff&#x27;, &#x27;#2c7fb8ff&#x27;, &#x27;#2c7fb8ff&#x27;, &#x27;#2c7fb8ff&#x27;, &#x27;#2c7fb8ff&#x27;, &#x27;#2c7fb8ff&#x27;, &#x27;#2c7fb8ff&#x27;, &#x27;#2c7fb8ff&#x27;, &#x27;#2c7fb8ff&#x27;, &#x27;#2c7fb8ff&#x27;, &#x27;#2c7fb8ff&#x27;, &#x27;#2c7fb8ff&#x27;, &#x27;#2c7fb8ff&#x27;, &#x27;#2c7fb8ff&#x27;, &#x27;#2c7fb8ff&#x27;, &#x27;#2c7fb8ff&#x27;, &#x27;#2c7fb8ff&#x27;, &#x27;#2c7fb8ff&#x27;, &#x27;#2c7fb8ff&#x27;, &#x27;#2c7fb8ff&#x27;, &#x27;#2c7fb8ff&#x27;, &#x27;#2c7fb8ff&#x27;, &#x27;#2c7fb8ff&#x27;, &#x27;#2c7fb8ff&#x27;, &#x27;#2c7fb8ff&#x27;, &#x27;#2c7fb8ff&#x27;, &#x27;#2c7fb8ff&#x27;, &#x27;#2c7fb8ff&#x27;, &#x27;#2c7fb8ff&#x27;, &#x27;#2c7fb8ff&#x27;, &#x27;#2c7fb8ff&#x27;, &#x27;#2c7fb8ff&#x27;, &#x27;#2c7fb8ff&#x27;, &#x27;#2c7fb8ff&#x27;, &#x27;#2c7fb8ff&#x27;, &#x27;#2c7fb8ff&#x27;, &#x27;#2c7fb8ff&#x27;, &#x27;#2c7fb8ff&#x27;, &#x27;#2c7fb8ff&#x27;, &#x27;#2c7fb8ff&#x27;, &#x27;#2c7fb8ff&#x27;, &#x27;#2c7fb8ff&#x27;, &#x27;#2c7fb8ff&#x27;, &#x27;#2c7fb8ff&#x27;, &#x27;#2c7fb8ff&#x27;, &#x27;#2c7fb8ff&#x27;, &#x27;#2c7fb8ff&#x27;, &#x27;#2c7fb8ff&#x27;, &#x27;#2c7fb8ff&#x27;, &#x27;#2c7fb8ff&#x27;, &#x27;#2c7fb8ff&#x27;, &#x27;#2c7fb8ff&#x27;, &#x27;#2c7fb8ff&#x27;, &#x27;#2c7fb8ff&#x27;, &#x27;#2c7fb8ff&#x27;, &#x27;#2c7fb8ff&#x27;, &#x27;#2c7fb8ff&#x27;, &#x27;#2c7fb8ff&#x27;, &#x27;#2c7fb8ff&#x27;, &#x27;#2c7fb8ff&#x27;, &#x27;#2c7fb8ff&#x27;, &#x27;#2c7fb8ff&#x27;, &#x27;#2c7fb8ff&#x27;, &#x27;#2c7fb8ff&#x27;, &#x27;#2c7fb8ff&#x27;, &#x27;#2c7fb8ff&#x27;, &#x27;#2c7fb8ff&#x27;, &#x27;#2c7fb8ff&#x27;, &#x27;#2c7fb8ff&#x27;, &#x27;#2c7fb8ff&#x27;, &#x27;#2c7fb8ff&#x27;, &#x27;#2c7fb8ff&#x27;, &#x27;#2c7fb8ff&#x27;, &#x27;#2c7fb8ff&#x27;, &#x27;#2c7fb8ff&#x27;, &#x27;#2c7fb8ff&#x27;, &#x27;#2c7fb8ff&#x27;, &#x27;#2c7fb8ff&#x27;, &#x27;#2c7fb8ff&#x27;, &#x27;#2c7fb8ff&#x27;, &#x27;#2c7fb8ff&#x27;, &#x27;#2c7fb8ff&#x27;, &#x27;#2c7fb8ff&#x27;, &#x27;#2c7fb8ff&#x27;, &#x27;#2c7fb8ff&#x27;, &#x27;#2c7fb8ff&#x27;, &#x27;#2c7fb8ff&#x27;, &#x27;#2c7fb8ff&#x27;, &#x27;#2c7fb8ff&#x27;, &#x27;#2c7fb8ff&#x27;, &#x27;#2c7fb8ff&#x27;, &#x27;#2c7fb8ff&#x27;, &#x27;#2c7fb8ff&#x27;, &#x27;#2c7fb8ff&#x27;, &#x27;#2c7fb8ff&#x27;, &#x27;#2c7fb8ff&#x27;, &#x27;#2c7fb8ff&#x27;, &#x27;#2c7fb8ff&#x27;, &#x27;#2c7fb8ff&#x27;, &#x27;#2c7fb8ff&#x27;, &#x27;#2c7fb8ff&#x27;, &#x27;#2c7fb8ff&#x27;, &#x27;#2c7fb8ff&#x27;, &#x27;#2c7fb8ff&#x27;, &#x27;#2c7fb8ff&#x27;, &#x27;#2c7fb8ff&#x27;, &#x27;#2c7fb8ff&#x27;, &#x27;#2c7fb8ff&#x27;, &#x27;#2c7fb8ff&#x27;, &#x27;#2c7fb8ff&#x27;, &#x27;#2c7fb8ff&#x27;, &#x27;#2c7fb8ff&#x27;, &#x27;#2c7fb8ff&#x27;, &#x27;#2c7fb8ff&#x27;, &#x27;#2c7fb8ff&#x27;, &#x27;#2c7fb8ff&#x27;, &#x27;#2c7fb8ff&#x27;, &#x27;#2c7fb8ff&#x27;, &#x27;#2c7fb8ff&#x27;, &#x27;#2c7fb8ff&#x27;, &#x27;#2c7fb8ff&#x27;, &#x27;#2c7fb8ff&#x27;, &#x27;#2c7fb8ff&#x27;, &#x27;#2c7fb8ff&#x27;, &#x27;#2c7fb8ff&#x27;, &#x27;#2c7fb8ff&#x27;, &#x27;#2c7fb8ff&#x27;, &#x27;#2c7fb8ff&#x27;, &#x27;#2c7fb8ff&#x27;, &#x27;#2c7fb8ff&#x27;, &#x27;#2c7fb8ff&#x27;, &#x27;#2c7fb8ff&#x27;, &#x27;#2c7fb8ff&#x27;, &#x27;#2c7fb8ff&#x27;, &#x27;#2c7fb8ff&#x27;, &#x27;#2c7fb8ff&#x27;, &#x27;#2c7fb8ff&#x27;, &#x27;#2c7fb8ff&#x27;, &#x27;#2c7fb8ff&#x27;, &#x27;#2c7fb8ff&#x27;, &#x27;#2c7fb8ff&#x27;]);\n",
       "    \n",
       "\n",
       "    color_map_b489ac11bda815b2659bff8242241ec3.x = d3.scale.linear()\n",
       "              .domain([892.0, 6135.0])\n",
       "              .range([0, 450 - 50]);\n",
       "\n",
       "    color_map_b489ac11bda815b2659bff8242241ec3.legend = L.control({position: &#x27;topright&#x27;});\n",
       "    color_map_b489ac11bda815b2659bff8242241ec3.legend.onAdd = function (map) {var div = L.DomUtil.create(&#x27;div&#x27;, &#x27;legend&#x27;); return div};\n",
       "    color_map_b489ac11bda815b2659bff8242241ec3.legend.addTo(map_22980b20a219f7afa24f08399e38d9af);\n",
       "\n",
       "    color_map_b489ac11bda815b2659bff8242241ec3.xAxis = d3.svg.axis()\n",
       "        .scale(color_map_b489ac11bda815b2659bff8242241ec3.x)\n",
       "        .orient(&quot;top&quot;)\n",
       "        .tickSize(1)\n",
       "        .tickValues([892.0, 2154.0, 3096.0, 6135.0]);\n",
       "\n",
       "    color_map_b489ac11bda815b2659bff8242241ec3.svg = d3.select(&quot;.legend.leaflet-control&quot;).append(&quot;svg&quot;)\n",
       "        .attr(&quot;id&quot;, &#x27;legend&#x27;)\n",
       "        .attr(&quot;width&quot;, 450)\n",
       "        .attr(&quot;height&quot;, 40);\n",
       "\n",
       "    color_map_b489ac11bda815b2659bff8242241ec3.g = color_map_b489ac11bda815b2659bff8242241ec3.svg.append(&quot;g&quot;)\n",
       "        .attr(&quot;class&quot;, &quot;key&quot;)\n",
       "        .attr(&quot;transform&quot;, &quot;translate(25,16)&quot;);\n",
       "\n",
       "    color_map_b489ac11bda815b2659bff8242241ec3.g.selectAll(&quot;rect&quot;)\n",
       "        .data(color_map_b489ac11bda815b2659bff8242241ec3.color.range().map(function(d, i) {\n",
       "          return {\n",
       "            x0: i ? color_map_b489ac11bda815b2659bff8242241ec3.x(color_map_b489ac11bda815b2659bff8242241ec3.color.domain()[i - 1]) : color_map_b489ac11bda815b2659bff8242241ec3.x.range()[0],\n",
       "            x1: i &lt; color_map_b489ac11bda815b2659bff8242241ec3.color.domain().length ? color_map_b489ac11bda815b2659bff8242241ec3.x(color_map_b489ac11bda815b2659bff8242241ec3.color.domain()[i]) : color_map_b489ac11bda815b2659bff8242241ec3.x.range()[1],\n",
       "            z: d\n",
       "          };\n",
       "        }))\n",
       "      .enter().append(&quot;rect&quot;)\n",
       "        .attr(&quot;height&quot;, 40 - 30)\n",
       "        .attr(&quot;x&quot;, function(d) { return d.x0; })\n",
       "        .attr(&quot;width&quot;, function(d) { return d.x1 - d.x0; })\n",
       "        .style(&quot;fill&quot;, function(d) { return d.z; });\n",
       "\n",
       "    color_map_b489ac11bda815b2659bff8242241ec3.g.call(color_map_b489ac11bda815b2659bff8242241ec3.xAxis).append(&quot;text&quot;)\n",
       "        .attr(&quot;class&quot;, &quot;caption&quot;)\n",
       "        .attr(&quot;y&quot;, 21)\n",
       "        .text(&quot;\\uac74\\uc218 \\ube44\\uc728&quot;);\n",
       "    \n",
       "            choropleth_d624ca7396e61eed7843f3df1594d8f5.addTo(map_22980b20a219f7afa24f08399e38d9af);\n",
       "        \n",
       "&lt;/script&gt;\n",
       "&lt;/html&gt;\" style=\"position:absolute;width:100%;height:100%;left:0;top:0;border:none !important;\" allowfullscreen webkitallowfullscreen mozallowfullscreen></iframe></div></div>"
      ],
      "text/plain": [
       "<folium.folium.Map at 0x1922ded4110>"
      ]
     },
     "execution_count": 72,
     "metadata": {},
     "output_type": "execute_result"
    }
   ],
   "source": [
    "import folium\n",
    "import pandas as pd\n",
    "\n",
    "# 데이터 프레임 생성\n",
    "file_path = r'C:\\Users\\bluecom011\\Desktop\\공모전\\단속데이터\\서울특별시_장애인 주차구역 과태료 부과 현황_20230209 (2).CSV'\n",
    "# 데이터 로드\n",
    "data_pay = pd.read_csv(file_path, encoding='cp949')\n",
    "\n",
    "# '건수' 열을 숫자로 변환\n",
    "data_pay['건수'] = pd.to_numeric(data_pay['건수'], errors='coerce')\n",
    "\n",
    "# Quantile 계산\n",
    "bins = list(data_pay['건수'].quantile([0, 0.5, 0.75, 1]))\n",
    "\n",
    "# Choropleth 지도 생성\n",
    "seoul_map = folium.Map(location=[37.5665, 126.9780], zoom_start=11)  # 서울의 중심 좌표로 설정\n",
    "\n",
    "# Choropleth 레이어 추가\n",
    "folium.Choropleth(\n",
    "    geo_data='https://raw.githubusercontent.com/southkorea/seoul-maps/master/kostat/2013/json/seoul_municipalities_geo_simple.json',\n",
    "    name='choropleth',\n",
    "    data=data_pay,\n",
    "    columns=['자치구', '건수'],\n",
    "    key_on='properties.name',\n",
    "    fill_color='YlGnBu',\n",
    "    fill_opacity=0.5,\n",
    "    line_opacity=0.2,\n",
    "    legend_name='건수 비율',\n",
    "    bins=bins\n",
    ").add_to(seoul_map)\n",
    "\n",
    "seoul_map\n"
   ]
  },
  {
   "cell_type": "code",
   "execution_count": 51,
   "metadata": {},
   "outputs": [
    {
     "data": {
      "application/vnd.plotly.v1+json": {
       "config": {
        "plotlyServerURL": "https://plot.ly"
       },
       "data": [
        {
         "coloraxis": "coloraxis",
         "featureidkey": "properties.서울특별시(자치구)",
         "geo": "geo",
         "geojson": [
          "https://raw.githubusercontent.com/southkorea/seoul-maps/master/kostat/2013/json/seoul_municipalities_geo_simple.json"
         ],
         "hovertemplate": "서울특별시(자치구)=%{location}<br>건수=%{z}<extra></extra>",
         "locations": [
          " 종로구 ",
          " 중구 ",
          " 용산구 ",
          " 성동구 ",
          " 광진구 ",
          " 동대문구 ",
          " 중랑구 ",
          " 성북구 ",
          " 강북구 ",
          " 도봉구 ",
          " 노원구 ",
          " 은평구 ",
          " 서대문구 ",
          " 마포구 ",
          " 양천구 ",
          " 강서구 ",
          " 구로구 ",
          " 금천구 ",
          " 영등포구 ",
          " 동작구 ",
          " 관악구 ",
          " 서초구 ",
          " 강남구 ",
          " 송파구 ",
          " 강동구 "
         ],
         "name": "",
         "type": "choropleth",
         "z": [
          892,
          2154,
          1438,
          2264,
          1594,
          5432,
          1573,
          1336,
          1745,
          1948,
          2521,
          1220,
          1245,
          3096,
          1977,
          5443,
          2355,
          2208,
          4902,
          1982,
          1776,
          3257,
          6135,
          4656,
          2307
         ]
        }
       ],
       "layout": {
        "coloraxis": {
         "colorbar": {
          "title": {
           "text": "건수"
          }
         },
         "colorscale": [
          [
           0,
           "rgb(247,251,255)"
          ],
          [
           0.125,
           "rgb(222,235,247)"
          ],
          [
           0.25,
           "rgb(198,219,239)"
          ],
          [
           0.375,
           "rgb(158,202,225)"
          ],
          [
           0.5,
           "rgb(107,174,214)"
          ],
          [
           0.625,
           "rgb(66,146,198)"
          ],
          [
           0.75,
           "rgb(33,113,181)"
          ],
          [
           0.875,
           "rgb(8,81,156)"
          ],
          [
           1,
           "rgb(8,48,107)"
          ]
         ]
        },
        "geo": {
         "center": {},
         "domain": {
          "x": [
           0,
           1
          ],
          "y": [
           0,
           1
          ]
         },
         "fitbounds": "locations",
         "visible": true
        },
        "legend": {
         "tracegroupgap": 0
        },
        "margin": {
         "t": 60
        },
        "template": {
         "data": {
          "bar": [
           {
            "error_x": {
             "color": "#2a3f5f"
            },
            "error_y": {
             "color": "#2a3f5f"
            },
            "marker": {
             "line": {
              "color": "#E5ECF6",
              "width": 0.5
             },
             "pattern": {
              "fillmode": "overlay",
              "size": 10,
              "solidity": 0.2
             }
            },
            "type": "bar"
           }
          ],
          "barpolar": [
           {
            "marker": {
             "line": {
              "color": "#E5ECF6",
              "width": 0.5
             },
             "pattern": {
              "fillmode": "overlay",
              "size": 10,
              "solidity": 0.2
             }
            },
            "type": "barpolar"
           }
          ],
          "carpet": [
           {
            "aaxis": {
             "endlinecolor": "#2a3f5f",
             "gridcolor": "white",
             "linecolor": "white",
             "minorgridcolor": "white",
             "startlinecolor": "#2a3f5f"
            },
            "baxis": {
             "endlinecolor": "#2a3f5f",
             "gridcolor": "white",
             "linecolor": "white",
             "minorgridcolor": "white",
             "startlinecolor": "#2a3f5f"
            },
            "type": "carpet"
           }
          ],
          "choropleth": [
           {
            "colorbar": {
             "outlinewidth": 0,
             "ticks": ""
            },
            "type": "choropleth"
           }
          ],
          "contour": [
           {
            "colorbar": {
             "outlinewidth": 0,
             "ticks": ""
            },
            "colorscale": [
             [
              0,
              "#0d0887"
             ],
             [
              0.1111111111111111,
              "#46039f"
             ],
             [
              0.2222222222222222,
              "#7201a8"
             ],
             [
              0.3333333333333333,
              "#9c179e"
             ],
             [
              0.4444444444444444,
              "#bd3786"
             ],
             [
              0.5555555555555556,
              "#d8576b"
             ],
             [
              0.6666666666666666,
              "#ed7953"
             ],
             [
              0.7777777777777778,
              "#fb9f3a"
             ],
             [
              0.8888888888888888,
              "#fdca26"
             ],
             [
              1,
              "#f0f921"
             ]
            ],
            "type": "contour"
           }
          ],
          "contourcarpet": [
           {
            "colorbar": {
             "outlinewidth": 0,
             "ticks": ""
            },
            "type": "contourcarpet"
           }
          ],
          "heatmap": [
           {
            "colorbar": {
             "outlinewidth": 0,
             "ticks": ""
            },
            "colorscale": [
             [
              0,
              "#0d0887"
             ],
             [
              0.1111111111111111,
              "#46039f"
             ],
             [
              0.2222222222222222,
              "#7201a8"
             ],
             [
              0.3333333333333333,
              "#9c179e"
             ],
             [
              0.4444444444444444,
              "#bd3786"
             ],
             [
              0.5555555555555556,
              "#d8576b"
             ],
             [
              0.6666666666666666,
              "#ed7953"
             ],
             [
              0.7777777777777778,
              "#fb9f3a"
             ],
             [
              0.8888888888888888,
              "#fdca26"
             ],
             [
              1,
              "#f0f921"
             ]
            ],
            "type": "heatmap"
           }
          ],
          "heatmapgl": [
           {
            "colorbar": {
             "outlinewidth": 0,
             "ticks": ""
            },
            "colorscale": [
             [
              0,
              "#0d0887"
             ],
             [
              0.1111111111111111,
              "#46039f"
             ],
             [
              0.2222222222222222,
              "#7201a8"
             ],
             [
              0.3333333333333333,
              "#9c179e"
             ],
             [
              0.4444444444444444,
              "#bd3786"
             ],
             [
              0.5555555555555556,
              "#d8576b"
             ],
             [
              0.6666666666666666,
              "#ed7953"
             ],
             [
              0.7777777777777778,
              "#fb9f3a"
             ],
             [
              0.8888888888888888,
              "#fdca26"
             ],
             [
              1,
              "#f0f921"
             ]
            ],
            "type": "heatmapgl"
           }
          ],
          "histogram": [
           {
            "marker": {
             "pattern": {
              "fillmode": "overlay",
              "size": 10,
              "solidity": 0.2
             }
            },
            "type": "histogram"
           }
          ],
          "histogram2d": [
           {
            "colorbar": {
             "outlinewidth": 0,
             "ticks": ""
            },
            "colorscale": [
             [
              0,
              "#0d0887"
             ],
             [
              0.1111111111111111,
              "#46039f"
             ],
             [
              0.2222222222222222,
              "#7201a8"
             ],
             [
              0.3333333333333333,
              "#9c179e"
             ],
             [
              0.4444444444444444,
              "#bd3786"
             ],
             [
              0.5555555555555556,
              "#d8576b"
             ],
             [
              0.6666666666666666,
              "#ed7953"
             ],
             [
              0.7777777777777778,
              "#fb9f3a"
             ],
             [
              0.8888888888888888,
              "#fdca26"
             ],
             [
              1,
              "#f0f921"
             ]
            ],
            "type": "histogram2d"
           }
          ],
          "histogram2dcontour": [
           {
            "colorbar": {
             "outlinewidth": 0,
             "ticks": ""
            },
            "colorscale": [
             [
              0,
              "#0d0887"
             ],
             [
              0.1111111111111111,
              "#46039f"
             ],
             [
              0.2222222222222222,
              "#7201a8"
             ],
             [
              0.3333333333333333,
              "#9c179e"
             ],
             [
              0.4444444444444444,
              "#bd3786"
             ],
             [
              0.5555555555555556,
              "#d8576b"
             ],
             [
              0.6666666666666666,
              "#ed7953"
             ],
             [
              0.7777777777777778,
              "#fb9f3a"
             ],
             [
              0.8888888888888888,
              "#fdca26"
             ],
             [
              1,
              "#f0f921"
             ]
            ],
            "type": "histogram2dcontour"
           }
          ],
          "mesh3d": [
           {
            "colorbar": {
             "outlinewidth": 0,
             "ticks": ""
            },
            "type": "mesh3d"
           }
          ],
          "parcoords": [
           {
            "line": {
             "colorbar": {
              "outlinewidth": 0,
              "ticks": ""
             }
            },
            "type": "parcoords"
           }
          ],
          "pie": [
           {
            "automargin": true,
            "type": "pie"
           }
          ],
          "scatter": [
           {
            "fillpattern": {
             "fillmode": "overlay",
             "size": 10,
             "solidity": 0.2
            },
            "type": "scatter"
           }
          ],
          "scatter3d": [
           {
            "line": {
             "colorbar": {
              "outlinewidth": 0,
              "ticks": ""
             }
            },
            "marker": {
             "colorbar": {
              "outlinewidth": 0,
              "ticks": ""
             }
            },
            "type": "scatter3d"
           }
          ],
          "scattercarpet": [
           {
            "marker": {
             "colorbar": {
              "outlinewidth": 0,
              "ticks": ""
             }
            },
            "type": "scattercarpet"
           }
          ],
          "scattergeo": [
           {
            "marker": {
             "colorbar": {
              "outlinewidth": 0,
              "ticks": ""
             }
            },
            "type": "scattergeo"
           }
          ],
          "scattergl": [
           {
            "marker": {
             "colorbar": {
              "outlinewidth": 0,
              "ticks": ""
             }
            },
            "type": "scattergl"
           }
          ],
          "scattermapbox": [
           {
            "marker": {
             "colorbar": {
              "outlinewidth": 0,
              "ticks": ""
             }
            },
            "type": "scattermapbox"
           }
          ],
          "scatterpolar": [
           {
            "marker": {
             "colorbar": {
              "outlinewidth": 0,
              "ticks": ""
             }
            },
            "type": "scatterpolar"
           }
          ],
          "scatterpolargl": [
           {
            "marker": {
             "colorbar": {
              "outlinewidth": 0,
              "ticks": ""
             }
            },
            "type": "scatterpolargl"
           }
          ],
          "scatterternary": [
           {
            "marker": {
             "colorbar": {
              "outlinewidth": 0,
              "ticks": ""
             }
            },
            "type": "scatterternary"
           }
          ],
          "surface": [
           {
            "colorbar": {
             "outlinewidth": 0,
             "ticks": ""
            },
            "colorscale": [
             [
              0,
              "#0d0887"
             ],
             [
              0.1111111111111111,
              "#46039f"
             ],
             [
              0.2222222222222222,
              "#7201a8"
             ],
             [
              0.3333333333333333,
              "#9c179e"
             ],
             [
              0.4444444444444444,
              "#bd3786"
             ],
             [
              0.5555555555555556,
              "#d8576b"
             ],
             [
              0.6666666666666666,
              "#ed7953"
             ],
             [
              0.7777777777777778,
              "#fb9f3a"
             ],
             [
              0.8888888888888888,
              "#fdca26"
             ],
             [
              1,
              "#f0f921"
             ]
            ],
            "type": "surface"
           }
          ],
          "table": [
           {
            "cells": {
             "fill": {
              "color": "#EBF0F8"
             },
             "line": {
              "color": "white"
             }
            },
            "header": {
             "fill": {
              "color": "#C8D4E3"
             },
             "line": {
              "color": "white"
             }
            },
            "type": "table"
           }
          ]
         },
         "layout": {
          "annotationdefaults": {
           "arrowcolor": "#2a3f5f",
           "arrowhead": 0,
           "arrowwidth": 1
          },
          "autotypenumbers": "strict",
          "coloraxis": {
           "colorbar": {
            "outlinewidth": 0,
            "ticks": ""
           }
          },
          "colorscale": {
           "diverging": [
            [
             0,
             "#8e0152"
            ],
            [
             0.1,
             "#c51b7d"
            ],
            [
             0.2,
             "#de77ae"
            ],
            [
             0.3,
             "#f1b6da"
            ],
            [
             0.4,
             "#fde0ef"
            ],
            [
             0.5,
             "#f7f7f7"
            ],
            [
             0.6,
             "#e6f5d0"
            ],
            [
             0.7,
             "#b8e186"
            ],
            [
             0.8,
             "#7fbc41"
            ],
            [
             0.9,
             "#4d9221"
            ],
            [
             1,
             "#276419"
            ]
           ],
           "sequential": [
            [
             0,
             "#0d0887"
            ],
            [
             0.1111111111111111,
             "#46039f"
            ],
            [
             0.2222222222222222,
             "#7201a8"
            ],
            [
             0.3333333333333333,
             "#9c179e"
            ],
            [
             0.4444444444444444,
             "#bd3786"
            ],
            [
             0.5555555555555556,
             "#d8576b"
            ],
            [
             0.6666666666666666,
             "#ed7953"
            ],
            [
             0.7777777777777778,
             "#fb9f3a"
            ],
            [
             0.8888888888888888,
             "#fdca26"
            ],
            [
             1,
             "#f0f921"
            ]
           ],
           "sequentialminus": [
            [
             0,
             "#0d0887"
            ],
            [
             0.1111111111111111,
             "#46039f"
            ],
            [
             0.2222222222222222,
             "#7201a8"
            ],
            [
             0.3333333333333333,
             "#9c179e"
            ],
            [
             0.4444444444444444,
             "#bd3786"
            ],
            [
             0.5555555555555556,
             "#d8576b"
            ],
            [
             0.6666666666666666,
             "#ed7953"
            ],
            [
             0.7777777777777778,
             "#fb9f3a"
            ],
            [
             0.8888888888888888,
             "#fdca26"
            ],
            [
             1,
             "#f0f921"
            ]
           ]
          },
          "colorway": [
           "#636efa",
           "#EF553B",
           "#00cc96",
           "#ab63fa",
           "#FFA15A",
           "#19d3f3",
           "#FF6692",
           "#B6E880",
           "#FF97FF",
           "#FECB52"
          ],
          "font": {
           "color": "#2a3f5f"
          },
          "geo": {
           "bgcolor": "white",
           "lakecolor": "white",
           "landcolor": "#E5ECF6",
           "showlakes": true,
           "showland": true,
           "subunitcolor": "white"
          },
          "hoverlabel": {
           "align": "left"
          },
          "hovermode": "closest",
          "mapbox": {
           "style": "light"
          },
          "paper_bgcolor": "white",
          "plot_bgcolor": "#E5ECF6",
          "polar": {
           "angularaxis": {
            "gridcolor": "white",
            "linecolor": "white",
            "ticks": ""
           },
           "bgcolor": "#E5ECF6",
           "radialaxis": {
            "gridcolor": "white",
            "linecolor": "white",
            "ticks": ""
           }
          },
          "scene": {
           "xaxis": {
            "backgroundcolor": "#E5ECF6",
            "gridcolor": "white",
            "gridwidth": 2,
            "linecolor": "white",
            "showbackground": true,
            "ticks": "",
            "zerolinecolor": "white"
           },
           "yaxis": {
            "backgroundcolor": "#E5ECF6",
            "gridcolor": "white",
            "gridwidth": 2,
            "linecolor": "white",
            "showbackground": true,
            "ticks": "",
            "zerolinecolor": "white"
           },
           "zaxis": {
            "backgroundcolor": "#E5ECF6",
            "gridcolor": "white",
            "gridwidth": 2,
            "linecolor": "white",
            "showbackground": true,
            "ticks": "",
            "zerolinecolor": "white"
           }
          },
          "shapedefaults": {
           "line": {
            "color": "#2a3f5f"
           }
          },
          "ternary": {
           "aaxis": {
            "gridcolor": "white",
            "linecolor": "white",
            "ticks": ""
           },
           "baxis": {
            "gridcolor": "white",
            "linecolor": "white",
            "ticks": ""
           },
           "bgcolor": "#E5ECF6",
           "caxis": {
            "gridcolor": "white",
            "linecolor": "white",
            "ticks": ""
           }
          },
          "title": {
           "x": 0.05
          },
          "xaxis": {
           "automargin": true,
           "gridcolor": "white",
           "linecolor": "white",
           "ticks": "",
           "title": {
            "standoff": 15
           },
           "zerolinecolor": "white",
           "zerolinewidth": 2
          },
          "yaxis": {
           "automargin": true,
           "gridcolor": "white",
           "linecolor": "white",
           "ticks": "",
           "title": {
            "standoff": 15
           },
           "zerolinecolor": "white",
           "zerolinewidth": 2
          }
         }
        },
        "title": {
         "font": {
          "size": 20
         },
         "text": "위반건수"
        }
       }
      }
     },
     "metadata": {},
     "output_type": "display_data"
    }
   ],
   "source": [
    "import plotly.express as px\n",
    "import pandas as pd \n",
    "import os \n",
    "import json \n",
    "# Choropleth 시각화\n",
    "geo_data='https://raw.githubusercontent.com/southkorea/seoul-maps/master/kostat/2013/json/seoul_municipalities_geo_simple.json', # 경계선 좌표값이 담긴 데이터\n",
    "# '서울특별시(자치구)'가 실제 데이터프레임에서 위치 정보를 가진 컬럼이라고 가정\n",
    "fig = px.choropleth(data_pay, \n",
    "                    geojson=geo_data, \n",
    "                    locations='서울특별시(자치구)', \n",
    "                    color='건수',\n",
    "                    color_continuous_scale='Blues',\n",
    "                    featureidkey='properties.서울특별시(자치구)')\n",
    "\n",
    "fig.update_geos(fitbounds=\"locations\", visible=True)\n",
    "fig.update_layout(title_text='위반건수', title_font_size=20)\n",
    "fig.show()\n"
   ]
  }
 ],
 "metadata": {
  "kernelspec": {
   "display_name": "OpenAI",
   "language": "python",
   "name": "python3"
  },
  "language_info": {
   "codemirror_mode": {
    "name": "ipython",
    "version": 3
   },
   "file_extension": ".py",
   "mimetype": "text/x-python",
   "name": "python",
   "nbconvert_exporter": "python",
   "pygments_lexer": "ipython3",
   "version": "3.12.0"
  }
 },
 "nbformat": 4,
 "nbformat_minor": 2
}
