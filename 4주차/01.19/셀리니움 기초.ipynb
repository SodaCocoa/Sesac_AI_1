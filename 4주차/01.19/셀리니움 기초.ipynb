{
 "cells": [
  {
   "cell_type": "code",
   "execution_count": 3,
   "metadata": {},
   "outputs": [],
   "source": [
    "from selenium import webdriver\n",
    "driver = webdriver.Chrome()\n",
    "url = 'https://www.google.com'\n",
    "driver.get(url)"
   ]
  },
  {
   "cell_type": "code",
   "execution_count": 11,
   "metadata": {},
   "outputs": [],
   "source": [
    "import selenium\n",
    "from selenium import webdriver\n",
    "from selenium.webdriver import ActionChains\n",
    "\n",
    "from selenium.webdriver.common.keys import Keys\n",
    "from selenium.webdriver.common.by import By\n",
    "\n",
    "from selenium.webdriver.support import expected_conditions as EC\n",
    "from selenium.webdriver.support.ui import Select\n",
    "from selenium.webdriver.support.ui import WebDriverWait"
   ]
  },
  {
   "cell_type": "code",
   "execution_count": 13,
   "metadata": {},
   "outputs": [],
   "source": [
    "driver = webdriver.Chrome()\n",
    "\n",
    "driver.get(\"https://music.bugs.co.kr/chart?wl_ref=M_contents_03_01\")"
   ]
  },
  {
   "cell_type": "code",
   "execution_count": 15,
   "metadata": {},
   "outputs": [],
   "source": [
    "# driver.window_handles[0] #브라우저 탭 객체를 리스트로 반환. [0] 은 첫번재 탭을 의미 \n",
    "# driver.switch_to.window(driver.window_handles[0]) #첫번째 탭으로 이동 \n",
    "# driver.switch_to.window(driver.window_handles[1]) #두번째 탭으로 이동 \n",
    "# driver.switch_to.window(driver.window_handles[2]) #세번째 탭으로 이동\n",
    "\n",
    "# driver.back() \t #뒤로가기\n",
    "# driver.forward() #앞으로가기\n",
    "# driver.close()   #현재 탭 닫기\n",
    "# driver.quit()    #브라우저 닫기\n",
    "\n",
    "# # xpath 로 접근\n",
    "# driver.find_element_by_xpath('//*[@id=\"NM_FAVORITE\"]/div[1]/ul[2]/li[2]/a')\n",
    "\n",
    "# # class 속성으로 접근\n",
    "# driver.find_element_by_class_name('nav')\n",
    "\n",
    "# #id 속성으로 접근\n",
    "# driver.find_element_by_id('search_btn')\n",
    "\n",
    "# #링크가 달려 있는 텍스트로 접근\n",
    "# driver.find_element_by_link_text('회원가입')\n",
    "\n",
    "# #css 셀렉터로 접근\n",
    "# driver.find_element_by_css_selector('#gnb > div > > ul > li > a')\n",
    "\n",
    "# #name 속성으로 접근\n",
    "# driver.find_element_by_name('sform')\n",
    "\n",
    "# #링크가 달려 있는 엘레먼트에 텍스트 일부만 적어서 해당 엘레먼트에 접근\n",
    "# driver.find_element_by_partial_link_text('가입')\n",
    "\n",
    "# #태그 이름으로 접근\n",
    "# driver.find_element_by_tag_name('input')\t\n",
    "\n",
    "# #input 태그 하위태그인 a 태그에 접근\n",
    "# driver.find_element_by_tag_name('input').find_element_by_tag_name('a')  \n",
    "\n",
    "# #xpath 로 접근한 엘레먼트의 안에 join 이라는 속성을 가진 tag 엘레먼트에 접근\n",
    "# driver.find_element_by_xpath('/html/body/div[3]/form//span[2]').find_element_by_name('join')"
   ]
  },
  {
   "cell_type": "code",
   "execution_count": 16,
   "metadata": {},
   "outputs": [],
   "source": [
    "from selenium import webdriver\n",
    "from selenium.webdriver.common.keys import Keys\n",
    "import time\n",
    "\n",
    "driver = webdriver.Chrome() #또는 chromedriver.exe\n",
    "driver.implicitly_wait(15) # 묵시적 대기, 활성화를 최대 15초가지 기다린다.\n",
    "\n",
    "# 페이지 가져오기(이동)\n",
    "driver.get('https://google.co.kr')\n",
    "\n",
    "# 5초후 종료\n",
    "time.sleep(5)\n",
    "driver.quit() # 웹 브라우저 종료. driver.close()는 탭 종료"
   ]
  },
  {
   "cell_type": "code",
   "execution_count": 20,
   "metadata": {},
   "outputs": [
    {
     "name": "stdout",
     "output_type": "stream",
     "text": [
      "{'height': 798, 'width': 1051, 'x': 9, 'y': 9}\n"
     ]
    },
    {
     "data": {
      "text/plain": [
       "{'height': 799, 'width': 1052, 'x': 0, 'y': 0}"
      ]
     },
     "execution_count": 20,
     "metadata": {},
     "output_type": "execute_result"
    }
   ],
   "source": [
    "from selenium import webdriver\n",
    "from selenium.webdriver.common.keys import Keys\n",
    "import time\n",
    "\n",
    "driver = webdriver.Chrome() #또는 chromedriver.exe\n",
    "driver.implicitly_wait(15) # 묵시적 대기, 활성화를 최대 15초가지 기다린다.\n",
    "# 페이지 가져오기(이동)\n",
    "driver.get('https://google.co.kr')\n",
    "# 화면 크기 지정\n",
    "driver.fullscreen_window() # 전체화면 모드로 변경\n",
    "time.sleep(10)\n",
    "# driver.maximize_window() # 최대 창 크기로 변경\n",
    "# time.sleep(1)\n",
    "# driver.set_window_rect(100,100,500,500) # 특정 좌표(x,y)와 크기(width,height)로 변경\n",
    "# time.sleep(1)\n",
    "\n",
    "\n",
    "print(driver.get_window_rect())\n",
    "\n",
    "# 3초후 종료\n",
    "time.sleep(5)\n",
    "# driver.quit() # 웹 브라우저 종료. driver.close()는 탭 종료\n",
    "driver.set_window_position(0,0)"
   ]
  },
  {
   "cell_type": "code",
   "execution_count": 23,
   "metadata": {},
   "outputs": [
    {
     "ename": "TypeError",
     "evalue": "WebDriver.back() takes 1 positional argument but 2 were given",
     "output_type": "error",
     "traceback": [
      "\u001b[1;31m---------------------------------------------------------------------------\u001b[0m",
      "\u001b[1;31mTypeError\u001b[0m                                 Traceback (most recent call last)",
      "Cell \u001b[1;32mIn[23], line 14\u001b[0m\n\u001b[0;32m     11\u001b[0m driver\u001b[38;5;241m.\u001b[39mget(\u001b[38;5;124m'\u001b[39m\u001b[38;5;124mhttps://www.naver.com\u001b[39m\u001b[38;5;124m'\u001b[39m)\n\u001b[0;32m     13\u001b[0m \u001b[38;5;66;03m# 이전 창으로 이동 2번하기\u001b[39;00m\n\u001b[1;32m---> 14\u001b[0m \u001b[43mdriver\u001b[49m\u001b[38;5;241;43m.\u001b[39;49m\u001b[43mback\u001b[49m\u001b[43m(\u001b[49m\u001b[38;5;241;43m3\u001b[39;49m\u001b[43m)\u001b[49m\n\u001b[0;32m     15\u001b[0m \u001b[38;5;66;03m# driver.back()\u001b[39;00m\n\u001b[0;32m     16\u001b[0m \n\u001b[0;32m     17\u001b[0m \u001b[38;5;66;03m# 다음 창으로 2번 이동하기\u001b[39;00m\n\u001b[0;32m     18\u001b[0m driver\u001b[38;5;241m.\u001b[39mforward(\u001b[38;5;241m3\u001b[39m)\n",
      "\u001b[1;31mTypeError\u001b[0m: WebDriver.back() takes 1 positional argument but 2 were given"
     ]
    }
   ],
   "source": [
    "from selenium import webdriver\n",
    "from selenium.webdriver.common.keys import Keys\n",
    "import time\n",
    "\n",
    "driver = webdriver.Chrome() #또는 chromedriver.exe\n",
    "driver.implicitly_wait(15) # 묵시적 대기, 활성화를 최대 15초가지 기다린다.\n",
    "\n",
    "# 페이지 가져오기(이동)\n",
    "driver.get('https://www.google.co.kr')\n",
    "driver.get('https://www.youtube.com/c/반원')\n",
    "driver.get('https://www.naver.com')\n",
    "\n",
    "# 이전 창으로 이동 2번하기\n",
    "driver.back(3)\n",
    "driver.back()\n",
    "\n",
    "# 다음 창으로 2번 이동하기\n",
    "driver.forward()\n",
    "driver.forward()\n",
    "\n",
    "# 3초후 종료\n",
    "time.sleep(3)\n",
    "driver.quit() # 웹 브라우저 종료. driver.close()는 탭 종료"
   ]
  },
  {
   "cell_type": "code",
   "execution_count": 28,
   "metadata": {},
   "outputs": [
    {
     "ename": "AttributeError",
     "evalue": "'WebDriver' object has no attribute 'find_element_by_css_selector'",
     "output_type": "error",
     "traceback": [
      "\u001b[1;31m---------------------------------------------------------------------------\u001b[0m",
      "\u001b[1;31mAttributeError\u001b[0m                            Traceback (most recent call last)",
      "Cell \u001b[1;32mIn[28], line 12\u001b[0m\n\u001b[0;32m      9\u001b[0m driver\u001b[38;5;241m.\u001b[39mget(\u001b[38;5;124m'\u001b[39m\u001b[38;5;124mhttps://www.naver.com\u001b[39m\u001b[38;5;124m'\u001b[39m)\n\u001b[0;32m     11\u001b[0m \u001b[38;5;66;03m# 요소 찾기 - 검색창 찾고 키 전송\u001b[39;00m\n\u001b[1;32m---> 12\u001b[0m search \u001b[38;5;241m=\u001b[39m \u001b[43mdriver\u001b[49m\u001b[38;5;241;43m.\u001b[39;49m\u001b[43mfind_element_by_css_selector\u001b[49m(\u001b[38;5;124m'\u001b[39m\u001b[38;5;124m#query\u001b[39m\u001b[38;5;124m'\u001b[39m)\n\u001b[0;32m     13\u001b[0m search\u001b[38;5;241m.\u001b[39msend_keys(\u001b[38;5;124m'\u001b[39m\u001b[38;5;124m고슴도치\u001b[39m\u001b[38;5;124m'\u001b[39m)\n\u001b[0;32m     14\u001b[0m search\u001b[38;5;241m.\u001b[39msend_keys(Keys\u001b[38;5;241m.\u001b[39mENTER)\n",
      "\u001b[1;31mAttributeError\u001b[0m: 'WebDriver' object has no attribute 'find_element_by_css_selector'"
     ]
    }
   ],
   "source": [
    "from selenium import webdriver\n",
    "from selenium.webdriver.common.keys import Keys\n",
    "import time\n",
    "\n",
    "driver = webdriver.Chrome()  # 또는 chromedriver.exe\n",
    "driver.implicitly_wait(15)  # 묵시적 대기, 활성화를 최대 15초가지 기다린다.\n",
    "\n",
    "# 페이지 가져오기(이동)\n",
    "driver.get('https://www.naver.com')\n",
    "\n",
    "# 요소 찾기 - 검색창 찾고 키 전송\n",
    "search = driver.find_element_by_css_selector('#query')\n",
    "search.send_keys('고슴도치')\n",
    "search.send_keys(Keys.ENTER)\n",
    "time.sleep(2)\n",
    "\n",
    "# 페이지 이동 후 다시 요소 찾기\n",
    "# 요소 찾기 - 지식백과에서 고슴도치 클릭\n",
    "posts = driver.find_elements_by_css_selector('a.tit')\n",
    "posts[0].click()\n",
    "time.sleep(2)\n"
   ]
  },
  {
   "cell_type": "code",
   "execution_count": null,
   "metadata": {},
   "outputs": [],
   "source": []
  }
 ],
 "metadata": {
  "kernelspec": {
   "display_name": "OpenAI",
   "language": "python",
   "name": "python3"
  },
  "language_info": {
   "codemirror_mode": {
    "name": "ipython",
    "version": 3
   },
   "file_extension": ".py",
   "mimetype": "text/x-python",
   "name": "python",
   "nbconvert_exporter": "python",
   "pygments_lexer": "ipython3",
   "version": "3.12.0"
  }
 },
 "nbformat": 4,
 "nbformat_minor": 2
}
