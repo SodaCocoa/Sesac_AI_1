{
 "cells": [
  {
   "cell_type": "code",
   "execution_count": 2,
   "metadata": {},
   "outputs": [
    {
     "name": "stdout",
     "output_type": "stream",
     "text": [
      "HTTPSConnectionPool(host='parking.seoul.go.kr', port=443): Max retries exceeded with url: /SearchParking.do (Caused by SSLError(SSLCertVerificationError(1, '[SSL: CERTIFICATE_VERIFY_FAILED] certificate verify failed: unable to get local issuer certificate (_ssl.c:1000)')))\n",
      "HTTPSConnectionPool(host='parking.seoul.go.kr', port=443): Max retries exceeded with url: /SearchParkingBy.do (Caused by SSLError(SSLCertVerificationError(1, '[SSL: CERTIFICATE_VERIFY_FAILED] certificate verify failed: unable to get local issuer certificate (_ssl.c:1000)')))\n"
     ]
    }
   ],
   "source": [
    "import requests\n",
    "import json\n",
    "\n",
    "def getGu():\n",
    "    url = \"https://parking.seoul.go.kr/SearchParking.do\"\n",
    "    try:\n",
    "        resp = requests.post(url)\n",
    "        resp.raise_for_status()  # Raise an error for bad status codes\n",
    "\n",
    "        if 'list' in resp.json():\n",
    "            gu_list = resp.json()['list']\n",
    "            gu_dict = {item['gu_code']: item['gu_name'] for item in gu_list}\n",
    "            return gu_dict\n",
    "        else:\n",
    "            return \"No data available\"\n",
    "\n",
    "    except requests.RequestException as e:\n",
    "        return str(e)\n",
    "\n",
    "\n",
    "def getParking(gu_code=''):\n",
    "    url = \"https://parking.seoul.go.kr/SearchParkingBy.do\"\n",
    "    try:\n",
    "        resp = requests.post(url, data={'gu_code': gu_code})\n",
    "        resp.raise_for_status()\n",
    "\n",
    "        if 'list' in resp.json():\n",
    "            parking_list = resp.json()['list']\n",
    "\n",
    "            result_list = [{\n",
    "                'name': parking['name'],\n",
    "                'address': parking['address'],\n",
    "                'longitude': parking['longitude'],\n",
    "                'latitude': parking['latitude']\n",
    "            } for parking in parking_list]\n",
    "\n",
    "            result_dict = {'parking_list': result_list}\n",
    "            result_json = json.dumps(result_dict, ensure_ascii=False)\n",
    "\n",
    "            with open('parking_data.json', 'w', encoding='utf-8') as f:\n",
    "                f.write(result_json)\n",
    "\n",
    "            return result_json\n",
    "        else:\n",
    "            return \"No data available\"\n",
    "\n",
    "    except requests.RequestException as e:\n",
    "        return str(e)\n",
    "\n",
    "\n",
    "if __name__ == '__main__':\n",
    "    print(getGu())\n",
    "    print(getParking('some_gu_code'))  # Replace 'some_gu_code' with an actual code\n"
   ]
  }
 ],
 "metadata": {
  "kernelspec": {
   "display_name": "OpenAI",
   "language": "python",
   "name": "python3"
  },
  "language_info": {
   "codemirror_mode": {
    "name": "ipython",
    "version": 3
   },
   "file_extension": ".py",
   "mimetype": "text/x-python",
   "name": "python",
   "nbconvert_exporter": "python",
   "pygments_lexer": "ipython3",
   "version": "3.12.0"
  }
 },
 "nbformat": 4,
 "nbformat_minor": 2
}
