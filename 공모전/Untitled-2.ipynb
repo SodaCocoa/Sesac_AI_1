{
 "cells": [
  {
   "cell_type": "code",
   "execution_count": 1,
   "metadata": {},
   "outputs": [
    {
     "ename": "NameError",
     "evalue": "name 'gpd' is not defined",
     "output_type": "error",
     "traceback": [
      "\u001b[1;31m---------------------------------------------------------------------------\u001b[0m",
      "\u001b[1;31mNameError\u001b[0m                                 Traceback (most recent call last)",
      "Cell \u001b[1;32mIn[1], line 5\u001b[0m\n\u001b[0;32m      2\u001b[0m geojson_file_path \u001b[38;5;241m=\u001b[39m \u001b[38;5;124mr\u001b[39m\u001b[38;5;124m\"\u001b[39m\u001b[38;5;124mC:\u001b[39m\u001b[38;5;124m\\\u001b[39m\u001b[38;5;124mUsers\u001b[39m\u001b[38;5;124m\\\u001b[39m\u001b[38;5;124mbluecom011\u001b[39m\u001b[38;5;124m\\\u001b[39m\u001b[38;5;124mDownloads\u001b[39m\u001b[38;5;124m\\\u001b[39m\u001b[38;5;124mHangJeongDong_ver20230701.geojson\u001b[39m\u001b[38;5;124m\"\u001b[39m\n\u001b[0;32m      4\u001b[0m \u001b[38;5;66;03m# Reading the GeoJSON file\u001b[39;00m\n\u001b[1;32m----> 5\u001b[0m gdf_seoul \u001b[38;5;241m=\u001b[39m \u001b[43mgpd\u001b[49m\u001b[38;5;241m.\u001b[39mread_file(geojson_file_path)\n\u001b[0;32m      7\u001b[0m \u001b[38;5;66;03m# Filter out only Songpa-gu (송파구) boundaries\u001b[39;00m\n\u001b[0;32m      8\u001b[0m gdf_songpa \u001b[38;5;241m=\u001b[39m gdf_seoul[gdf_seoul[\u001b[38;5;124m'\u001b[39m\u001b[38;5;124mSGG_NM\u001b[39m\u001b[38;5;124m'\u001b[39m] \u001b[38;5;241m==\u001b[39m \u001b[38;5;124m'\u001b[39m\u001b[38;5;124m송파구\u001b[39m\u001b[38;5;124m'\u001b[39m]\n",
      "\u001b[1;31mNameError\u001b[0m: name 'gpd' is not defined"
     ]
    }
   ],
   "source": [
    "# Load the newly provided Seoul administrative boundaries data (GeoJSON format)\n",
    "geojson_file_path = r\"C:\\Users\\bluecom011\\Downloads\\HangJeongDong_ver20230701.geojson\"\n",
    "\n",
    "# Reading the GeoJSON file\n",
    "gdf_seoul = gpd.read_file(geojson_file_path)\n",
    "\n",
    "# Filter out only Songpa-gu (송파구) boundaries\n",
    "gdf_songpa = gdf_seoul[gdf_seoul['SGG_NM'] == '송파구']\n",
    "\n",
    "gdf_songpa.head()\n"
   ]
  },
  {
   "cell_type": "code",
   "execution_count": 2,
   "metadata": {},
   "outputs": [
    {
     "ename": "NameError",
     "evalue": "name 'gdf_seoul' is not defined",
     "output_type": "error",
     "traceback": [
      "\u001b[1;31m---------------------------------------------------------------------------\u001b[0m",
      "\u001b[1;31mNameError\u001b[0m                                 Traceback (most recent call last)",
      "Cell \u001b[1;32mIn[2], line 2\u001b[0m\n\u001b[0;32m      1\u001b[0m \u001b[38;5;66;03m# Filter out only Songpa-gu (송파구) boundaries using the correct column name\u001b[39;00m\n\u001b[1;32m----> 2\u001b[0m gdf_songpa \u001b[38;5;241m=\u001b[39m \u001b[43mgdf_seoul\u001b[49m[gdf_seoul[\u001b[38;5;124m'\u001b[39m\u001b[38;5;124msggnm\u001b[39m\u001b[38;5;124m'\u001b[39m] \u001b[38;5;241m==\u001b[39m \u001b[38;5;124m'\u001b[39m\u001b[38;5;124m송파구\u001b[39m\u001b[38;5;124m'\u001b[39m]\n\u001b[0;32m      4\u001b[0m \u001b[38;5;66;03m# Display the first few rows of the Songpa-gu GeoDataFrame\u001b[39;00m\n\u001b[0;32m      5\u001b[0m gdf_songpa\u001b[38;5;241m.\u001b[39mhead()\n",
      "\u001b[1;31mNameError\u001b[0m: name 'gdf_seoul' is not defined"
     ]
    }
   ],
   "source": [
    "# Filter out only Songpa-gu (송파구) boundaries using the correct column name\n",
    "gdf_songpa = gdf_seoul[gdf_seoul['sggnm'] == '송파구']\n",
    "\n",
    "# Display the first few rows of the Songpa-gu GeoDataFrame\n",
    "gdf_songpa.head()\n"
   ]
  }
 ],
 "metadata": {
  "kernelspec": {
   "display_name": "OpenAI",
   "language": "python",
   "name": "python3"
  },
  "language_info": {
   "codemirror_mode": {
    "name": "ipython",
    "version": 3
   },
   "file_extension": ".py",
   "mimetype": "text/x-python",
   "name": "python",
   "nbconvert_exporter": "python",
   "pygments_lexer": "ipython3",
   "version": "3.12.0"
  }
 },
 "nbformat": 4,
 "nbformat_minor": 2
}
