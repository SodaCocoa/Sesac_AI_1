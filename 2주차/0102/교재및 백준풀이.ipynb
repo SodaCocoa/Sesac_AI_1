{
 "cells": [
  {
   "cell_type": "markdown",
   "metadata": {},
   "source": [
    "구구단"
   ]
  },
  {
   "cell_type": "code",
   "execution_count": 4,
   "metadata": {},
   "outputs": [
    {
     "name": "stdout",
     "output_type": "stream",
     "text": [
      "구구단을 외자!\n",
      "땡 ! 정답은: 18\n"
     ]
    }
   ],
   "source": [
    "import random\n",
    "\n",
    "def gugudan(num1,num2):\n",
    "    answer = int(input(str(num1)+'x'+str(num2)+'?'))\n",
    "\n",
    "    if answer == num1 * num2:\n",
    "        return 0\n",
    "    else:\n",
    "        print('땡 ! 정답은:' ,num1 *num2)\n",
    "        return -1\n",
    "    \n",
    "print('구구단을 외자!')\n",
    "for i in range(20):\n",
    "    a,b=random.randint(2,9), random.randint(1,9)\n",
    "    if gugudan(a,b) !=0:\n",
    "        break"
   ]
  },
  {
   "cell_type": "code",
   "execution_count": 3,
   "metadata": {},
   "outputs": [
    {
     "name": "stdout",
     "output_type": "stream",
     "text": [
      " 팅 팅팅팅 프라이팬놀이\n"
     ]
    },
    {
     "ename": "ValueError",
     "evalue": "invalid literal for int() with base 10: ''",
     "output_type": "error",
     "traceback": [
      "\u001b[1;31m---------------------------------------------------------------------------\u001b[0m",
      "\u001b[1;31mValueError\u001b[0m                                Traceback (most recent call last)",
      "Cell \u001b[1;32mIn[3], line 4\u001b[0m\n\u001b[0;32m      2\u001b[0m \u001b[38;5;28;01mfor\u001b[39;00m i \u001b[38;5;129;01min\u001b[39;00m \u001b[38;5;28mrange\u001b[39m(\u001b[38;5;241m5\u001b[39m):\n\u001b[0;32m      3\u001b[0m     name\u001b[38;5;241m=\u001b[39m\u001b[38;5;28minput\u001b[39m(\u001b[38;5;124m'\u001b[39m\u001b[38;5;124m이름?\u001b[39m\u001b[38;5;124m'\u001b[39m)\n\u001b[1;32m----> 4\u001b[0m     cnt \u001b[38;5;241m=\u001b[39m \u001b[38;5;28;43mint\u001b[39;49m\u001b[43m(\u001b[49m\u001b[38;5;28;43minput\u001b[39;49m\u001b[43m(\u001b[49m\u001b[38;5;124;43m'\u001b[39;49m\u001b[38;5;124;43m횟수?\u001b[39;49m\u001b[38;5;124;43m'\u001b[39;49m\u001b[43m)\u001b[49m\u001b[43m)\u001b[49m\n\u001b[0;32m      5\u001b[0m     \u001b[38;5;28mprint\u001b[39m(name\u001b[38;5;241m*\u001b[39mcnt)\n",
      "\u001b[1;31mValueError\u001b[0m: invalid literal for int() with base 10: ''"
     ]
    }
   ],
   "source": [
    "print(' 팅 팅팅팅 프라이팬놀이')\n",
    "for i in range(5):\n",
    "    name=input('이름?')\n",
    "    cnt = int(input('횟수?'))\n",
    "    print(name*cnt)"
   ]
  },
  {
   "cell_type": "code",
   "execution_count": 7,
   "metadata": {},
   "outputs": [],
   "source": [
    "players=['까치','차혁주','한다연','박승호','한서연']"
   ]
  },
  {
   "cell_type": "code",
   "execution_count": 9,
   "metadata": {},
   "outputs": [],
   "source": [
    "def game_play(name, cnt):\n",
    "    print(name*cnt)\n",
    "\n",
    "def wrong_play(name, cnt):\n",
    "    if name not in players:\n",
    "        print(name, '은/는 없는 이름입니다.')\n",
    "        return -1\n",
    "    if cnt<1 or cnt>4:\n",
    "        print('1~4의 숫자만 가능합니다. 입력한 숫자', cnt)\n",
    "        return -1"
   ]
  },
  {
   "cell_type": "code",
   "execution_count": 4,
   "metadata": {},
   "outputs": [
    {
     "name": "stdout",
     "output_type": "stream",
     "text": [
      " 팅 팅팅팅 프라이팬놀이\n"
     ]
    },
    {
     "ename": "ValueError",
     "evalue": "invalid literal for int() with base 10: ''",
     "output_type": "error",
     "traceback": [
      "\u001b[1;31m---------------------------------------------------------------------------\u001b[0m",
      "\u001b[1;31mValueError\u001b[0m                                Traceback (most recent call last)",
      "Cell \u001b[1;32mIn[4], line 3\u001b[0m\n\u001b[0;32m      1\u001b[0m \u001b[38;5;28mprint\u001b[39m(\u001b[38;5;124m'\u001b[39m\u001b[38;5;124m 팅 팅팅팅 프라이팬놀이\u001b[39m\u001b[38;5;124m'\u001b[39m)\n\u001b[0;32m      2\u001b[0m \u001b[38;5;28;01mfor\u001b[39;00m i \u001b[38;5;129;01min\u001b[39;00m \u001b[38;5;28mrange\u001b[39m(\u001b[38;5;241m5\u001b[39m):\n\u001b[1;32m----> 3\u001b[0m     next_player,count\u001b[38;5;241m=\u001b[39m\u001b[38;5;28minput\u001b[39m(\u001b[38;5;124m'\u001b[39m\u001b[38;5;124m이름?\u001b[39m\u001b[38;5;124m'\u001b[39m), \u001b[38;5;28;43mint\u001b[39;49m\u001b[43m(\u001b[49m\u001b[38;5;28;43minput\u001b[39;49m\u001b[43m(\u001b[49m\u001b[38;5;124;43m'\u001b[39;49m\u001b[38;5;124;43m횟수?\u001b[39;49m\u001b[38;5;124;43m'\u001b[39;49m\u001b[43m)\u001b[49m\u001b[43m)\u001b[49m\n\u001b[0;32m      4\u001b[0m     check\u001b[38;5;241m=\u001b[39mwrong_play(next_player, count)\n\u001b[0;32m      5\u001b[0m     \u001b[38;5;28;01mif\u001b[39;00m check\u001b[38;5;241m==\u001b[39m\u001b[38;5;241m-\u001b[39m\u001b[38;5;241m1\u001b[39m:\n",
      "\u001b[1;31mValueError\u001b[0m: invalid literal for int() with base 10: ''"
     ]
    }
   ],
   "source": [
    "print(' 팅 팅팅팅 프라이팬놀이')\n",
    "for i in range(5):\n",
    "    next_player,count=input('이름?'), int(input('횟수?'))\n",
    "    check=wrong_play(next_player, count)\n",
    "    if check==-1:\n",
    "        break\n",
    "    else:\n",
    "        game_play(next_player, count)\n",
    "    cnt = int(input('횟수?'))\n",
    "    print(name*cnt)"
   ]
  },
  {
   "cell_type": "markdown",
   "metadata": {},
   "source": [
    "아스키 코드를 입력받아 출력하기"
   ]
  },
  {
   "cell_type": "code",
   "execution_count": 13,
   "metadata": {},
   "outputs": [
    {
     "name": "stdout",
     "output_type": "stream",
     "text": [
      "97\n"
     ]
    }
   ],
   "source": [
    "# 사용자로부터 문자 입력 받기\n",
    "char_input = input()\n",
    "\n",
    "# 입력받은 문자의 아스키 코드를 출력\n",
    "ascii_code = ord(char_input)\n",
    "print(ascii_code)\n"
   ]
  },
  {
   "cell_type": "code",
   "execution_count": null,
   "metadata": {},
   "outputs": [],
   "source": [
    "# 숫자의 개수 N 입력 받기\n",
    "N = int(input())\n",
    "\n",
    "# N개의 숫자를 공백 없이 입력 받아 정수로 변환 후 합 계산\n",
    "numbers = input()\n",
    "total_sum = sum(int(digit) for digit in numbers)\n",
    "\n",
    "# 결과 출력\n",
    "print(total_sum)\n"
   ]
  },
  {
   "cell_type": "code",
   "execution_count": 23,
   "metadata": {},
   "outputs": [
    {
     "name": "stdout",
     "output_type": "stream",
     "text": [
      "3 12\n"
     ]
    }
   ],
   "source": [
    "# 정수의 개수 N 입력 받기\n",
    "N = int(input())\n",
    "\n",
    "# N개의 정수를 공백으로 구분하여 입력 받기\n",
    "numbers = list(map(int, input().split())) \n",
    "#.split() 문자열을 공백을 기준으로 분리하여 리스트로 반환\n",
    "# map() 함수는 각 항목에 함수를 적용하여 결과를 반환합니다. \n",
    "#int 함수를 사용하여 정수로변환\n",
    "\n",
    "# 최솟값과 최댓값 계산\n",
    "min_value = min(numbers)\n",
    "max_value = max(numbers)\n",
    "\n",
    "# 결과 출력\n",
    "print(min_value, max_value)\n"
   ]
  },
  {
   "cell_type": "code",
   "execution_count": 2,
   "metadata": {},
   "outputs": [
    {
     "name": "stdout",
     "output_type": "stream",
     "text": [
      "/////ㅗㅗㅗㅗㅗ쎼쎼쎼쎼쎼\n"
     ]
    }
   ],
   "source": [
    "T = int(input())\n",
    "\n",
    "for i in range(T):\n",
    "    R,S = input().split()\n",
    "    R = int(R)\n",
    "    P=''.join(char * R for char in S)\n",
    "\n",
    "print(P)"
   ]
  }
 ],
 "metadata": {
  "kernelspec": {
   "display_name": "OpenAI",
   "language": "python",
   "name": "python3"
  },
  "language_info": {
   "codemirror_mode": {
    "name": "ipython",
    "version": 3
   },
   "file_extension": ".py",
   "mimetype": "text/x-python",
   "name": "python",
   "nbconvert_exporter": "python",
   "pygments_lexer": "ipython3",
   "version": "3.12.0"
  }
 },
 "nbformat": 4,
 "nbformat_minor": 2
}
