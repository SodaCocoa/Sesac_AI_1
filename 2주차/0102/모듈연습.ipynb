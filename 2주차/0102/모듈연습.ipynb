{
 "cells": [
  {
   "cell_type": "code",
   "execution_count": 1,
   "metadata": {},
   "outputs": [
    {
     "name": "stdout",
     "output_type": "stream",
     "text": [
      "7\n",
      "2\n"
     ]
    }
   ],
   "source": [
    "import mod1\n",
    "print(mod1.add(3, 4))\n",
    "print(mod1.sub(4, 2))"
   ]
  },
  {
   "cell_type": "code",
   "execution_count": 2,
   "metadata": {},
   "outputs": [
    {
     "data": {
      "text/plain": [
       "7"
      ]
     },
     "execution_count": 2,
     "metadata": {},
     "output_type": "execute_result"
    }
   ],
   "source": [
    "from mod1 import add\n",
    "add(3, 4)"
   ]
  },
  {
   "cell_type": "markdown",
   "metadata": {},
   "source": [
    "첫 번째 방법은 위와 같이 from 모듈_이름 import 모듈_함수1, 모듈_함수2처럼 사용하는 것이다. 쉼표(,)로 구분하여 필요한 함수를 불러올 수 있다."
   ]
  },
  {
   "cell_type": "code",
   "execution_count": null,
   "metadata": {},
   "outputs": [],
   "source": [
    "from mod1 import add, sub"
   ]
  },
  {
   "cell_type": "markdown",
   "metadata": {},
   "source": [
    "두 번째 방법은 * 문자를 사용하는 것이다. 08장에서 공부할 정규 표현식에서 * 문자는 ‘모든 것’이라는 뜻인데, 파이썬에서도 같은 의미로 사용한다. 따라서 from mod1 import *은 mod1 모듈의 모든 함수를 불러와 사용하겠다는 뜻이다."
   ]
  },
  {
   "cell_type": "code",
   "execution_count": null,
   "metadata": {},
   "outputs": [],
   "source": [
    "from mod1 import *"
   ]
  },
  {
   "cell_type": "markdown",
   "metadata": {},
   "source": [
    "if __name__ == \"__main__\"을 사용하면 C:\\doit>python mod1.py처럼 직접 이 파일을 실행했을 때는__name__ == \"__main__\"이 참이 되어 if 문 다음 문장이 수행된다. 이와 반대로 대화형 인터프리터나 다른 파일에서 이 모듈을 불러 사용할 때는 __name__ == \"__main__\"이 거짓이 되어 if 문 다음 문장이 수행되지 않는다.\n"
   ]
  },
  {
   "cell_type": "markdown",
   "metadata": {},
   "source": [
    "#2 클래스나 변수 등을 포함한 모듈"
   ]
  },
  {
   "cell_type": "code",
   "execution_count": 1,
   "metadata": {},
   "outputs": [
    {
     "name": "stdout",
     "output_type": "stream",
     "text": [
      "3.141592\n"
     ]
    }
   ],
   "source": [
    "import mod2\n",
    "\n",
    "print(mod2.PI)"
   ]
  },
  {
   "cell_type": "code",
   "execution_count": 2,
   "metadata": {},
   "outputs": [
    {
     "name": "stdout",
     "output_type": "stream",
     "text": [
      "12.566368\n"
     ]
    }
   ],
   "source": [
    "a = mod2.Math()\n",
    "print(a.solv(2))"
   ]
  },
  {
   "cell_type": "code",
   "execution_count": 3,
   "metadata": {},
   "outputs": [
    {
     "name": "stdout",
     "output_type": "stream",
     "text": [
      "7.5415920000000005\n"
     ]
    }
   ],
   "source": [
    "print(mod2.add(mod2.PI, 4.4))"
   ]
  },
  {
   "cell_type": "markdown",
   "metadata": {},
   "source": [
    "다른 디렉터리에 있는 모듈을 불러오는 방법 \n",
    "\n",
    "\n",
    "\n",
    "\n",
    "C:\\Users\\pahkey>cd C:\\doit\n",
    "\n",
    "\n",
    "\n",
    "\n",
    "C:\\doit>mkdir mymod\n",
    "\n",
    "\n",
    "\n",
    "\n",
    "C:\\doit>move mod2.py mymod\n",
    "        1개 파일을 이동했습니다.\n",
    "\n"
   ]
  },
  {
   "cell_type": "code",
   "execution_count": 4,
   "metadata": {},
   "outputs": [],
   "source": [
    "import sys\n",
    "#sys 모듈을 사용하면 파이썬 라이브러리가 설치되어 있는 디렉터리를 확인할 수 있다."
   ]
  },
  {
   "cell_type": "code",
   "execution_count": 5,
   "metadata": {},
   "outputs": [
    {
     "data": {
      "text/plain": [
       "['c:\\\\Users\\\\bluecom011\\\\Desktop\\\\0102',\n",
       " 'c:\\\\Users\\\\bluecom011\\\\miniconda3\\\\envs\\\\OpenAI\\\\python312.zip',\n",
       " 'c:\\\\Users\\\\bluecom011\\\\miniconda3\\\\envs\\\\OpenAI\\\\DLLs',\n",
       " 'c:\\\\Users\\\\bluecom011\\\\miniconda3\\\\envs\\\\OpenAI\\\\Lib',\n",
       " 'c:\\\\Users\\\\bluecom011\\\\miniconda3\\\\envs\\\\OpenAI',\n",
       " '',\n",
       " 'c:\\\\Users\\\\bluecom011\\\\miniconda3\\\\envs\\\\OpenAI\\\\Lib\\\\site-packages',\n",
       " 'c:\\\\Users\\\\bluecom011\\\\miniconda3\\\\envs\\\\OpenAI\\\\Lib\\\\site-packages\\\\win32',\n",
       " 'c:\\\\Users\\\\bluecom011\\\\miniconda3\\\\envs\\\\OpenAI\\\\Lib\\\\site-packages\\\\win32\\\\lib',\n",
       " 'c:\\\\Users\\\\bluecom011\\\\miniconda3\\\\envs\\\\OpenAI\\\\Lib\\\\site-packages\\\\Pythonwin']"
      ]
     },
     "execution_count": 5,
     "metadata": {},
     "output_type": "execute_result"
    }
   ],
   "source": [
    "sys.path\n",
    "#이 디렉터리 안에 저장된 파이썬 모듈은 모듈이 저장된 디렉터리로 이동할 필요 없이 바로 불러 사용할 수 있다."
   ]
  },
  {
   "cell_type": "code",
   "execution_count": 6,
   "metadata": {},
   "outputs": [
    {
     "data": {
      "text/plain": [
       "['c:\\\\Users\\\\bluecom011\\\\Desktop\\\\0102',\n",
       " 'c:\\\\Users\\\\bluecom011\\\\miniconda3\\\\envs\\\\OpenAI\\\\python312.zip',\n",
       " 'c:\\\\Users\\\\bluecom011\\\\miniconda3\\\\envs\\\\OpenAI\\\\DLLs',\n",
       " 'c:\\\\Users\\\\bluecom011\\\\miniconda3\\\\envs\\\\OpenAI\\\\Lib',\n",
       " 'c:\\\\Users\\\\bluecom011\\\\miniconda3\\\\envs\\\\OpenAI',\n",
       " '',\n",
       " 'c:\\\\Users\\\\bluecom011\\\\miniconda3\\\\envs\\\\OpenAI\\\\Lib\\\\site-packages',\n",
       " 'c:\\\\Users\\\\bluecom011\\\\miniconda3\\\\envs\\\\OpenAI\\\\Lib\\\\site-packages\\\\win32',\n",
       " 'c:\\\\Users\\\\bluecom011\\\\miniconda3\\\\envs\\\\OpenAI\\\\Lib\\\\site-packages\\\\win32\\\\lib',\n",
       " 'c:\\\\Users\\\\bluecom011\\\\miniconda3\\\\envs\\\\OpenAI\\\\Lib\\\\site-packages\\\\Pythonwin',\n",
       " 'C:/doit/mymod']"
      ]
     },
     "execution_count": 6,
     "metadata": {},
     "output_type": "execute_result"
    }
   ],
   "source": [
    "sys.path.append(\"C:/doit/mymod\")\n",
    "sys.path\n",
    "#sys.path.append를 사용해서 C:/doit/mymod라는 디렉터리를 sys.path에 추가함"
   ]
  },
  {
   "cell_type": "code",
   "execution_count": 7,
   "metadata": {},
   "outputs": [
    {
     "name": "stdout",
     "output_type": "stream",
     "text": [
      "7\n"
     ]
    }
   ],
   "source": [
    "import mod2\n",
    "print(mod2.add(3,4))"
   ]
  }
 ],
 "metadata": {
  "kernelspec": {
   "display_name": "OpenAI",
   "language": "python",
   "name": "python3"
  },
  "language_info": {
   "codemirror_mode": {
    "name": "ipython",
    "version": 3
   },
   "file_extension": ".py",
   "mimetype": "text/x-python",
   "name": "python",
   "nbconvert_exporter": "python",
   "pygments_lexer": "ipython3",
   "version": "3.12.0"
  }
 },
 "nbformat": 4,
 "nbformat_minor": 2
}
