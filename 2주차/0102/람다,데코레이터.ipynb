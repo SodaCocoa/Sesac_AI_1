{
 "cells": [
  {
   "cell_type": "code",
   "execution_count": 2,
   "metadata": {},
   "outputs": [
    {
     "data": {
      "text/plain": [
       "11"
      ]
     },
     "execution_count": 2,
     "metadata": {},
     "output_type": "execute_result"
    }
   ],
   "source": [
    "def plus_ten(x):\n",
    "    return x + 10\n",
    "plus_ten(1)"
   ]
  },
  {
   "cell_type": "code",
   "execution_count": 3,
   "metadata": {},
   "outputs": [
    {
     "data": {
      "text/plain": [
       "[1, 2, '3', 4, 5, '6', 7, 8, '9', 10]"
      ]
     },
     "execution_count": 3,
     "metadata": {},
     "output_type": "execute_result"
    }
   ],
   "source": [
    "a = [1, 2, 3, 4, 5, 6, 7, 8, 9, 10]\n",
    "list(map(lambda x: str(x) if x % 3 == 0 else x, a))\n",
    "[1, 2, '3', 4, 5, '6', 7, 8, '9', 10]"
   ]
  },
  {
   "cell_type": "markdown",
   "metadata": {},
   "source": [
    "데코레이터 함수 @"
   ]
  },
  {
   "cell_type": "code",
   "execution_count": 7,
   "metadata": {},
   "outputs": [
    {
     "name": "stdout",
     "output_type": "stream",
     "text": [
      "Function is running...\n",
      "Function took 0.0 seconds to run.\n"
     ]
    }
   ],
   "source": [
    "#함수 실행 시간을 계산후 출력하기\n",
    "import time\n",
    "\n",
    "def timer_decorator(func):\n",
    "    def wrapper():\n",
    "        start=time.time()\n",
    "        result = func()\n",
    "        end=time.time()\n",
    "        print(f\"Function took {end-start} seconds to run.\")\n",
    "        return result\n",
    "    return wrapper\n",
    "@timer_decorator\n",
    "def my_function():\n",
    "    print('Function is running...')\n",
    "\n",
    "my_function()"
   ]
  },
  {
   "cell_type": "code",
   "execution_count": 1,
   "metadata": {},
   "outputs": [
    {
     "name": "stdout",
     "output_type": "stream",
     "text": [
      "--------------------------------------------------\n",
      "\n",
      "          ver:2.0\n",
      "          date:2024\n",
      "          language: python\n",
      "          \n",
      "--------------------------------------------------\n"
     ]
    }
   ],
   "source": [
    "#원본\n",
    "def prn():\n",
    "    print('-'*50)\n",
    "\n",
    "def title():\n",
    "    print('''\n",
    "          ver:2.0\n",
    "          date:2024\n",
    "          language: python\n",
    "          ''')\n",
    "    \n",
    "prn()\n",
    "title()\n",
    "prn()"
   ]
  },
  {
   "cell_type": "code",
   "execution_count": 13,
   "metadata": {},
   "outputs": [
    {
     "name": "stdout",
     "output_type": "stream",
     "text": [
      "--------------------------------------------------\n",
      "--------------------------------------------------\n",
      "--------------------------------------------------\n",
      "\n",
      "          ver:2.0\n",
      "          date:2024\n",
      "          language: python\n",
      "          \n"
     ]
    }
   ],
   "source": [
    "#데코레이터 사용\n",
    "def myPrn(fun):\n",
    "    print('-'*50)\n",
    "    fun()\n",
    "\n",
    "@myPrn\n",
    "def prn():\n",
    "    print('-'*50)\n",
    "\n",
    "@myPrn\n",
    "def title():\n",
    "    print('''\n",
    "          ver:2.0\n",
    "          date:2024\n",
    "          language: python\n",
    "          ''')"
   ]
  },
  {
   "cell_type": "code",
   "execution_count": 25,
   "metadata": {},
   "outputs": [
    {
     "data": {
      "text/plain": [
       "array([[[[2, 3, 5],\n",
       "         [2, 3, 5]],\n",
       "\n",
       "        [[2, 3, 5],\n",
       "         [2, 3, 5]]],\n",
       "\n",
       "\n",
       "       [[[2, 3, 5],\n",
       "         [2, 3, 5]],\n",
       "\n",
       "        [[2, 3, 5],\n",
       "         [2, 3, 5]]],\n",
       "\n",
       "\n",
       "       [[[2, 3, 5],\n",
       "         [2, 3, 5]],\n",
       "\n",
       "        [[2, 3, 5],\n",
       "         [2, 3, 5]]]])"
      ]
     },
     "execution_count": 25,
     "metadata": {},
     "output_type": "execute_result"
    }
   ],
   "source": [
    "import numpy as np\n",
    "img=[[\n",
    "    [\n",
    "        [[2,3,5],[2,3,5]],\n",
    "    [[2,3,5],[2,3,5]]\n",
    "    ],\n",
    "\n",
    "    [\n",
    "        [[2,3,5],[2,3,5]],\n",
    "    [[2,3,5],[2,3,5]]\n",
    "    ],\n",
    "\n",
    "    [\n",
    "        [[2,3,5],[2,3,5]],\n",
    "    [[2,3,5],[2,3,5]]\n",
    "    ]\n",
    "    ]\n",
    "]\n",
    "label=['dog','cat','bird']\n",
    "\n",
    "data=[np.array(img),\n",
    "      np.array(label)]\n",
    "\n",
    "next(iter(data))[0]\n",
    "#data[0][0]"
   ]
  },
  {
   "cell_type": "code",
   "execution_count": 14,
   "metadata": {},
   "outputs": [
    {
     "data": {
      "text/plain": [
       "10"
      ]
     },
     "execution_count": 14,
     "metadata": {},
     "output_type": "execute_result"
    }
   ],
   "source": [
    "data=[10,2,3,4,5,6]\n",
    "next(iter(data))\n",
    "#무조건 첫번째 데이터가 출력\n",
    "\n"
   ]
  },
  {
   "cell_type": "code",
   "execution_count": 26,
   "metadata": {},
   "outputs": [
    {
     "name": "stdout",
     "output_type": "stream",
     "text": [
      "0\n",
      "1\n",
      "2\n"
     ]
    }
   ],
   "source": [
    "def my_range(n):\n",
    "    i=0\n",
    "    while i<n:\n",
    "        yield i\n",
    "        i+=1\n",
    "itr=my_range(3)\n",
    "print(next(itr))\n",
    "print(next(itr))\n",
    "print(next(itr))\n",
    "#print(next(itr))"
   ]
  },
  {
   "cell_type": "code",
   "execution_count": 30,
   "metadata": {},
   "outputs": [
    {
     "name": "stdout",
     "output_type": "stream",
     "text": [
      "5\n",
      "int값만 가능\n"
     ]
    }
   ],
   "source": [
    "def a(data):\n",
    "    if type(data)==int:\n",
    "     print(data)\n",
    "    else:\n",
    "       print('int값만 가능')\n",
    "\n",
    "a(5)\n",
    "a('add')"
   ]
  },
  {
   "cell_type": "code",
   "execution_count": 37,
   "metadata": {},
   "outputs": [
    {
     "name": "stdout",
     "output_type": "stream",
     "text": [
      "5\n",
      "int값만 가능\n"
     ]
    },
    {
     "ename": "ValueError",
     "evalue": "None",
     "output_type": "error",
     "traceback": [
      "\u001b[1;31m---------------------------------------------------------------------------\u001b[0m",
      "\u001b[1;31mValueError\u001b[0m                                Traceback (most recent call last)",
      "Cell \u001b[1;32mIn[37], line 10\u001b[0m\n\u001b[0;32m      7\u001b[0m        \u001b[38;5;28;01mraise\u001b[39;00m \u001b[38;5;167;01mValueError\u001b[39;00m(\u001b[38;5;28mprint\u001b[39m(\u001b[38;5;124m'\u001b[39m\u001b[38;5;124mint값만 가능\u001b[39m\u001b[38;5;124m'\u001b[39m)) \u001b[38;5;66;03m#ValueError로 에러표시가능\u001b[39;00m\n\u001b[0;32m      9\u001b[0m a(\u001b[38;5;241m5\u001b[39m)\n\u001b[1;32m---> 10\u001b[0m \u001b[43ma\u001b[49m\u001b[43m(\u001b[49m\u001b[38;5;124;43m'\u001b[39;49m\u001b[38;5;124;43madd\u001b[39;49m\u001b[38;5;124;43m'\u001b[39;49m\u001b[43m)\u001b[49m\n",
      "Cell \u001b[1;32mIn[37], line 7\u001b[0m, in \u001b[0;36ma\u001b[1;34m(data)\u001b[0m\n\u001b[0;32m      5\u001b[0m  \u001b[38;5;28mprint\u001b[39m(data)\n\u001b[0;32m      6\u001b[0m \u001b[38;5;28;01melse\u001b[39;00m:\n\u001b[1;32m----> 7\u001b[0m    \u001b[38;5;28;01mraise\u001b[39;00m \u001b[38;5;167;01mValueError\u001b[39;00m(\u001b[38;5;28mprint\u001b[39m(\u001b[38;5;124m'\u001b[39m\u001b[38;5;124mint값만 가능\u001b[39m\u001b[38;5;124m'\u001b[39m))\n",
      "\u001b[1;31mValueError\u001b[0m: None"
     ]
    }
   ],
   "source": [
    "## 함수 인자값의 타입이 안맞으면 오류\n",
    "# 구글검색, '파이썬, isinstance', '파이썬 raise\n",
    "def a(data:int):\n",
    "    #if isinstance(data,int):\n",
    "    if type(data)==int:\n",
    "     print(data)\n",
    "    else:\n",
    "       raise ValueError(print('int값만 가능')) #ValueError로 에러표시가능\n",
    "\n",
    "a(5)\n",
    "a('add')"
   ]
  }
 ],
 "metadata": {
  "kernelspec": {
   "display_name": "OpenAI",
   "language": "python",
   "name": "python3"
  },
  "language_info": {
   "codemirror_mode": {
    "name": "ipython",
    "version": 3
   },
   "file_extension": ".py",
   "mimetype": "text/x-python",
   "name": "python",
   "nbconvert_exporter": "python",
   "pygments_lexer": "ipython3",
   "version": "3.12.0"
  }
 },
 "nbformat": 4,
 "nbformat_minor": 2
}
