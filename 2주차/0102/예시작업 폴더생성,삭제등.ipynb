{
 "cells": [
  {
   "cell_type": "markdown",
   "metadata": {},
   "source": [
    "작업1 파이썬명령어를 이용하여 'C:/data' 폴더생성"
   ]
  },
  {
   "cell_type": "code",
   "execution_count": 1,
   "metadata": {},
   "outputs": [],
   "source": [
    "import os\n",
    "os.mkdir('C:/data')"
   ]
  },
  {
   "cell_type": "markdown",
   "metadata": {},
   "source": [
    "[작업2] 파이썬명령어를 이용하여 'C:/data/result' 폴더생성"
   ]
  },
  {
   "cell_type": "code",
   "execution_count": 6,
   "metadata": {},
   "outputs": [],
   "source": [
    "os.mkdir('C:/data/result2')"
   ]
  },
  {
   "cell_type": "markdown",
   "metadata": {},
   "source": [
    "[작업 3] try:except: 를 이용하여 폴더가 있다면 생성하지 않게함"
   ]
  },
  {
   "cell_type": "code",
   "execution_count": 13,
   "metadata": {},
   "outputs": [
    {
     "name": "stdout",
     "output_type": "stream",
     "text": [
      "폴더가 이미 존재합니다: C:/data/result2\n"
     ]
    }
   ],
   "source": [
    "import os\n",
    "\n",
    "# 예제 폴더 경로\n",
    "folder_path = \"C:/data/result2\"\n",
    "\n",
    "try:\n",
    "    os.makedirs(folder_path)\n",
    "    print(f\"폴더 생성: {folder_path}\")\n",
    "except FileExistsError:\n",
    "    print(f\"폴더가 이미 존재합니다: {folder_path}\")\n"
   ]
  },
  {
   "cell_type": "code",
   "execution_count": 37,
   "metadata": {},
   "outputs": [
    {
     "ename": "ValueError",
     "evalue": "Value must be int",
     "output_type": "error",
     "traceback": [
      "\u001b[1;31m---------------------------------------------------------------------------\u001b[0m",
      "\u001b[1;31mValueError\u001b[0m                                Traceback (most recent call last)",
      "Cell \u001b[1;32mIn[37], line 12\u001b[0m\n\u001b[0;32m     10\u001b[0m     \u001b[38;5;28;01melse\u001b[39;00m:\n\u001b[0;32m     11\u001b[0m         \u001b[38;5;28;01mraise\u001b[39;00m \u001b[38;5;167;01mValueError\u001b[39;00m(\u001b[38;5;124m'\u001b[39m\u001b[38;5;124mValue must be int\u001b[39m\u001b[38;5;124m'\u001b[39m)\n\u001b[1;32m---> 12\u001b[0m \u001b[43mcreateFolder\u001b[49m\u001b[43m(\u001b[49m\u001b[38;5;124;43m\"\u001b[39;49m\u001b[38;5;124;43mC:/data/result2\u001b[39;49m\u001b[38;5;124;43m\"\u001b[39;49m\u001b[43m,\u001b[49m\u001b[43mnum\u001b[49m\u001b[38;5;241;43m=\u001b[39;49m\u001b[38;5;124;43m'\u001b[39;49m\u001b[38;5;124;43m한개\u001b[39;49m\u001b[38;5;124;43m'\u001b[39;49m\u001b[43m)\u001b[49m\n",
      "Cell \u001b[1;32mIn[37], line 11\u001b[0m, in \u001b[0;36mcreateFolder\u001b[1;34m(floderName, num, root)\u001b[0m\n\u001b[0;32m      9\u001b[0m         \u001b[38;5;28mprint\u001b[39m(os\u001b[38;5;241m.\u001b[39mlistdir(root)[:num])\n\u001b[0;32m     10\u001b[0m \u001b[38;5;28;01melse\u001b[39;00m:\n\u001b[1;32m---> 11\u001b[0m     \u001b[38;5;28;01mraise\u001b[39;00m \u001b[38;5;167;01mValueError\u001b[39;00m(\u001b[38;5;124m'\u001b[39m\u001b[38;5;124mValue must be int\u001b[39m\u001b[38;5;124m'\u001b[39m)\n",
      "\u001b[1;31mValueError\u001b[0m: Value must be int"
     ]
    }
   ],
   "source": [
    "import os\n",
    "def createFolder(floderName, num: int=3,root='c:/data'):\n",
    "    if isinstance(num,int):\n",
    "        try:\n",
    "            os.makedirs(floderName)\n",
    "            print(f\"폴더 생성: {floderName}\")\n",
    "        except:\n",
    "            print(f\"폴더가 이미 존재합니다: {floderName}\")\n",
    "            print(os.listdir(root)[:num])\n",
    "    else:\n",
    "        raise ValueError('Value must be int')#경고문구 작성\n",
    "createFolder(\"C:/data/result2\",num='한개')"
   ]
  },
  {
   "cell_type": "markdown",
   "metadata": {},
   "source": [
    "[작업4] c:/data폴더내의 폴더리스트 확인"
   ]
  },
  {
   "cell_type": "code",
   "execution_count": 8,
   "metadata": {},
   "outputs": [
    {
     "name": "stdout",
     "output_type": "stream",
     "text": [
      "c:/data 폴더 내의 폴더 리스트:\n",
      "result\n",
      "result2\n"
     ]
    }
   ],
   "source": [
    "def list_folders_in_directory(directory):\n",
    "    try:\n",
    "        # 해당 경로의 폴더 리스트 가져오기\n",
    "        folders = [f for f in os.listdir(directory) if os.path.isdir(os.path.join(directory, f))]\n",
    "\n",
    "        # 결과 출력\n",
    "        if folders:\n",
    "            print(f\"{directory} 폴더 내의 폴더 리스트:\")\n",
    "            for folder in folders:\n",
    "                print(folder)\n",
    "        else:\n",
    "            print(f\"{directory} 폴더 내에 폴더가 없습니다.\")\n",
    "\n",
    "    except FileNotFoundError:\n",
    "        print(f\"경로를 찾을 수 없습니다: {directory}\")\n",
    "\n",
    "# 예제 폴더 경로\n",
    "folder_path = \"c:/data\"\n",
    "\n",
    "# 함수 호출\n",
    "list_folders_in_directory(folder_path)\n"
   ]
  },
  {
   "cell_type": "markdown",
   "metadata": {},
   "source": [
    "[작업5] 작업1-4를 함수로 작성"
   ]
  },
  {
   "cell_type": "code",
   "execution_count": 17,
   "metadata": {},
   "outputs": [
    {
     "name": "stdout",
     "output_type": "stream",
     "text": [
      "폴더 생성: C:/data/result2\n"
     ]
    }
   ],
   "source": [
    "#작업3 함수화\n",
    "def create_folder(folder_path):\n",
    "    try:\n",
    "        os.makedirs(folder_path)\n",
    "        print(f\"폴더 생성: {folder_path}\")\n",
    "    except FileExistsError:\n",
    "        print(f\"폴더가 이미 존재합니다: {folder_path}\")\n",
    "\n",
    "# 예제 폴더 경로\n",
    "folder_path = \"C:/data/result2\"\n",
    "\n",
    "# 함수 호출\n",
    "create_folder(folder_path)\n"
   ]
  },
  {
   "cell_type": "markdown",
   "metadata": {},
   "source": [
    "[작업6] [미션1-작업5]에 리스트갯수 샘플보기"
   ]
  },
  {
   "cell_type": "code",
   "execution_count": 18,
   "metadata": {},
   "outputs": [
    {
     "name": "stdout",
     "output_type": "stream",
     "text": [
      "c:/data 폴더 내의 폴더 리스트:\n",
      "1. result\n",
      "2. result2\n",
      "등록된 폴더 수: 2\n"
     ]
    }
   ],
   "source": [
    "def list_folders_in_directory_with_sample(directory, sample_count=5):\n",
    "    try:\n",
    "        # 해당 경로의 폴더 리스트 가져오기\n",
    "        folders = [f for f in os.listdir(directory) if os.path.isdir(os.path.join(directory, f))]\n",
    "\n",
    "        # 결과 출력\n",
    "        if folders:\n",
    "            print(f\"{directory} 폴더 내의 폴더 리스트:\")\n",
    "            for idx, folder in enumerate(folders[:sample_count]):\n",
    "                print(f\"{idx + 1}. {folder}\")\n",
    "            if len(folders) > sample_count:\n",
    "                print(f\"등록된 총 폴더 수: {len(folders)}, 샘플로 보여준 폴더 수: {sample_count}\")\n",
    "            else:\n",
    "                print(f\"등록된 폴더 수: {len(folders)}\")\n",
    "        else:\n",
    "            print(f\"{directory} 폴더 내에 폴더가 없습니다.\")\n",
    "\n",
    "    except FileNotFoundError:\n",
    "        print(f\"경로를 찾을 수 없습니다: {directory}\")\n",
    "\n",
    "# 예제 폴더 경로\n",
    "folder_path = \"c:/data\"\n",
    "\n",
    "# 함수 호출\n",
    "list_folders_in_directory_with_sample(folder_path)\n"
   ]
  },
  {
   "cell_type": "markdown",
   "metadata": {},
   "source": [
    "[작업7] 폴더내에 폴더삭제하기"
   ]
  },
  {
   "cell_type": "code",
   "execution_count": 15,
   "metadata": {},
   "outputs": [
    {
     "name": "stdout",
     "output_type": "stream",
     "text": [
      "폴더가 존재하지 않습니다: c:/data/result2\n"
     ]
    }
   ],
   "source": [
    "import os\n",
    "\n",
    "def delete_folder(folder_path):\n",
    "    try:\n",
    "        # 폴더 삭제\n",
    "        os.rmdir(folder_path)\n",
    "        print(f\"폴더 삭제 성공: {folder_path}\")\n",
    "    except FileNotFoundError:\n",
    "        print(f\"폴더가 존재하지 않습니다: {folder_path}\")\n",
    "    except OSError as e:\n",
    "        print(f\"폴더 삭제 실패: {folder_path} ({e})\")\n",
    "\n",
    "# 삭제할 폴더 경로\n",
    "folder_to_delete = \"c:/data/result2\"\n",
    "\n",
    "# 함수 호출\n",
    "delete_folder(folder_to_delete)\n"
   ]
  },
  {
   "cell_type": "code",
   "execution_count": 1,
   "metadata": {},
   "outputs": [
    {
     "name": "stdout",
     "output_type": "stream",
     "text": [
      "Collecting qrcode\n",
      "  Downloading qrcode-7.4.2-py3-none-any.whl (46 kB)\n",
      "     ---------------------------------------- 0.0/46.2 kB ? eta -:--:--\n",
      "     ----------------- ---------------------- 20.5/46.2 kB ? eta -:--:--\n",
      "     ----------------- ---------------------- 20.5/46.2 kB ? eta -:--:--\n",
      "     ----------------- ---------------------- 20.5/46.2 kB ? eta -:--:--\n",
      "     ----------------- ---------------------- 20.5/46.2 kB ? eta -:--:--\n",
      "     ----------------- ---------------------- 20.5/46.2 kB ? eta -:--:--\n",
      "     ----------------- ---------------------- 20.5/46.2 kB ? eta -:--:--\n",
      "     ----------------- ---------------------- 20.5/46.2 kB ? eta -:--:--\n",
      "     ----------------- ---------------------- 20.5/46.2 kB ? eta -:--:--\n",
      "     ----------------- ---------------------- 20.5/46.2 kB ? eta -:--:--\n",
      "     ----------------- ---------------------- 20.5/46.2 kB ? eta -:--:--\n",
      "     ----------------- ---------------------- 20.5/46.2 kB ? eta -:--:--\n",
      "     ----------------- ---------------------- 20.5/46.2 kB ? eta -:--:--\n",
      "     ----------------- ---------------------- 20.5/46.2 kB ? eta -:--:--\n",
      "     ----------------- ---------------------- 20.5/46.2 kB ? eta -:--:--\n",
      "     ----------------- ---------------------- 20.5/46.2 kB ? eta -:--:--\n",
      "     --------------------------------------- 46.2/46.2 kB 48.9 kB/s eta 0:00:00\n",
      "Requirement already satisfied: typing-extensions in c:\\users\\bluecom011\\miniconda3\\envs\\openai\\lib\\site-packages (from qrcode) (4.9.0)\n",
      "Collecting pypng (from qrcode)\n",
      "  Downloading pypng-0.20220715.0-py3-none-any.whl (58 kB)\n",
      "     ---------------------------------------- 0.0/58.1 kB ? eta -:--:--\n",
      "     ---------------------------------------- 0.0/58.1 kB ? eta -:--:--\n",
      "     ------- -------------------------------- 10.2/58.1 kB ? eta -:--:--\n",
      "     ------- -------------------------------- 10.2/58.1 kB ? eta -:--:--\n",
      "     ------- -------------------------------- 10.2/58.1 kB ? eta -:--:--\n",
      "     ------- -------------------------------- 10.2/58.1 kB ? eta -:--:--\n",
      "     ------- -------------------------------- 10.2/58.1 kB ? eta -:--:--\n",
      "     ------- -------------------------------- 10.2/58.1 kB ? eta -:--:--\n",
      "     ------- -------------------------------- 10.2/58.1 kB ? eta -:--:--\n",
      "     ------- -------------------------------- 10.2/58.1 kB ? eta -:--:--\n",
      "     ------- -------------------------------- 10.2/58.1 kB ? eta -:--:--\n",
      "     ------- -------------------------------- 10.2/58.1 kB ? eta -:--:--\n",
      "     ------- -------------------------------- 10.2/58.1 kB ? eta -:--:--\n",
      "     ------- -------------------------------- 10.2/58.1 kB ? eta -:--:--\n",
      "     ------- -------------------------------- 10.2/58.1 kB ? eta -:--:--\n",
      "     ------- -------------------------------- 10.2/58.1 kB ? eta -:--:--\n",
      "     ------- -------------------------------- 10.2/58.1 kB ? eta -:--:--\n",
      "     ------- -------------------------------- 10.2/58.1 kB ? eta -:--:--\n",
      "     ------- -------------------------------- 10.2/58.1 kB ? eta -:--:--\n",
      "     ------- -------------------------------- 10.2/58.1 kB ? eta -:--:--\n",
      "     ------- -------------------------------- 10.2/58.1 kB ? eta -:--:--\n",
      "     ------- -------------------------------- 10.2/58.1 kB ? eta -:--:--\n",
      "     ------- -------------------------------- 10.2/58.1 kB ? eta -:--:--\n",
      "     ------- -------------------------------- 10.2/58.1 kB ? eta -:--:--\n",
      "     ------- -------------------------------- 10.2/58.1 kB ? eta -:--:--\n",
      "     ------- -------------------------------- 10.2/58.1 kB ? eta -:--:--\n",
      "     ------- -------------------------------- 10.2/58.1 kB ? eta -:--:--\n",
      "     ------- -------------------------------- 10.2/58.1 kB ? eta -:--:--\n",
      "     ------- -------------------------------- 10.2/58.1 kB ? eta -:--:--\n",
      "     ------- -------------------------------- 10.2/58.1 kB ? eta -:--:--\n",
      "     ------- -------------------------------- 10.2/58.1 kB ? eta -:--:--\n",
      "     ------- -------------------------------- 10.2/58.1 kB ? eta -:--:--\n",
      "     ------- -------------------------------- 10.2/58.1 kB ? eta -:--:--\n",
      "     --------------------------------------- 58.1/58.1 kB 32.9 kB/s eta 0:00:00\n",
      "Requirement already satisfied: colorama in c:\\users\\bluecom011\\miniconda3\\envs\\openai\\lib\\site-packages (from qrcode) (0.4.6)\n",
      "Installing collected packages: pypng, qrcode\n",
      "Successfully installed pypng-0.20220715.0 qrcode-7.4.2\n",
      "Note: you may need to restart the kernel to use updated packages.\n"
     ]
    }
   ],
   "source": [
    "pip install qrcode"
   ]
  },
  {
   "cell_type": "code",
   "execution_count": 1,
   "metadata": {},
   "outputs": [],
   "source": [
    "##파이썬 QR코드 생성해서, c:/data/result 폴더에 네이버로 저장\n",
    "import qrcode\n",
    "site=['https://www.naver.com','https://www.daum.com']\n",
    "name=['네이버','다음']\n",
    "\n",
    "myQr = qrcode.make(site) #img 제작\n",
    "\n",
    "#img를 경로로 지정해서 저장 마지막에/하고싶은이름.png로 저장\n",
    "myQr.save(\"c:/data/result/네이버.png\") #naver.png의 큐알코드 생성완료"
   ]
  },
  {
   "cell_type": "code",
   "execution_count": 12,
   "metadata": {},
   "outputs": [
    {
     "name": "stdout",
     "output_type": "stream",
     "text": [
      "QR 코드 생성이 완료되었습니다.\n"
     ]
    }
   ],
   "source": [
    "import os\n",
    "import qrcode\n",
    "\n",
    "base_dir = 'c:/data/result/'\n",
    "sites = ['https://www.naver.com', 'https://www.daum.com']\n",
    "names = ['네이버', '다음']\n",
    "\n",
    "# QR 코드 생성 및 저장\n",
    "for site, name in zip(sites, names):\n",
    "    qr = qrcode.QRCode()\n",
    "    qr.add_data(site)\n",
    "    qr.make(fit=True)\n",
    "\n",
    "    img = qr.make_image()\n",
    "    img_path = os.path.join(base_dir, f'{name}.png')  # Using name instead of site in the image file name\n",
    "    img.save(img_path)\n",
    "\n",
    "print(\"QR 코드 생성이 완료되었습니다.\")\n"
   ]
  },
  {
   "cell_type": "markdown",
   "metadata": {},
   "source": [
    "[미션 1] 함수작성: site여러개, name 여러개를 받아서 네입, 다음 qr만들기\n",
    "\n",
    "\n",
    "\n",
    "방법1: 리스트로 받아서 for\n",
    "\n",
    "\n",
    "\n",
    "방법2: 딕셔너리로 받아서 for\n"
   ]
  },
  {
   "cell_type": "code",
   "execution_count": 24,
   "metadata": {},
   "outputs": [
    {
     "name": "stdout",
     "output_type": "stream",
     "text": [
      "QR 코드 생성이 완료되었습니다.\n"
     ]
    }
   ],
   "source": [
    "def generate_qr_code(site, name, base_dir):\n",
    "    img = qrcode.make(site)\n",
    "    img_path = os.path.join(base_dir, f'{name}.png')\n",
    "    img.save(img_path)\n",
    "\n",
    "base_dir = 'c:/data/result/'\n",
    "sites = ['https://www.naver.com', 'https://www.daum.com','https://www.google.com']\n",
    "names = ['네이버', '다음','구글']\n",
    "\n",
    "# QR 코드 생성 및 저장\n",
    "for site, name in zip(sites, names):\n",
    "    generate_qr_code(site, name, base_dir)\n",
    "\n",
    "print(\"QR 코드 생성이 완료되었습니다.\")\n"
   ]
  },
  {
   "cell_type": "code",
   "execution_count": 27,
   "metadata": {},
   "outputs": [
    {
     "name": "stdout",
     "output_type": "stream",
     "text": [
      "QR 코드 생성이 완료되었습니다.\n"
     ]
    }
   ],
   "source": [
    "import os\n",
    "import qrcode\n",
    "\n",
    "def generate_qr_code(data):\n",
    "    qr = qrcode.QRCode()\n",
    "    qr.add_data(data['site'])\n",
    "    qr.make(fit=True)\n",
    "\n",
    "    img = qr.make_image()\n",
    "    img_path = os.path.join(data['base_dir'], f'{data[\"name\"]}.png')\n",
    "    img.save(img_path)\n",
    "\n",
    "# QR 코드 생성 및 저장\n",
    "data_dict1 = {'site': 'https://www.naver.com', 'name': '네이버', 'base_dir': 'c:/data/result/'}\n",
    "data_dict2 = {'site': 'https://www.daum.com', 'name': '다음', 'base_dir': 'c:/data/result/'}\n",
    "\n",
    "generate_qr_code(data_dict1)\n",
    "generate_qr_code(data_dict2)\n",
    "\n",
    "print(\"QR 코드 생성이 완료되었습니다.\")\n"
   ]
  }
 ],
 "metadata": {
  "kernelspec": {
   "display_name": "OpenAI",
   "language": "python",
   "name": "python3"
  },
  "language_info": {
   "codemirror_mode": {
    "name": "ipython",
    "version": 3
   },
   "file_extension": ".py",
   "mimetype": "text/x-python",
   "name": "python",
   "nbconvert_exporter": "python",
   "pygments_lexer": "ipython3",
   "version": "3.12.0"
  }
 },
 "nbformat": 4,
 "nbformat_minor": 2
}
