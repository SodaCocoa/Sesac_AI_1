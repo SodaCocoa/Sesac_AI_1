{
 "cells": [
  {
   "cell_type": "code",
   "execution_count": 28,
   "metadata": {},
   "outputs": [
    {
     "name": "stdout",
     "output_type": "stream",
     "text": [
      "---------\n",
      "3 4\n",
      "15\n",
      "120\n"
     ]
    }
   ],
   "source": [
    "class mycal:\n",
    "    def __init__(self, a, b):\n",
    "        self.a = a\n",
    "        self.b = b\n",
    "        print('---------')\n",
    "        print(self.a, self.b)\n",
    "\n",
    "    def mysum(self, *args):\n",
    "        sum_value = 0\n",
    "        for x in args:\n",
    "            sum_value += x\n",
    "        return sum_value\n",
    "\n",
    "    def mymat(self, *args):\n",
    "        mat_value = 1\n",
    "        for x in args:\n",
    "            mat_value *= x\n",
    "        return mat_value\n",
    "\n",
    "# 인스턴스 생성\n",
    "my = mycal(3, 4)\n",
    "\n",
    "# 메서드 호출\n",
    "print(my.mysum(1, 2, 3, 4, 5))\n",
    "print(my.mymat(1, 2, 3, 4, 5))"
   ]
  },
  {
   "cell_type": "code",
   "execution_count": 44,
   "metadata": {},
   "outputs": [
    {
     "name": "stdout",
     "output_type": "stream",
     "text": [
      "---------\n",
      "cha사용자가 작업합니다\n",
      "2\n",
      "---------\n",
      "ddddd사용자가 작업합니다\n",
      "40\n"
     ]
    }
   ],
   "source": [
    "class cal:\n",
    "    def __init__(self,userName='cha'): #클래스 인스턴스를 생성하는 순간 자동으로 맨처음 실행되는 함수\n",
    "        print('---------')\n",
    "        self.name=userName\n",
    "        print(self.name+'사용자가 작업합니다')\n",
    "\n",
    "    def test(self,x=2):\n",
    "        if self.name !='cha':\n",
    "            print(x*20)\n",
    "        else:\n",
    "            print(x)\n",
    "\n",
    "aa=cal()\n",
    "aa.test()\n",
    "bb=cal('ddddd')\n",
    "bb.test()"
   ]
  },
  {
   "cell_type": "code",
   "execution_count": 56,
   "metadata": {},
   "outputs": [
    {
     "name": "stdout",
     "output_type": "stream",
     "text": [
      "---------\n",
      "cha사용자가 작업합니다\n",
      "1\n",
      "3\n",
      "5\n"
     ]
    }
   ],
   "source": [
    "class cal:\n",
    "    total=0\n",
    "    def __init__(self,userName='cha'): #클래스 인스턴스를 생성하는 순간 자동으로 맨처음 실행되는 함수\n",
    "        print('---------')\n",
    "        self.name=userName\n",
    "        print(self.name+'사용자가 작업합니다')\n",
    "        cal.total+=1 #cal.total=cal.total+1\n",
    "        print(cal.total)\n",
    "\n",
    "    def test(self,x=2):\n",
    "        if self.name !='cha':\n",
    "            print(x*20)\n",
    "        else:\n",
    "            print(x)\n",
    "\n",
    "cha=cal()\n",
    "cha.test(3)\n",
    "cha.test(5)"
   ]
  },
  {
   "cell_type": "code",
   "execution_count": 59,
   "metadata": {},
   "outputs": [
    {
     "name": "stdout",
     "output_type": "stream",
     "text": [
      "---------\n",
      "cha사용자가 작업합니다\n",
      "1\n",
      "---------\n",
      "cha사용자가 작업합니다\n",
      "2\n",
      "---------\n",
      "cha사용자가 작업합니다\n",
      "3\n"
     ]
    },
    {
     "data": {
      "text/plain": [
       "<__main__.cal at 0x23e402a8fb0>"
      ]
     },
     "execution_count": 59,
     "metadata": {},
     "output_type": "execute_result"
    }
   ],
   "source": [
    "class cal:\n",
    "    total=0\n",
    "    def __init__(self,userName='cha'): #클래스 인스턴스를 생성하는 순간 자동으로 맨처음 실행되는 함수\n",
    "        print('---------')\n",
    "        self.name=userName\n",
    "        print(self.name+'사용자가 작업합니다')\n",
    "        cal.total+=1 #cal.total=cal.total+1\n",
    "        print(cal.total)\n",
    "\n",
    "    def test(self,x=2):\n",
    "        if self.name !='cha':\n",
    "            print(x*20)\n",
    "        else:\n",
    "            print(x)\n",
    "\n",
    "cal() # 1번째 class호출\n",
    "cal()# 2번째 class호출\n",
    "cal()# 3번째 class호출"
   ]
  },
  {
   "cell_type": "code",
   "execution_count": 60,
   "metadata": {},
   "outputs": [],
   "source": [
    "class Product:\n",
    "    #def __init__(self,n,p,s):\n",
    "        #self.name, self.price,self.stock=n,p,s\n",
    "    def information(self):\n",
    "        print('상품이름:', self.name)\n",
    "        print('상품가격:', self.price)\n",
    "        print('재고수량:', self.stock)"
   ]
  },
  {
   "cell_type": "code",
   "execution_count": 66,
   "metadata": {},
   "outputs": [],
   "source": [
    "class Member:\n",
    "    def information(self):\n",
    "        print('상품이름 :', self.name)\n",
    "        print('가입날짜 :', self.join_date)\n",
    "        print('구매내역 :', self.purchase_list)\n",
    "        print('누적 구매금액 :', self.purchase_amount)\n",
    "    \n",
    "    def buy(self,product, count):\n",
    "        print(self.name,'고객님이',product.name,count,'개 구매!')\n",
    "        product.stock -= count #구매수량 만큼 재고감소\n",
    "        self.purchase_list.append(product.name) #구매내역에 상품추가\n",
    "        self.purchase_amount +=(product.price * count) #누적 구매금액 추가"
   ]
  },
  {
   "cell_type": "markdown",
   "metadata": {},
   "source": [
    "상속받은 클래스를 super().ㅁㅁ\n",
    "\n",
    "method overriding - 부모한테 받은 속성값을 변경하여 사용한다(자식 클래스에서 재정의하는)\n",
    "\n",
    "\n",
    "오버로딩(Overloading) : 같은 이름의 메서드 여러개를 가지면서 매개변수의 유형과 개수가 다르도록 하는 기술\n"
   ]
  },
  {
   "cell_type": "code",
   "execution_count": null,
   "metadata": {},
   "outputs": [],
   "source": []
  }
 ],
 "metadata": {
  "kernelspec": {
   "display_name": "OpenAI",
   "language": "python",
   "name": "python3"
  },
  "language_info": {
   "codemirror_mode": {
    "name": "ipython",
    "version": 3
   },
   "file_extension": ".py",
   "mimetype": "text/x-python",
   "name": "python",
   "nbconvert_exporter": "python",
   "pygments_lexer": "ipython3",
   "version": "3.12.0"
  }
 },
 "nbformat": 4,
 "nbformat_minor": 2
}
