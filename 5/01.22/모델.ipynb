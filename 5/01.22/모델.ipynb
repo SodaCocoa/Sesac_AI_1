{
 "cells": [
  {
   "cell_type": "code",
   "execution_count": 1,
   "metadata": {},
   "outputs": [],
   "source": [
    "from keras.models import load_model  # TensorFlow is required for Keras to work\n",
    "import cv2  # opencv-python 설치 필요\n",
    "import numpy as np\n",
    "\n",
    "# 가독성을 위해 과학적 표기 비활성화\n",
    "np.set_printoptions(suppress=True)\n",
    "\n",
    "# 모델 불러오기\n",
    "model = load_model(\"keras_Model.h5\", compile=False)\n",
    "\n",
    "# 라벨 불러오기\n",
    "class_names = open(\"labels.txt\", \"r\").readlines()\n",
    "\n",
    "# 카메라는 기본 카메라에 따라 0 또는 1로 설정할 수 있음\n",
    "camera = cv2.VideoCapture(0)\n",
    "\n",
    "while True:\n",
    "    # 웹캠 이미지 가져오기\n",
    "    ret, image = camera.read()\n",
    "\n",
    "    # 이미지 크기 조절\n",
    "    image = cv2.resize(image, (224, 224), interpolation=cv2.INTER_AREA)\n",
    "\n",
    "    # 이미지 창에 표시\n",
    "    cv2.imshow(\"Webcam Image\", image)\n",
    "\n",
    "    # 이미지를 numpy 배열로 변환하고 모델 입력 형태로 재구성\n",
    "    image = np.asarray(image, dtype=np.float32).reshape(1, 224, 224, 3)\n",
    "\n",
    "    # 이미지 배열을 정규화 (0~1),(-1~1)\n",
    "    image = (image / 127.5) - 1\n",
    "\n",
    "    # 모델 예측\n",
    "    prediction = model.predict(image)\n",
    "    index = np.argmax(prediction)\n",
    "    class_name = class_names[index]\n",
    "    confidence_score = prediction[0][index]\n",
    "\n",
    "    # 예측과 신뢰도 점수 출력\n",
    "    print(\"Class:\", class_name[2:], end=\"\")\n",
    "    print(\"Confidence Score:\", str(np.round(confidence_score * 100))[:-2], \"%\")\n",
    "\n",
    "    # 키보드 입력 대기\n",
    "    keyboard_input = cv2.waitKey(1)\n",
    "\n",
    "    # 27은 키보드의 esc 키에 해당하는 ASCII 코드\n",
    "    if keyboard_input == 27:\n",
    "        break\n",
    "\n",
    "camera.release()\n",
    "cv2.destroyAllWindows()\n"
   ]
  },
  {
   "cell_type": "markdown",
   "metadata": {},
   "source": [
    "원핫인코딩"
   ]
  },
  {
   "cell_type": "code",
   "execution_count": 3,
   "metadata": {},
   "outputs": [
    {
     "data": {
      "text/plain": [
       "2"
      ]
     },
     "execution_count": 3,
     "metadata": {},
     "output_type": "execute_result"
    }
   ],
   "source": [
    "import numpy as np\n",
    "class_Name=['a','b','c'] ### 티처블 머신러닝에서 만든 레이블 이름(고객숙임,정면,잠)\n",
    "#학습할때부터 a는 [1,0,0] 으로 학습하고\n",
    "# b는 [0,1,0]\n",
    "# c는 [0,0,1]로 학습하는 원핫인코딩 기법을 진행함\n",
    "model_pred=[0.3,0.2,0.5] # 웹캠화면에서 받아들인 사진을 모델에서 인식한 각 값의 확률, 고객숙임은 0.3, 정면은 0.2, 잠은 0.5\n",
    "### 해당 인덱스값 출력\n",
    "# np.argmax(model_pred)\n",
    "\n",
    "###해당 인덱스의\n",
    "a=np.argmax(model_pred) # 모델에서 인식한 각 확률중에 가장 큰 확률 값의 위치넘버를 갖고옴\n",
    "\n",
    "class_Name[a] #가장 큰 위치의 레이블을 출력"
   ]
  }
 ],
 "metadata": {
  "kernelspec": {
   "display_name": "tensor2",
   "language": "python",
   "name": "python3"
  },
  "language_info": {
   "codemirror_mode": {
    "name": "ipython",
    "version": 3
   },
   "file_extension": ".py",
   "mimetype": "text/x-python",
   "name": "python",
   "nbconvert_exporter": "python",
   "pygments_lexer": "ipython3",
   "version": "3.8.18"
  }
 },
 "nbformat": 4,
 "nbformat_minor": 2
}
