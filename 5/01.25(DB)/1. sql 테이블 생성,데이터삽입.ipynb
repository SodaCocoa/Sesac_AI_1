{
 "cells": [
  {
   "cell_type": "markdown",
   "id": "7b8c894f",
   "metadata": {},
   "source": [
    "### [sql Lite를 프로젝트 열기로 실행한뒤]\n",
    " - 다음 코드를 실행하고, sqlLite에서 F5키를 눌러 확인한다."
   ]
  },
  {
   "cell_type": "code",
   "execution_count": 6,
   "id": "a805c3e7",
   "metadata": {},
   "outputs": [
    {
     "name": "stdout",
     "output_type": "stream",
     "text": [
      "now 2024-01-25 12:21:15.657543\n",
      "nowDatetime 2024-01-25 12:21:15\n",
      "sqlite3.version :  2.6.0\n",
      "sqlite3.sqlite_version 3.41.2\n",
      "Cursor Type :  <class 'sqlite3.Cursor'>\n"
     ]
    },
    {
     "name": "stderr",
     "output_type": "stream",
     "text": [
      "C:\\Users\\bluecom011\\AppData\\Local\\Temp\\ipykernel_31688\\2198258944.py:15: DeprecationWarning: version is deprecated and will be removed in Python 3.14\n",
      "  print('sqlite3.version : ', sqlite3.version)\n"
     ]
    },
    {
     "data": {
      "text/plain": [
       "<sqlite3.Cursor at 0x20c8ef9c6c0>"
      ]
     },
     "execution_count": 6,
     "metadata": {},
     "output_type": "execute_result"
    }
   ],
   "source": [
    "# 파이썬 데이터베이스 연동(SQLite)\n",
    "# 테이블 생성 및 삽입\n",
    "\n",
    "import datetime\n",
    "import sqlite3\n",
    "\n",
    "# 삽입 날짜 생성\n",
    "now = datetime.datetime.now()\n",
    "print('now', now)\n",
    "7\n",
    "nowDatetime = now.strftime('%Y-%m-%d %H:%M:%S')\n",
    "print('nowDatetime', nowDatetime)\n",
    "\n",
    "# sqlite3 버전\n",
    "print('sqlite3.version : ', sqlite3.version)\n",
    "print('sqlite3.sqlite_version', sqlite3.sqlite_version)\n",
    "\n",
    "# DB생성 & Autocommit\n",
    "# 본인 DB 파일 경로\n",
    "\n",
    "base_dir=r'C:\\Users\\bluecom011\\Desktop\\Sesac_AI\\5\\01.25(DB)/'\n",
    "                                               #isolation_level=None 일 경우 자동 반영(Auto Commit)\n",
    "conn = sqlite3.connect(base_dir+'eCommerce.db', isolation_level=None)  # 검색: 데이터베이스의 기본 격리 수준\n",
    "# DB생성(메모리)\n",
    "# conn = sqlite3.connect(\":memory:\")\n",
    "\n",
    "# Cursor연결\n",
    "c = conn.cursor()\n",
    "print('Cursor Type : ', type(c))\n",
    "\n",
    "# 테이블 생성(Datatype : TEXT NUMERIC INTEGER REAL BLOB)\n",
    "c.execute('CREATE TABLE IF NOT EXISTS 담당자 \\\n",
    "            (담당자id INTEGER PRIMARY KEY, 담당자이름 text, email text, phone text, website text)')  # AUTOINCREMENT"
   ]
  },
  {
   "cell_type": "code",
   "execution_count": 9,
   "id": "ac474063",
   "metadata": {},
   "outputs": [
    {
     "ename": "ProgrammingError",
     "evalue": "Cannot operate on a closed database.",
     "output_type": "error",
     "traceback": [
      "\u001b[1;31m---------------------------------------------------------------------------\u001b[0m",
      "\u001b[1;31mProgrammingError\u001b[0m                          Traceback (most recent call last)",
      "Cell \u001b[1;32mIn[9], line 2\u001b[0m\n\u001b[0;32m      1\u001b[0m \u001b[38;5;66;03m# 데이터 삽입\u001b[39;00m\n\u001b[1;32m----> 2\u001b[0m \u001b[43mc\u001b[49m\u001b[38;5;241;43m.\u001b[39;49m\u001b[43mexecute\u001b[49m\u001b[43m(\u001b[49m\u001b[38;5;124;43m\"\u001b[39;49m\u001b[38;5;124;43mINSERT INTO 담당자 VALUES (1 ,\u001b[39;49m\u001b[38;5;124;43m'\u001b[39;49m\u001b[38;5;124;43m홍길동\u001b[39;49m\u001b[38;5;124;43m'\u001b[39;49m\u001b[38;5;124;43m,\u001b[39;49m\u001b[38;5;124;43m'\u001b[39;49m\u001b[38;5;124;43m길동@naver.com\u001b[39;49m\u001b[38;5;124;43m'\u001b[39;49m\u001b[38;5;124;43m, \u001b[39;49m\u001b[38;5;124;43m'\u001b[39;49m\u001b[38;5;124;43m010-0000-0000\u001b[39;49m\u001b[38;5;124;43m'\u001b[39;49m\u001b[38;5;124;43m, \u001b[39;49m\u001b[38;5;124;43m'\u001b[39;49m\u001b[38;5;124;43mKim.com\u001b[39;49m\u001b[38;5;124;43m'\u001b[39;49m\u001b[38;5;124;43m)\u001b[39;49m\u001b[38;5;124;43m\"\u001b[39;49m\u001b[43m)\u001b[49m\n\u001b[0;32m      3\u001b[0m c\u001b[38;5;241m.\u001b[39mexecute(\u001b[38;5;124m\"\u001b[39m\u001b[38;5;124mINSERT INTO 담당자(담당자id, 담당자이름, email, phone, website) VALUES (?, ?, ?, ?, ?)\u001b[39m\u001b[38;5;124m\"\u001b[39m,\n\u001b[0;32m      4\u001b[0m           (\u001b[38;5;241m2\u001b[39m, \u001b[38;5;124m'\u001b[39m\u001b[38;5;124mPark\u001b[39m\u001b[38;5;124m'\u001b[39m, \u001b[38;5;124m'\u001b[39m\u001b[38;5;124mPark@naver.com\u001b[39m\u001b[38;5;124m'\u001b[39m, \u001b[38;5;124m'\u001b[39m\u001b[38;5;124m010-1111-1111\u001b[39m\u001b[38;5;124m'\u001b[39m, \u001b[38;5;124m'\u001b[39m\u001b[38;5;124mPark.com\u001b[39m\u001b[38;5;124m'\u001b[39m))\n\u001b[0;32m      6\u001b[0m \u001b[38;5;66;03m# Many 삽입(튜플, 리스트)\u001b[39;00m\n",
      "\u001b[1;31mProgrammingError\u001b[0m: Cannot operate on a closed database."
     ]
    }
   ],
   "source": [
    "# 데이터 삽입\n",
    "c.execute(\"INSERT INTO 담당자 VALUES (1 ,'홍길동','길동@naver.com', '010-0000-0000', 'Kim.com')\")\n",
    "c.execute(\"INSERT INTO 담당자(담당자id, 담당자이름, email, phone, website) VALUES (?, ?, ?, ?, ?)\",\n",
    "          (2, 'Park', 'Park@naver.com', '010-1111-1111', 'Park.com'))\n",
    "\n",
    "# Many 삽입(튜플, 리스트)\n",
    "userList = (\n",
    "    (3, 'Lee', 'Lee@naver.com', '010-2222-2222', 'Lee.com'),\n",
    "    (4, 'Cho', 'Cho@naver.com', '010-3333-3333', 'Cho.com'),\n",
    "    (5, 'Yoo', 'Yoo@naver.com', '010-4444-4444', 'Yoo.com')\n",
    ")\n",
    "c.executemany(\"INSERT INTO 담당자(담당자id, 담당자이름, email, phone, website) VALUES (?, ?, ?, ?, ?)\", userList)\n",
    "\n",
    "\n",
    "# 테이블 데이터 삭제\n",
    "# print(\"users db deleted : \", conn.execute(\"delete from 담당자\").rowcount, \"rows\")\n",
    "\n",
    "# 커밋 : isolation_level=None 일 경우 자동 반영(Auto Commit)\n",
    "conn.commit()\n",
    "\n",
    "# 롤백\n",
    "# conn.rollback()\n",
    "\n",
    "# 접속 해제\n",
    "conn.close()"
   ]
  },
  {
   "cell_type": "code",
   "execution_count": 10,
   "id": "751adba8",
   "metadata": {},
   "outputs": [],
   "source": [
    "# 커밋 : isolation_level=None 일 경우 자동 반영(Auto Commit)\n",
    "#conn.commit()\n",
    "# 접속 해제\n",
    "conn.close()"
   ]
  },
  {
   "cell_type": "code",
   "execution_count": null,
   "id": "bf6dbdd9",
   "metadata": {},
   "outputs": [],
   "source": []
  }
 ],
 "metadata": {
  "kernelspec": {
   "display_name": "Python 3 (ipykernel)",
   "language": "python",
   "name": "python3"
  },
  "language_info": {
   "codemirror_mode": {
    "name": "ipython",
    "version": 3
   },
   "file_extension": ".py",
   "mimetype": "text/x-python",
   "name": "python",
   "nbconvert_exporter": "python",
   "pygments_lexer": "ipython3",
   "version": "3.12.0"
  }
 },
 "nbformat": 4,
 "nbformat_minor": 5
}
