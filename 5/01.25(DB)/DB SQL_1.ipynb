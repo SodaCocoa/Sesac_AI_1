{
 "cells": [
  {
   "cell_type": "markdown",
   "metadata": {},
   "source": [
    "SELECT \"고객\" AS 데이터 \n",
    "\n",
    "\t,주소 \n",
    "\n",
    "\t, COUNT(주소) AS 인원수\n",
    "\n",
    "\t,AVG(나이) AS 나이평균\n",
    "\t\n",
    "\t,AVG(나이) * 0.5 AS 포인트\n",
    "\n",
    "FROM 고객\n",
    "\n",
    "GROUP BY 주소;\n"
   ]
  },
  {
   "attachments": {
    "image.png": {
     "image/png": "[encoded data removed]"
    }
   },
   "cell_type": "markdown",
   "metadata": {},
   "source": [
    "![image.png](attachment:image.png)"
   ]
  },
  {
   "cell_type": "markdown",
   "metadata": {},
   "source": [
    "하위쿼리\n",
    "#######포인트 15이상만 보는것\n",
    "\n",
    "SELECT * from (\n",
    "SELECT \"고객\" AS 데이터 \n",
    "\t,주소 \n",
    "\t, COUNT(주소) AS 인원수\n",
    "\t,AVG(나이) AS 나이평균\n",
    "\t,AVG(나이) * 0.5 AS 포인트\n",
    "FROM 고객\n",
    "GROUP BY 주소)\n",
    "WHERE 포인트>=15;\n",
    "\n"
   ]
  },
  {
   "attachments": {
    "image.png": {
     "image/png": "[encoded data removed]"
    }
   },
   "cell_type": "markdown",
   "metadata": {},
   "source": [
    "![image.png](attachment:image.png)"
   ]
  },
  {
   "cell_type": "code",
   "execution_count": null,
   "metadata": {
    "vscode": {
     "languageId": "plaintext"
    }
   },
   "outputs": [],
   "source": [
    "SELECT 주소, 포인트  from \n",
    "##해도되지만 데이터가 많을때는 헷갈릴수 있으니 아래처럼 지정해서 하는것이좋음\n",
    "\n",
    "\n",
    "SELECT a.포인트, a.주소 from (\n",
    "SELECT \"고객\" AS 데이터 \n",
    "\t,주소 \n",
    "\t, COUNT(주소) AS 인원수\n",
    "\t,AVG(나이) AS 나이평균\n",
    "\t,AVG(나이) * 0.5 AS 포인트\n",
    "FROM 고객\n",
    "GROUP BY 주소) AS a\n",
    "WHERE 포인트>=15;"
   ]
  },
  {
   "cell_type": "code",
   "execution_count": null,
   "metadata": {
    "vscode": {
     "languageId": "plaintext"
    }
   },
   "outputs": [],
   "source": [
    "SELECT * FROM(\n",
    "SELECT a.포인트, a.주소 from (\n",
    "SELECT \"고객\" AS 데이터 \n",
    "\t,주소 \n",
    "\t, COUNT(주소) AS 인원수\n",
    "\t,AVG(나이) AS 나이평균\n",
    "\t,AVG(나이) * 0.5 AS 포인트\n",
    "FROM 고객\n",
    "GROUP BY 주소) AS a\n",
    "WHERE 포인트>=15) as b;"
   ]
  },
  {
   "cell_type": "markdown",
   "metadata": {},
   "source": []
  },
  {
   "cell_type": "markdown",
   "metadata": {},
   "source": []
  }
 ],
 "metadata": {
  "language_info": {
   "name": "python"
  }
 },
 "nbformat": 4,
 "nbformat_minor": 2
}
